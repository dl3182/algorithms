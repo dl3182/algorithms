{
 "cells": [
  {
   "cell_type": "code",
   "execution_count": 1,
   "metadata": {
    "collapsed": true
   },
   "outputs": [],
   "source": [
    "# 295. Find Median from Data Stream\n",
    "import heapq\n",
    "class MedianFinder(object):\n",
    "\n",
    "    def __init__(self):\n",
    "        \"\"\"\n",
    "        initialize your data structure here.\n",
    "        \"\"\"\n",
    "        self.smallheap = []\n",
    "        self.largeheap = []\n",
    "\n",
    "    def addNum(self, num):\n",
    "        \"\"\"\n",
    "        :type num: int\n",
    "        :rtype: None\n",
    "        \"\"\"\n",
    "        val = heapq.heappushpop(self.largeheap,num)#将数输入到大的\n",
    "        heapq.heappush(self.smallheap,-val)#把大的最小数输入到小的\n",
    "        if len(self.smallheap)>len(self.largeheap):#如果小的比大的长了，那么就将小的最大值输入到大的，这样保证大的要么和小的一样多，要么多1\n",
    "            heapq.heappush(self.largeheap,-heapq.heappop(self.smallheap))\n",
    "        \n",
    "\n",
    "    def findMedian(self):\n",
    "        \"\"\"\n",
    "        :rtype: float\n",
    "        \"\"\"\n",
    "        if len(self.largeheap)>len(self.smallheap):\n",
    "            return self.largeheap[0]\n",
    "        else:\n",
    "            return (self.largeheap[0]-self.smallheap[0])/2.0"
   ]
  },
  {
   "cell_type": "code",
   "execution_count": 38,
   "metadata": {},
   "outputs": [
    {
     "data": {
      "text/plain": [
       "[1.0, 1.0, 1.0, 1.0, 1.0]"
      ]
     },
     "execution_count": 38,
     "metadata": {},
     "output_type": "execute_result"
    }
   ],
   "source": [
    "# 480. Sliding Window Median，移动median\n",
    "def medianSlidingWindow(nums, k):\n",
    "    \"\"\"\n",
    "    :type nums: List[int]\n",
    "    :type k: int\n",
    "    :rtype: List[float]\n",
    "    \"\"\"\n",
    "    if not nums:\n",
    "        return []\n",
    "    small = []\n",
    "    large = []\n",
    "    res = []\n",
    "    def move(h1,h2):# move the top of h1 to h2\n",
    "        val,pos = heapq.heappop(h1)\n",
    "        heapq.heappush(h2,(-val,pos))\n",
    "        return h1,h2\n",
    "\n",
    "    def median(small,large,k):\n",
    "        if k%2==1:\n",
    "            return large[0][0]\n",
    "        else:\n",
    "            return (large[0][0]-small[0][0])/2.0\n",
    "\n",
    "    for i in range(k):\n",
    "        heapq.heappush(large,(nums[i],i))        \n",
    "    for i in range(k//2):\n",
    "        large,small = move(large,small)\n",
    "    res.append(median(small,large,k))\n",
    "    \n",
    "    for i in range(k,len(nums)):#这里的等号，如果上面有，下面一定要有，否则新的数加起来，并且旧的数得不到补充，会溢出\n",
    "        if nums[i]>=large[0][0]:#大于等于，丢到右边，如果之前的在左边，则丢一个到左边\n",
    "            heapq.heappush(large,(nums[i],i))\n",
    "            if nums[i-k]<=large[0][0]:\n",
    "                large,small = move(large,small)\n",
    "        else:\n",
    "            heapq.heappush(small,(-nums[i],i))\n",
    "            if nums[i-k]>=large[0][0]:\n",
    "                small,large = move(small,large)\n",
    "        while large and large[0][1]<=i-k:\n",
    "            heapq.heappop(large)\n",
    "        while small and small[0][1]<=i-k:\n",
    "            heapq.heappop(small)\n",
    "#         print(small,-small[0][0],'large',large,large[0][0])\n",
    "        res.append(median(small,large,k))\n",
    "    return res\n",
    "medianSlidingWindow([1,1,1,1,1,1],k = 2)"
   ]
  },
  {
   "cell_type": "code",
   "execution_count": 3,
   "metadata": {},
   "outputs": [
    {
     "name": "stdout",
     "output_type": "stream",
     "text": [
      "4\n",
      "5\n",
      "5\n",
      "8\n",
      "8\n"
     ]
    }
   ],
   "source": [
    "# 703. Kth Largest Element in a Stream，移动k大\n",
    "import heapq\n",
    "class KthLargest(object):\n",
    "\n",
    "    def __init__(self, k, nums):\n",
    "        \"\"\"\n",
    "        :type k: int\n",
    "        :type nums: List[int]\n",
    "        \"\"\"\n",
    "        self.heap = []\n",
    "        self.k=k\n",
    "        for i in range(k-1):\n",
    "            heapq.heappush(self.heap,nums[i])\n",
    "        if len(nums)>=k:\n",
    "            heapq.heappush(self.heap,nums[k-1])\n",
    "        for i in range(k,len(nums)):\n",
    "            if nums[i]>self.heap[0]:\n",
    "                a = heapq.heappushpop(self.heap,nums[i])\n",
    "\n",
    "    def add(self, val):\n",
    "        \"\"\"\n",
    "        :type val: int\n",
    "        :rtype: int\n",
    "        \"\"\"\n",
    "        if len(self.heap)<self.k:\n",
    "            heapq.heappush(self.heap,val)\n",
    "            return self.heap[0]\n",
    "        if val<=self.heap[0]:\n",
    "            return self.heap[0]\n",
    "        else:\n",
    "            a = heapq.heappushpop(self.heap,val)\n",
    "            return self.heap[0]\n",
    "obj = KthLargest(3,[4,5,8,2])\n",
    "for val in [3,5,10,9,4]:\n",
    "    a = obj.add(val)\n",
    "    print(a)"
   ]
  },
  {
   "cell_type": "code",
   "execution_count": 4,
   "metadata": {},
   "outputs": [],
   "source": [
    "# 239. Sliding Window Maximum，移动最大值\n",
    "import heapq\n",
    "def maxSlidingWindow(nums, k):\n",
    "    \"\"\"\n",
    "    :type nums: List[int]\n",
    "    :type k: int\n",
    "    :rtype: List[int]\n",
    "    \"\"\"\n",
    "    if not nums:\n",
    "        return []\n",
    "    heap = []\n",
    "    res = []\n",
    "    for i in range(k):\n",
    "        heapq.heappush(heap,(-nums[i],i))\n",
    "    res.append(-heap[0][0])\n",
    "\n",
    "    for i in range(k,len(nums)):\n",
    "        heapq.heappush(heap,(-nums[i],i))\n",
    "        while heap and heap[0][1]<=i-k:\n",
    "            heapq.heappop(heap)\n",
    "        res.append(-heap[0][0])\n",
    "    return res\n",
    "\n",
    "def maxSlidingWindow(nums, k):\n",
    "    d = collections.deque()\n",
    "    out = []\n",
    "    for i, n in enumerate(nums):\n",
    "        while d and nums[d[-1]] < n:\n",
    "            d.pop()\n",
    "        d += i,\n",
    "        if d[0] == i - k:\n",
    "            d.popleft()\n",
    "        if i >= k - 1:\n",
    "            out += nums[d[0]],\n",
    "    return out"
   ]
  },
  {
   "cell_type": "code",
   "execution_count": 137,
   "metadata": {},
   "outputs": [
    {
     "data": {
      "text/plain": [
       "5"
      ]
     },
     "execution_count": 137,
     "metadata": {},
     "output_type": "execute_result"
    }
   ],
   "source": [
    "# 378. Kth Smallest Element in a Sorted Matrix，对于一个row/col有序的二维列表，第k大的元素\n",
    "# 从(0,0)开始，将数字输入堆，每pop出一个值，就将其下面的数字（如果是第0行，也包括右边的数字，避免重复）并进去\n",
    "# 第k小的数字一定会经历其上方的数字\n",
    "def kthSmallest(matrix, k):\n",
    "    \"\"\"\n",
    "    :type matrix: List[List[int]]\n",
    "    :type k: int\n",
    "    :rtype: int\n",
    "    \"\"\"\n",
    "    n = len(matrix)\n",
    "    heap = []\n",
    "    heapq.heappush(heap,(matrix[0][0],0,0))\n",
    "    for _ in range(k):\n",
    "        val,i,j=heapq.heappop(heap)\n",
    "        if i==0 and j<n-1:\n",
    "            heapq.heappush(heap,(matrix[i][j+1],i,j+1))\n",
    "        if i<n-1:\n",
    "            heapq.heappush(heap,(matrix[i+1][j],i+1,j))\n",
    "    return val\n",
    "kthSmallest([[1,4,7,11,15],[2,5,8,12,19],[3,6,9,16,22],[10,13,14,17,24],[18,21,23,26,30]],5)"
   ]
  },
  {
   "cell_type": "code",
   "execution_count": 136,
   "metadata": {},
   "outputs": [
    {
     "data": {
      "text/plain": [
       "[[1, 2], [1, 4], [7, 2]]"
      ]
     },
     "execution_count": 136,
     "metadata": {},
     "output_type": "execute_result"
    }
   ],
   "source": [
    "# 373. Find K Pairs with Smallest Sums\n",
    "# 每次pop出一个，就将旁边两个push进去，为避免重复，用visited来记录\n",
    "# 事实上避免重复不是这样处理，想清楚，和#378是一样的\n",
    "def kSmallestPairs(nums1, nums2, k):\n",
    "    \"\"\"\n",
    "    :type nums1: List[int]\n",
    "    :type nums2: List[int]\n",
    "    :type k: int\n",
    "    :rtype: List[List[int]]\n",
    "    \"\"\"\n",
    "    if not nums1 or not nums2:\n",
    "        return []\n",
    "    visited = set()\n",
    "    heap = []\n",
    "    res = []\n",
    "    heapq.heappush(heap,(nums1[0]+nums2[0],0,0))\n",
    "    for i in range(k):\n",
    "        if heap:\n",
    "            val,i,j = heapq.heappop(heap)\n",
    "            res.append([nums1[i],nums2[j]])\n",
    "            if j<len(nums2)-1:\n",
    "                heapq.heappush(heap,(nums1[i+1]+nums2[j],i,j+1))\n",
    "            if j==0 and i<len(nums1)-1:\n",
    "                heapq.heappush(heap,(nums1[i+1]+nums2[j],i+1,j))\n",
    "#             if i<len(nums1)-1 and (i+1,j) not in visited:\n",
    "#                 heapq.heappush(heap,(nums1[i+1]+nums2[j],i+1,j))\n",
    "#                 visited.add((i+1,j))\n",
    "#             if j<len(nums2)-1 and (i,j+1) not in visited:\n",
    "#                 heapq.heappush(heap,(nums1[i]+nums2[j+1],i,j+1))\n",
    "#                 visited.add((i,j+1))\n",
    "    return res\n",
    "kSmallestPairs(nums1 = [1,7,11], nums2 = [2,4,6], k = 3)"
   ]
  },
  {
   "cell_type": "code",
   "execution_count": 1,
   "metadata": {},
   "outputs": [
    {
     "data": {
      "text/plain": [
       "'ababababababc'"
      ]
     },
     "execution_count": 1,
     "metadata": {},
     "output_type": "execute_result"
    }
   ],
   "source": [
    "# Longest string without 3 consecutive characters，给定三个字符的数量，构成的最长的无三个连续重复的字符串\n",
    "# Input: A = 1, B = 1, C = 6，Output: \"ccbccacc\"\n",
    "def longest3(A,B,C):#每次找最大的\n",
    "    char = {'a':A,'b':B,\"c\":C}\n",
    "    def largest(chars):\n",
    "        order = sorted(char.items(),key=lambda x:x[1],reverse=True)\n",
    "        if order[0][1]>0:\n",
    "            if order[1][1]>0:\n",
    "                return (order[0][0],order[1][0])\n",
    "            else:\n",
    "                return (order[0][0],None)\n",
    "        else:\n",
    "            return (None,None)\n",
    "\n",
    "    res = []\n",
    "    temp = largest(char)\n",
    "    while temp[0]:\n",
    "        if len(res)>=2 and res[-1]==temp[0] and res[-2]==temp[0]:\n",
    "            if temp[1] is None:\n",
    "                return \"\".join(res)\n",
    "            else:\n",
    "                res.append(temp[1])\n",
    "                char[temp[1]]-=1\n",
    "        else:\n",
    "            res.append(temp[0])\n",
    "            char[temp[0]]-=1\n",
    "        temp = largest(char)\n",
    "    return \"\".join(res)\n",
    "\n",
    "import heapq\n",
    "def ls3(A, B, C):\n",
    "    pq = []\n",
    "    res = \"\"\n",
    "    for k, v in ('a', A), ('b', B), ('c', C):\n",
    "        heapq.heappush(pq, (-v, k))\n",
    "    preV, preK = 0, ''\n",
    "    while pq:\n",
    "        v, k = heapq.heappop(pq)#当前最多的pop出来\n",
    "        if preV:#如果最多的不能用，那么将其存储起来，再进行一次，把最多的再塞回去\n",
    "            heapq.heappush(pq, (preV, preK))\n",
    "            preV, preK = 0, ''\n",
    "        if res[-2:] == k * 2:#如果不满足\n",
    "            preV, preK = v, k\n",
    "        else:#将这个加上去\n",
    "            res += k\n",
    "            if v != -1:#没用完的话，再塞回去\n",
    "                heapq.heappush(pq, (v + 1, k))\n",
    "    return res\n",
    "ls3(6,6,1)"
   ]
  },
  {
   "cell_type": "code",
   "execution_count": 2,
   "metadata": {},
   "outputs": [],
   "source": [
    "# journey,给定path,最多可以走maxStep步，问最大收集分数\n",
    "import heapq\n",
    "def journey(path, maxStep):\n",
    "    if len(path)<=2:\n",
    "        return sum(path)\n",
    "    res = path[0]+path[-1]\n",
    "    if maxStep>len(path)-2:\n",
    "        return res + sum([i for i in path[1:-1] if i>0])\n",
    "    dp = [0 for _ in range(len(path)-1)]# the maximum pass each stop\n",
    "    prev_max = 0 # max of dp up to i\n",
    "    heap = []\n",
    "    for i in range(1,maxStep):# I can choose stop or not depending on the value\n",
    "        heapq.heappush(heap,(-(dp[i-1]+path[i]),i))\n",
    "        dp[i] = prev_max+max(path[i],0)\n",
    "        prev_max = max(prev_max,dp[i])\n",
    "\n",
    "    for i in range(maxStep,len(path)-1):\n",
    "        heapq.heappush(heap,(-(dp[i-1]+path[i]),i))\n",
    "        while heap[0][1]<i-maxStep+1:\n",
    "            heapq.heappop(heap)\n",
    "        dp[i] = -heap[0][0]\n",
    "        \n",
    "    return dp[-1]+res"
   ]
  },
  {
   "cell_type": "code",
   "execution_count": 2,
   "metadata": {},
   "outputs": [
    {
     "data": {
      "text/plain": [
       "14"
      ]
     },
     "execution_count": 2,
     "metadata": {},
     "output_type": "execute_result"
    }
   ],
   "source": [
    "# 1167. Minimum Cost to Connect Sticks，每次联合最小的两个\n",
    "import heapq\n",
    "def connectSticks(sticks):\n",
    "    \"\"\"\n",
    "    :type sticks: List[int]\n",
    "    :rtype: int\n",
    "    \"\"\"\n",
    "    heapq.heapify(A)\n",
    "    res = 0\n",
    "    while len(A) > 1:\n",
    "        x, y = heapq.heappop(A), heapq.heappop(A)\n",
    "        res += x + y\n",
    "        heapq.heappush(A, x + y)\n",
    "    return res\n",
    "connectSticks(sticks = [2,4,3])"
   ]
  },
  {
   "cell_type": "code",
   "execution_count": 1,
   "metadata": {},
   "outputs": [
    {
     "data": {
      "text/plain": [
       "16"
      ]
     },
     "execution_count": 1,
     "metadata": {},
     "output_type": "execute_result"
    }
   ],
   "source": [
    "# 778. Swim in Rising Water\n",
    "def swimInWater(grid):#用二分法，判断最小的可以成功的高度\n",
    "    \"\"\"\n",
    "    :type grid: List[List[int]]\n",
    "    :rtype: int\n",
    "    \"\"\"\n",
    "    # find a path with minimum max\n",
    "    if not grid:\n",
    "        return 0\n",
    "    N = len(grid)\n",
    "    def canSwim(depth):\n",
    "        if depth<grid[0][0]:\n",
    "            return False\n",
    "        visited = [[False for _ in range(N)] for _ in range(N)]\n",
    "        queue = [(0,0)]\n",
    "        visited[0][0] = True\n",
    "        while queue:\n",
    "            i,j = queue.pop()\n",
    "            if (i==N-1) and (j==N-1):\n",
    "                return True\n",
    "            for dx,dy in [(-1,0),(1,0),(0,1),(0,-1)]:\n",
    "                x,y = i+dx,j+dy\n",
    "                if 0<=x<N and 0<=y<N and grid[x][y]<=depth and not visited[x][y]:\n",
    "                    visited[x][y]=True\n",
    "                    queue.append((x,y))\n",
    "        return False\n",
    "\n",
    "    left = 0\n",
    "    right = N**2\n",
    "    while left<right:\n",
    "        mid = left+(right-left)//2\n",
    "        if canSwim(mid):\n",
    "            right = mid\n",
    "        else:\n",
    "            left = mid+1\n",
    "    return left\n",
    "\n",
    "import heapq\n",
    "def swimInWater(grid):#每次弹入最小值，将四周值并入heap，知道弹出了终点\n",
    "    \"\"\"\n",
    "    :type grid: List[List[int]]\n",
    "    :rtype: int\n",
    "    \"\"\"\n",
    "    N = len(grid)\n",
    "\n",
    "    queue = [(grid[0][0], 0, 0)]  # min heap\n",
    "    visited = set()\n",
    "    res = 0\n",
    "    while True:\n",
    "        height, r, c = heapq.heappop(queue)\n",
    "        res = max(res, height)\n",
    "        if r == N-1 and c == N-1: return res\n",
    "        visited.add((r, c))\n",
    "        for i, j in [(r-1, c), (r+1, c), (r, c-1), (r, c+1)]:\n",
    "            if 0 <= i < N and 0 <= j < N and (i, j) not in visited:\n",
    "                heapq.heappush(queue, (grid[i][j], i, j))\n",
    "swimInWater([[0,1,2,3,4],[24,23,22,21,5],[12,13,14,15,16],[11,17,18,19,20],[10,9,8,7,6]])"
   ]
  },
  {
   "cell_type": "code",
   "execution_count": 2,
   "metadata": {},
   "outputs": [
    {
     "data": {
      "text/plain": [
       "[2, 3, 6, 8, 12, 56]"
      ]
     },
     "execution_count": 2,
     "metadata": {},
     "output_type": "execute_result"
    }
   ],
   "source": [
    "# nearly sorted array. \n",
    "# 数列排序，每个element跟他们的正确位置的距离都在k以内\n",
    "# insertion sort \n",
    "def insertionSort(A): \n",
    "    i, key, j = 0, 0, 0\n",
    "    for i in range(len(A)): \n",
    "        key = A[i]  \n",
    "        j = i-1\n",
    "\n",
    "        # Move elements of A[0..i-1], that are  \n",
    "        # greater than key, to one position  \n",
    "        # ahead of their current position.  \n",
    "        # This loop will run at most k times  \n",
    "        while j >= 0 and A[j] > key: \n",
    "            A[j + 1] = A[j]  \n",
    "            j = j - 1\n",
    "        A[j + 1] = key\n",
    "    return A\n",
    "  \n",
    "\n",
    "import heapq\n",
    " \n",
    "# element is k away from its target  \n",
    "# position, sorts the array in O(nLogk) time. \n",
    "def sort_k(arr, k): \n",
    "    \"\"\" \n",
    "    :param arr: input array \n",
    "    :param n: length of the array \n",
    "    :param k: max distance, which every  \n",
    "     element is away from its target position. \n",
    "    :return: None \n",
    "    \"\"\"\n",
    "    # List of first k+1 items \n",
    "    heap = arr[:k + 1] \n",
    "  \n",
    "    # using heapify to convert list  \n",
    "    # into heap(or min heap) \n",
    "    heapq.heapify(heap) \n",
    "  \n",
    "    # \"rem_elmnts_index\" is index for remaining  \n",
    "    # elements in arr and \"target_index\" is  \n",
    "    # target index of for current minimum element  \n",
    "    # in Min Heap \"heap\". \n",
    "    # target_index所在的数字一定在target_index+k之内\n",
    "    target_index = 0\n",
    "    for index in range(k + 1, len(arr)): \n",
    "        arr[target_index] = heapq.heappop(heap) \n",
    "        heapq.heappush(heap, arr[index]) \n",
    "        target_index += 1\n",
    "  \n",
    "    while heap: \n",
    "        arr[target_index] = heapq.heappop(heap) \n",
    "        target_index += 1\n",
    "    return arr\n",
    "\n",
    "k = 3\n",
    "arr = [2, 6, 3, 12, 56, 8]  \n",
    "sort_k(arr, k) "
   ]
  },
  {
   "cell_type": "code",
   "execution_count": 46,
   "metadata": {},
   "outputs": [],
   "source": [
    "# 659. Split Array into Consecutive Subsequences，是否可以将array分为连续子串\n",
    "import heapq\n",
    "def isPossible(nums):\n",
    "    \"\"\"\n",
    "    :type nums: List[int]\n",
    "    :rtype: bool\n",
    "    \"\"\"\n",
    "    heap = []\n",
    "    for i in nums:\n",
    "        while heap and heap[0][1]>=3 and i>heap[0][0]+1:#如果顶部长度大于3，并且不能连上,那么就pop掉\n",
    "            heapq.heappop(heap)\n",
    "        if not heap or i!=heap[0][0]+1:#如果连不上，则新建\n",
    "            heapq.heappush(heap,(i,1))\n",
    "        else:#连得上，就连上\n",
    "            val,count = heapq.heappop(heap)\n",
    "            heapq.heappush(heap,(i,count+1))\n",
    "    while heap:\n",
    "        val,count = heapq.heappop(heap)\n",
    "        if count<3:\n",
    "            return False\n",
    "    return True\n",
    "\n",
    "def isPossible(nums):\n",
    "    \"\"\"\n",
    "    :type nums: List[int]\n",
    "    :rtype: bool\n",
    "    \"\"\"\n",
    "    left = collections.Counter(nums)#用来存放还没有分配完的\n",
    "    end = collections.Counter()#用来存放该序列的最后一位以及该序列的个数（序列长度>=3）\n",
    "    for i in nums:\n",
    "        if not left[i]: continue\n",
    "        left[i] -= 1\n",
    "        if end[i - 1] > 0:#如果这个数可以添加到已有序列中，则添加\n",
    "            end[i - 1] -= 1\n",
    "            end[i] += 1\n",
    "        elif left[i + 1] and left[i + 2]:#否则的话从内存库里找接下来的值构成新序列\n",
    "            left[i + 1] -= 1\n",
    "            left[i + 2] -= 1\n",
    "            end[i + 2] += 1\n",
    "        else:\n",
    "            return False\n",
    "    return True\n",
    "\n",
    "isPossible([1,2,3,3,4,4,5,5])"
   ]
  },
  {
   "cell_type": "code",
   "execution_count": 18,
   "metadata": {},
   "outputs": [
    {
     "name": "stdout",
     "output_type": "stream",
     "text": [
      "[[4, 4], [3, 4], [2, 2], [1, 4], [1, 1]]\n",
      "[[4, 4], [3, 4], [2, 2]] t [1, 4]\n",
      "[[4, 4], [3, 4]] t [2, 4]\n",
      "[[4, 4]] t [4, 4]\n",
      "[] t [4, 4]\n"
     ]
    },
    {
     "data": {
      "text/plain": [
       "4"
      ]
     },
     "execution_count": 18,
     "metadata": {},
     "output_type": "execute_result"
    }
   ],
   "source": [
    "# 1353. Maximum Number of Events That Can Be Attended，给定区间，问同时能参与的最多数\n",
    "#按照顺序放入heap，如果当前日在以前，说明可以参加。如果当前日在其中，则考虑到后面可能会有更早结束的，就修改区间放回heap\n",
    "import heapq\n",
    "def maxEvents(events):# 这个思路不能完全通过[[1,2],[1,3],[1,4],[1,5]]这一类的case，每个区间会反复进行N遍\n",
    "    \"\"\"\n",
    "    :type events: List[List[int]]\n",
    "    :rtype: int\n",
    "    \"\"\"\n",
    "    heap = []\n",
    "    res = 0\n",
    "    for start,end in events:\n",
    "        heapq.heappush(heap,(start,end))\n",
    "    cur = heap[0][0]#the cur day\n",
    "    while heap:\n",
    "        i,j = heapq.heappop(heap)\n",
    "#         print(i,j,cur,heap)\n",
    "        if j<cur: # if the event cannot attend\n",
    "            pass\n",
    "        elif cur<=i:#if the current day is on or ahead of\n",
    "            res+=1\n",
    "            cur=i+1\n",
    "        else:# in other case, remove the occupied days and push back to heap in order to avoid missing possible late events\n",
    "            heapq.heappush(heap,(cur,j))\n",
    "    return res\n",
    "\n",
    "def maxEvents(A):\n",
    "    A.sort(reverse=1)\n",
    "    begin=A[-1][0]\n",
    "    end = max([i[1] for i in A])\n",
    "    print(A)\n",
    "    h = []\n",
    "    res = 0\n",
    "    for i in range(begin, end+1):\n",
    "        while A and A[-1][0] <= i:#如果这一天有开始的，那么就添加进去\n",
    "            heapq.heappush(h, A.pop()[1])\n",
    "        print(A,'t',h)\n",
    "        while h and h[0] < i:\n",
    "            heapq.heappop(h)\n",
    "        if h:\n",
    "            heapq.heappop(h)\n",
    "            res += 1\n",
    "    return res\n",
    "\n",
    "maxEvents([[1,4],[4,4],[2,2],[3,4],[1,1]])\n",
    "# maxEvents([[1,2],[1,3],[1,4],[1,5]])\n"
   ]
  },
  {
   "cell_type": "code",
   "execution_count": null,
   "metadata": {},
   "outputs": [],
   "source": []
  },
  {
   "cell_type": "code",
   "execution_count": 4,
   "metadata": {},
   "outputs": [
    {
     "data": {
      "text/plain": [
       "True"
      ]
     },
     "execution_count": 4,
     "metadata": {},
     "output_type": "execute_result"
    }
   ],
   "source": [
    "# 1354. Construct Target Array With Multiple Sums,从[1,1,1]更新到target矩阵，倒着进行\n",
    "\n",
    "import heapq\n",
    "def isPossible(target):\n",
    "    \"\"\"\n",
    "    :type target: List[int]\n",
    "    :rtype: bool\n",
    "    \"\"\"\n",
    "    total = sum(target)\n",
    "    target = [-a for a in target]\n",
    "    heapq.heapify(target)\n",
    "    while True:\n",
    "        a = -heapq.heappop(target)#弹出最大的\n",
    "        total -= a#剩下部分的和\n",
    "        if a == 1 or total == 1: return True#如果最大的是1，或者和为1\n",
    "        if a < total or total == 0 or a % total == 0:#如果这个值不够大，或者刚好整除了\n",
    "            return False\n",
    "        a %= total\n",
    "        total += a#更新和\n",
    "        heapq.heappush(target, -a)\n",
    "\n",
    "isPossible(target = [9,3,5])"
   ]
  },
  {
   "cell_type": "code",
   "execution_count": 1,
   "metadata": {},
   "outputs": [
    {
     "data": {
      "text/plain": [
       "[0, 2, 1]"
      ]
     },
     "execution_count": 1,
     "metadata": {},
     "output_type": "execute_result"
    }
   ],
   "source": [
    "# 1057. Campus Bikes, 最短距离的配对\n",
    "\n",
    "# 不要直接将一个n*m的grid存入heap，而是将每行的最小存入，一旦pop出了，看情况再输入\n",
    "import heapq\n",
    "def assignBikes(workers, bikes):\n",
    "    \"\"\"\n",
    "    :type workers: List[List[int]]\n",
    "    :type bikes: List[List[int]]\n",
    "    :rtype: List[int]\n",
    "    \"\"\"\n",
    "    N,M = len(workers),len(bikes)\n",
    "    visited_bikes = set()\n",
    "    distances = []\n",
    "    for i,(wx,wy) in enumerate(workers):\n",
    "        heap = []\n",
    "        for j,(bx,by) in enumerate(bikes):\n",
    "            dis = abs(wx-bx)+abs(wy-by)\n",
    "            heapq.heappush(heap,(dis,i,j))\n",
    "        distances.append(heap)\n",
    "\n",
    "    heap = [heapq.heappop(i) for i in distances]\n",
    "    heapq.heapify(heap)\n",
    "\n",
    "    res = dict()\n",
    "    while len(res)<N:\n",
    "        dis,worker,bike = heapq.heappop(heap)\n",
    "        if bike not in visited_bikes:\n",
    "            res[worker] = bike\n",
    "            visited_bikes.add(bike)\n",
    "        else:\n",
    "            heapq.heappush(heap,heapq.heappop(distances[worker]))\n",
    "    return [res[i] for i in range(N)]\n",
    "\n",
    "assignBikes(workers = [[0,0],[1,1],[2,0]], bikes = [[1,0],[2,2],[2,1]])"
   ]
  },
  {
   "cell_type": "code",
   "execution_count": 5,
   "metadata": {},
   "outputs": [
    {
     "data": {
      "text/plain": [
       "60"
      ]
     },
     "execution_count": 5,
     "metadata": {},
     "output_type": "execute_result"
    }
   ],
   "source": [
    "# 1383. Maximum Performance of a Team，最大效率=总共速度*最低效率\n",
    "import heapq\n",
    "def maxPerformance(n, speed, efficiency, k):\n",
    "    \"\"\"\n",
    "    :type n: int\n",
    "    :type speed: List[int]\n",
    "    :type efficiency: List[int]\n",
    "    :type k: int\n",
    "    :rtype: int\n",
    "    \"\"\"\n",
    "    nums = sorted(list(zip(speed,efficiency)),key=lambda x:x[1],reverse=True)\n",
    "    maximum = 0\n",
    "    heap = []\n",
    "    cursum = 0\n",
    "    for e,s in sorted(zip(efficiency, speed), reverse=1):\n",
    "        heapq.heappush(heap, s)\n",
    "        cursum += s\n",
    "        if len(heap)>k:\n",
    "            cursum -= heapq.heappop(heap)\n",
    "        maximum = max(maximum, cursum*e)\n",
    "    return maximum%(10**9+7)\n",
    "maxPerformance(n = 6, speed = [2,10,3,1,5,8], efficiency = [5,4,3,9,7,2], k = 2)"
   ]
  },
  {
   "cell_type": "code",
   "execution_count": 25,
   "metadata": {},
   "outputs": [
    {
     "name": "stdout",
     "output_type": "stream",
     "text": [
      "[83, 110, 0]\n",
      "[83, 270, 297]\n"
     ]
    },
    {
     "data": {
      "text/plain": [
       "2"
      ]
     },
     "execution_count": 25,
     "metadata": {},
     "output_type": "execute_result"
    }
   ],
   "source": [
    "# 871. Minimum Number of Refueling Stops, 初始值、目标值和每个可以补充值以及对应的要求\n",
    "# heap每次push进去可以到达的站点，每次pop出来的是这一轮能够补充的最大的值\n",
    "# 之前push进去但是没有用到的站点之后可以继续补充，极端情况下所有的站点最终都会补充到\n",
    "import heapq\n",
    "def minRefuelStops(target, startFuel, stations):#O(NlogN)\n",
    "    \"\"\"\n",
    "    :type target: int\n",
    "    :type startFuel: int\n",
    "    :type stations: List[List[int]]\n",
    "    :rtype: int\n",
    "    \"\"\"\n",
    "    heap = []\n",
    "    i = 0\n",
    "    res = 0\n",
    "    while startFuel<target:\n",
    "        while i<len(stations) and stations[i][0]<=startFuel:#如果能够到达该station\n",
    "            heapq.heappush(heap,-stations[i][1])\n",
    "            i+=1\n",
    "        if not heap:\n",
    "            return -1\n",
    "        startFuel = startFuel - heapq.heappop(heap)\n",
    "        res+=1\n",
    "    return res\n",
    "\n",
    "#f or every station s[i], if the current distance dp[t] >= s[i][0], we can refuel:\n",
    "# dp[t + 1] = max(dp[t + 1], dp[t] + s[i][1]),t+1次加油能到达的最远距离为t次加油与满足条件的\n",
    "def minRefuelStops(target, startFuel, stations):\n",
    "    dp = [startFuel] + [0] * len(stations)\n",
    "    for i in range(len(stations)):#对于i号station，最多加了i次油\n",
    "        for t in range(i + 1)[::-1]:\n",
    "            if dp[t] >= stations[i][0]:\n",
    "                dp[t + 1] = max(dp[t + 1], dp[t] + stations[i][1])\n",
    "        print(dp)\n",
    "    for t, d in enumerate(dp):\n",
    "        if d >= target: return t\n",
    "    return -1\n",
    "\n",
    "# minRefuelStops(target = 100, startFuel = 10, stations = [[10,60],[20,30],[30,30],[60,40]])\n",
    "minRefuelStops(target = 280,startFuel=83, stations=[[25,27],[36,187]])"
   ]
  },
  {
   "cell_type": "code",
   "execution_count": 13,
   "metadata": {},
   "outputs": [
    {
     "data": {
      "text/plain": [
       "4"
      ]
     },
     "execution_count": 13,
     "metadata": {},
     "output_type": "execute_result"
    }
   ],
   "source": [
    "#502. IPO\n",
    "# 和上面871一样的类型，内部循环把满足的push进入heap，然后拿出最满意的，外部循环每一轮前进一位\n",
    "# O(N log N + K log N) = O(max(N, K) log N)\n",
    "\n",
    "def findMaximizedCapital(k, W, Profits, Capital):\n",
    "    \"\"\"\n",
    "    :type k: int\n",
    "    :type W: int\n",
    "    :type Profits: List[int]\n",
    "    :type Capital: List[int]\n",
    "    :rtype: int\n",
    "    \"\"\"\n",
    "    heap = []\n",
    "    arr = sorted(zip(Profits,Capital),key=lambda x:x[1])\n",
    "    index = 0\n",
    "\n",
    "    for _ in range(k):\n",
    "        while index<len(arr) and W>=arr[index][1]:\n",
    "            heapq.heappush(heap,(-arr[index][0],arr[index][1]))#profit越多，capital越小\n",
    "            index+=1\n",
    "        if not heap or heap[0][0]>=0:\n",
    "            return W\n",
    "        profit,capital = heapq.heappop(heap)\n",
    "        W = W -profit\n",
    "    return W\n",
    "findMaximizedCapital(k=2, W=0, Profits=[1,2,3], Capital=[0,1,1])"
   ]
  },
  {
   "cell_type": "code",
   "execution_count": 32,
   "metadata": {},
   "outputs": [],
   "source": [
    "def mincostToHireWorkers(quality, wage, K):\n",
    "    \"\"\"\n",
    "    :type quality: List[int]\n",
    "    :type wage: List[int]\n",
    "    :type K: int\n",
    "    :rtype: float\n",
    "    \"\"\"\n",
    "    if K==1:\n",
    "        return min(wage)\n",
    "    minimum = float('inf')\n",
    "    arr = sorted(zip(quality,wage),key=lambda x:x[0]/x[1])\n",
    "    arr2 = sorted(zip(quality,wage),key=lambda x:x[0])\n",
    "    heap = []\n",
    "    cursum = 0\n",
    "    for i in range(K-1):\n",
    "        heapq.heappush(heap,(arr2[i][0]*1.0/arr2[i][1],arr2[i][0],i))\n",
    "        cursum += arr2[i][0]\n",
    "    print(arr)\n",
    "    print(arr2)\n",
    "\n",
    "    for i in range(len(quality)):\n",
    "        curratio = arr[i][0]*1.0/arr[i][1]\n",
    "        while heap[0][0]<curratio:\n",
    "            ratio,q,index = heapq.heappop(heap)\n",
    "            cursum -= q\n",
    "            index+=1\n",
    "            while index<len(arr2) and arr2[index][0]*1.0/arr2[index][1]<curratio:\n",
    "                index+=1\n",
    "            if arr[i][0]>\n",
    "            if index==len(arr2):\n",
    "                return minimum\n",
    "            heapq.heappush(heap,(arr2[index][0]*1.0/arr2[index][1],arr2[index][0],index))\n",
    "            cursum+=arr2[index][0]\n",
    "        minimum = min(minimum,arr[i][1]*1.0/arr[i][0]*cursum+arr[i][1])\n",
    "        print(i,arr[i],heap,minimum)\n",
    "    return minimum"
   ]
  },
  {
   "cell_type": "code",
   "execution_count": 80,
   "metadata": {},
   "outputs": [
    {
     "name": "stdout",
     "output_type": "stream",
     "text": [
      "10\n",
      "10\n",
      "3\n",
      "1\n",
      "1\n"
     ]
    },
    {
     "data": {
      "text/plain": [
       "30.666666666666664"
      ]
     },
     "execution_count": 80,
     "metadata": {},
     "output_type": "execute_result"
    }
   ],
   "source": [
    "#857. Minimum Cost to Hire K Workers\n",
    "\n",
    "# 先找出quality/wage尽可能小的，然后对于给定的quality/wage，从后面找出K-1个quality最低的\n",
    "\n",
    "def mincostToHireWorkers(quality, wage, K):\n",
    "    \"\"\"\n",
    "    :type quality: List[int]\n",
    "    :type wage: List[int]\n",
    "    :type K: int\n",
    "    :rtype: float\n",
    "    \"\"\"\n",
    "    minimum = float('inf')\n",
    "    arr = sorted(zip(quality,wage),key=lambda x:x[0]*1.0/x[1])\n",
    "    arr2 = sorted(zip(list(range(1,len(quality))),[t[0] for t in arr[1:]]),key=lambda x:x[1],reverse=True)#大小和index\n",
    "    \n",
    "    cursum = 0\n",
    "    heap = []\n",
    "    for i in range(K-1):\n",
    "        idx,q = arr2.pop()\n",
    "        heapq.heappush(heap,(idx,q))\n",
    "        cursum+=q\n",
    "\n",
    "    for i in range(len(arr)-K+1):\n",
    "        while heap[0][0]<=i:#这里必须是while <=,否则会有quality相同,wage顺序不对的情况\n",
    "            cursum = cursum-heap[0][1]\n",
    "            heapq.heappop(heap)\n",
    "            idx,q = arr2.pop()\n",
    "            heapq.heappush(heap,(idx,q))\n",
    "            cursum+=q\n",
    "        minimum = min(minimum,cursum*arr[i][1]*1.0/arr[i][0]+arr[i][1])\n",
    "    return minimum\n",
    "\n",
    "#按照wage/quality由低到高顺序压入quality，先压入的是最不可能作为标准的\n",
    "# 相当于从后往前，倒退的过程中维护一个长度为k的q最小的heap，并以当前q/w作为标准\n",
    "# 这里面有一个问题，如果pop出来时候把当前pop出来怎么办？这个不影响，这种情况下和之前的quality和是一样的，但是之前的wage quality更低\n",
    "# 所以之前的值会更小\n",
    "def mincostToHireWorkers(quality, wage, K):\n",
    "    workers = sorted([float(w) / q, q] for w, q in zip(wage, quality))\n",
    "    res = float('inf')\n",
    "    qsum = 0\n",
    "    heap = []\n",
    "    for r, q in workers:\n",
    "        print(q)\n",
    "        heapq.heappush(heap, -q)\n",
    "        qsum += q\n",
    "        if len(heap) > K: qsum += heapq.heappop(heap)\n",
    "        if len(heap) == K: res = min(res, qsum * r)\n",
    "    return res\n",
    "mincostToHireWorkers(quality = [3,1,10,10,1], wage = [4,8,2,2,7], K = 3)"
   ]
  },
  {
   "cell_type": "code",
   "execution_count": 2,
   "metadata": {},
   "outputs": [
    {
     "data": {
      "text/plain": [
       "44"
      ]
     },
     "execution_count": 2,
     "metadata": {},
     "output_type": "execute_result"
    }
   ],
   "source": [
    "# 407. Trapping Rain Water II\n",
    "import heapq\n",
    "def trapRainWater(heightMap):\n",
    "    \"\"\"\n",
    "    :type heightMap: List[List[int]]\n",
    "    :rtype: int\n",
    "    \"\"\"\n",
    "    m,n=len(heightMap),len(heightMap[0])\n",
    "    visited = [[False for _ in range(n)] for _ in range(m)]\n",
    "    heap = []\n",
    "    for i in range(m):\n",
    "        for j in range(n):\n",
    "            if i in [0,m-1] or j in [0,n-1]:\n",
    "                heap.append((heightMap[i][j],i,j))\n",
    "                visited[i][j] = True\n",
    "    heapq.heapify(heap)\n",
    "\n",
    "    res = 0\n",
    "    while heap:#从外到里\n",
    "        val,i,j = heapq.heappop(heap)#每个值一定是从其最小的边突破，所以不用走第二次\n",
    "        for dx,dy in [(-1,0),(1,0),(0,-1),(0,1)]:\n",
    "            x,y = i+dx,j+dy\n",
    "            if 0<=x<m and 0<=y<n and not visited[x][y]:\n",
    "                visited[x][y] = True\n",
    "                res += max(0,val - heightMap[x][y])#如果遇到更大的值，其会作为边界，遇到更小的，注水\n",
    "                heapq.heappush(heap,(max(val,heightMap[x][y]),x,y))\n",
    "    return res\n",
    "trapRainWater([[78,16,94,36],[87,93,50,22],[63,28,91,60],[64,27,41,27],[73,37,12,69],[68,30,83,31],[63,24,68,36]])"
   ]
  },
  {
   "cell_type": "code",
   "execution_count": 1,
   "metadata": {},
   "outputs": [
    {
     "data": {
      "text/plain": [
       "[5, 12]"
      ]
     },
     "execution_count": 1,
     "metadata": {},
     "output_type": "execute_result"
    }
   ],
   "source": [
    "# files每一个都是一个递增列表，问最小的能与所有files有交集的区间\n",
    "import heapq\n",
    "def smallestRange(files):\n",
    "    n = len(files)\n",
    "    heap = []\n",
    "    minimum,maximum = float('inf'),-float('inf')\n",
    "    for i in range(n):\n",
    "        heapq.heappush(heap,(files[i][0],0,i))#val,i号文件,index个元素\n",
    "        maximum = max(files[i][0],maximum)\n",
    "        minimum = min(files[i][0],minimum)\n",
    "    res = maximum-minimum\n",
    "    r2 = [minimum,maximum]     \n",
    "    while heap:\n",
    "        val,index,file = heapq.heappop(heap)#pop minimum\n",
    "        if index==len(files[file])-1:\n",
    "            return r2\n",
    "        temp = files[file][index+1]#next val\n",
    "        maximum = max(maximum,temp)\n",
    "        heapq.heappush(heap,(temp,index+1,file))\n",
    "        minimum = heap[0][0]\n",
    "        if maximum - minimum<res:\n",
    "            res = maximum - minimum\n",
    "            r2 = [minimum,maximum]\n",
    "\n",
    "smallestRange(files = [[1,4,5],[7,8,9],[12,15]])\n"
   ]
  },
  {
   "cell_type": "code",
   "execution_count": 6,
   "metadata": {},
   "outputs": [
    {
     "data": {
      "text/plain": [
       "9"
      ]
     },
     "execution_count": 6,
     "metadata": {},
     "output_type": "execute_result"
    }
   ],
   "source": [
    "# orders = [[150, 5, 'buy'], [190, 1, 'sell'], [200, 1, 'sell'], [100, 9, 'buy'], [140, 8, 'sell'], [210, 4, 'buy']]\n",
    "import heapq\n",
    "def stockBook(orders):\n",
    "    buy,sell = [],[]\n",
    "    res = 0\n",
    "    for price,quantity,side in orders:\n",
    "        if side=='buy':\n",
    "            while quantity>0 and sell and sell[0][0]<=price:\n",
    "                sp,sq = heapq.heappop(sell)\n",
    "                res+=min(quantity,sq)\n",
    "                if quantity<sq:\n",
    "                    heapq.heappush(sell,(sp,sq-quantity))\n",
    "                else:\n",
    "                    quantity = quantity-sq\n",
    "            if quantity:\n",
    "                if buy and -buy[0][0]==price:\n",
    "                    bp,bq = heapq.heappop(buy)\n",
    "                    heapq.heappush(buy,(-bp,bq+quantity))\n",
    "                else:\n",
    "                    heapq.heappush(buy,(-price,quantity))\n",
    "        else:\n",
    "            while quantity>0 and buy and -buy[0][0]>=price:\n",
    "                bp,bq = heapq.heappop(buy)\n",
    "                res+=min(quantity,bq)\n",
    "                if quantity<bq:\n",
    "                    heapq.heappush(sell,(bp,bq-quantity))\n",
    "                else:\n",
    "                    quantity = quantity-bq\n",
    "            if quantity:\n",
    "                if sell and sell[0][0]==price:\n",
    "                    sp,sq = heapq.heappop(sell)\n",
    "                    heapq.heappush(sell,(sp,sq+quantity))            \n",
    "                else:\n",
    "                    heapq.heappush(sell,(price,quantity))  \n",
    "    return res\n",
    "stockBook(orders = [[150, 5, 'buy'], [190, 1, 'sell'], [200, 1, 'sell'], [100, 9, 'buy'], [140, 8, 'sell'], [210, 4, 'buy']])"
   ]
  },
  {
   "cell_type": "code",
   "execution_count": null,
   "metadata": {},
   "outputs": [],
   "source": []
  }
 ],
 "metadata": {
  "kernelspec": {
   "display_name": "Python 3",
   "language": "python",
   "name": "python3"
  },
  "language_info": {
   "codemirror_mode": {
    "name": "ipython",
    "version": 3
   },
   "file_extension": ".py",
   "mimetype": "text/x-python",
   "name": "python",
   "nbconvert_exporter": "python",
   "pygments_lexer": "ipython3",
   "version": "3.7.3"
  }
 },
 "nbformat": 4,
 "nbformat_minor": 2
}
