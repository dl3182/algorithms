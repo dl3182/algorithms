{
 "cells": [
  {
   "cell_type": "markdown",
   "metadata": {},
   "source": [
    "# 1. Permutation\n",
    "31. Next Permutation, 找出下一个排序，可重复\n",
    "46. Permutations,列出所有可能的排列，无重复\n",
    "47. Permutations II,有重复的情况下得到所有排列\n",
    "77. Combinations，给定(n, k)，从1-n中选k个数的方式\n",
    "78. Subsets, 给定数组，问其所有子集，无重复元素\n",
    "90. Subsets II，有重复元素\n",
    "773. Sliding Puzzle，打乱的顺序，通过变换回到123450的顺序，用visited记录走过的值，每次用level更新，其实这一题关系不大\n",
    "267. Palindrome Permutation II, 给定s，如果能排序为回文串，列出所有回文串，可以用backtracking，由内到外添加\n",
    "60. Permutation Sequence,给定1-n,求第k个排列，从头到尾一个个更新"
   ]
  },
  {
   "cell_type": "code",
   "execution_count": 1,
   "metadata": {},
   "outputs": [
    {
     "data": {
      "text/plain": [
       "[1, 3, 2]"
      ]
     },
     "execution_count": 1,
     "metadata": {},
     "output_type": "execute_result"
    }
   ],
   "source": [
    "# 31. Next Permutation,找出下一个排序，可重复\n",
    "# 1. 从后往前找，找到一个元素a，比紧靠在它之后的元素要小（不是小于等于）。\n",
    "# 2. 然后再一次从后往前找，找到第一个比元素a大（不是大于等于）的元素，叫元素b。\n",
    "# 3.将元素a和元素b调换位置，然后将原来的元素a（现在的元素b）之后的那个元素到数组结尾的元素全部倒转一次。\n",
    "def nextPermutation(nums):\n",
    "    \"\"\"\n",
    "    :type nums: List[int]\n",
    "    :rtype: None Do not return anything, modify nums in-place instead.\n",
    "    \"\"\"\n",
    "    def reverse(nums,i,j):\n",
    "        while i<j:\n",
    "            nums[i],nums[j]=nums[j],nums[i]\n",
    "            i,j=i+1,j-1\n",
    "        return nums\n",
    "\n",
    "    left = len(nums)-2\n",
    "    while left>=0 and nums[left]>=nums[left+1]:\n",
    "        left-=1\n",
    "    if left<0:\n",
    "        return reverse(nums,0,len(nums)-1)\n",
    "\n",
    "    right = len(nums)-1\n",
    "    while right>left and nums[right]<=nums[left]:\n",
    "        right -=1\n",
    "    nums[left],nums[right]=nums[right],nums[left]\n",
    "    nums = reverse(nums,left+1,len(nums)-1)\n",
    "    return nums\n",
    "\n",
    "nextPermutation([1,2,3])"
   ]
  },
  {
   "cell_type": "code",
   "execution_count": 3,
   "metadata": {},
   "outputs": [
    {
     "data": {
      "text/plain": [
       "[[2, 1, 0], [1, 2, 0], [1, 0, 2], [2, 0, 1], [0, 2, 1], [0, 1, 2]]"
      ]
     },
     "execution_count": 3,
     "metadata": {},
     "output_type": "execute_result"
    }
   ],
   "source": [
    "# 46. Permutations,列出所有可能的排列，无重复\n",
    "# 对最后一个元素做插入遍历\n",
    "def permute(nums):\n",
    "    \"\"\"\n",
    "    :type nums: List[int]\n",
    "    :rtype: List[List[int]]\n",
    "    \"\"\"\n",
    "    if len(nums)==0:\n",
    "        return [[]]\n",
    "    if len(nums)==1:\n",
    "        return [nums]\n",
    "    else:\n",
    "        temp = permute(nums[:-1])\n",
    "        return [i[:j]+[nums[-1]]+i[j:] for i in temp for j in range(len(i)+1)]\n",
    "# print(permute([1,2]))\n",
    "permute([0,1,2])"
   ]
  },
  {
   "cell_type": "code",
   "execution_count": 4,
   "metadata": {},
   "outputs": [
    {
     "name": "stdout",
     "output_type": "stream",
     "text": [
      "[[1]]\n",
      "[[1, 1]]\n",
      "[[3, 1, 1], [1, 3, 1], [1, 1, 3]]\n",
      "[[1, 3, 1, 1], [3, 1, 1, 1], [1, 1, 3, 1], [1, 1, 1, 3]]\n"
     ]
    },
    {
     "data": {
      "text/plain": [
       "[[1, 3, 1, 1], [3, 1, 1, 1], [1, 1, 3, 1], [1, 1, 1, 3]]"
      ]
     },
     "execution_count": 4,
     "metadata": {},
     "output_type": "execute_result"
    }
   ],
   "source": [
    "# 47. Permutations II,有重复的情况下得到所有排列，avoid inserting a number AFTER any of its duplicates.\n",
    "# 也可以先排序，然后一次次nextPermute\n",
    "# Suppose duplicate happens when inserting n into the ith location, the result is [l2[:i], n, l2[i:]], and it duplicates with the item [l1[:j], n, l1[j:]]\n",
    "# Suppose i < j, then we have l1[i] ==n, however, we will break when l1[i]==n, and thus n will not be inserted after l1[:j] -> contradiction,\n",
    "# Suppose i > j, then we have l2[j] == n, however we will break when l2[j] == n, and thus n will not be inserted after l2[:i] -> contradiction.\n",
    "# Suppose i==j, then we have l1==l2, which contradicts the assumption that ans is a list of unique permutations.\n",
    "# Thus the argument hold.\n",
    "def permuteUnique(nums):\n",
    "    ans = [[]]\n",
    "    for n in nums:\n",
    "        new_ans = []\n",
    "        for l in ans:\n",
    "            for i in range(len(l)+1):\n",
    "                new_ans.append(l[:i]+[n]+l[i:])\n",
    "                if i<len(l) and l[i]==n: break              #handles duplication\n",
    "        ans = new_ans\n",
    "        print(ans)\n",
    "    return ans\n",
    "permuteUnique([1,1,3,1])"
   ]
  },
  {
   "cell_type": "code",
   "execution_count": 4,
   "metadata": {},
   "outputs": [],
   "source": [
    "# 77. Combinations\n",
    "# F(n,k)=F(n-1,k)+F(n-1,k-1)+n\n",
    "# F(n,k)=F(n-1,k-1)+[k,n]\n",
    "def combine(n, k):\n",
    "    \"\"\"\n",
    "    :type n: int\n",
    "    :type k: int\n",
    "    :rtype: List[List[int]]\n",
    "    \"\"\"\n",
    "    dp = [[[] for _ in range(k+1)] for _ in range(n+1)]\n",
    "    for i in range(1,n+1):\n",
    "        dp[i][1]=[[j] for j in range(1,i+1)]\n",
    "    for i in range(1,k+1):\n",
    "        dp[i][i]=[[j for j in range(1,i+1)]]\n",
    "    for j in range(1,k):\n",
    "        for i in range(j+1,n):\n",
    "            temp =[ele+[i+1] for ele in dp[i][j]]\n",
    "            dp[i+1][j+1] = dp[i][j+1]+temp\n",
    "    return dp[-1][-1]\n",
    "# combine(5,3)\n",
    "\n",
    "def combine(n, k):#Recursive\n",
    "    if k <=0:\n",
    "        return [[]]\n",
    "    return [pre + [i] for i in range(k, n+1) for pre in combine(i-1, k-1)]\n",
    "\n",
    "def combine(n, k):#Iterative\n",
    "    combs = [[]]\n",
    "    for _ in range(k):\n",
    "        combs = [[i] + c for c in combs for i in range(1, c[0] if c else n+1)]\n",
    "        # 这个循环中range(1,c[0])如果没有区间，前面没有执行\n",
    "    return combs\n",
    "# combine(5,3)"
   ]
  },
  {
   "cell_type": "code",
   "execution_count": 15,
   "metadata": {},
   "outputs": [
    {
     "data": {
      "text/plain": [
       "[[], [1], [1, 1], [2], [1, 2], [1, 1, 2]]"
      ]
     },
     "execution_count": 15,
     "metadata": {},
     "output_type": "execute_result"
    }
   ],
   "source": [
    "# 78. Subsets\n",
    "def subsets(nums):\n",
    "    \"\"\"\n",
    "    :type nums: List[int]\n",
    "    :rtype: List[List[int]]\n",
    "    \"\"\"\n",
    "    res = [[]]\n",
    "    for n in nums:\n",
    "        temp = []\n",
    "        for lst in res:\n",
    "            temp.append(lst+[n])\n",
    "        res+=temp\n",
    "    return res\n",
    "\n",
    "# 90. Subsets II\n",
    "def subsetsWithDup(nums):\n",
    "    \"\"\"\n",
    "    :type nums: List[int]\n",
    "    :rtype: List[List[int]]\n",
    "    \"\"\"\n",
    "    nums.sort()\n",
    "    res = [[]]\n",
    "    for i in range(len(nums)):\n",
    "        if i==0 or nums[i]!=nums[i-1]:\n",
    "            curcount = 1\n",
    "        else:\n",
    "            curcount+=1\n",
    "        temp = [] # every turn, there must be new elements\n",
    "#         print(res,curcount)\n",
    "        for lst in res:\n",
    "            if curcount==1 or (len(lst)>=(curcount-1) and lst[-(curcount-1)]==nums[i]):#长度大于个数，并且最后几个全是当前\n",
    "                temp.append(lst+[nums[i]])\n",
    "        res += temp\n",
    "    return res\n",
    "\n",
    "def subsetsWithDup(S):\n",
    "    res = [[]]\n",
    "    S.sort()\n",
    "    for i in range(len(S)):\n",
    "        if i == 0 or S[i] != S[i - 1]:#上一个和前面不同时，res的长度，相当于将前面l长度作为基底，一遍遍的轮\n",
    "            l = len(res)\n",
    "#         print(i,l,len(res)-l,len(res),res)\n",
    "        for j in range(len(res) - l, len(res)):\n",
    "            res.append(res[j] + [S[i]])\n",
    "    return res\n",
    "subsetsWithDup([1,1,2])"
   ]
  },
  {
   "cell_type": "code",
   "execution_count": 2,
   "metadata": {},
   "outputs": [
    {
     "data": {
      "text/plain": [
       "[1, 3, 1, 3]"
      ]
     },
     "execution_count": 2,
     "metadata": {},
     "output_type": "execute_result"
    }
   ],
   "source": [
    "# 1053. Previous Permutation With One Swap，通过一步交换，得到最大的小于原排列的数，如没有，返回原数组\n",
    "\n",
    "# 要使被替换的足够靠后，并且新换上来的足够大，从右往左，找到第一个不是递减的，然后在它以后，从右往左找到第一个比它小的，如果有重复，就往前\n",
    "\n",
    "def prevPermOpt1(A):\n",
    "    \"\"\"\n",
    "    :type A: List[int]\n",
    "    :rtype: List[int]\n",
    "    \"\"\"\n",
    "    B = sorted(A)\n",
    "    if B == A:\n",
    "        return A\n",
    "    for i in range(len(A)-1,-1,-1):#要使被替换的足够靠后，并且新换上来的足够大\n",
    "        cur = [-float('inf'),i]\n",
    "        for j in range(i+1,len(A)):#我这里是找的在它之后的最大值，它之后是一个递增序列\n",
    "            if A[j]<A[i]:\n",
    "                if A[j]>cur[0]:\n",
    "                    cur = [A[j],j]\n",
    "        if cur[0]>-float('inf'):\n",
    "            A[i],A[cur[1]] = A[cur[1]],A[i]\n",
    "            return A\n",
    "        \n",
    "def prevPermOpt1(A):\n",
    "    \"\"\"\n",
    "    :type A: List[int]\n",
    "    :rtype: List[int]\n",
    "    \"\"\"\n",
    "    if len(A)<=1:\n",
    "        return A\n",
    "    for i in range(len(A)-2,-1,-1):#要使被替换的足够靠后，并且新换上来的足够大\n",
    "        if A[i]>A[i+1]:\n",
    "            break\n",
    "    if i==0 and A[0]<=A[1]:\n",
    "        return A\n",
    "    for j in range(len(A)-1,i,-1):#找到i以后，从右往左找到第一个比它小的，如果有重复，就往前\n",
    "        if A[j]>=A[i]:\n",
    "            continue\n",
    "        if A[j]==A[j-1]:\n",
    "            continue\n",
    "        A[i],A[j] = A[j],A[i]\n",
    "        return A\n",
    "prevPermOpt1([1,3,3,1])"
   ]
  },
  {
   "cell_type": "code",
   "execution_count": 4,
   "metadata": {},
   "outputs": [
    {
     "data": {
      "text/plain": [
       "5"
      ]
     },
     "execution_count": 4,
     "metadata": {},
     "output_type": "execute_result"
    }
   ],
   "source": [
    "# 773. Sliding Puzzle，通过变换回到123450的顺序，用visited记录走过的值，每次用level更新\n",
    "def slidingPuzzle(board):\n",
    "    \"\"\"\n",
    "    :type board: List[List[int]]\n",
    "    :rtype: int\n",
    "    \"\"\"\n",
    "    directions = {0:[1,3],1:[0,2,4],2:[1,5],3:[0,4],4:[1,3,5],5:[2,4]}\n",
    "    board = \"\".join([str(i) for i in board[0]+board[1]])\n",
    "    empty = board.index('0')\n",
    "    visited = {board:empty}\n",
    "    level = {board:empty}\n",
    "    step = 0\n",
    "    while True:\n",
    "        if '123450' in level:\n",
    "            return step\n",
    "        if len(level)==0:\n",
    "            return -1\n",
    "        step+=1\n",
    "        newlevel = dict()\n",
    "        for i in level:\n",
    "            pos = level[i]#pos of 0\n",
    "            for newpos in directions[pos]:#new pos to be replaced\n",
    "                if newpos<pos:\n",
    "                    j = i[:newpos]+'0'+i[newpos+1:pos]+i[newpos]+i[pos+1:]\n",
    "                else:\n",
    "                    j = i[:pos]+i[newpos]+i[pos+1:newpos]+'0'+i[newpos+1:]\n",
    "                if j not in visited:\n",
    "                    newlevel[j] = newpos\n",
    "                    visited[j] = newpos\n",
    "        level = newlevel\n",
    "slidingPuzzle(board = [[4,1,2],[5,0,3]])"
   ]
  },
  {
   "cell_type": "code",
   "execution_count": 42,
   "metadata": {},
   "outputs": [
    {
     "data": {
      "text/plain": [
       "['baab', 'abba']"
      ]
     },
     "execution_count": 42,
     "metadata": {},
     "output_type": "execute_result"
    }
   ],
   "source": [
    "# 267. Palindrome Permutation II,给定s，如果能排序为回文串，列出所有回文串，可以用backtracking，由内到外添加\n",
    "import collections\n",
    "def generatePalindromes(s):\n",
    "    \"\"\"\n",
    "    :type s: str\n",
    "    :rtype: List[str]\n",
    "    \"\"\"\n",
    "    ans = []\n",
    "    n = len(s)\n",
    "    counter = collections.Counter(s)\n",
    "\n",
    "    def helper(tmp):\n",
    "        if len(tmp) == n:\n",
    "            ans.append(tmp)\n",
    "            return \n",
    "        for k, v in counter.items():\n",
    "            if v > 0:\n",
    "                counter[k] -= 2#对k处理了\n",
    "                helper(k + tmp + k)\n",
    "                counter[k] += 2#回头处理下一个\n",
    "\n",
    "    odd = [key for key, value in counter.items() if value % 2 != 0]\n",
    "    if len(odd) > 1:\n",
    "        return []\n",
    "    if len(odd) == 1:\n",
    "        counter[odd[0]] -= 1\n",
    "        helper(odd[0])\n",
    "    else:\n",
    "        helper('')\n",
    "    return ans\n",
    "generatePalindromes('aabb')"
   ]
  },
  {
   "cell_type": "code",
   "execution_count": 4,
   "metadata": {},
   "outputs": [
    {
     "data": {
      "text/plain": [
       "'13452'"
      ]
     },
     "execution_count": 4,
     "metadata": {},
     "output_type": "execute_result"
    }
   ],
   "source": [
    "# 60. Permutation Sequence,给定1-n,求第k个排列，从头到尾一个个更新\n",
    "def getPermutation(n, k):\n",
    "    \"\"\"\n",
    "    :type n: int\n",
    "    :type k: int\n",
    "    :rtype: str\n",
    "    \"\"\"\n",
    "    factorials = [1]\n",
    "    prod = 1\n",
    "    for i in range(1,10):\n",
    "        prod = prod*i\n",
    "        factorials.append(prod)\n",
    "    res = []\n",
    "    candidates = [i for i in range(1,n+1)]\n",
    "    k = k-1\n",
    "\n",
    "    for i in range(n):\n",
    "        candidate = candidates[k//factorials[n-1-i]]\n",
    "        res.append(str(candidate))\n",
    "        candidates.remove(candidate)\n",
    "        k = k%factorials[n-1-i]\n",
    "    return \"\".join(res)\n",
    "getPermutation(5,10)"
   ]
  },
  {
   "cell_type": "code",
   "execution_count": 2,
   "metadata": {},
   "outputs": [
    {
     "data": {
      "text/plain": [
       "'abacbabacb'"
      ]
     },
     "execution_count": 2,
     "metadata": {},
     "output_type": "execute_result"
    }
   ],
   "source": [
    "# 1415. The k-th Lexicographical String of All Happy Strings of Length n, n个'abc'构成的相邻不重复排列里第k个的值\n",
    "def getHappyString(n, k):\n",
    "    \"\"\"\n",
    "    :type n: int\n",
    "    :type k: int\n",
    "    :rtype: str\n",
    "    \"\"\"\n",
    "    if k>3*2**(n-1):\n",
    "        return \"\"\n",
    "\n",
    "    def dfs(res,n):\n",
    "        if n==0:\n",
    "            return res\n",
    "        dp = []\n",
    "        for ele in res:\n",
    "            for i in ['a','b','c']:\n",
    "                if i!=ele[-1]:\n",
    "                    dp.append(ele+i)\n",
    "        return dfs(dp,n-1)\n",
    "\n",
    "    return dfs(['a','b','c'],n-1)[k-1]\n",
    "\n",
    "getHappyString(10,100)"
   ]
  },
  {
   "cell_type": "markdown",
   "metadata": {},
   "source": [
    "# 2, subsequence"
   ]
  },
  {
   "cell_type": "code",
   "execution_count": 1,
   "metadata": {},
   "outputs": [
    {
     "data": {
      "text/plain": [
       "6"
      ]
     },
     "execution_count": 1,
     "metadata": {},
     "output_type": "execute_result"
    }
   ],
   "source": [
    "# 300. Longest Increasing Subsequence,最长子序列\n",
    "# dp保留以当前节点结尾的最长序列，dp[i] = max(dp[j]+1 for j in range(i) if nums[i]>nums[j])\n",
    "\n",
    "def lengthOfLIS(nums):\n",
    "    \"\"\"\n",
    "    :type nums: List[int]\n",
    "    :rtype: int\n",
    "    \"\"\"\n",
    "    if not nums:\n",
    "        return 0\n",
    "    dp = [1 for _ in range(len(nums))]\n",
    "    for i in range(1,len(nums)):\n",
    "        dp[i] =max([dp[j]+1 if nums[i]>nums[j] else 1 for j in range(i)])\n",
    "    return max(dp)\n",
    "\n",
    "lengthOfLIS([1,3,6,7,9,4,10,5,6])"
   ]
  },
  {
   "cell_type": "code",
   "execution_count": 6,
   "metadata": {},
   "outputs": [
    {
     "data": {
      "text/plain": [
       "0"
      ]
     },
     "execution_count": 6,
     "metadata": {},
     "output_type": "execute_result"
    }
   ],
   "source": [
    "# 1143. Longest Common Subsequence，最长公共子序列\n",
    "def longestCommonSubsequence(text1, text2):\n",
    "    \"\"\"\n",
    "    :type text1: str\n",
    "    :type text2: str\n",
    "    :rtype: int\n",
    "    \"\"\"\n",
    "    m = len(text1)\n",
    "    n = len(text2)\n",
    "    if m==0 or n==0:\n",
    "        return 0\n",
    "    dp = [[0 for _ in range(n)] for _ in range(m)]\n",
    "    dp[0][0] = text1[0]==text2[0]\n",
    "    for i in range(m):\n",
    "        for j in range(n):\n",
    "            if i==0:\n",
    "                dp[i][j] = dp[i][j-1] or text1[i]==text2[j]\n",
    "            elif j==0:\n",
    "                dp[i][j] = dp[i-1][j] or text1[i]==text2[j]                \n",
    "            else:\n",
    "                if text1[i] == text2[j]:\n",
    "                    dp[i][j] = dp[i-1][j-1]+1\n",
    "                else:\n",
    "                    dp[i][j] = max(dp[i-1][j], dp[i][j-1])\n",
    "    return dp[-1][-1]*1#需要乘以1处理boolean的问题\n",
    "longestCommonSubsequence(text1 = \"bc\", text2 = \"a\" )"
   ]
  },
  {
   "cell_type": "code",
   "execution_count": 7,
   "metadata": {},
   "outputs": [
    {
     "data": {
      "text/plain": [
       "4"
      ]
     },
     "execution_count": 7,
     "metadata": {},
     "output_type": "execute_result"
    }
   ],
   "source": [
    "# 128. Longest Consecutive Sequence,最长的构成连续数字的子串，这里顺序不重要\n",
    "def longestConsecutive(nums):\n",
    "    \"\"\"\n",
    "    :type nums: List[int]\n",
    "    :rtype: int\n",
    "    \"\"\"\n",
    "    nums = set(nums)\n",
    "    maximum = 0\n",
    "    for x in nums:\n",
    "        if x-1 not in nums:\n",
    "            y = x+1\n",
    "            while y in nums:\n",
    "                y = y+1\n",
    "            maximum = max(maximum,y-x)\n",
    "    return maximum\n",
    "longestConsecutive([100,4,200,1,3,2])"
   ]
  },
  {
   "cell_type": "markdown",
   "metadata": {},
   "source": [
    "# 3. DFS path\n",
    "22. Generate Parentheses\n",
    "39/40/216, Combination Sum, 加起来等于target的方式\n",
    "131. Palindrome Partitioning: 回文子串的划分路径，从前往后，每遇到一个回文，则往前走一个回文\n",
    "93. Restore IP Addresses,给定字符串，分成4段的合法分割方式"
   ]
  },
  {
   "cell_type": "code",
   "execution_count": 1,
   "metadata": {},
   "outputs": [
    {
     "data": {
      "text/plain": [
       "['(())', '()()']"
      ]
     },
     "execution_count": 1,
     "metadata": {},
     "output_type": "execute_result"
    }
   ],
   "source": [
    "# 22. Generate Parentheses\n",
    "def generateParenthesis(n):\n",
    "    \"\"\"\n",
    "    :type n: int\n",
    "    :rtype: List[str]\n",
    "    \"\"\"\n",
    "    def dfs(left,right,path,res):\n",
    "        if left==0 and right==0:\n",
    "            res.append(path)\n",
    "        elif left>=0:\n",
    "            if left<=right:\n",
    "                dfs(left-1,right,path+'(',res)\n",
    "            if left<right:\n",
    "                dfs(left,right-1,path+')',res)\n",
    "\n",
    "    res = []\n",
    "    dfs(n,n,\"\",res)\n",
    "    return res\n",
    "generateParenthesis(2)"
   ]
  },
  {
   "cell_type": "code",
   "execution_count": 1,
   "metadata": {},
   "outputs": [
    {
     "data": {
      "text/plain": [
       "[[2, 2, 2, 2], [3, 3, 2], [5, 3]]"
      ]
     },
     "execution_count": 1,
     "metadata": {},
     "output_type": "execute_result"
    }
   ],
   "source": [
    "# 39. Combination Sum: 加起来等于target，可循环使用\n",
    "# 做这种有多个返回的情况，dfs中一个参量为ans，一个参量为流动解path，在达到某种情况下，流动解插入到ans中\n",
    "def combinationSum(candidates, target):\n",
    "    \"\"\"\n",
    "    :type candidates: List[int]\n",
    "    :type target: int\n",
    "    :rtype: List[List[int]]\n",
    "    \"\"\"\n",
    "    ans = []\n",
    "    candidates.sort()\n",
    "    def binarySearch(nums,target):\n",
    "        left = 0\n",
    "        right = len(nums)\n",
    "        while left<right:\n",
    "            mid = left + (right-left)//2\n",
    "            if nums[mid]==target:\n",
    "                return mid\n",
    "            if nums[mid]<target:\n",
    "                left = mid+1\n",
    "            else:\n",
    "                right = mid\n",
    "        return left\n",
    "\n",
    "    def dfs(remainder,nums,ans,path):\n",
    "        idx = binarySearch(nums,remainder)\n",
    "        if idx<len(nums) and nums[idx]==remainder:\n",
    "            ans.append(path+[remainder])\n",
    "        if idx>0:\n",
    "            for i in range(idx):\n",
    "                dfs(remainder-nums[i],nums[:(i+1)],ans,path+[nums[i]])\n",
    "\n",
    "    dfs(target,candidates,ans,[])\n",
    "    return ans\n",
    "                   \n",
    "combinationSum(candidates = [2,3,5], target = 8)"
   ]
  },
  {
   "cell_type": "code",
   "execution_count": 2,
   "metadata": {},
   "outputs": [],
   "source": [
    "# 40. Combination Sum II: 加起来等于target，不可循环使用,candidates里有重复的\n",
    "def combinationSum2(candidates, target):\n",
    "    ans = []\n",
    "    candidates.sort()\n",
    "    def binarySearch(nums,target):\n",
    "        left = 0\n",
    "        right = len(nums)\n",
    "        while left<right:\n",
    "            mid = left + (right-left)//2\n",
    "            if nums[mid]==target:\n",
    "                return mid\n",
    "            if nums[mid]<target:\n",
    "                left = mid+1\n",
    "            else:\n",
    "                right = mid\n",
    "        return left\n",
    "    \n",
    "    def dfs(remainder,nums,ans,path):\n",
    "        idx = self.binarySearch(nums,remainder)\n",
    "        if idx<len(nums) and nums[idx]==remainder:\n",
    "            ans.append([nums[idx]]+path)\n",
    "        if idx>0:\n",
    "            dfs(remainder-nums[idx-1],nums[:idx-1],ans,[nums[idx-1]]+path)#先输入当前的，以避免重复\n",
    "            for i in range(idx-1):\n",
    "                if nums[i]!=nums[i+1]:\n",
    "                    dfs(remainder-nums[i],nums[:i],ans,[nums[i]]+path)\n",
    "    dfs(target,candidates,ans,[])\n",
    "    return ans"
   ]
  },
  {
   "cell_type": "code",
   "execution_count": 3,
   "metadata": {},
   "outputs": [
    {
     "data": {
      "text/plain": [
       "[[8, 7, 5], [9, 6, 5], [9, 7, 4], [9, 8, 3]]"
      ]
     },
     "execution_count": 3,
     "metadata": {},
     "output_type": "execute_result"
    }
   ],
   "source": [
    "# 216 Combination Sum III: k个1-9数加起来等于n，不可重复 \n",
    "def combinationSum3(k, n):\n",
    "    \"\"\"\n",
    "    :type k: int\n",
    "    :type n: int\n",
    "    :rtype: List[List[int]]\n",
    "    \"\"\"\n",
    "    ans = []\n",
    "    def dfs(remainder,right,counts,ans,path):\n",
    "        if counts==0 and remainder==0:\n",
    "            ans.append(path)\n",
    "        if counts>0 and remainder>0:\n",
    "            nxt = min(remainder+1,right)\n",
    "            for i in range(1,nxt):\n",
    "                dfs(remainder-i,i,counts-1,ans,path+[i])\n",
    "\n",
    "    dfs(n,10,k,ans,[])\n",
    "    return ans\n",
    "combinationSum3(3,20)"
   ]
  },
  {
   "cell_type": "code",
   "execution_count": 4,
   "metadata": {},
   "outputs": [
    {
     "data": {
      "text/plain": [
       "[['a', 'b']]"
      ]
     },
     "execution_count": 4,
     "metadata": {},
     "output_type": "execute_result"
    }
   ],
   "source": [
    "# 131. Palindrome Partitioning: 将字符串切割成多个回文子串的方式，DFS\n",
    "# 从前往后，每遇到一个回文，则往前走一个回文\n",
    "def partition(s):\n",
    "    \"\"\"\n",
    "    :type s: str\n",
    "    :rtype: List[List[str]]\n",
    "    \"\"\"\n",
    "    def isPalindrome(left,right):\n",
    "        while left<right:\n",
    "            if s[left]!=s[right]:\n",
    "                return False\n",
    "            left+=1\n",
    "            right-=1\n",
    "        return True\n",
    "\n",
    "    def dfs(cur,path,res):\n",
    "        if cur==len(s):\n",
    "            res.append(path)\n",
    "        for i in range(1,len(s)-cur+1):\n",
    "            if isPalindrome(cur,cur+i-1):\n",
    "                dfs(cur+i,path+[s[cur:cur+i]],res)\n",
    "\n",
    "    res = []\n",
    "    dfs(0,[],res)\n",
    "    return res\n",
    "partition('ab')"
   ]
  },
  {
   "cell_type": "code",
   "execution_count": 5,
   "metadata": {},
   "outputs": [
    {
     "data": {
      "text/plain": [
       "['0.10.0.10', '0.100.1.0']"
      ]
     },
     "execution_count": 5,
     "metadata": {},
     "output_type": "execute_result"
    }
   ],
   "source": [
    "# 93. Restore IP Addresses,给定字符串，分成4段的合法分割方式\n",
    "def restoreIpAddresses(s):\n",
    "    \"\"\"\n",
    "    :type s: str\n",
    "    :rtype: List[str]\n",
    "    \"\"\"\n",
    "    # Definition of valid IP address:\n",
    "    # 1. The length of the ip without '.' should be equal to the length of s;\n",
    "    # 2. The digit order of ip should be same as the digit order of s;\n",
    "    # 3. Each part separated by the '.' should not start with '0' except only '0';\n",
    "    # 4. Each part separared by the '.' should not larger than 255;\n",
    "    res = []\n",
    "    def dfs(s,remainder,pos,path,res):\n",
    "        if remainder==0 and pos>=len(s):\n",
    "            res.append(path[:-1])\n",
    "        elif remainder>0 and pos<len(s) and len(s)-pos<=3*remainder:\n",
    "            if s[pos]!='0':\n",
    "                dfs(s,remainder-1,pos+1,path+s[pos]+'.',res)\n",
    "                if pos<len(s)-1:\n",
    "                    dfs(s,remainder-1,pos+2,path+s[pos]+s[pos+1]+'.',res)\n",
    "                if pos<len(s)-2 and int(s[pos:pos+3])<=255:\n",
    "                    dfs(s,remainder-1,pos+3,path+s[pos:pos+3]+'.',res)\n",
    "            else:\n",
    "                dfs(s,remainder-1,pos+1,path+s[pos]+'.',res)\n",
    "\n",
    "    dfs(s,4,0,\"\",res)\n",
    "    return res\n",
    "restoreIpAddresses(\"010010\")"
   ]
  },
  {
   "cell_type": "code",
   "execution_count": 1,
   "metadata": {},
   "outputs": [
    {
     "data": {
      "text/plain": [
       "['oath', 'oathk', 'v', 'eat']"
      ]
     },
     "execution_count": 1,
     "metadata": {},
     "output_type": "execute_result"
    }
   ],
   "source": [
    "# 212. Word Search II，给定board和单词表，找出出现过的单词路径\n",
    "# 先构建trie，然后沿着trie一层层比对\n",
    "def findWords(board, words):\n",
    "    \"\"\"\n",
    "    :type board: List[List[str]]\n",
    "    :type words: List[str]\n",
    "    :rtype: List[str]\n",
    "    \"\"\"\n",
    "    trie = dict()\n",
    "    end = '#'\n",
    "    if not board:\n",
    "        return []\n",
    "    m,n = len(board),len(board[0])\n",
    "\n",
    "    for word in words:# build the trie\n",
    "        cur = trie\n",
    "        for i in word:\n",
    "            if i not in cur:\n",
    "                cur[i] = dict()\n",
    "            cur = cur[i]\n",
    "        cur[end] = True\n",
    "\n",
    "    def searchPrefix(keys,board):# 找出所有可能的prefix\n",
    "        pos = dict()\n",
    "        for i in range(m):\n",
    "            for j in range(n):\n",
    "                if board[i][j] in keys:\n",
    "                    pos[board[i][j]] = pos.get(board[i][j],[]) + [(i,j)]\n",
    "        return pos\n",
    "\n",
    "    def searchWord(pre,pos,trie,visited,path,res):\n",
    "        \"\"\"\n",
    "        pre: the current prefix\n",
    "        pos: the position of pre\n",
    "        trie: prefix tree which has the same root as pre\n",
    "        visited: visited node to avoid conflicting with itself\n",
    "        \"\"\"\n",
    "        if end in trie[pre]:\n",
    "            res.add(path)\n",
    "        for dx,dy in [(-1,0),(1,0),(0,1),(0,-1)]:\n",
    "            xnew, ynew = pos[0]+dx, pos[1]+dy\n",
    "            if 0<=xnew<m and 0<=ynew<n and board[xnew][ynew] in trie[pre] and (xnew,ynew) not in visited:\n",
    "                searchWord(board[xnew][ynew],(xnew,ynew),trie[pre],visited|{(xnew,ynew)},path+board[xnew][ynew],res)\n",
    "\n",
    "    poses = searchPrefix(trie.keys(),board)\n",
    "    res = set()\n",
    "    for pre in poses:\n",
    "        for pos in poses[pre]:\n",
    "            searchWord(pre,pos,trie,{pos},pre,res)\n",
    "    return list(res)\n",
    "\n",
    "findWords([[\"o\",\"a\",\"a\",\"n\"],[\"e\",\"t\",\"a\",\"e\"],[\"i\",\"h\",\"k\",\"r\"],[\"i\",\"f\",\"l\",\"v\"]],[\"oath\",\"pea\",\"eat\",\"rain\",'v','oathk'])"
   ]
  },
  {
   "cell_type": "code",
   "execution_count": 1,
   "metadata": {},
   "outputs": [
    {
     "data": {
      "text/plain": [
       "2"
      ]
     },
     "execution_count": 1,
     "metadata": {},
     "output_type": "execute_result"
    }
   ],
   "source": [
    "# 996. Number of Squareful Arrays,对数组进行排列，使得相邻数的和为平方数\n",
    "# 对每个数进行遍历查找,复杂度为O(N!)\n",
    "def numSquarefulPerms(A):\n",
    "    \"\"\"\n",
    "    :type A: List[int]\n",
    "    :rtype: int\n",
    "    \"\"\"\n",
    "    def isSquare(num):\n",
    "        return int(num**0.5)**2 == num\n",
    "\n",
    "    def dfs(path,arr):\n",
    "        if len(path)==len(A):\n",
    "            res.add(tuple(path))\n",
    "            return\n",
    "        visited = set()\n",
    "        for i in range(len(arr)):\n",
    "            if arr[i] in visited:\n",
    "                continue\n",
    "            if isSquare(path[-1]+arr[i]):\n",
    "                visited.add(arr[i])\n",
    "                dfs(path+[arr[i]],arr[:i]+arr[i+1:])\n",
    "\n",
    "    res = set()\n",
    "    for i in range(len(A)):\n",
    "        dfs([A[i]],A[:i]+A[i+1:])\n",
    "    return len(res)\n",
    "numSquarefulPerms([1,17,8])"
   ]
  },
  {
   "cell_type": "code",
   "execution_count": 20,
   "metadata": {},
   "outputs": [
    {
     "data": {
      "text/plain": [
       "['1*0+5', '10-5']"
      ]
     },
     "execution_count": 20,
     "metadata": {},
     "output_type": "execute_result"
    }
   ],
   "source": [
    "# 282. Expression Add Operators\n",
    "def addOperators(num, target):\n",
    "    res = []\n",
    "    \n",
    "    def dfs(num, path, cur, last, res):#当前开始的所有数，path,目前的结果，前一个数\n",
    "        if not num:\n",
    "            if cur == target:\n",
    "                res.append(path)\n",
    "            return\n",
    "        for i in range(1, len(num)+1):\n",
    "            val = num[:i]\n",
    "            if i == 1 or (i > 1 and num[0] != \"0\"): # prevent \"00*\" as a number\n",
    "                dfs(num[i:], path + \"+\" + val, cur+int(val), int(val), res)\n",
    "                dfs(num[i:], path + \"-\" + val, cur-int(val), -int(val), res)\n",
    "                dfs(num[i:], path + \"*\" + val, cur-last+last*int(val), last*int(val), res)#把当前的数减去，然后再重新加上\n",
    "            \n",
    "    for i in range(1,len(num)+1):\n",
    "        if i == 1 or (i > 1 and num[0] != \"0\"): # prevent \"00*\" as a number\n",
    "            dfs(num[i:], num[:i], int(num[:i]), int(num[:i]), res) # this step put first number in the string\n",
    "    return res\n",
    "\n",
    "addOperators(num = \"105\", target = 5)"
   ]
  },
  {
   "cell_type": "markdown",
   "metadata": {},
   "source": [
    "# 4. Intervals\n",
    "### 不要用binary search, 而是一段段处理，很可能使用greedy\n",
    "\n",
    "- 判断两个区间是否相交: [start,end]和新区间[x,y]: x$<$end and y$>$start\n",
    "- 两个区间的重叠部分：[start,end]和新区间[x,y]: [max(start,x),min(end,y)]\n",
    "\n",
    "题目\n",
    "56. Merge Intervals，将多个区间合并\n",
    "57. Insert Interval,将新区间插入到无覆盖的区间，从左到右，对于不交叉的区间直接保留，有交集的区间左右比较\n",
    "253. Meeting Rooms II，多个区间最大覆盖数\n",
    "759. Employee Free Time 多个可能重叠的interval，寻找空闲interval\n",
    "1272. Remove Interval，无交叉区间删去某一段。学会处理if else，不要用binarySearch\n",
    "435. Non-overlapping Intervals，最小消除区间数，使得余下的不交叉\n",
    "452. Minimum Number of Arrows to Burst Balloons,最小的点的个数使得每个区间都被覆盖到\n",
    "\n",
    "163. Missing Ranges,将没有覆盖的区域打印出来\n",
    "1229. Meeting Scheduler，两个区间中找出能同时拥有的长度超过d的最早区间"
   ]
  },
  {
   "cell_type": "code",
   "execution_count": 2,
   "metadata": {},
   "outputs": [
    {
     "data": {
      "text/plain": [
       "[[1, 6], [8, 10], [15, 18]]"
      ]
     },
     "execution_count": 2,
     "metadata": {},
     "output_type": "execute_result"
    }
   ],
   "source": [
    "# 56. Merge Intervals，合并区间，\n",
    "def mergeInterval(intervals):\n",
    "    \"\"\"\n",
    "    :type intervals: List[List[int]]\n",
    "    :rtype: List[List[int]]\n",
    "    \"\"\"\n",
    "    intervals = sorted(intervals,key=lambda x:x[0])\n",
    "    start = 0\n",
    "    res = []\n",
    "    while start<len(intervals):\n",
    "        end = start\n",
    "        curright = intervals[start][1]\n",
    "        while end<len(intervals)-1 and curright>=intervals[end+1][0]:#当前最右边的点大于下一个start，就继续往下走\n",
    "            end+=1\n",
    "            curright = max(curright,intervals[end][1])\n",
    "        res.append([intervals[start][0],curright])\n",
    "        start = end+1\n",
    "    return res\n",
    "\n",
    "def mergeInterval(intervals):\n",
    "    \"\"\"\n",
    "    :type intervals: List[Interval]\n",
    "    :rtype: List[Interval]\n",
    "    \"\"\"\n",
    "    intervals=sorted(intervals,key=lambda i:i[0])\n",
    "    for i in range(len(intervals)-1):\n",
    "        if intervals[i][1]>=intervals[i+1][0]:\n",
    "            if intervals[i][1]<intervals[i+1][1]:\n",
    "                intervals[i+1][0]=intervals[i][0]\n",
    "                intervals[i]=[]            \n",
    "            else:\n",
    "                intervals[i+1][0]=intervals[i][0]\n",
    "                intervals[i+1][1]=intervals[i][1]\n",
    "                intervals[i]=[]\n",
    "    return [i for i in intervals if i] \n",
    "mergeInterval([[1,3],[2,6],[8,10],[15,18]])"
   ]
  },
  {
   "cell_type": "code",
   "execution_count": 1,
   "metadata": {},
   "outputs": [
    {
     "data": {
      "text/plain": [
       "[[5, 6], [7, 9]]"
      ]
     },
     "execution_count": 1,
     "metadata": {},
     "output_type": "execute_result"
    }
   ],
   "source": [
    "# 759. Employee Free Time\n",
    "# 多个可能重叠的interval，寻找空闲interval，和merge intervals一样，按照首排序后，比较第一个的end和下一个的start\n",
    "def employeeFreeTime(schedule):\n",
    "    \"\"\"\n",
    "    :type schedule: [[Interval]]\n",
    "    :rtype: [Interval]\n",
    "    \"\"\"\n",
    "    hashtable = dict()\n",
    "    for i in schedule:\n",
    "        for j in i:\n",
    "            if j[0] not in hashtable:\n",
    "                hashtable[j[0]] = j[1]\n",
    "            else:\n",
    "                hashtable[j[0]] = max(hashtable[j[0]],j[1])\n",
    "    keys = sorted(hashtable.keys())\n",
    "    cur = hashtable[keys[0]]\n",
    "    res = []\n",
    "    for i in range(len(keys)-1):\n",
    "        if cur>=keys[i+1]:\n",
    "            cur = max(cur,hashtable[keys[i+1]])\n",
    "        else:\n",
    "            res.append([cur,keys[i+1]])\n",
    "            cur = hashtable[keys[i+1]]\n",
    "    return res\n",
    "\n",
    "employeeFreeTime([[[1,3],[6,7]],[[2,4]],[[2,5],[9,12]]])"
   ]
  },
  {
   "cell_type": "code",
   "execution_count": 1,
   "metadata": {},
   "outputs": [
    {
     "data": {
      "text/plain": [
       "[[1, 2], [3, 10], [12, 16]]"
      ]
     },
     "execution_count": 1,
     "metadata": {},
     "output_type": "execute_result"
    }
   ],
   "source": [
    "# 57. Insert Interval,将新区间插入到无覆盖的区间，从左到右，对于不交叉的区间直接保留，有交集的区间左右比较\n",
    "# 57. Insert Interval，给定不覆盖的区间，插入新的区间\n",
    "def insert(intervals, newInterval):\n",
    "    \"\"\"\n",
    "    :type intervals: List[List[int]]\n",
    "    :type newInterval: List[int]\n",
    "    :rtype: List[List[int]]\n",
    "    \"\"\"\n",
    "    N = len(intervals)\n",
    "    start,end = newInterval\n",
    "    def binarySearch(nums,target):\n",
    "        left = 0\n",
    "        right = len(nums)\n",
    "        while left<right:\n",
    "            mid = left + (right-left)//2\n",
    "            if nums[mid]==target:\n",
    "                return mid\n",
    "            if nums[mid]<target:\n",
    "                left = mid+1\n",
    "            else:\n",
    "                right = mid\n",
    "        return left\n",
    "    points = []\n",
    "    for i in intervals:\n",
    "        points+=i\n",
    "    left = binarySearch(points,start)\n",
    "    right = binarySearch(points,end)\n",
    "    if left==2*N:\n",
    "        return intervals+[newInterval]\n",
    "    \n",
    "    if left%2==0:\n",
    "        if right%2==0:\n",
    "            if right<2*N and end!=points[right]:\n",
    "                return intervals[:left//2]+[newInterval]+intervals[right//2:]\n",
    "            elif right==2*N:\n",
    "                return intervals[:left//2]+[newInterval]\n",
    "            else:\n",
    "                return intervals[:left//2]+[[start,points[right+1]]]+intervals[right//2+1:]\n",
    "        else:\n",
    "            return intervals[:left//2]+[[start,points[right]]]+intervals[(right+1)//2:]\n",
    "    else:\n",
    "        if right%2==0:\n",
    "            if right<2*N and end!=points[right]:\n",
    "                return intervals[:left//2]+[[points[left-1],end]]+intervals[right//2:]\n",
    "            elif right==2*N:\n",
    "                return intervals[:left//2]+[[points[left-1],end]]\n",
    "            else:\n",
    "                return intervals[:left//2]+[[points[left-1],points[right+1]]]+intervals[right//2+1:]\n",
    "        else:\n",
    "            if left==right:\n",
    "                return intervals\n",
    "            else:\n",
    "                return intervals[:left//2]+[[points[left-1],points[right]]]+intervals[(right+1)//2:]\n",
    "\n",
    "# 从左到右，如果start比当前区间末点要大，就直接加上该区间\n",
    "# 否则如果end比当前区间前点要小，则说明该区间位于缝隙中，跳出循环\n",
    "# 否则end比当前区间前点要大，与当前区间后点融合，和下一个比较，如果比下一个区间前点要小，则刚好跳出，如果大于等于，正好和下一个区间融合\n",
    "def insert(intervals, newInterval):\n",
    "    start = newInterval[0]\n",
    "    end = newInterval[1]\n",
    "    result = []\n",
    "    i = 0\n",
    "    while i < len(intervals):\n",
    "        if start <= intervals[i][1]:\n",
    "            if end < intervals[i][0]:\n",
    "                break\n",
    "            start = min(start, intervals[i][0])\n",
    "            end = max(end, intervals[i][1])\n",
    "        else:\n",
    "            result.append(intervals[i])\n",
    "        i += 1\n",
    "    result.append([start, end])\n",
    "    result += intervals[i:]\n",
    "    return result\n",
    "insert(intervals = [[1,3],[6,9],[11,15]], newInterval = [4,11])\n",
    "\n",
    "\n",
    "def insertInterval(intervals, newInterval):\n",
    "    s, e = newInterval[0], newInterval[1]\n",
    "    left, right = [], []\n",
    "    for i in intervals:\n",
    "        if i[1] < s:\n",
    "            left.append(i)\n",
    "        elif i[0] > e:\n",
    "            right.append(i)\n",
    "        else:\n",
    "            s = min(s, i[0])\n",
    "            e = max(e, i[1])\n",
    "    return left + [[s,e]] + right\n",
    "insertInterval(intervals = [[1,2],[3,5],[6,7],[8,10],[12,16]], newInterval = [5,8])"
   ]
  },
  {
   "cell_type": "code",
   "execution_count": 1,
   "metadata": {},
   "outputs": [
    {
     "data": {
      "text/plain": [
       "[[-5, -4], [-3, -2], [4, 5], [8, 9]]"
      ]
     },
     "execution_count": 1,
     "metadata": {},
     "output_type": "execute_result"
    }
   ],
   "source": [
    "# 1272. Remove Interval，无交叉区间删去某一段。学会处理if else，不要用binarySearch\n",
    "def removeInterval(intervals, toBeRemoved):\n",
    "    \"\"\"\n",
    "    :type intervals: List[List[int]]\n",
    "    :type toBeRemoved: List[int]\n",
    "    :rtype: List[List[int]]\n",
    "    \"\"\"\n",
    "    res = []\n",
    "    start,end = toBeRemoved\n",
    "    for i,j in intervals:\n",
    "        if j <= start or i>=end:#如果在区间外，则不管\n",
    "            res.append([i,j])\n",
    "            continue\n",
    "        if i<start:#左边\n",
    "            res.append([i,start])\n",
    "        if j>end:#右边，两个if，考虑了覆盖的情况\n",
    "            res.append([end,j])\n",
    "    return res\n",
    "removeInterval([[-5,-4],[-3,-2],[1,2],[3,5],[8,9]],toBeRemoved=[-1,4])"
   ]
  },
  {
   "cell_type": "code",
   "execution_count": 21,
   "metadata": {},
   "outputs": [],
   "source": [
    "#715. Range Module\n",
    "class RangeModule(object):\n",
    "\n",
    "    def __init__(self):\n",
    "        self.intervals = []\n",
    "\n",
    "    def addRange(self, left, right):\n",
    "        \"\"\"\n",
    "        :type left: int\n",
    "        :type right: int\n",
    "        :rtype: None\n",
    "        \"\"\"\n",
    "        i, j = bisect.bisect_left(self.intervals, left), bisect.bisect_right(self.intervals, right)\n",
    "        self.intervals[i:j] = [left]*(i%2 == 0) + [right]*(j%2 == 0)\n",
    "        \n",
    "    def queryRange(self, left, right):\n",
    "        \"\"\"\n",
    "        :type left: int\n",
    "        :type right: int\n",
    "        :rtype: bool\n",
    "        \"\"\"\n",
    "        i, j = bisect.bisect_right(self.intervals, left), bisect.bisect_left(self.intervals, right)\n",
    "        return i == j and i%2 == 1        \n",
    "\n",
    "    def removeRange(self, left, right):\n",
    "        \"\"\"\n",
    "        :type left: int\n",
    "        :type right: int\n",
    "        :rtype: None\n",
    "        \"\"\"\n",
    "        i, j = bisect.bisect_left(self.intervals, left), bisect.bisect_right(self.intervals, right)\n",
    "        self.intervals[i:j] = [left]*(i%2 == 1) + [right]*(j%2 == 1)"
   ]
  },
  {
   "cell_type": "code",
   "execution_count": 30,
   "metadata": {},
   "outputs": [],
   "source": [
    "#352. Data Stream as Disjoint Intervals\n",
    "class SummaryRanges(object):\n",
    "\n",
    "    def __init__(self):\n",
    "        \"\"\"\n",
    "        Initialize your data structure here.\n",
    "        \"\"\"\n",
    "        self.intervals = []\n",
    "\n",
    "    def addNum(self, val):\n",
    "        \"\"\"\n",
    "        :type val: int\n",
    "        :rtype: None\n",
    "        \"\"\"\n",
    "        if not self.intervals or self.intervals[-1][1]+1<val:#如果在最后面\n",
    "            self.intervals.append([val,val])\n",
    "            return\n",
    "        if val+1<self.intervals[0][0]:#如果在最前面\n",
    "            self.intervals = [[val,val]]+self.intervals\n",
    "            return\n",
    "        if val+1==self.intervals[0][0]:#如果在最前面\n",
    "            self.intervals[0] = [val,self.intervals[0][1]]\n",
    "            return\n",
    "        idx = bisect.bisect_left(self.intervals,[val])\n",
    "        if idx==len(self.intervals) and val<=self.intervals[-1][1]+1:#如果并入在最后面\n",
    "            self.intervals[-1] = [self.intervals[-1][0],max(self.intervals[-1][1],val)]\n",
    "            return\n",
    "        if self.intervals[idx][0]==val or self.intervals[idx-1][1]>=val:\n",
    "            return\n",
    "        # [idx-1[0],idx-1[1]],[val,val],[idx[0],idx[1]]\n",
    "        if self.intervals[idx-1][1]+1==val:#如果可以和前面合并\n",
    "            if self.intervals[idx][0]==val+1:#如果可以和后面合并\n",
    "                self.intervals = self.intervals[:idx-1]+[[self.intervals[idx-1][0],self.intervals[idx][1]]]+self.intervals[idx+1:]\n",
    "            else:\n",
    "                self.intervals = self.intervals[:idx-1]+[[self.intervals[idx-1][0],val]]+self.intervals[idx:]\n",
    "        elif self.intervals[idx][0]==val+1:\n",
    "            self.intervals = self.intervals[:idx]+[[val,self.intervals[idx][1]]]+self.intervals[idx+1:]\n",
    "        else:\n",
    "            self.intervals = self.intervals[:idx]+[[val,val]]+self.intervals[idx:]\n",
    "        return\n",
    "\n",
    "    def getIntervals(self):\n",
    "        \"\"\"\n",
    "        :rtype: List[List[int]]\n",
    "        \"\"\"\n",
    "        return self.intervals"
   ]
  },
  {
   "cell_type": "code",
   "execution_count": 6,
   "metadata": {},
   "outputs": [
    {
     "data": {
      "text/plain": [
       "2"
      ]
     },
     "execution_count": 6,
     "metadata": {},
     "output_type": "execute_result"
    }
   ],
   "source": [
    "# 253 Meeting Rooms II，多个区间最大覆盖数\n",
    "def minMeetingRooms(intervals):\n",
    "    \"\"\"\n",
    "    :type intervals: List[List[int]]\n",
    "    :rtype: int\n",
    "    \"\"\"\n",
    "    if not intervals:\n",
    "        return 0\n",
    "    begins = sorted([i[0] for i in intervals])\n",
    "    ends = sorted([i[1] for i in intervals])\n",
    "    i,j,maximum,counts=0,0,0,0# 双指针\n",
    "    while i<len(begins):\n",
    "        if begins[i]<ends[j]:#start更小，start后移，count+1\n",
    "            counts+=1\n",
    "            maximum = max(counts,maximum)\n",
    "            i=i+1\n",
    "        else:#end更小，end后移，count-1\n",
    "            counts-=1\n",
    "            j=j+1\n",
    "    return maximum\n",
    "minMeetingRooms([[1,3],[2,6],[8,10],[15,18]])\n",
    "\n",
    "# 1094. Car Pooling，多个区间判断最多的重复是否超过capacity\n",
    "def carPooling(trips, capacity):\n",
    "    \"\"\"\n",
    "    :type trips: List[List[int]]\n",
    "    :type capacity: int\n",
    "    :rtype: bool\n",
    "    \"\"\"\n",
    "    nums = []\n",
    "    for n,i,j in trips:\n",
    "        nums.append((i,n))\n",
    "        nums.append((j,-n))\n",
    "    nums.sort()\n",
    "    cur = 0\n",
    "    for i,j in nums:\n",
    "        cur+=j\n",
    "        if cur>capacity:\n",
    "            return False\n",
    "    return True"
   ]
  },
  {
   "cell_type": "code",
   "execution_count": 1,
   "metadata": {},
   "outputs": [
    {
     "data": {
      "text/plain": [
       "2"
      ]
     },
     "execution_count": 1,
     "metadata": {},
     "output_type": "execute_result"
    }
   ],
   "source": [
    "# 1288. Remove Covered Intervals，如果出现一段区间包括了另一段区间，则只统计大的区间\n",
    "def removeCoveredIntervals(intervals):\n",
    "    res = right = 0\n",
    "    for i, j in sorted(intervals, key=lambda a: [a[0], -a[1]]):\n",
    "        res += j > right\n",
    "        right = max(right, j)\n",
    "    return res\n",
    "removeCoveredIntervals(intervals = [[1,4],[3,6],[2,8]])"
   ]
  },
  {
   "cell_type": "code",
   "execution_count": 1,
   "metadata": {},
   "outputs": [
    {
     "data": {
      "text/plain": [
       "1"
      ]
     },
     "execution_count": 1,
     "metadata": {},
     "output_type": "execute_result"
    }
   ],
   "source": [
    "# 435. Non-overlapping Intervals，最小消除区间数，使得余下的不交叉\n",
    "# 排序以后，如果当前区间与之前末尾无交集，那么直接添加\n",
    "# 如果有交集，那么去掉最右边的一个，因为是按照左边排序的，当前区间的左边一定比之前区间的左边更加靠右，去掉之前的不会出错\n",
    "def eraseOverlapIntervals(intervals):\n",
    "    \"\"\"\n",
    "    :type intervals: List[Interval]\n",
    "    :rtype: int\n",
    "    \"\"\"\n",
    "    if not intervals: return 0\n",
    "    intervals.sort(key=lambda x: x[0])  # sort on start time\n",
    "    currEnd, cnt = intervals[0][1], 0\n",
    "    for x in intervals[1:]:\n",
    "        if x[0] < currEnd:  # find overlapping interval\n",
    "            cnt += 1\n",
    "            currEnd = min(currEnd, x[1])  # erase the one with larger end time\n",
    "        else:\n",
    "            currEnd = x[1]   # update end time\n",
    "    return cnt\n",
    "\n",
    "eraseOverlapIntervals([[1,2],[2,3],[3,4],[1,3]])"
   ]
  },
  {
   "cell_type": "code",
   "execution_count": 16,
   "metadata": {},
   "outputs": [
    {
     "name": "stdout",
     "output_type": "stream",
     "text": [
      "[[1, 6], [2, 8], [7, 12], [10, 16]]\n"
     ]
    },
    {
     "data": {
      "text/plain": [
       "2"
      ]
     },
     "execution_count": 16,
     "metadata": {},
     "output_type": "execute_result"
    }
   ],
   "source": [
    "# 452. Minimum Number of Arrows to Burst Balloons,最小的点的个数使得每个区间都被覆盖到\n",
    "def findMinArrowShots(points):\n",
    "    \"\"\"\n",
    "    :type points: List[List[int]]\n",
    "    :rtype: int\n",
    "    \"\"\"\n",
    "    if not points:\n",
    "        return 0\n",
    "    points = sorted(points,key = lambda x:(x[1],x[0]))\n",
    "    res = 0\n",
    "    while points:\n",
    "        start,end = points.pop()\n",
    "        while points and start<=points[-1][1]<=end:\n",
    "            x,y = points.pop()\n",
    "            start,end = max(start,x),min(end,y)\n",
    "        res+=1\n",
    "    return res\n",
    "\n",
    "def findMinArrowShots(points):\n",
    "    \"\"\"\n",
    "    :type points: List[List[int]]\n",
    "    :rtype: int\n",
    "    \"\"\"\n",
    "    points = sorted(points, key = lambda x: x[1])\n",
    "    print(points)\n",
    "    res, end = 0, -float('inf')\n",
    "    for interval in points:\n",
    "        if interval[0] > end:#超出了当前范围\n",
    "            res += 1\n",
    "            end = interval[1]\n",
    "    return res\n",
    "\n",
    "findMinArrowShots([[10,16], [2,8], [1,6], [7,12]])"
   ]
  },
  {
   "cell_type": "code",
   "execution_count": 2,
   "metadata": {},
   "outputs": [
    {
     "data": {
      "text/plain": [
       "['2', '4->49', '51->74', '76->99']"
      ]
     },
     "execution_count": 2,
     "metadata": {},
     "output_type": "execute_result"
    }
   ],
   "source": [
    "def findMissingRanges(nums, lower, upper):\n",
    "    result = []\n",
    "    nums.append(upper+1)\n",
    "    pre = lower - 1\n",
    "    for i in nums:\n",
    "        if (i == pre + 2):\n",
    "            result.append(str(i-1))\n",
    "        elif (i > pre + 2):\n",
    "            result.append(str(pre + 1) + \"->\" + str(i -1))\n",
    "        pre = i\n",
    "    return result\n",
    "findMissingRanges(nums = [0, 1, 3, 50, 75], lower = 0, upper = 99)"
   ]
  },
  {
   "cell_type": "code",
   "execution_count": 4,
   "metadata": {},
   "outputs": [
    {
     "name": "stdout",
     "output_type": "stream",
     "text": [
      "[[10, 50], [60, 120], [140, 210], [0, 15], [60, 70]]\n"
     ]
    },
    {
     "data": {
      "text/plain": [
       "[60, 68]"
      ]
     },
     "execution_count": 4,
     "metadata": {},
     "output_type": "execute_result"
    }
   ],
   "source": [
    "import bisect\n",
    "def minAvailableDuration(slots1, slots2, duration):\n",
    "    \"\"\"\n",
    "    :type slots1: List[List[int]]\n",
    "    :type slots2: List[List[int]]\n",
    "    :type duration: int\n",
    "    :rtype: List[int]\n",
    "    \"\"\"\n",
    "    s1,e1,s2,e2 = [],[],[],[]\n",
    "    for i,j in slots1:\n",
    "        s1.append(i)\n",
    "        e1.append(j)\n",
    "    for i,j in slots2:\n",
    "        s2.append(i)\n",
    "        e2.append(j)\n",
    "    s1.sort()\n",
    "    e1.sort()\n",
    "    s2.sort()\n",
    "    e2.sort()\n",
    "    for i in range(len(s1)):\n",
    "        if e1[i]-s1[i]<duration:#如果直接不满足\n",
    "            continue\n",
    "        ind = bisect.bisect_left(s2,s1[i])\n",
    "        if ind==len(s2) or (ind==len(s2)-1 and s2[ind]==s1[i]):#如果在最后面\n",
    "            if e2[-1]-s1[i]>=duration:#如果满足\n",
    "                return [s1[i],s1[i]+duration]\n",
    "            else:\n",
    "                return []\n",
    "        if s2[ind]==s1[i]:#如果撞上了某个开始\n",
    "            if e2[ind]-s2[ind]>=duration:\n",
    "                return [s2[ind],s2[ind]+duration]\n",
    "        elif ind!=0 and e2[ind-1]-s1[i]>=duration:#如果可以和前面一个对上\n",
    "            return [s1[i],s1[i]+duration]\n",
    "        elif min(e1[i],e2[ind])-s2[ind]>=duration:\n",
    "            return [s2[ind],s2[ind]+duration]\n",
    "    return []\n",
    "\n",
    "import heapq\n",
    "def minAvailableDuration(slots1,slots2,duration):\n",
    "    s = list(filter(lambda slot: slot[1] - slot[0] >= duration, slots1 + slots2))\n",
    "    print(s)\n",
    "    heapq.heapify(s)\n",
    "    while len(s) > 1:\n",
    "        if heapq.heappop(s)[1] >= s[0][0] + duration:#前面一个区间与后面一个区间重合超过duration\n",
    "            return [s[0][0], s[0][0] + duration] \n",
    "    return []   \n",
    "minAvailableDuration(slots1 = [[10,50],[60,120],[140,210]], slots2 = [[0,15],[60,70]], duration = 8)"
   ]
  },
  {
   "cell_type": "code",
   "execution_count": 1,
   "metadata": {},
   "outputs": [],
   "source": [
    "# 731. My Calendar II不断的插入区间，并判断是否出现了三次重叠\n",
    "class MyCalendarTwo(object):\n",
    "\n",
    "    def __init__(self):\n",
    "        self.overlaps = []\n",
    "        self.intervals = []\n",
    "        \n",
    "    def book(self, start, end):\n",
    "        \"\"\"\n",
    "        :type start: int\n",
    "        :type end: int\n",
    "        :rtype: bool\n",
    "        \"\"\"\n",
    "        for i,j in self.overlaps:\n",
    "            if start<j and end>i:\n",
    "                return False\n",
    "        for i,j in self.intervals:\n",
    "            if start<j and end>i:\n",
    "                self.overlaps.append((max(start,i),min(end,j)))\n",
    "        self.intervals.append((start,end))\n",
    "        return True"
   ]
  },
  {
   "cell_type": "markdown",
   "metadata": {},
   "source": [
    "# 自身hashtable通过更改value来记录出现频率\n",
    "41. First Missing Positive\n",
    "442. Find All Duplicates in an Array\n",
    "448. Find All Numbers Disappeared in an Array"
   ]
  },
  {
   "cell_type": "code",
   "execution_count": 11,
   "metadata": {},
   "outputs": [
    {
     "name": "stdout",
     "output_type": "stream",
     "text": [
      "8\n"
     ]
    }
   ],
   "source": [
    "# 41. First Missing Positive\n",
    "# 利用%在不改变位置的情况下记录下它的位置，木桶排序的思想，这个方法需要学习，同样情况见下面448题\n",
    "def firstMissingPositive(nums):\n",
    "    \"\"\"\n",
    "    :type nums: List[int]\n",
    "    :rtype: int\n",
    "    \"\"\"\n",
    "    length = len(nums)\n",
    "    for i in range(length):\n",
    "        while nums[i]>=1 and nums[i]<=length and nums[i]!=nums[nums[i]-1]:\n",
    "            temp = nums[nums[i]-1]\n",
    "            nums[nums[i]-1]=nums[i]\n",
    "            nums[i] = temp\n",
    "    for i in range(length):\n",
    "        if nums[i]!=i+1:\n",
    "            return i+1\n",
    "    return length+1\n",
    "\n",
    "def firstMissingPositive(nums):# the ans should be within 1-(n+1)\n",
    "    nums.append(0)\n",
    "    n = len(nums)\n",
    "    for i in range(len(nums)): #delete those useless elements\n",
    "        if nums[i]<0 or nums[i]>=n:\n",
    "            nums[i]=0\n",
    "    for i in range(len(nums)): #use the index as the hash to record the frequency of each number\n",
    "        nums[nums[i]%n-1]+=n #如果有某个值，将这个值以n的形式存入它应该在的位置\n",
    "    for i in range(1,len(nums)):\n",
    "        if nums[i-1]//n==0:\n",
    "            return i\n",
    "    return n\n",
    "\n",
    "print(firstMissingPositive([-3,9,16,4,5,16,6,9,26,2,1,19,-1,25,7,22,2,-7,14,2,5,-6,1,17,3,24,-4,17,15]))"
   ]
  },
  {
   "cell_type": "code",
   "execution_count": 7,
   "metadata": {},
   "outputs": [
    {
     "data": {
      "text/plain": [
       "[2, 3]"
      ]
     },
     "execution_count": 7,
     "metadata": {},
     "output_type": "execute_result"
    }
   ],
   "source": [
    "# 442. Find All Duplicates in an Array，1-n之间的数，有的重复了2次，其余的都是1次，将2次的数打印出来\n",
    "def findDuplicates(nums):\n",
    "    \"\"\"\n",
    "    :type nums: List[int]\n",
    "    :rtype: List[int]\n",
    "    \"\"\"\n",
    "    n = len(nums)\n",
    "    for i in range(n):#将出现过的数对应的位置的对应值全部升高\n",
    "        nums[(nums[i]-1)%(n+1)]+=(n+1)\n",
    "    return [i+1 for i in range(len(nums)) if nums[i]//(n+1)==2]\n",
    "findDuplicates([4,3,2,7,8,2,3,1])"
   ]
  },
  {
   "cell_type": "code",
   "execution_count": 8,
   "metadata": {},
   "outputs": [],
   "source": [
    "# 448. Find All Numbers Disappeared in an Array\n",
    "def findDisappearedNumbers(self, nums):\n",
    "    \"\"\"\n",
    "    :type nums: List[int]\n",
    "    :rtype: List[int]\n",
    "    \"\"\"\n",
    "    n = len(nums)\n",
    "    for i in range(n):\n",
    "        nums[(nums[i]-1)%(n+1)] += (n+1)\n",
    "    return [i+1 for i in range(n) if nums[i]<(n+1)]"
   ]
  },
  {
   "cell_type": "code",
   "execution_count": 2,
   "metadata": {},
   "outputs": [
    {
     "data": {
      "text/plain": [
       "[2, 3]"
      ]
     },
     "execution_count": 2,
     "metadata": {},
     "output_type": "execute_result"
    }
   ],
   "source": [
    "# 645. Set Mismatch,1-n的数，有一个重复了一次，有一个没有，找出两者\n",
    "def findErrorNums(nums):\n",
    "    \"\"\"\n",
    "    :type nums: List[int]\n",
    "    :rtype: List[int]\n",
    "    \"\"\"\n",
    "    n = len(nums)\n",
    "    for i in range(n):\n",
    "        nums[(nums[i]-1)%n]+=n\n",
    "    return [i+1 for i in range(n) if nums[i]>2*n]+[i+1 for i in range(n) if nums[i]<=n]\n",
    "findErrorNums([1,2,2])"
   ]
  },
  {
   "cell_type": "markdown",
   "metadata": {},
   "source": [
    "# 桶排序\n",
    "220. Contains Duplicate III"
   ]
  },
  {
   "cell_type": "code",
   "execution_count": 1,
   "metadata": {},
   "outputs": [
    {
     "data": {
      "text/plain": [
       "True"
      ]
     },
     "execution_count": 1,
     "metadata": {},
     "output_type": "execute_result"
    }
   ],
   "source": [
    "# 220. Contains Duplicate III，是否存在距离相隔不到k的两个元素值相差t\n",
    "# 如果两个元素相差最到为t，那么它们要么在一个桶中，要么在相邻桶中\n",
    "# 将数按照长度t+1放在木桶中，如果当前数字的桶有值，或者隔壁桶有值并且满足条件，则为True\n",
    "# 只需要和之前的数比较，所以每一轮都删除k个以前的数\n",
    "def containsNearbyAlmostDuplicate(nums, k, t):\n",
    "    \"\"\"\n",
    "    :type nums: List[int]\n",
    "    :type k: int\n",
    "    :type t: int\n",
    "    :rtype: bool\n",
    "    \"\"\"\n",
    "    if t<0 or k<1:\n",
    "        return False\n",
    "    buckets  = {}\n",
    "    w = t+1\n",
    "    for i in range(len(nums)):\n",
    "        idx = nums[i]//w\n",
    "        if idx in buckets:\n",
    "            return True\n",
    "        elif idx-1 in buckets and abs(buckets[idx-1]-nums[i])<=t:\n",
    "            return True\n",
    "        elif idx+1 in buckets and abs(buckets[idx+1]-nums[i])<=t:\n",
    "            return True\n",
    "        buckets[idx] = nums[i]\n",
    "        if i>=k:\n",
    "            del buckets[nums[i-k]//w]\n",
    "    return False\n",
    "containsNearbyAlmostDuplicate(nums = [1,2,3,1], k = 3, t = 0)"
   ]
  },
  {
   "cell_type": "markdown",
   "metadata": {},
   "source": [
    "# word"
   ]
  },
  {
   "cell_type": "code",
   "execution_count": 2,
   "metadata": {},
   "outputs": [
    {
     "name": "stdout",
     "output_type": "stream",
     "text": [
      "[True, False, False, True, True, False, False, True, False, False]\n"
     ]
    },
    {
     "data": {
      "text/plain": [
       "False"
      ]
     },
     "execution_count": 2,
     "metadata": {},
     "output_type": "execute_result"
    }
   ],
   "source": [
    "# 139. Word Break: 通过wordDict中的词能否构成s，用dfs会超时\n",
    "def wordBreak(s, wordDict):\n",
    "    \"\"\"\n",
    "    :type s: str\n",
    "    :type wordDict: List[str]\n",
    "    :rtype: bool\n",
    "    \"\"\"\n",
    "    length = len(s)\n",
    "    if not wordDict and s:\n",
    "        return False\n",
    "    dp = [False for _ in range(length+1)]\n",
    "    dp[0] = True\n",
    "    minimum = min([len(i) for i in wordDict])\n",
    "    for i in range(minimum,length+1):\n",
    "        for j in wordDict:\n",
    "            if i>=len(j):\n",
    "                dp[i] = dp[i] or (dp[i-len(j)] and s[i-len(j):i]==j)\n",
    "    return dp[-1]\n",
    "wordBreak(s = \"catsandog\", wordDict = [\"cats\", \"dog\", \"sand\", \"and\", \"cat\"])"
   ]
  },
  {
   "cell_type": "code",
   "execution_count": 3,
   "metadata": {},
   "outputs": [],
   "source": [
    "# 140, Word Break2,返回上述路径，但是会遇到无路径的情况下TLE，可以先调取#139题判断其是否可分\n",
    "# 用dp，dp中的每个元素记住之前的路径\n",
    "def wordBreak2(s, wordDict):\n",
    "    if not wordDict and s:\n",
    "        return []\n",
    "    minlength = min(map(len,wordDict))\n",
    "    dp = [[] for _ in range(len(s)+1)]\n",
    "    dp[0] = [\"\"]\n",
    "    for i in range(minlength,len(s)+1):\n",
    "        for word in wordDict:\n",
    "            if len(word)<=i:\n",
    "                if s[i-len(word):i] == word and dp[i-len(word)]:\n",
    "                    temp = [ele+\" \"+word if ele!=\"\" else ele+word for ele in dp[i-len(word)]]\n",
    "                    dp[i]+=temp\n",
    "    return dp[-1]\n",
    "# 也可以用DFS记住路径的方法\n",
    "\n",
    "def wordBreak2(s,wordDict):\n",
    "    if not canBreak(s, wordDict):\n",
    "        return []\n",
    "    length = len(s)\n",
    "    ans = []\n",
    "    def dfs(cur,ans,path):\n",
    "        if cur == length:\n",
    "            ans.append(path[1:])\n",
    "        for word in wordDict:\n",
    "            if len(word)<=length-cur and word==s[cur:cur+len(word)]:\n",
    "                dfs(cur+len(word),ans,path+' '+word)\n",
    "    dfs(0,ans,'')\n",
    "    return ans"
   ]
  },
  {
   "cell_type": "code",
   "execution_count": 5,
   "metadata": {},
   "outputs": [
    {
     "data": {
      "text/plain": [
       "5"
      ]
     },
     "execution_count": 5,
     "metadata": {},
     "output_type": "execute_result"
    }
   ],
   "source": [
    "# 127. Word Ladder, 从beginWord到endWord，通过wordList最少步数，用bfs记录，可以同时统计步数\n",
    "import collections\n",
    "def ladderLength(beginWord, endWord, wordList):\n",
    "    wordList = set(wordList)\n",
    "    queue = collections.deque([[beginWord, 1]])\n",
    "    while queue:\n",
    "        word, length = queue.popleft()\n",
    "        if word == endWord:\n",
    "            return length\n",
    "        for i in range(len(word)):\n",
    "            for c in 'abcdefghijklmnopqrstuvwxyz':\n",
    "                next_word = word[:i] + c + word[i+1:]\n",
    "                if next_word in wordList:\n",
    "                    wordList.remove(next_word)\n",
    "                    queue.append([next_word, length + 1])\n",
    "    return 0\n",
    "ladderLength(beginWord = \"hit\",endWord = \"cog\",wordList = [\"hot\",\"dot\",\"dog\",\"lot\",\"log\",\"cog\"])"
   ]
  },
  {
   "cell_type": "code",
   "execution_count": 12,
   "metadata": {},
   "outputs": [
    {
     "data": {
      "text/plain": [
       "[['hit', 'hot', 'dot', 'dog', 'cog'], ['hit', 'hot', 'lot', 'log', 'cog']]"
      ]
     },
     "execution_count": 12,
     "metadata": {},
     "output_type": "execute_result"
    }
   ],
   "source": [
    "# 126. Word Ladder II,从beginWord到endWord，通过wordList最少步数，用bfs记录，可以同时统计路径\n",
    "def findLadders(beginWord, endWord, wordList):\n",
    "    \"\"\"\n",
    "    :type beginWord: str\n",
    "    :type endWord: str\n",
    "    :type wordList: List[str]\n",
    "    :rtype: List[List[str]]\n",
    "    \"\"\"\n",
    "    if len(beginWord)!=len(endWord):\n",
    "        return 0\n",
    "    wordList = set(wordList)\n",
    "    visited = set()\n",
    "    level = {beginWord:[[beginWord]]}\n",
    "    chars = [chr(i) for i in range(ord('a'),ord('z')+1)]\n",
    "    while level:\n",
    "        if endWord in level:\n",
    "            return level[endWord]\n",
    "        newlevel = dict()\n",
    "        temp = set()\n",
    "        for word in level:\n",
    "            for i in range(len(word)):\n",
    "                for char in chars:\n",
    "                    newword = word[:i]+char+word[i+1:]\n",
    "                    if newword in wordList and newword not in visited:\n",
    "                        if newword not in newlevel:\n",
    "                            newlevel[newword] = []\n",
    "                        newlevel[newword]+=[j+[newword] for j in level[word]]\n",
    "                        temp.add(newword)\n",
    "        visited.update(temp)\n",
    "        level = newlevel\n",
    "    return []\n",
    "findLadders(beginWord = \"hit\",endWord = \"cog\",wordList = [\"hot\",\"dot\",\"dog\",\"lot\",\"log\",\"cog\"])"
   ]
  },
  {
   "cell_type": "code",
   "execution_count": 14,
   "metadata": {},
   "outputs": [],
   "source": [
    "# 472. Concatenated Words,words中由其它单词构成的词\n",
    "# 题目已经说明总共有最多10K左右个单词，总长度不超过600K，说明每个单词长度比较小，在这种情况下，就进行将该单词分割，而不是从已有单词里去找重叠的\n",
    "def findAllConcatenatedWordsInADict(words):\n",
    "    \"\"\"\n",
    "    :type words: List[str]\n",
    "    :rtype: List[str]\n",
    "    \"\"\"\n",
    "    words = set(words)\n",
    "    res = []\n",
    "    def dfs(word):\n",
    "        for i in range(1,len(word)):\n",
    "            prefix = word[:i]\n",
    "            suffix = word[i:]\n",
    "            if prefix in words and suffix in words:\n",
    "                return True\n",
    "            if prefix in words and dfs(suffix):#避免重复\n",
    "                return True\n",
    "        return False\n",
    "\n",
    "    for i in words:\n",
    "        if dfs(i):\n",
    "            res.append(i)\n",
    "\n",
    "    return res"
   ]
  },
  {
   "cell_type": "code",
   "execution_count": 16,
   "metadata": {},
   "outputs": [
    {
     "data": {
      "text/plain": [
       "4"
      ]
     },
     "execution_count": 16,
     "metadata": {},
     "output_type": "execute_result"
    }
   ],
   "source": [
    "# 1048. Longest String Chain,列表里可以构成string chain的最长长度\n",
    "# 每一个元素尝试做减法，如果减后的元素能被找到，则长度+1\n",
    "# 需要从长度由短到长，做排序\n",
    "def longestStrChain(words):\n",
    "    \"\"\"\n",
    "    :type words: List[str]\n",
    "    :rtype: int\n",
    "    \"\"\"\n",
    "    chains = dict()\n",
    "    words = sorted(words,key=len)\n",
    "    for word in words:\n",
    "        temp = 1\n",
    "        for i in range(len(word)):\n",
    "            newword = word[:i]+word[i+1:]\n",
    "            if newword in chains:\n",
    "                temp = max(temp,chains[newword]+1)\n",
    "        chains[word] = temp\n",
    "    return max(chains.values())\n",
    "longestStrChain([\"a\",\"b\",\"ba\",\"bca\",\"bda\",\"bdca\"])"
   ]
  },
  {
   "cell_type": "code",
   "execution_count": 17,
   "metadata": {},
   "outputs": [],
   "source": [
    "#79. Word Search，二维字母图搜索单词\n",
    "def existWord(board, word):\n",
    "    if not board:\n",
    "        return False\n",
    "    directions = [[-1,0],[1,0],[0,-1],[0,1]]\n",
    "    m,n = len(board),len(board[0])\n",
    "\n",
    "    def dfs(i,j,k,visited=set()):\n",
    "        if k==len(word)-1:\n",
    "            return True\n",
    "        k=k+1\n",
    "        for direction in directions:\n",
    "            x,y = i+direction[0],j+direction[1]\n",
    "            if 0<=x<m and 0<=y<n:\n",
    "                if (x,y) not in visited and board[x][y]==word[k]:\n",
    "                    if dfs(x,y,k,visited|{(i,j)}):\n",
    "                        return True\n",
    "        return False\n",
    "\n",
    "    for i in range(m):\n",
    "        for j in range(n):\n",
    "            if board[i][j]==word[0]:\n",
    "                if dfs(i,j,k=0,visited=set()):\n",
    "                    return True\n",
    "    return False"
   ]
  },
  {
   "cell_type": "markdown",
   "metadata": {},
   "source": [
    "# dfs 的嵌套递归"
   ]
  },
  {
   "cell_type": "code",
   "execution_count": 3,
   "metadata": {},
   "outputs": [
    {
     "data": {
      "text/plain": [
       "1"
      ]
     },
     "execution_count": 3,
     "metadata": {},
     "output_type": "execute_result"
    }
   ],
   "source": [
    "# 695. Max Area of Island\n",
    "# DFS利用迭代，边界条件\n",
    "\n",
    "def maxAreaOfIsland(grid):\n",
    "    m, n = len(grid), len(grid[0])\n",
    "\n",
    "    def dfs(i, j):\n",
    "        if 0 <= i < m and 0 <= j < n and grid[i][j]:\n",
    "            grid[i][j] = 0\n",
    "            return 1 + dfs(i - 1, j) + dfs(i, j + 1) + dfs(i + 1, j) + dfs(i, j - 1)\n",
    "        return 0\n",
    "\n",
    "    areas = [dfs(i, j) for i in range(m) for j in range(n) if grid[i][j]]\n",
    "    return max(areas) if areas else 0\n",
    "\n",
    "maxAreaOfIsland([[0,0,1,0,0,1]])"
   ]
  },
  {
   "cell_type": "code",
   "execution_count": null,
   "metadata": {},
   "outputs": [],
   "source": [
    "# 576. Out of Boundary Paths\n",
    "import collections\n",
    "def findPaths(m, n, N, i, j):\n",
    "    \"\"\"\n",
    "    :type m: int\n",
    "    :type n: int\n",
    "    :type N: int\n",
    "    :type i: int\n",
    "    :type j: int\n",
    "    :rtype: int\n",
    "    \"\"\"\n",
    "    directions = [(-1,0),(1,0),(0,-1),(0,1)]\n",
    "    ans = 0\n",
    "    def dfs(x,y,counts,N):\n",
    "        if N==0:\n",
    "            return counts\n",
    "        for direction in directions:\n",
    "            xnew,ynew=x+direction[0],y+direction[1]\n",
    "            if xnew==-1 or xnew==m or ynew==-1 or ynew==n:\n",
    "                counts +=1\n",
    "            else:\n",
    "                counts += dfs(xnew,ynew,0,N-1)\n",
    "        return counts%(10**9 + 7)\n",
    "\n",
    "    return dfs(i,j,ans,N)\n",
    "\n",
    "def findPaths(m,n,N,i,j):\n",
    "    mod = 10**9 + 7\n",
    "    Q = collections.deque([(i,j,0)])\n",
    "    res = 0\n",
    "    while Q:\n",
    "        x,y,step = Q.popleft()\n",
    "        if step > N: break\n",
    "        if 0<=x<m and 0<=y<n:\n",
    "            Q.append((x+1,y,step+1))\n",
    "            Q.append((x-1,y,step+1))\n",
    "            Q.append((x,y+1,step+1))\n",
    "            Q.append((x,y-1,step+1))\n",
    "        else:\n",
    "            res += 1\n",
    "    return res % mod\n",
    "\n",
    "findPaths(m = 10, n =12, N = 30, i = 5, j = 1)"
   ]
  },
  {
   "cell_type": "code",
   "execution_count": 12,
   "metadata": {},
   "outputs": [],
   "source": [
    "class TreeNode(object):\n",
    "    def __init__(self, x):\n",
    "        self.val = x\n",
    "        self.left = None\n",
    "        self.right = None\n",
    "\n",
    "class Solution(object):\n",
    "    def bstFromPreorder(self, preorder):\n",
    "        \"\"\"\n",
    "        :type preorder: List[int]\n",
    "        :rtype: TreeNode\n",
    "        \"\"\"\n",
    "        def binarySearch(nums,left,right,target):\n",
    "            while left<right:\n",
    "                mid  = left+(right-left)//2\n",
    "                print(nums[left])\n",
    "                if nums[mid]<target:\n",
    "                    left = mid+1\n",
    "                else:\n",
    "                    right = mid\n",
    "            return left\n",
    "        \n",
    "        print(preorder)\n",
    "        if len(preorder)==0:\n",
    "            return None\n",
    "        root = TreeNode(preorder[0])\n",
    "        if len(preorder)==1:\n",
    "            return root\n",
    "        index = binarySearch(preorder,1,len(preorder),preorder[0])\n",
    "        root.left = self.bstFromPreorder(preorder[1:index])\n",
    "        root.right = self.bstFromPreorder(preorder[index:])\n",
    "        return root"
   ]
  },
  {
   "cell_type": "code",
   "execution_count": 13,
   "metadata": {},
   "outputs": [
    {
     "name": "stdout",
     "output_type": "stream",
     "text": [
      "[8, 5, 1, 7, 10, 12]\n",
      "5\n",
      "10\n",
      "10\n",
      "[5, 1, 7]\n",
      "1\n",
      "1\n",
      "[1]\n",
      "[7]\n",
      "[10, 12]\n",
      "12\n",
      "[]\n",
      "[12]\n"
     ]
    },
    {
     "data": {
      "text/plain": [
       "<__main__.TreeNode at 0x10e8bb048>"
      ]
     },
     "execution_count": 13,
     "metadata": {},
     "output_type": "execute_result"
    }
   ],
   "source": [
    "sol = Solution()\n",
    "sol.bstFromPreorder([8,5,1,7,10,12])"
   ]
  },
  {
   "cell_type": "code",
   "execution_count": 1,
   "metadata": {},
   "outputs": [
    {
     "data": {
      "text/plain": [
       "4"
      ]
     },
     "execution_count": 1,
     "metadata": {},
     "output_type": "execute_result"
    }
   ],
   "source": [
    "# 1344. Jump Game V, 范围d内可以递减的最大数字,建立dp，每个数在里面dfs，有边界的迭代\n",
    "def maxJumps(arr, d):\n",
    "    \"\"\"\n",
    "    :type arr: List[int]\n",
    "    :type d: int\n",
    "    :rtype: int\n",
    "    \"\"\"\n",
    "    dp = [0 for _ in range(len(arr))]#以index为start的max\n",
    "    def dfs(i):\n",
    "        if dp[i]:\n",
    "            return dp[i]\n",
    "        left,right = i-1,i+1\n",
    "        maximum = 1\n",
    "        while left>=max(0,i-d) and arr[left]<arr[i]:\n",
    "            maximum = max(1+dfs(left),maximum)\n",
    "            left-=1\n",
    "        while right<min(i+d+1,len(arr)) and arr[right]<arr[i]:\n",
    "            maximum = max(1+dfs(right),maximum)\n",
    "            right+=1\n",
    "        dp[i]=maximum\n",
    "        return maximum\n",
    "    for i in range(len(dp)):\n",
    "        dp[i] = dfs(i)\n",
    "    return max(dp)\n",
    "\n",
    "maxJumps(arr = [6,4,14,6,8,13,9,7,10,6,12], d = 2)"
   ]
  },
  {
   "cell_type": "markdown",
   "metadata": {},
   "source": [
    "# Palindrome"
   ]
  },
  {
   "cell_type": "code",
   "execution_count": 2,
   "metadata": {},
   "outputs": [
    {
     "data": {
      "text/plain": [
       "101"
      ]
     },
     "execution_count": 2,
     "metadata": {},
     "output_type": "execute_result"
    }
   ],
   "source": [
    "# 866. Prime Palindrome, 不小于N的为回文数的质数，偶数长度的回文数一定为11的倍数\n",
    "def primePalindrome(N):\n",
    "    \"\"\"\n",
    "    :type N: int\n",
    "    :rtype: int\n",
    "    \"\"\"\n",
    "    def isPrime(num):\n",
    "        for i in range(2,int(num**0.5)+1):\n",
    "            if num%i==0:\n",
    "                return False\n",
    "        return True\n",
    "\n",
    "    if N<2:\n",
    "        return 2\n",
    "    if N>7 and N<=11:\n",
    "        return 11\n",
    "    if len(str(N))%2==0:\n",
    "        N=10**(len(str(N)))+1\n",
    "    for i in range(10**(len(str(N))//2),10**5):\n",
    "        t = str(i)\n",
    "        num = int(t[:-1]+t[-1]+t[:-1][::-1])\n",
    "        if num>=N and isPrime(num):\n",
    "            return num\n",
    "        \n",
    "primePalindrome(12)"
   ]
  },
  {
   "cell_type": "code",
   "execution_count": 10,
   "metadata": {},
   "outputs": [
    {
     "name": "stdout",
     "output_type": "stream",
     "text": [
      "[inf, inf, 2, 2, 2, 2, 2] [2, 2, 3, inf, inf, inf, inf]\n"
     ]
    },
    {
     "data": {
      "text/plain": [
       "4"
      ]
     },
     "execution_count": 10,
     "metadata": {},
     "output_type": "execute_result"
    }
   ],
   "source": [
    "# 和为target的两段subarray长最小值\n",
    "def shortestSubarray(nums,target):\n",
    "    dpfront = [float('inf') for _ in range(len(nums)+1)]# the shortest subarray ending with i\n",
    "    presum = {0:-1}\n",
    "    cursum = 0\n",
    "    for i in range(len(nums)):\n",
    "        cursum+= nums[i]\n",
    "        if cursum-target in presum:\n",
    "            dpfront[i+1] = min(dpfront[i],i-presum[cursum-target])\n",
    "        else:\n",
    "            dpfront[i+1] = dpfront[i]\n",
    "        presum[cursum] = i\n",
    "    dpback = [float('inf') for _ in range(len(nums)+1)]# the shortest subarray starting with i\n",
    "    presum = {0:len(nums)}\n",
    "    cursum = 0\n",
    "    for i in range(len(nums)-1,-1,-1):\n",
    "        if cursum-target in presum:\n",
    "            dpback[i] = min(dpback[i+1],presum[cursum-target]-i)\n",
    "        else:\n",
    "            dpback[i] = dpback[i+1]\n",
    "        presum[cursum] = i\n",
    "        cursum+= nums[i]\n",
    "    \n",
    "    res = float('inf')\n",
    "    for i in range(len(nums)):\n",
    "        res = min(res,dpfront[i+1]+dpback[i])\n",
    "        \n",
    "    print(dpfront,dpback)\n",
    "        \n",
    "    return res\n",
    "\n",
    "shortestSubarray([1, 2, 2, 1, 1, 1], target = 3)    "
   ]
  },
  {
   "cell_type": "code",
   "execution_count": null,
   "metadata": {},
   "outputs": [],
   "source": []
  }
 ],
 "metadata": {
  "kernelspec": {
   "display_name": "Python 3",
   "language": "python",
   "name": "python3"
  },
  "language_info": {
   "codemirror_mode": {
    "name": "ipython",
    "version": 3
   },
   "file_extension": ".py",
   "mimetype": "text/x-python",
   "name": "python",
   "nbconvert_exporter": "python",
   "pygments_lexer": "ipython3",
   "version": "3.7.3"
  }
 },
 "nbformat": 4,
 "nbformat_minor": 2
}
