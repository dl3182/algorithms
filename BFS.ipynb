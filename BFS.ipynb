{
 "cells": [
  {
   "cell_type": "markdown",
   "metadata": {},
   "source": [
    "##  这一部分主要针对求最少步数类的题，每次更新一个level，直到满足要求\n",
    "##### BFS退出条件放在level遍历中，而不是建立新level的过程中，以防止不经过循环的更新\n",
    "##### visited里放的应该是独一无二的状态，不需要跟着level一起走\n",
    "\n",
    "279. Perfect Squares,对于一个数字n，求最少的平方和需要个数\n",
    "286. Walls and Gates，给定二维矩阵更新，有多个起点，同时出发！先被谁碰到就是谁最优\n",
    "301. Remove Invalid Parentheses，对于给定含()和其它字符的字符串，用最少的步数移除不合规的字符\n",
    "419. Battleships in a Board,国际棋盘回到(0,0)所需要的步数\n",
    "773. Sliding Puzzle，\"123450\"的某种排列通过移动变成\"123450\"的最小步数\n",
    "994. Rotting Oranges，给定状态矩形往下遍历\n",
    "\n",
    "909. Snakes and Ladders，从左下角到左上角需要的最小步数，可以往前走1-6步，如果遇到梯子，则划过去，每次最多只划一次\n",
    "1162. As Far from Land as Possible，二维矩阵中距离任何1最远的点的距离，最普通的从所有的1出发不断蔓延，直到没有新的点\n",
    "317. Shortest Distance from All Buildings,2D矩阵中距离所有的1的距离和最小的0，存在block，所以不能够用中位数\n",
    "490. The Maze，从start到destination是否可以到达\n",
    "505. The Maze II，起点到终点走过的最短距离\n",
    "499. The Maze III,从一个点到另一个点的路径，如果有多种，则输出最小的，需要把所有的路径都遍历了才能确定答案\n",
    "752. Open the Lock，从0000到target的最少步数，需要避开deadends\n",
    "1263. Minimum Moves to Move a Box to Their Target Location，将箱子推到指定位置所需要的最小步数\n",
    "1293. Shortest Path in a Grid with Obstacles Elimination,从(0,0)到(m-1,n-1)，可以消除最多K个1的情况下，最少多少步\n",
    "1298. Maximum Candies You Can Get from Boxes，钥匙打开盒子，盒子里可能有钥匙和盒子，求最大积分\n",
    "1345. Jump Game IV,每一步可以跳到左右两边，或者值相同的点\n",
    "1368. Minimum Cost to Make at Least One Valid Path in a Grid,从(0,0)到(-1,-1)需要克服的数目，并不是最少步数\n",
    "815. Bus Routes\n",
    "1210. Minimum Moves to Reach Target with Rotations，依然是一步步往前走\n",
    "854. K-Similar Strings，异构词需要交换的最少次数\n",
    "818. Race Car，可以选择加速或者回头重走，可以不断回头\n",
    "864. Shortest Path to Get All Keys，最少步数拿到所有的钥匙，和迷宫、推箱子有点像"
   ]
  },
  {
   "cell_type": "code",
   "execution_count": 2,
   "metadata": {},
   "outputs": [
    {
     "data": {
      "text/plain": [
       "14"
      ]
     },
     "execution_count": 2,
     "metadata": {},
     "output_type": "execute_result"
    }
   ],
   "source": [
    "# 773. Sliding Puzzle，\"123450\"的某种排列通过移动变成\"123450\"的最小步数\n",
    "# 每次移动将移动之后的情况放入新的一步和\n",
    "def slidingPuzzle(board):\n",
    "    \"\"\"\n",
    "    :type board: List[List[int]]\n",
    "    :rtype: int\n",
    "    \"\"\"\n",
    "    directions = {0:[1,3],1:[0,2,4],2:[1,5],3:[0,4],4:[1,3,5],5:[2,4]}\n",
    "    board = \"\".join([str(i) for i in board[0]+board[1]])\n",
    "    empty = board.index('0')\n",
    "    visited = {board:empty}\n",
    "    level = {board:empty}\n",
    "    step = 0\n",
    "    while True:\n",
    "        if '123450' in level:\n",
    "            return step\n",
    "        if len(level)==0:\n",
    "            return -1\n",
    "        step+=1\n",
    "        newlevel = dict()\n",
    "        for i in level:\n",
    "            pos = level[i]#pos of 0\n",
    "            for newpos in directions[pos]:#new pos to be replaced\n",
    "                if newpos<pos:\n",
    "                    j = i[:newpos]+'0'+i[newpos+1:pos]+i[newpos]+i[pos+1:]\n",
    "                else:\n",
    "                    j = i[:pos]+i[newpos]+i[pos+1:newpos]+'0'+i[newpos+1:]\n",
    "                if j not in visited:\n",
    "                    newlevel[j] = newpos\n",
    "                    visited[j] = newpos\n",
    "        level = newlevel\n",
    "slidingPuzzle(board = [[3,2,4],[1,5,0]])"
   ]
  },
  {
   "cell_type": "code",
   "execution_count": 3,
   "metadata": {},
   "outputs": [
    {
     "data": {
      "text/plain": [
       "['(())']"
      ]
     },
     "execution_count": 3,
     "metadata": {},
     "output_type": "execute_result"
    }
   ],
   "source": [
    "# 301. Remove Invalid Parentheses，对于给定含()和其它字符的字符串，用最少的步数移除不合规的字符\n",
    "# 1. 由于是最少的步数，所以从起初开始，一次次减少，减少到只要有满足要求就输出\n",
    "# 2. 每次减少之后，放在一起，用set不需要区分从何而来\n",
    "\n",
    "\n",
    "def removeInvalidParentheses(s):\n",
    "    \"\"\"\n",
    "    :type s: str\n",
    "    :rtype: List[str]\n",
    "    \"\"\"\n",
    "    def isValid(s):\n",
    "        count = 0\n",
    "        for i in s:\n",
    "            if i=='(':\n",
    "                count+=1\n",
    "            elif i==')':\n",
    "                count-=1\n",
    "                if count<0:\n",
    "                    return False\n",
    "        return count==0\n",
    "\n",
    "    level = {s}\n",
    "    while True:\n",
    "        valid = []\n",
    "        for i in level:\n",
    "            if isValid(i):\n",
    "                valid.append(i)\n",
    "        if len(valid):\n",
    "            return valid\n",
    "\n",
    "        newlevel = set()\n",
    "        for ele in level:\n",
    "            for i in range(len(ele)):\n",
    "                if ele[i] in {'(',')'}:\n",
    "                    newlevel.add(ele[:i]+ele[i+1:])\n",
    "        level = newlevel\n",
    "removeInvalidParentheses(\"(()))\")"
   ]
  },
  {
   "cell_type": "code",
   "execution_count": 4,
   "metadata": {},
   "outputs": [
    {
     "data": {
      "text/plain": [
       "[[3, -1, 0, 1], [2, 2, 1, -1], [1, -1, 2, -1], [0, -1, 3, 4]]"
      ]
     },
     "execution_count": 4,
     "metadata": {},
     "output_type": "execute_result"
    }
   ],
   "source": [
    "# 286. Walls and Gates，给定二维矩阵更新，有多个起点，同时出发！先被谁碰到就是谁最优\n",
    "import collections\n",
    "def wallsAndGates(rooms):\n",
    "    \"\"\"\n",
    "    :type rooms: List[List[int]]\n",
    "    :rtype: void Do not return anything, modify rooms in-place instead.\n",
    "    \"\"\"\n",
    "    if not rooms:\n",
    "        return\n",
    "    \n",
    "    m, n = len(rooms), len(rooms[0])\n",
    "    queue = collections.deque([])\n",
    "    \n",
    "    dirs = ((-1, 0), (1, 0), (0, 1), (0, -1))\n",
    "    \n",
    "    for i in range(m):\n",
    "        for j in range(n):\n",
    "            if rooms[i][j] == 0:\n",
    "                queue.append((i, j))\n",
    "    \n",
    "    dis = 0\n",
    "    while queue:\n",
    "        length = len(queue)\n",
    "        dis += 1\n",
    "        for i in range(length):\n",
    "            cur = queue.popleft()\n",
    "            for dir in dirs:\n",
    "                x,y = (cur[0]+dir[0], cur[1]+dir[1])\n",
    "                if 0<=x<m and 0<=y<n and rooms[x][y] == 2147483647:\n",
    "                    rooms[x][y] = dis\n",
    "                    queue.append((x,y))\n",
    "    return rooms\n",
    "wallsAndGates(\n",
    "[[2147483647,-1,0,2147483647],[2147483647,2147483647,2147483647,-1],[2147483647,-1,2147483647,-1],[0,-1,2147483647,2147483647]])"
   ]
  },
  {
   "cell_type": "code",
   "execution_count": 5,
   "metadata": {},
   "outputs": [
    {
     "data": {
      "text/plain": [
       "4"
      ]
     },
     "execution_count": 5,
     "metadata": {},
     "output_type": "execute_result"
    }
   ],
   "source": [
    "# 279. Perfect Squares,对于一个数字n，求最少的平方和需要个数\n",
    "# 每次将比其小的平方数减去，将剩余值存入新的字典，一旦遇到平方数，则满足要求\n",
    "def numSquares(n):\n",
    "    if n < 2:\n",
    "        return n\n",
    "    lst = []\n",
    "    i = 1\n",
    "    while i * i <= n:#比它小的平方和按照顺序排列\n",
    "        lst.append( i * i )\n",
    "        i += 1\n",
    "    cnt = 0\n",
    "    toCheck = {n}\n",
    "    while toCheck:\n",
    "        cnt += 1\n",
    "        temp = set()\n",
    "        for x in toCheck:\n",
    "            for y in lst:\n",
    "                if x == y:\n",
    "                    return cnt\n",
    "                if x < y:\n",
    "                    break\n",
    "                temp.add(x-y)\n",
    "        toCheck = temp\n",
    "\n",
    "    return cnt\n",
    "numSquares(23)"
   ]
  },
  {
   "cell_type": "code",
   "execution_count": 7,
   "metadata": {},
   "outputs": [
    {
     "data": {
      "text/plain": [
       "4"
      ]
     },
     "execution_count": 7,
     "metadata": {},
     "output_type": "execute_result"
    }
   ],
   "source": [
    "# 994. Rotting Oranges，给定012状态矩阵，2可以让1变成2，求最少全部成为2的时间\n",
    "def orangesRotting(grid):\n",
    "    \"\"\"\n",
    "    :type grid: List[List[int]]\n",
    "    :rtype: int\n",
    "    \"\"\"\n",
    "    if not grid or not grid[0]:\n",
    "        return\n",
    "\n",
    "    directions = [(-1,0),(1,0),(0,-1),(0,1)]\n",
    "    m,n=len(grid),len(grid[0])\n",
    "    rotten = []\n",
    "    fresh = collections.deque()\n",
    "    for i in range(m):\n",
    "        for j in range(n):\n",
    "            if grid[i][j]==2:\n",
    "                rotten.append((i,j))\n",
    "            if grid[i][j]==1:\n",
    "                fresh.append((i,j))#或者不需要fresh字典，只需要知道fresh个数，每次把新rotten的数值改成2\n",
    "\n",
    "    minutes = 0\n",
    "    while rotten:\n",
    "        newlist = []\n",
    "        for x,y in rotten:\n",
    "            for direction in directions:\n",
    "                xnew,ynew = x+direction[0],y+direction[1]\n",
    "                if 0<=xnew<m and 0<=ynew<n and (xnew,ynew) in fresh:\n",
    "                    newlist.append((xnew,ynew))\n",
    "                    fresh.remove((xnew,ynew))\n",
    "        if  not newlist:\n",
    "            break\n",
    "        minutes +=1\n",
    "        rotten = newlist\n",
    "    if len(fresh):\n",
    "        return -1\n",
    "    else:\n",
    "        return minutes\n",
    "orangesRotting([[2,1,1],[1,1,0],[0,1,1]])"
   ]
  },
  {
   "cell_type": "code",
   "execution_count": 1,
   "metadata": {},
   "outputs": [
    {
     "data": {
      "text/plain": [
       "4"
      ]
     },
     "execution_count": 1,
     "metadata": {},
     "output_type": "execute_result"
    }
   ],
   "source": [
    "# 419. Battleships in a Board,国际棋盘回到(0,0)所需要的步数\n",
    "def minKnightMoves(x, y):\n",
    "    def bfs(x,y):\n",
    "        if x + y == 0:\n",
    "            return 0\n",
    "        elif x + y == 2:\n",
    "            return 2\n",
    "        return min(bfs(abs(x-1),abs(y-2)),bfs(abs(x-2),abs(y-1)))+1\n",
    "    return bfs(abs(x),abs(y))\n",
    "minKnightMoves(2,2)"
   ]
  },
  {
   "cell_type": "code",
   "execution_count": 1,
   "metadata": {},
   "outputs": [],
   "source": [
    "# 934. Shortest Bridge，两个岛屿之间的最小距离，从一个岛屿出发bfs\n",
    "def shortestBridge(A):\n",
    "    \"\"\"\n",
    "    :type A: List[List[int]]\n",
    "    :rtype: int\n",
    "    \"\"\"\n",
    "    if not A or not A[0]:\n",
    "        return 0\n",
    "    m, n = len(A), len(A[0])\n",
    "\n",
    "    visited = set()\n",
    "    first = set()\n",
    "    second = []\n",
    "\n",
    "    def dfs(i,j,l):\n",
    "        queue = [(i,j)]\n",
    "        while queue:\n",
    "            node = queue.pop()\n",
    "            l.add(node)\n",
    "            visited.add(node)\n",
    "            for dx,dy in [(-1,0),(1,0),(0,1),(0,-1)]:\n",
    "                x,y = node[0]+dx,node[1]+dy\n",
    "                if 0<=x<m and 0<=y<n and A[x][y]:\n",
    "                    A[x][y] = 0\n",
    "                    queue.append((x,y))\n",
    "        return l\n",
    "\n",
    "    for i in range(m):\n",
    "        for j in range(n):\n",
    "            if A[i][j] and not first:\n",
    "                first = dfs(i,j,first)\n",
    "                break\n",
    "\n",
    "    step = 0\n",
    "    while True:\n",
    "        newlevel = set()\n",
    "        for i,j in first:\n",
    "            for dx,dy in [(-1,0),(1,0),(0,1),(0,-1)]:\n",
    "                x,y = i+dx,j+dy\n",
    "                if 0<=x<m and 0<=y<n and (x,y) not in visited:\n",
    "                    if A[x][y]==1:\n",
    "                        return step\n",
    "                    newlevel.add((x,y))\n",
    "                    visited.add((x,y))\n",
    "        first = newlevel\n",
    "        step+=1\n",
    "shortestBridge([[1,1,1,1,1],[1,0,0,0,1],[1,0,1,0,1],[1,0,0,0,1],[1,1,1,1,1]])"
   ]
  },
  {
   "cell_type": "code",
   "execution_count": 49,
   "metadata": {},
   "outputs": [
    {
     "data": {
      "text/plain": [
       "4"
      ]
     },
     "execution_count": 49,
     "metadata": {},
     "output_type": "execute_result"
    }
   ],
   "source": [
    "# 909. Snakes and Ladders, 想清楚题目意思，从左下角到左上角需要的最小步数，可以往前走1-6步，如果遇到梯子，则划过去，每次最多只划一次\n",
    "def snakesAndLadders(board):\n",
    "    \"\"\"\n",
    "    :type board: List[List[int]]\n",
    "    :rtype: int\n",
    "    \"\"\"\n",
    "    if not board or not board[0]:\n",
    "        return 0\n",
    "    N = len(board)\n",
    "    def transform(num):#一个1-N**2的index对应的(i,j)\n",
    "        i = N-1-(num-1)//N\n",
    "        t = (num-1)%N\n",
    "        if ((num-1)//N) %2==0:\n",
    "            j = t\n",
    "        else:\n",
    "            j = N-1-t\n",
    "        return (i,j)\n",
    "    visited = [False for _ in range(N**2)]#visited里放visited过的index\n",
    "    queue = {1}\n",
    "    visited[0]=True\n",
    "    step = 0\n",
    "    while queue:\n",
    "        newqueue = set()\n",
    "        for node in queue:\n",
    "            if node == N**2:\n",
    "                return step\n",
    "            for d in [1,2,3,4,5,6]:\n",
    "                new = node+d\n",
    "                if new<=N**2 and not visited[new-1]:\n",
    "                    x,y = transform(new)\n",
    "                    visited[new-1]=True\n",
    "                    if board[x][y]!=-1:#如果新位置是梯子起点，则到梯子终点去\n",
    "                        new = board[x][y]\n",
    "#                         visited[new-1]=True #只有当前位要visited，新的位置不用管,否则的话新位置的梯子就没法用了\n",
    "                    newqueue.add(new)\n",
    "        step+=1\n",
    "        queue = newqueue\n",
    "    return -1\n",
    "snakesAndLadders([[-1,-1,-1,46,47,-1,-1,-1],[51,-1,-1,63,-1,31,21,-1],[-1,-1,26,-1,-1,38,-1,-1],[-1,-1,11,-1,14,23,56,57],[11,-1,-1,-1,49,36,-1,48],[-1,-1,-1,33,56,-1,57,21],[-1,-1,-1,-1,-1,-1,2,-1],[-1,-1,-1,8,3,-1,6,56]])"
   ]
  },
  {
   "cell_type": "code",
   "execution_count": 51,
   "metadata": {},
   "outputs": [],
   "source": [
    "# 1162. As Far from Land as Possible，二维矩阵中距离任何1最远的点的距离，最普通的从所有的1出发不断蔓延，直到没有新的点\n",
    "def maxDistance(grid):\n",
    "    \"\"\"\n",
    "    :type grid: List[List[int]]\n",
    "    :rtype: int\n",
    "    \"\"\"\n",
    "    if not grid or not grid[0]:\n",
    "        return 0\n",
    "    N = len(grid)\n",
    "    level = set()\n",
    "    for i in range(N):\n",
    "        for j in range(N):\n",
    "            if grid[i][j]:\n",
    "                level.add((i,j))\n",
    "    if len(level)==0 or len(level)==N**2:\n",
    "        return -1\n",
    "    step = 0\n",
    "    while level:\n",
    "        newlevel = set()\n",
    "        for i,j in level:\n",
    "            for dx,dy in [(-1,0),(1,0),(0,-1),(0,1)]:\n",
    "                x,y=i+dx,j+dy\n",
    "                if 0<=x<N and 0<=y<N and not grid[x][y]:\n",
    "                    grid[x][y]=1\n",
    "                    newlevel.add((x,y))\n",
    "        step+=1\n",
    "        level = newlevel\n",
    "    return step-1"
   ]
  },
  {
   "cell_type": "code",
   "execution_count": 3,
   "metadata": {},
   "outputs": [
    {
     "data": {
      "text/plain": [
       "True"
      ]
     },
     "execution_count": 3,
     "metadata": {},
     "output_type": "execute_result"
    }
   ],
   "source": [
    "# 490. The Maze，从start到destination是否可以到达\n",
    "import collections\n",
    "def hasPath(maze, start, destination):\n",
    "    Q = collections.deque([start])\n",
    "    m,n = len(maze),len(maze[0])\n",
    "    dirs = ((0, 1), (0, -1), (1, 0), (-1, 0))\n",
    "\n",
    "    while Q:\n",
    "        # Use Q.pop() as DFS or Q.popleft() with deque from collections library for better performance. Kudos to @whglamrock\n",
    "        i, j = Q.popleft()\n",
    "        maze[i][j] = 2\n",
    "        if i == destination[0] and j == destination[1]:\n",
    "            return True\n",
    "        for x, y in dirs:\n",
    "            row = i + x\n",
    "            col = j + y\n",
    "            while 0 <= row < m and 0 <= col < n and maze[row][col] != 1:#一直往前走，走到1\n",
    "                row += x\n",
    "                col += y\n",
    "            row -= x#再后退一步，这样如果之前走不动，就回去了\n",
    "            col -= y\n",
    "            if maze[row][col] == 0:#如果是一个新的点，就添加\n",
    "                Q.append([row, col])\n",
    "    return False\n",
    "\n",
    "def hasPath(maze, start, destination):\n",
    "    m,n = len(maze),len(maze[0])\n",
    "\n",
    "    def getPos(i,j,x,y):\n",
    "        dx,dy = x-i,y-j\n",
    "        while 0<=x<m and 0<=y<n and maze[x][y]==0:\n",
    "            x,y = x+dx,y+dy\n",
    "        return x-dx,y-dy\n",
    "\n",
    "    level = [(start[0],start[1])]\n",
    "    visited = [[False for _ in range(n)] for _ in range(m)]\n",
    "    visited[start[0]][start[1]]=True\n",
    "    destination = tuple(destination)\n",
    "    while level:\n",
    "        newlevel = []\n",
    "        for i,j in level:\n",
    "            if (i,j) == destination:\n",
    "                return True\n",
    "            for dx,dy in [(-1,0),(1,0),(0,-1),(0,1)]:\n",
    "                x,y = i+dx,j+dy\n",
    "                if 0<=x<m and 0<=y<n and maze[x][y]==0:\n",
    "                    nx,ny = getPos(i,j,x,y)\n",
    "                    if not visited[nx][ny]:\n",
    "                        newlevel.append((nx,ny))\n",
    "                        visited[nx][ny]=True\n",
    "        level = newlevel\n",
    "    return False\n",
    "\n",
    "hasPath([[0,0,1,0,0],[0,0,0,0,0],[0,0,0,1,0],[1,1,0,1,1],[0,0,0,0,0]],[0,4],[4,4])"
   ]
  },
  {
   "cell_type": "code",
   "execution_count": 93,
   "metadata": {},
   "outputs": [
    {
     "data": {
      "text/plain": [
       "12"
      ]
     },
     "execution_count": 93,
     "metadata": {},
     "output_type": "execute_result"
    }
   ],
   "source": [
    "# 505. The Maze II，起点到终点走过的最短距离\n",
    "import collections\n",
    "def shortestDistance(maze, start, destination):\n",
    "    \"\"\"\n",
    "    :type maze: List[List[int]]\n",
    "    :type start: List[int]\n",
    "    :type destination: List[int]\n",
    "    :rtype: int\n",
    "    \"\"\"\n",
    "    m,n=len(maze),len(maze[0])\n",
    "    dist = [[float('inf') for _ in range(n)] for _ in range(m)]#从起点出发到该点的最低距离\n",
    "    dist[start[0]][start[1]]=0\n",
    "    queue = collections.deque([start])\n",
    "    while queue:\n",
    "        i,j = queue.popleft()\n",
    "        for dx,dy in [(-1,0),(1,0),(0,1),(0,-1)]:\n",
    "            x,y=i+dx,j+dy\n",
    "            temp = dist[i][j]\n",
    "            while 0<=x<m and 0<=y<n and maze[x][y]!=1:#一直往前走\n",
    "                x = x+dx\n",
    "                y = y+dy\n",
    "                temp+=1\n",
    "            x = x-dx\n",
    "            y = y-dy\n",
    "            if dist[x][y]>temp:#如果距离变短，则更新并添加入队列\n",
    "                dist[x][y]=temp\n",
    "                queue.append((x,y))\n",
    "    return dist[destination[0]][destination[1]] if dist[destination[0]][destination[1]]!=float('inf') else -1\n",
    "shortestDistance([[0,0,1,0,0],[0,0,0,0,0],[0,0,0,1,0],[1,1,0,1,1],[0,0,0,0,0]],[0,4],[4,4])"
   ]
  },
  {
   "cell_type": "code",
   "execution_count": 92,
   "metadata": {},
   "outputs": [
    {
     "data": {
      "text/plain": [
       "'lul'"
      ]
     },
     "execution_count": 92,
     "metadata": {},
     "output_type": "execute_result"
    }
   ],
   "source": [
    "# 499. The Maze III,从一个点到另一个点的路径，如果有多种，则输出最小的，需要把所有的路径都遍历了才能确定答案\n",
    "def findShortestWay(maze, ball, hole):\n",
    "    \"\"\"\n",
    "    :type maze: List[List[int]]\n",
    "    :type ball: List[int]\n",
    "    :type hole: List[int]\n",
    "    :rtype: str\n",
    "    \"\"\"\n",
    "    m,n=len(maze),len(maze[0])\n",
    "    dist = [[float('inf') for _ in range(n)] for _ in range(m)]\n",
    "    paths = [[\"\" for _ in range(n)] for _ in range(m)]\n",
    "    d = {(-1,0):'u',(1,0):'d',(0,-1):'l',(0,1):'r'}\n",
    "    dist[ball[0]][ball[1]] = 0\n",
    "    queue = collections.deque([ball])\n",
    "    while queue:\n",
    "        i,j = queue.popleft()\n",
    "        for dx,dy in [(-1,0),(1,0),(0,1),(0,-1)]:\n",
    "            x,y=i+dx,j+dy\n",
    "            temp = dist[i][j]\n",
    "            while 0<=x<m and 0<=y<n and maze[x][y]!=1:#一直往前走\n",
    "                temp+=1\n",
    "                if x==hole[0] and y==hole[1] and (dist[x][y]>temp or (dist[x][y]==temp and paths[x][y]>(paths[i][j]+d[(dx,dy)]))):\n",
    "                    # 如果撞到了终点，并且终点需要更新，则更新\n",
    "                    dist[x][y]=temp\n",
    "                    paths[x][y] = paths[i][j]+d[(dx,dy)]\n",
    "                x = x+dx\n",
    "                y = y+dy\n",
    "            x = x-dx\n",
    "            y = y-dy\n",
    "            if dist[x][y]>temp or (dist[x][y]==temp and paths[x][y]>(paths[i][j]+d[(dx,dy)])):#如果距离变短，则更新并添加入队列\n",
    "                dist[x][y]=temp\n",
    "                paths[x][y] = paths[i][j]+d[(dx,dy)]\n",
    "                queue.append((x,y))\n",
    "    return paths[hole[0]][hole[1]] if dist[hole[0]][hole[1]]!=float('inf') else 'impossible'\n",
    "findShortestWay([[0,0,0,0,0],[1,1,0,0,1],[0,0,0,0,0],[0,1,0,0,1],[0,1,0,0,0]],[4,3],[0,0])"
   ]
  },
  {
   "cell_type": "code",
   "execution_count": 12,
   "metadata": {},
   "outputs": [
    {
     "name": "stdout",
     "output_type": "stream",
     "text": [
      "[[inf, 9, inf, 9, inf], [9, 8, 7, 8, 9], [10, 9, inf, 9, 10]]\n"
     ]
    },
    {
     "data": {
      "text/plain": [
       "7"
      ]
     },
     "execution_count": 12,
     "metadata": {},
     "output_type": "execute_result"
    }
   ],
   "source": [
    "# 317. Shortest Distance from All Buildings,2D矩阵中距离所有的1的距离和最小的0，存在block，所以不能够用中位数\n",
    "# 对每一个1开始做BFS，对没有遍历到的点定位INF，因为其不满足条件\n",
    "# 可以不用visited矩阵，将empty值一轮一轮往下减\n",
    "def shortestDistance(grid):\n",
    "    \"\"\"\n",
    "    :type grid: List[List[int]]\n",
    "    :rtype: int\n",
    "    \"\"\"\n",
    "    if not grid or not grid[0]:\n",
    "        return -1\n",
    "    m,n=len(grid),len(grid[0])\n",
    "    dist = [[0 for _ in range(n)] for _ in range(m)]# minimum distance in total\n",
    "    starts = [(i,j) for i in range(m) for j in range(n) if grid[i][j]==1]\n",
    "    for i,j in starts:\n",
    "        queue = [(i,j)]\n",
    "        step=1\n",
    "        visited =  [[False for _ in range(n)] for _ in range(m)]\n",
    "        while queue:\n",
    "            newqueue = []\n",
    "            for i,j in queue:\n",
    "                for dx,dy in [(-1,0),(1,0),(0,-1),(0,1)]:\n",
    "                    x,y=i+dx,j+dy\n",
    "                    if 0<=x<m and 0<=y<n and grid[x][y]==0 and not visited[x][y] and dist[x][y]!=float('inf'):\n",
    "                        visited[x][y]=True\n",
    "                        newqueue.append((x,y))\n",
    "                        dist[x][y]+=step\n",
    "            step+=1\n",
    "            queue = newqueue\n",
    "        for i in range(m):\n",
    "            for j in range(n):\n",
    "                if not visited[i][j]:#每一轮，如果某个点没有遍历到，则为INF\n",
    "                    dist[i][j]=float('inf')\n",
    "    print(dist)\n",
    "    temp = min(min(i) for i in dist)\n",
    "    return temp if temp<float('inf') else -1\n",
    "shortestDistance([[1,0,2,0,1],[0,0,0,0,0],[0,0,1,0,0]])"
   ]
  },
  {
   "cell_type": "code",
   "execution_count": 106,
   "metadata": {},
   "outputs": [
    {
     "data": {
      "text/plain": [
       "4"
      ]
     },
     "execution_count": 106,
     "metadata": {},
     "output_type": "execute_result"
    }
   ],
   "source": [
    "# 752. Open the Lock，从0000到target的最少步数，需要避开deadends\n",
    "def openLock(deadends, target):\n",
    "    \"\"\"\n",
    "    :type deadends: List[str]\n",
    "    :type target: str\n",
    "    :rtype: int\n",
    "    \"\"\"\n",
    "    deadends = set(deadends)\n",
    "    if '0000' in deadends:\n",
    "        return -1\n",
    "\n",
    "    def change(state):#state能够到达的新状态\n",
    "        res = set()\n",
    "        for i in range(len(state)):\n",
    "            res.add(state[:i]+str((int(state[i]) - 1) % 10)+state[i+1:])\n",
    "            res.add(state[:i]+str((int(state[i]) + 1) % 10)+state[i+1:])\n",
    "        return res\n",
    "\n",
    "    visited = {'0000'}\n",
    "    queue = {'0000'}\n",
    "    step = 0    \n",
    "    while queue:\n",
    "        newqueue = set()\n",
    "        for state in queue:\n",
    "            if state==target:\n",
    "                return step\n",
    "            newstate = change(state)\n",
    "            for i in newstate:\n",
    "                if i not in deadends and i not in visited:\n",
    "                    newqueue.add(i)\n",
    "                    visited.add(i)\n",
    "        step+=1\n",
    "        queue = newqueue\n",
    "    return -1\n",
    "openLock(deadends = [\"2222\"], target = \"1111\")"
   ]
  },
  {
   "cell_type": "code",
   "execution_count": 43,
   "metadata": {},
   "outputs": [
    {
     "data": {
      "text/plain": [
       "24"
      ]
     },
     "execution_count": 43,
     "metadata": {},
     "output_type": "execute_result"
    }
   ],
   "source": [
    "# 1293. Shortest Path in a Grid with Obstacles Elimination,从(0,0)到(m-1,n-1)，可以消除最多K个1的情况下，最少多少步\n",
    "# 用BFS，visited统计到某步所需要消除的obstacles，如果再次遇到这一步，所需的obstacles要多于它，那么就跳过（要的steps更多，消除的obstacles更多）\n",
    "def shortestPath(grid, k):\n",
    "    \"\"\"\n",
    "    :type grid: List[List[int]]\n",
    "    :type k: int\n",
    "    :rtype: int\n",
    "    \"\"\"\n",
    "    m,n=len(grid),len(grid[0])\n",
    "    visited = {(0,0):0}\n",
    "    queue = [(0,0,0)]\n",
    "    step = 0\n",
    "    while queue:\n",
    "        newqueue = []\n",
    "        for i,j,l in queue:\n",
    "            if i==m-1 and j==n-1:\n",
    "                return step\n",
    "            for dx,dy in [(-1,0),(1,0),(0,1),(0,-1)]:\n",
    "                x,y=i+dx,j+dy\n",
    "                if 0<=x<m and 0<=y<n:\n",
    "                    if (x,y) in visited and visited[(x,y)]<=l:#如果(x,y)到达过，并且还大于存储的消除数，跳过\n",
    "                        continue\n",
    "                    # 那么需要统计的，要么之前没有到达过，要么消除数更少\n",
    "                    if grid[x][y]==1 and l<k:\n",
    "                        newqueue.append((x,y,l+1))\n",
    "                        visited[(x,y)] = l+1\n",
    "                    elif grid[x][y]==0:\n",
    "                        newqueue.append((x,y,l))\n",
    "                        visited[(x,y)]=l\n",
    "        step+=1\n",
    "        queue = newqueue\n",
    "    return -1\n",
    "\n",
    "import collections\n",
    "def shortestPath(grid, k):\n",
    "    \"\"\"\n",
    "    :type grid: List[List[int]]\n",
    "    :type k: int\n",
    "    :rtype: int\n",
    "    \"\"\"\n",
    "    m,n = len(grid),len(grid[0])\n",
    "    queue = collections.deque([(0,0,k,0)])#row,col,obstacles,steps\n",
    "    visited = {(0,0):k}\n",
    "    while queue:\n",
    "        i,j,obs,step = queue.popleft()\n",
    "        if i==m-1 and j==n-1:\n",
    "            return step\n",
    "        for dx,dy in [(-1,0),(1,0),(0,-1),(0,1)]:\n",
    "            x,y = i+dx,j+dy\n",
    "            if 0<=x<m and 0<=y<n:\n",
    "                if (x,y) not in visited:\n",
    "                    if grid[x][y]==0:\n",
    "                        queue.append((x,y,obs,step+1))\n",
    "                        visited[(x,y)] = obs\n",
    "                    elif grid[x][y]==1 and obs>0:\n",
    "                        queue.append((x,y,obs-1,step+1))\n",
    "                        visited[(x,y)] = obs-1\n",
    "                else:\n",
    "                    if grid[x][y]==0 and visited[(x,y)]<obs:\n",
    "                        queue.append((x,y,obs,step+1))\n",
    "                        visited[(x,y)] = obs\n",
    "                    elif grid[x][y]==1 and visited[(x,y)]<obs-1:\n",
    "                        queue.append((x,y,obs-1,step+1))\n",
    "                        visited[(x,y)] = obs-1\n",
    "    return -1\n",
    "shortestPath([[0,0,1,0,0,0,0,1,0,1,1,0,0,1,1],[0,0,0,1,1,0,0,1,1,0,1,0,0,0,1],[1,1,0,0,0,0,0,1,0,1,0,0,1,0,0],[1,0,1,1,1,1,0,0,1,1,0,1,0,0,1],[1,0,0,0,1,1,0,1,1,0,0,1,1,1,1],[0,0,0,1,1,1,0,1,1,0,0,1,1,1,1],[0,0,0,1,0,1,0,0,0,0,1,1,0,1,1],[1,0,0,1,1,1,1,1,1,0,0,0,1,1,0],[0,0,1,0,0,1,1,1,1,1,0,1,0,0,0],[0,0,0,1,1,0,0,1,1,1,1,1,1,0,0],[0,0,0,0,1,1,1,0,0,1,1,1,0,1,0]],27)"
   ]
  },
  {
   "cell_type": "code",
   "execution_count": 2,
   "metadata": {},
   "outputs": [
    {
     "data": {
      "text/plain": [
       "7"
      ]
     },
     "execution_count": 2,
     "metadata": {},
     "output_type": "execute_result"
    }
   ],
   "source": [
    "# 1298. Maximum Candies You Can Get from Boxes，钥匙打开盒子，盒子里可能有钥匙和盒子，求最大积分\n",
    "import collections\n",
    "def maxCandies(status, candies, keys, containedBoxes, initialBoxes):\n",
    "    \"\"\"\n",
    "    :type status: List[int]\n",
    "    :type candies: List[int]\n",
    "    :type keys: List[List[int]]\n",
    "    :type containedBoxes: List[List[int]]\n",
    "    :type initialBoxes: List[int]\n",
    "    :rtype: int\n",
    "    \"\"\"\n",
    "    curkeys = set()#目前有的keys\n",
    "    curbox = collections.deque(initialBoxes)#目前有的盒子\n",
    "    curscore = 0\n",
    "    unopen = set()\n",
    "    while curbox:\n",
    "        box = curbox.popleft()\n",
    "        if status[box]:#如果这个盒子是开的，那么对其中的key，将盒子打开；如果有盒子之前没打开，那么添加上去\n",
    "            for key in keys[box]:\n",
    "                status[key] = 1\n",
    "                if key in unopen:#如果有盒子，则打开\n",
    "                    curbox.append(key)\n",
    "                    unopen.remove(key)\n",
    "                else:\n",
    "                    curkeys.add(key)\n",
    "            curkeys.update(keys[box])#将钥匙存起来，没啥用\n",
    "            curscore+=candies[box]\n",
    "            for t in containedBoxes[box]:#对于盒子中的盒子，如果是开着的，就添加，如果是关着的，先放在打不开里面\n",
    "                if status[t]:\n",
    "                    curbox.append(t)\n",
    "                else:\n",
    "                    unopen.add(t)\n",
    "        else:#如果这个盒子是关着的，那么现在打不开，先放着\n",
    "            unopen.add(box)\n",
    "    return curscore\n",
    "\n",
    "maxCandies(status = [1,1,1], candies = [2,3,2], keys = [[],[],[]], containedBoxes = [[],[],[]], initialBoxes = [2,1,0])"
   ]
  },
  {
   "cell_type": "code",
   "execution_count": 123,
   "metadata": {},
   "outputs": [
    {
     "data": {
      "text/plain": [
       "8"
      ]
     },
     "execution_count": 123,
     "metadata": {},
     "output_type": "execute_result"
    }
   ],
   "source": [
    "# 1263. Minimum Moves to Move a Box to Their Target Location，将箱子推到指定位置所需要的最小步数\n",
    "# 每一轮箱子更新到一个位置,同时也要保留player的位置，因为由于player方向问题，可能需要经过走过的位置，更新后的player位置就是之前box位置\n",
    "# 然后每一次判断是否是走得到的\n",
    "def minPushBox(grid):\n",
    "    \"\"\"\n",
    "    :type grid: List[List[str]]\n",
    "    :rtype: int\n",
    "    \"\"\"\n",
    "    directions = [(-1,0),(1,0),(0,-1),(0,1)]\n",
    "    m,n = len(grid),len(grid[0])\n",
    "    \n",
    "    def can_get(cur_b,cur_p,target):#player从cur_p到target，不经过cur_b是否可行\n",
    "        visited = {cur_p}\n",
    "        level = {cur_p}\n",
    "        while level:\n",
    "            newlevel = set()\n",
    "            for i,j in level:\n",
    "                if (i,j)==target:\n",
    "                    return True\n",
    "                for dx,dy in directions:\n",
    "                    x,y = i+dx,j+dy\n",
    "                    if 0<=x<m and 0<=y<n and grid[x][y]!='#' and (x,y)!=cur_b and (x,y) not in visited:\n",
    "                        newlevel.add((x,y))\n",
    "                        visited.add((x,y))\n",
    "            level = newlevel\n",
    "        return False\n",
    "        \n",
    "\n",
    "    for i in range(m):\n",
    "        for j in range(n):\n",
    "            if grid[i][j] == 'S':\n",
    "                player = (i,j)\n",
    "            if grid[i][j] == 'B':\n",
    "                box = (i,j)\n",
    "            if grid[i][j] == 'T':\n",
    "                target = (i,j)\n",
    "                \n",
    "    level,visited = {(box,player)},{(box,player)}# box和player状态\n",
    "    step = 0\n",
    "    while level:\n",
    "        newlevel = set()\n",
    "        for b,p in level:\n",
    "            if b==target:\n",
    "                return step\n",
    "            for dx,dy in directions:\n",
    "                x,y=b[0]+dx,b[1]+dy # new box position\n",
    "                if 0<=x<m and 0<=y<n and grid[x][y]!='#' and can_get(b,p,(b[0]-dx,b[1]-dy)) and ((x,y),b) not in visited:\n",
    "                    newlevel.add(((x,y),b))\n",
    "                    visited.add(((x,y),b))\n",
    "        level = newlevel\n",
    "        step+=1\n",
    "    return -1\n",
    "\n",
    "minPushBox([[\"#\",\".\",\".\",\"#\",\"T\",\"#\",\"#\",\"#\",\"#\"],[\"#\",\".\",\".\",\"#\",\".\",\"#\",\".\",\".\",\"#\"],[\"#\",\".\",\".\",\"#\",\".\",\"#\",\"B\",\".\",\"#\"],[\"#\",\".\",\".\",\".\",\".\",\".\",\".\",\".\",\"#\"],[\"#\",\".\",\".\",\".\",\".\",\"#\",\".\",\"S\",\"#\"],[\"#\",\".\",\".\",\"#\",\".\",\"#\",\"#\",\"#\",\"#\"]])"
   ]
  },
  {
   "cell_type": "code",
   "execution_count": 25,
   "metadata": {},
   "outputs": [],
   "source": [
    "# 1263. Minimum Moves to Move a Box to Their Target Location，考虑自身走的步数，将箱子推到指定位置所需要的最小步数\n",
    "# 牛客网，推箱子，https://www.nowcoder.com/practice/d66a7a8b8e8a4acca7b1e1c8ef476354?tpId=137&rp=1&ru=%2Fta%2Fexam-bytedance&qru=%2Fta%2Fexam-bytedance%2Fquestion-ranking\n",
    "import heapq\n",
    "def minPush(grid):\n",
    "    m,n = len(grid),len(grid[0])\n",
    "    for i in range(m):\n",
    "        for j in range(n):\n",
    "            if grid[i][j]=='S':\n",
    "                player = (i,j)\n",
    "            if grid[i][j]=='B':\n",
    "                box = (i,j)\n",
    "            if grid[i][j]== 'T':\n",
    "                target = (i,j)\n",
    "\n",
    "    def getStep(curbox,curplayer,tar):#从curplayer走到tar，不经过curbox\n",
    "        res = 0\n",
    "        level = {curplayer}\n",
    "        visited = {curplayer}\n",
    "        while level:\n",
    "            newlevel = set()\n",
    "            for i,j in level:\n",
    "                if (i,j)==tar:\n",
    "                    return res\n",
    "                for dx,dy in [(-1,0),(1,0),(0,1),(0,-1)]:\n",
    "                    x,y = i+dx,j+dy\n",
    "                    if 0<=x<m and 0<=y<n and grid[x][y]!='#' and (x,y)!=curbox and (x,y) not in visited:\n",
    "                        visited.add((x,y))\n",
    "                        newlevel.add((x,y))\n",
    "            level = newlevel\n",
    "            res+=1\n",
    "        return -1\n",
    "\n",
    "    possible = set()#player,box\n",
    "    for dx,dy in [(-1,0),(1,0),(0,1),(0,-1)]:\n",
    "        x,y = target[0]+dx,target[1]+dy\n",
    "        x2,y2 = target[0]+2*dx,target[1]+2*dy\n",
    "        if 0<=x<m and 0<=y<n and 0<=x2<m and 0<=y2<n and grid[x][y]!='#' and grid[x2][y2]!='#':\n",
    "            possible.add(((x2,y2),(x,y)))\n",
    "    if not len(possible):\n",
    "        return -1\n",
    "\n",
    "    heap = [(0,player,box)]\n",
    "    hashtable = {(player,box):0}\n",
    "\n",
    "    while heap:\n",
    "        step,p,b = heapq.heappop(heap)\n",
    "        if b==target:\n",
    "            return step\n",
    "        for dx,dy in [(-1,0),(1,0),(0,1),(0,-1)]:\n",
    "            x,y=b[0]+dx,b[1]+dy#新到的地方\n",
    "            if 0<=x<m and 0<=y< n and grid[x][y]!= '#':\n",
    "                t = getStep(b,p,(b[0]-dx,b[1]-dy))\n",
    "                if t!=-1:\n",
    "                    if (b,(x,y)) in hashtable and hashtable[(b,(x,y))]<=step+t+1:\n",
    "                        continue\n",
    "                    else:\n",
    "                        heapq.heappush(heap,(step+t+1,b,(x,y)))\n",
    "                        hashtable[(b,(x,y))] = step+t+1\n",
    "    return -1\n",
    "minPush(grid = [[\"#\",\"#\",\"#\",\"#\",\"#\",\"#\"],\n",
    "               [\"#\",\"T\",\".\",\".\",\"#\",\"#\"],\n",
    "               [\"#\",\".\",\"#\",\"B\",\".\",\"#\"],\n",
    "               [\"#\",\".\",\".\",\".\",\".\",\"#\"],\n",
    "               [\"#\",\".\",\".\",\".\",\"S\",\"#\"],\n",
    "               [\"#\",\"#\",\"#\",\"#\",\"#\",\"#\"]])"
   ]
  },
  {
   "cell_type": "code",
   "execution_count": 8,
   "metadata": {},
   "outputs": [
    {
     "data": {
      "text/plain": [
       "3"
      ]
     },
     "execution_count": 8,
     "metadata": {},
     "output_type": "execute_result"
    }
   ],
   "source": [
    "# 1345. Jump Game IV,每一步可以跳到左右两边，或者值相同的点\n",
    "def minJumps(arr):\n",
    "    \"\"\"\n",
    "    :type arr: List[int]\n",
    "    :rtype: int\n",
    "    \"\"\"\n",
    "    visited = [False for _ in range(len(arr))]\n",
    "    visited[0]=True\n",
    "    step,length = 0,len(arr)\n",
    "    pos = dict()\n",
    "    for i in range(length):\n",
    "        if arr[i] not in pos:\n",
    "            pos[arr[i]] = set()\n",
    "        pos[arr[i]].add(i)\n",
    "\n",
    "    level = {0}\n",
    "    while length-1 not in level:\n",
    "        newlevel = set()\n",
    "        for i in level:\n",
    "            for j in [i-1,i+1]:\n",
    "                if j>=0 and j<length and not visited[j]:\n",
    "                    newlevel.add(j)\n",
    "                    visited[i]=True\n",
    "            for j in pos[arr[i]]:\n",
    "                if j!=i and not visited[j]:\n",
    "                    visited[j]=True\n",
    "                    if j+1 not in pos[arr[i]] or j-1 not in pos[arr[i]]:#如果一个点与左边右边的值相同，就不要选择\n",
    "                        newlevel.add(j)\n",
    "                \n",
    "        step+=1\n",
    "        level = newlevel\n",
    "    return step\n",
    "minJumps(arr = [11,22,7,7,7,7,7,7,7,22,13])"
   ]
  },
  {
   "cell_type": "code",
   "execution_count": 1,
   "metadata": {},
   "outputs": [],
   "source": [
    "# 1368. Minimum Cost to Make at Least One Valid Path in a Grid,从(0,0)到(-1,-1)需要克服的数目，并不是最少步数\n",
    "# 不同网格之间可以无代价流动，所以每一步都要把蔓延出来的位置全部找出来，这道题有点意思\n",
    "def minCost(grid):\n",
    "    \"\"\"\n",
    "    :type grid: List[List[int]]\n",
    "    :rtype: int\n",
    "    \"\"\"\n",
    "    m,n= len(grid),len(grid[0])\n",
    "    directions = {1:(0,1),2:(0,-1),3:(1,0),4:(-1,0)}\n",
    "    dp = [[float('inf') for _ in range(n)] for _ in range(m)]\n",
    "\n",
    "    def moveWithoutStep(nodes,k):\n",
    "        res = nodes\n",
    "        level = nodes\n",
    "        while level:\n",
    "            newlevel = []\n",
    "            for i,j in level:\n",
    "                dx,dy = directions[grid[i][j]]\n",
    "                x,y=i+dx,j+dy   \n",
    "                if 0<=x<m and 0<=y<n and dp[x][y]==float('inf'):\n",
    "                    dp[x][y] = k\n",
    "                    res.append((x,y))\n",
    "            level = newlevel\n",
    "        return res\n",
    "\n",
    "    step=0\n",
    "    level = moveWithoutStep([(0,0)],step)\n",
    "    while level:\n",
    "        newlevel = []\n",
    "        for i,j in level:\n",
    "            if (i,j)==(m-1,n-1):\n",
    "                return step\n",
    "            for dx,dy in [(-1,0),(1,0),(0,1),(0,-1)]:\n",
    "                x,y=i+dx,j+dy\n",
    "                if 0<=x<m and 0<=y<n and dp[x][y]==float('inf'):\n",
    "                    dp[x][y] = step+1\n",
    "                    newlevel.append((x,y))\n",
    "        level = moveWithoutStep(newlevel,step+1)\n",
    "        step = step+1\n",
    "minCost([[1,1,1,1],[2,2,2,2],[1,1,1,1],[2,2,2,2]])"
   ]
  },
  {
   "cell_type": "code",
   "execution_count": 2,
   "metadata": {},
   "outputs": [
    {
     "data": {
      "text/plain": [
       "2"
      ]
     },
     "execution_count": 2,
     "metadata": {},
     "output_type": "execute_result"
    }
   ],
   "source": [
    "# 815. Bus Routes\n",
    "\n",
    "def numBusesToDestination(routes, S, T):\n",
    "    \"\"\"\n",
    "    :type routes: List[List[int]]\n",
    "    :type S: int\n",
    "    :type T: int\n",
    "    :rtype: int\n",
    "    \"\"\"\n",
    "    if S==T:\n",
    "        return 0\n",
    "    m = len(routes)\n",
    "    buses = [set(i) for i in routes]\n",
    "    level = set()\n",
    "    visited_row = set()\n",
    "    for i in range(m):#第一次能达到的位置\n",
    "        if S in buses[i]:\n",
    "            level = level|buses[i]\n",
    "            visited_row.add(i)\n",
    "\n",
    "    visited = level.copy()\n",
    "    step = 1\n",
    "    while level:\n",
    "        newlevel = set()\n",
    "        if T in level:\n",
    "            return step\n",
    "        for i in range(m):#对于其它车，如果车辆与目前经过的有交集，说明可以搭乘（一定可以有对应路径）\n",
    "            if i not in visited_row and len(buses[i] & level):\n",
    "                visited_row.add(i)\n",
    "                newlevel |= {node for node in buses[i] if node not in visited}\n",
    "                visited.update(buses[i])\n",
    "        step+=1\n",
    "        level = newlevel\n",
    "    return -1\n",
    "\n",
    "import collections\n",
    "def numBusesToDestination(routes, S, T):\n",
    "    \"\"\"\n",
    "    :type routes: List[List[int]]\n",
    "    :type S: int\n",
    "    :type T: int\n",
    "    :rtype: int\n",
    "    \"\"\"\n",
    "    to_routes = collections.defaultdict(set)\n",
    "    for i, route in enumerate(routes):\n",
    "        for j in route:\n",
    "            to_routes[j].add(i)\n",
    "\n",
    "    visited = {S}\n",
    "\n",
    "    level = [(S,0)]\n",
    "    for node,step in level:\n",
    "        if node==T:\n",
    "            return step\n",
    "        for neigh in to_routes[node]:#对于node所在的路线\n",
    "            for newnode in routes[neigh]:\n",
    "                if newnode not in visited:\n",
    "                    level.append((newnode,step+1))\n",
    "                    visited.add(newnode)\n",
    "                routes[neigh] = []\n",
    "    return -1\n",
    "\n",
    "numBusesToDestination(routes = [[1, 2, 7], [3, 6, 7]],S = 1,T = 6)"
   ]
  },
  {
   "cell_type": "code",
   "execution_count": 10,
   "metadata": {},
   "outputs": [
    {
     "data": {
      "text/plain": [
       "11"
      ]
     },
     "execution_count": 10,
     "metadata": {},
     "output_type": "execute_result"
    }
   ],
   "source": [
    "# 1210. Minimum Moves to Reach Target with Rotations，依然是一步步往前走\n",
    "def minimumMoves(grid):\n",
    "    \"\"\"\n",
    "    :type grid: List[List[int]]\n",
    "    :rtype: int\n",
    "    \"\"\"\n",
    "    m = len(grid)\n",
    "    level = [((0,0,0,1),\"H\")]\n",
    "    visited = {(0,0,0,1)}\n",
    "    step = 0\n",
    "\n",
    "    while level:\n",
    "        newlevel = set()\n",
    "        for node,pos in level:\n",
    "            p1i,p1j,p2i,p2j = node\n",
    "            if node == (m-1,m-2,m-1,m-1):\n",
    "                return step\n",
    "            newnodes = []\n",
    "            if pos=='H':\n",
    "                if p2j+1<m and grid[p2i][p2j+1]==0:#向右走\n",
    "                    newnodes.append((p2i,p2j,p2i,p2j+1))\n",
    "                if p1i+1<m and grid[p1i+1][p1j]==0 and grid[p2i+1][p2j]==0:\n",
    "                    newnodes.append((p1i+1,p1j,p2i+1,p2j))#向下走\n",
    "                    newnodes.append((p1i,p1j,p1i+1,p1j))#顺时针旋转\n",
    "            elif pos=='V': \n",
    "                if p2i+1<m and grid[p2i+1][p2j]==0:#向下走\n",
    "                    newnodes.append((p2i,p2j,p2i+1,p2j))\n",
    "                if p1j+1<m and grid[p1i][p1j+1]==0 and grid[p2i][p2j+1]==0:\n",
    "                    newnodes.append((p1i,p1j+1,p2i,p2j+1))#向右走\n",
    "                    newnodes.append((p1i,p1j,p1i,p1j+1))#逆时针旋转\n",
    "            for newnode in newnodes:\n",
    "                if newnode not in visited:\n",
    "                    visited.add(newnode)\n",
    "                    if newnode[0]==newnode[2]:\n",
    "                        newlevel.add((newnode,'H'))\n",
    "                    else:\n",
    "                        newlevel.add((newnode,'V'))\n",
    "        level = newlevel\n",
    "        step+=1\n",
    "    return -1\n",
    "minimumMoves([[0,0,0,0,0,1],[1,1,0,0,1,0],[0,0,0,0,1,1],[0,0,1,0,1,0],[0,1,1,0,0,0],[0,1,1,0,0,0]])"
   ]
  },
  {
   "cell_type": "code",
   "execution_count": 39,
   "metadata": {},
   "outputs": [
    {
     "data": {
      "text/plain": [
       "8"
      ]
     },
     "execution_count": 39,
     "metadata": {},
     "output_type": "execute_result"
    }
   ],
   "source": [
    "# 854. K-Similar Strings，异构词需要交换的最少次数\n",
    "# 每一轮处理一个字符，最多n-1次一定可以完成\n",
    "def kSimilarity(A, B):\n",
    "    \"\"\"\n",
    "    :type A: str\n",
    "    :type B: str\n",
    "    :rtype: int\n",
    "    \"\"\"\n",
    "    visited = {A}\n",
    "    level = {A}\n",
    "    step = 0\n",
    "    while level:\n",
    "        newlevel = set()\n",
    "        for word in level:\n",
    "            if word == B:\n",
    "                return step\n",
    "            for i in range(len(word)):\n",
    "                if word[i]==B[i]:\n",
    "                    continue\n",
    "                for j in range(i+1,len(word)):\n",
    "                    if word[j]==B[i] and word[j]!=B[j]:#交换的字符要求新字符也是不满足的\n",
    "                        newword = word[:i]+word[j]+word[i+1:j]+word[i]+word[j+1:]\n",
    "                        if newword not in visited:\n",
    "                            visited.add(newword)\n",
    "                            newlevel.add(newword)\n",
    "                break\n",
    "        level = newlevel\n",
    "        step+=1\n",
    "kSimilarity(\"abcdeabcdeabcdeabcde\",\"aaaabbbbccccddddeeee\")"
   ]
  },
  {
   "cell_type": "code",
   "execution_count": 55,
   "metadata": {},
   "outputs": [
    {
     "data": {
      "text/plain": [
       "7"
      ]
     },
     "execution_count": 55,
     "metadata": {},
     "output_type": "execute_result"
    }
   ],
   "source": [
    "# 818. Race Car，可以选择加速或者回头重走，可以不断回头\n",
    "\n",
    "def racecar(target):\n",
    "    \"\"\"\n",
    "    :type target: int\n",
    "    :rtype: int\n",
    "    \"\"\"\n",
    "    level = {(0,1)}\n",
    "    visited = {(0,1)}\n",
    "    step = 0\n",
    "\n",
    "    while level:\n",
    "        newlevel = set()\n",
    "        for p,s in level:\n",
    "            if p==target:\n",
    "                return step\n",
    "            for np,ns in [(p+s,2*s),(p,(2*(s>0)-1)*(-1))]:#加速，或者回头\n",
    "                if (np,ns) not in visited and 0<=np<=2*target:#超过2倍target之后，没必要继续加速\n",
    "                    newlevel.add((np,ns))\n",
    "                    visited.add((np,ns))\n",
    "        level = newlevel\n",
    "        step+=1\n",
    "        \n",
    "def racecar(target):\n",
    "    dp = [float('inf') for _ in range(target+1)]\n",
    "    for i in range(1,target+1):\n",
    "        j,m = 1,1#正向加速距离为j，步数为m，反向加速距离为p，步数为q\n",
    "        while j<i:\n",
    "            q,p = 0,0\n",
    "            while p<j:\n",
    "                dp[i] = min(dp[i],m+1+q+1+dp[i-(j-p)])#两次反向+1+1\n",
    "                q = q+1\n",
    "                p = 2*p+1\n",
    "            m = m+1\n",
    "            j = 2*j+1\n",
    "        dp[i] = min(dp[i],m + (0 if i==j else 1+dp[j-i]))\n",
    "    return dp[-1]\n",
    "racecar(10)"
   ]
  },
  {
   "cell_type": "code",
   "execution_count": 1,
   "metadata": {},
   "outputs": [
    {
     "name": "stdout",
     "output_type": "stream",
     "text": [
      "3 5 2\n"
     ]
    },
    {
     "data": {
      "text/plain": [
       "6"
      ]
     },
     "execution_count": 1,
     "metadata": {},
     "output_type": "execute_result"
    }
   ],
   "source": [
    "# 864. Shortest Path to Get All Keys，最少步数拿到所有的钥匙，和迷宫、推箱子有点像\n",
    "import collections\n",
    "def shortestPathAllKeys(grid):\n",
    "    \"\"\"\n",
    "    :type grid: List[str]\n",
    "    :rtype: int\n",
    "    \"\"\"\n",
    "    m,n,target = len(grid),len(grid[0]),0\n",
    "    for i in range(m):\n",
    "        for j in range(n):\n",
    "            if grid[i][j]=='@':\n",
    "                start = (i,j)\n",
    "            if grid[i][j].isalpha() and grid[i][j].islower():\n",
    "                target+=1\n",
    "\n",
    "    queue = collections.deque([[start,0,0]])#start,keys,step\n",
    "    visited = {(start[0],start[1],0)}\n",
    "    while queue:\n",
    "        node,keys,step= queue.popleft()\n",
    "        if keys+1 == 1<<target:\n",
    "            return step\n",
    "        for dx,dy in [(-1,0),(1,0),(0,-1),(0,1)]:\n",
    "            x,y = node[0]+dx,node[1]+dy\n",
    "            if 0<=x<m and 0<=y<n and grid[x][y]!=\"#\":\n",
    "                if grid[x][y].isupper() and (1<<(ord(grid[x][y].lower())-ord('a')))&keys==0:#如果没钥匙\n",
    "                    continue\n",
    "                if grid[x][y].isalpha() and grid[x][y].islower() and keys&1<<(ord(grid[x][y])-ord('a')) ==0:#如果是新钥匙\n",
    "                    newkeys = keys|1<<(ord(grid[x][y])-ord('a'))#这里不能覆盖keys，否则后面会冲突\n",
    "                    visited.add((x,y,newkeys))\n",
    "                    queue.append([(x,y),newkeys,step+1])\n",
    "                elif (x,y,keys) not in visited:#如果是其它\n",
    "                    visited.add((x,y,keys))\n",
    "                    queue.append([(x,y),keys,step+1])\n",
    "    return -1\n",
    "shortestPathAllKeys([\"@..aA\",\"..B#.\",\"....b\"])"
   ]
  },
  {
   "cell_type": "code",
   "execution_count": 6,
   "metadata": {},
   "outputs": [
    {
     "name": "stdout",
     "output_type": "stream",
     "text": [
      "[[[True, True], [True, True], [True, True]], [[False, True], [False, True], [False, True]]]\n"
     ]
    },
    {
     "data": {
      "text/plain": [
       "1"
      ]
     },
     "execution_count": 6,
     "metadata": {},
     "output_type": "execute_result"
    }
   ],
   "source": [
    "# 题目是给一个 m * n 矩阵，binary value, 1是可通行，0代表不可通行。目标是能否找到从 （0，0）到 (m - 1, n - 1) 的路径。\n",
    "# 如果能返回0，不能返回2，如果能改变其中一个cell 能连通(0,0) -> 到 (m-1, n-1)返回1.\n",
    "def canReach(grid):\n",
    "    m,n = len(grid),len(grid[0])\n",
    "    visited = [[[False,False] for _ in range(n)] for _ in range(m)]#不使用消除的情况下visited，使用\n",
    "    \n",
    "    stack = [(0,0,grid[0][0]!=0)]\n",
    "    while stack:\n",
    "        i,j,flag = stack.pop()\n",
    "        if (i,j)==(m-1,n-1):\n",
    "            continue\n",
    "        for dx,dy in [(-1,0),(1,0),(0,1),(0,-1)]:\n",
    "            x,y = i+dx,j+dy\n",
    "            if 0<=x<m and 0<=y<n:\n",
    "                if grid[x][y]==1:#如果当前是阻碍\n",
    "                    if not flag and not visited[x][y][0] and not visited[x][y][1]:\n",
    "                        stack.append((x,y,True))\n",
    "                        visited[x][y][1]=True\n",
    "                else:\n",
    "                    if not flag and not visited[x][y][0]:\n",
    "                        stack.append((x,y,flag))\n",
    "                        visited[x][y][0]=True\n",
    "                    elif flag and not visited[x][y][1]:\n",
    "                        stack.append((x,y,flag))\n",
    "                        visited[x][y][1]=True\n",
    "    print(visited)\n",
    "    if visited[-1][-1][0]:\n",
    "        return 0\n",
    "    elif visited[-1][-1][1]:\n",
    "        return 1\n",
    "    else:\n",
    "        return 2\n",
    "canReach([[0,0,0],[1,1,1]])"
   ]
  },
  {
   "cell_type": "code",
   "execution_count": null,
   "metadata": {},
   "outputs": [],
   "source": []
  }
 ],
 "metadata": {
  "kernelspec": {
   "display_name": "Python 3",
   "language": "python",
   "name": "python3"
  },
  "language_info": {
   "codemirror_mode": {
    "name": "ipython",
    "version": 3
   },
   "file_extension": ".py",
   "mimetype": "text/x-python",
   "name": "python",
   "nbconvert_exporter": "python",
   "pygments_lexer": "ipython3",
   "version": "3.7.3"
  }
 },
 "nbformat": 4,
 "nbformat_minor": 2
}
