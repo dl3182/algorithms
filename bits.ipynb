{
 "cells": [
  {
   "cell_type": "markdown",
   "metadata": {},
   "source": [
    "正数的补码为本身\n",
    "- 按位与&，\n",
    "- 按位或|\n",
    "- 按位异或^，对位相加不进位；**一个整数与自己异或结果是0，与0异或结果是自己，满足交换律，对1异或会取反**\n",
    "    - 如果 a^b = c,则a = b^c\n",
    "- 按位翻转~, -(x+1)\n",
    "\n",
    "技巧\n",
    "1. 针对最后一位\n",
    "    1. 去掉最后一位，相当于x//2, x>>1\n",
    "    2. 最后加一个0，相等于x*2，x<<1；最后加一个1，相当于2x+1, (x<<1)+1\n",
    "    3. 最后一位变成1，x | 1； 最后一位变成0，x | 1 -1\n",
    "2. 针对倒数第k位\n",
    "    1. 右数第k位变成1，x | (1<<(k-1))；右数第k位变成0，x & ~(1<<(k-1))；右数第k位取反，x^(1<<(k-1))\n",
    "    2. 将右边k位都变成1，x|((1<<k)-1)；右边k位都取反，x^((1<<k)-1)\n",
    "    3. 从低到高取第k位，x>>(k-1) & 1；取末k位，x & ((1<<k)-1)\n",
    "3. 连续操作\n",
    "    1. 如果以1结尾，把右边以连续的1结尾变成0，x = x&(x+1)\n",
    "    2. 如果以0结尾，把右边以连续的0结尾变成1，x = x|(x-1)\n",
    "    3. 把右边的第一个1变成0，x = x&(x-1)，连续操作可以一直去掉1\n",
    "    4. 把右边第一个0变成1，x = x|(x+1)\n",
    "4. 计算\n",
    "    1. n+1 : -~n\n",
    "    2. n-1: ~-n\n",
    "    3. 相反数: ~n+1, (n^-1)+1\n",
    "    if(x == a) x = b; if(x == b) x = a; x = a^b^x\n",
    "<https://leetcode.com/problems/sum-of-two-integers/discuss/84278/A-summary%3A-how-to-use-bit-manipulation-to-solve-problems-easily-and-efficiently>\n"
   ]
  },
  {
   "cell_type": "code",
   "execution_count": 16,
   "metadata": {},
   "outputs": [
    {
     "data": {
      "text/plain": [
       "5"
      ]
     },
     "execution_count": 16,
     "metadata": {},
     "output_type": "execute_result"
    }
   ],
   "source": [
    "# 1009. Complement of Base 10 Integer,找补数\n",
    "def findComplement(num):\n",
    "    \"\"\"\n",
    "    :type num: int\n",
    "    :rtype: int\n",
    "    \"\"\"\n",
    "    res = 0\n",
    "    step = 0\n",
    "    while num:\n",
    "        t = 1- num&1\n",
    "        num = num>>1\n",
    "        res = res+ (t<<step)\n",
    "        step+=1    \n",
    "    return res\n",
    "\n",
    "def findComplement(num):\n",
    "    i = 1\n",
    "    while i <= num:#找到与num对应的全部为1的数，对1^0=1, 1^1=0\n",
    "        i = i << 1\n",
    "    return (i - 1) ^ num\n",
    "\n",
    "def bitwiseComplement(N):\n",
    "    \"\"\"\n",
    "    :type N: int\n",
    "    :rtype: int\n",
    "    \"\"\"\n",
    "    x = 1\n",
    "    while x<N:\n",
    "        x = (x<<1)+1\n",
    "    return x^N\n",
    "    \n",
    "findComplement(10)"
   ]
  },
  {
   "cell_type": "code",
   "execution_count": 1,
   "metadata": {},
   "outputs": [
    {
     "data": {
      "text/plain": [
       "2"
      ]
     },
     "execution_count": 1,
     "metadata": {},
     "output_type": "execute_result"
    }
   ],
   "source": [
    "# 191 Number of 1 Bits\n",
    "# n & (n - 1) drops the lowest 1 set bit\n",
    "def hammingWeight(n):\n",
    "    \"\"\"\n",
    "    :type n: int\n",
    "    :rtype: int\n",
    "    \"\"\"\n",
    "    res = 0\n",
    "    while n:\n",
    "        n &= n - 1\n",
    "        res += 1\n",
    "    return res\n",
    "hammingWeight(20)"
   ]
  },
  {
   "cell_type": "code",
   "execution_count": 1,
   "metadata": {},
   "outputs": [
    {
     "data": {
      "text/plain": [
       "6"
      ]
     },
     "execution_count": 1,
     "metadata": {},
     "output_type": "execute_result"
    }
   ],
   "source": [
    "# 477. Total Hamming Distance，任何两个数字之间的Hamming距离之和\n",
    "# 两个数字之间的不同bit个数，对于每个bit，相当于为0的个数*为1的个数，可以不断循环统计每个bit情况，也可以对于每个数字，将bit情况添加到dp中\n",
    "def totalHammingDistance(nums):\n",
    "    \"\"\"\n",
    "    :type nums: List[int]\n",
    "    :rtype: int\n",
    "    \"\"\"\n",
    "    dp = [0 for _ in range(32)]\n",
    "\n",
    "    for num in nums:\n",
    "        index = 0\n",
    "        while num!=0:\n",
    "            dp[index]+=num&1\n",
    "            index+=1\n",
    "            num = num>>1\n",
    "    return sum([(len(nums)-dp[i])*dp[i] for i in range(len(dp))])\n",
    "totalHammingDistance([4,14,2])\n"
   ]
  },
  {
   "cell_type": "code",
   "execution_count": 1,
   "metadata": {},
   "outputs": [],
   "source": [
    "# 231. Power of Two: 判断一个数是2的幂，则这个数大于0，且二进制里只有一个1\n",
    "def isPowerOfTwo(n):\n",
    "    return n > 0 and not (n & n-1)\n",
    "isPowerOfTwo(15)\n",
    "\n",
    "# 342. Power of Four\n",
    "# 判断是2的power，并且1的位置为奇数位上\n",
    "def isPowerOfFour(num):\n",
    "    \"\"\"\n",
    "    :type num: int\n",
    "    :rtype: bool\n",
    "    \"\"\"\n",
    "    if num>0 and num & (num-1)==0 and num &(0x55555555)!=0:\n",
    "        return True\n",
    "    return False"
   ]
  },
  {
   "cell_type": "markdown",
   "metadata": {},
   "source": [
    "## 编码"
   ]
  },
  {
   "cell_type": "code",
   "execution_count": 7,
   "metadata": {},
   "outputs": [],
   "source": [
    "# 169. Majority Element\n",
    "def majorityElement5(nums):\n",
    "    bit = [0]*32\n",
    "    for num in nums:#统计在每个bit下的频次\n",
    "        for j in range(32):\n",
    "            bit[j] += num >> j & 1# 负数存在最高位，&1才能存储\n",
    "    print(bit)\n",
    "    res = 0\n",
    "    for i, val in enumerate(bit):\n",
    "        if val > len(nums)//2:#保留超过一半的频次，除非有最多的数参与，否则不可能\n",
    "            # if the 31th bit if 1, \n",
    "            # it means it's a negative number \n",
    "            if i == 31:\n",
    "                res = -((1<<31)-res)\n",
    "            else:\n",
    "                res |= 1 << i\n",
    "    return res\n",
    "majorityElement5([2,2,1,1,1,2,2])"
   ]
  },
  {
   "cell_type": "code",
   "execution_count": 28,
   "metadata": {},
   "outputs": [
    {
     "data": {
      "text/plain": [
       "['AAAAACCCCC', 'CCCCCAAAAA']"
      ]
     },
     "execution_count": 28,
     "metadata": {},
     "output_type": "execute_result"
    }
   ],
   "source": [
    "# 187. Repeated DNA Sequences\n",
    "def findRepeatedDnaSequences(s):\n",
    "    res = []\n",
    "    dic = {\"A\":1, \"C\":2, \"G\":3, \"T\":0}# A: 01　　C: 10　　G: 11　　T: 00 \n",
    "    dicDNA = {}\n",
    "    num = 1\n",
    "    for i in range(len(s)):\n",
    "        num = (num*4 + dic[s[i]]) & 0XFFFFF # 进行编码，左移2位，然后再加上，最终的10位数将会有20位，FFFFF共20位，删除前面的\n",
    "        if i < 9:\n",
    "            continue\n",
    "        if num not in dicDNA:\n",
    "            dicDNA[num] = 1\n",
    "        elif dicDNA[num] == 1:\n",
    "            res.append(s[i-9:i+1])\n",
    "            dicDNA[num] = 2\n",
    "    return res\n",
    "findRepeatedDnaSequences(s = \"AAAAACCCCCAAAAACCCCCCAAAAAGGGTTT\")"
   ]
  },
  {
   "cell_type": "code",
   "execution_count": 4,
   "metadata": {},
   "outputs": [
    {
     "data": {
      "text/plain": [
       "16"
      ]
     },
     "execution_count": 4,
     "metadata": {},
     "output_type": "execute_result"
    }
   ],
   "source": [
    "# 318. Maximum Product of Word Lengths，无交集的两个word的长度乘积的最大值\n",
    "\n",
    "def maxProduct(words):\n",
    "    \"\"\"\n",
    "    :type words: List[str]\n",
    "    :rtype: int\n",
    "    \"\"\"\n",
    "    dic = dict()\n",
    "    for word in words:#每个字母对应一个位数，这样每个word出现过的对应一个数，两个数&=0则无交集\n",
    "        t =0\n",
    "        for i in word:\n",
    "            t = t|(1<< (ord(i)-ord('a')))\n",
    "        dic[word] = t\n",
    "\n",
    "    return max([len(words[i])*len(words[j]) for i in range(len(words)) for j in range(i+1,len(words))\\\n",
    "                if not (dic[words[i]]&dic[words[j]])]+[0])\n",
    "maxProduct( [\"abcw\",\"baz\",\"foo\",\"bar\",\"xtfn\",\"abcdef\"])"
   ]
  },
  {
   "cell_type": "markdown",
   "metadata": {
    "collapsed": true
   },
   "source": [
    "## 异或的用法"
   ]
  },
  {
   "cell_type": "code",
   "execution_count": 2,
   "metadata": {},
   "outputs": [
    {
     "data": {
      "text/plain": [
       "5"
      ]
     },
     "execution_count": 2,
     "metadata": {},
     "output_type": "execute_result"
    }
   ],
   "source": [
    "# 136. Single Number\n",
    "# 异或运算：一个整数与自己异或结果是0，与0异或结果是自己，满足交换律\n",
    "def singleNumber(nums):\n",
    "    res = 0\n",
    "    for i in nums:\n",
    "        res^=i\n",
    "    return res\n",
    "singleNumber([1,2,3,4,5,4,3,2,1])\n",
    "\n",
    "# 268. Missing Number, 0-n中缺失的数\n",
    "def missingNumber(nums):\n",
    "    \"\"\"\n",
    "    :type nums: List[int]\n",
    "    :rtype: int\n",
    "    \"\"\"\n",
    "    res = 0\n",
    "    for i in range(len(nums)):\n",
    "        res = res^nums[i]\n",
    "        res = res^i\n",
    "    return res^len(nums)"
   ]
  },
  {
   "cell_type": "code",
   "execution_count": 14,
   "metadata": {},
   "outputs": [
    {
     "name": "stdout",
     "output_type": "stream",
     "text": [
      "0b10111\n"
     ]
    },
    {
     "data": {
      "text/plain": [
       "0"
      ]
     },
     "execution_count": 14,
     "metadata": {},
     "output_type": "execute_result"
    }
   ],
   "source": [
    "# 二进制中有奇数个还是偶数个1,偶数个数字1时程序输出0，有奇数个则输出1\n",
    "def hammingWeight_oddeven(n):\n",
    "    print(bin(n))\n",
    "    n = n ^ (n>>1)\n",
    "    n = n ^ (n>>2)\n",
    "    n = n ^ (n>>4)\n",
    "    n = n ^ (n>>8)\n",
    "    n = n ^ (n>>16)\n",
    "    return n & 1\n",
    "hammingWeight_oddeven(23)"
   ]
  },
  {
   "cell_type": "markdown",
   "metadata": {},
   "source": [
    "## 移位 "
   ]
  },
  {
   "cell_type": "code",
   "execution_count": 22,
   "metadata": {},
   "outputs": [
    {
     "data": {
      "text/plain": [
       "120"
      ]
     },
     "execution_count": 22,
     "metadata": {},
     "output_type": "execute_result"
    }
   ],
   "source": [
    "# 201 Bitwise AND of Numbers Range, m-n范围内所有数求bitwise and，实际上是把所有数写出来，找出左边相同的部分，右边不同的部分肯定为0\n",
    "def rangeBitwiseAnd(m, n):\n",
    "    \"\"\"\n",
    "    :type m: int\n",
    "    :type n: int\n",
    "    :rtype: int\n",
    "    \"\"\"\n",
    "    count = 0\n",
    "    while m!=n:# 不断右移，直到相同\n",
    "        m = m >> 1\n",
    "        n = n >> 1\n",
    "        count+=1\n",
    "    return m<<count\n",
    "\n",
    "rangeBitwiseAnd(123,124)"
   ]
  },
  {
   "cell_type": "code",
   "execution_count": 19,
   "metadata": {},
   "outputs": [
    {
     "data": {
      "text/plain": [
       "964176192"
      ]
     },
     "execution_count": 19,
     "metadata": {},
     "output_type": "execute_result"
    }
   ],
   "source": [
    "# 190. Reverse Bits\n",
    "# Just selecting certain bits, abcdefgh -> efghabcd -> ghefcdab -> hgfedcba\n",
    "def reverseBits(n):\n",
    "    # For python, there is no 32bit int, so we need to force it 32 bits.\n",
    "    n = (n >> 16) | (n << 16) & 0xffffffff #右移16位得到前面一部分，左移16位得到后面一部分，然后交换\n",
    "#     n = (n & 0xffff0000)>>16 | (n&0x0000ffff)<<16\n",
    "    n = ((n & 0xff00ff00) >> 8) | ((n & 0x00ff00ff) << 8) & 0xffffffff# ef ab右移8位，gh cd左移8位\n",
    "    n = ((n & 0xf0f0f0f0) >> 4) | ((n & 0x0f0f0f0f) << 4) & 0xffffffff# g e c a 右移4位，h f d b左移4位\n",
    "    n = ((n & 0xcccccccc) >> 2) | ((n & 0x33333333) << 2) & 0xffffffff# 对4位内面进行处理1100右移2位，0011左移2位\n",
    "    n = ((n & 0xaaaaaaaa) >> 1) | ((n & 0x55555555) << 1) & 0xffffffff# 1010右移1位，0101左移1位\n",
    "    return bin(n)\n",
    "\n",
    "def reverseBits(n):\n",
    "    ans = 0\n",
    "    for i in range(32):\n",
    "        ans = (ans << 1) + (n & 1)# ans为n的最后一位，在此情况即为依次取位\n",
    "        n >>= 1# n右移一位\n",
    "    return ans\n",
    "reverseBits(int('00000010100101000001111010011100',2))"
   ]
  },
  {
   "cell_type": "markdown",
   "metadata": {},
   "source": [
    "###  位运算实现四则运算"
   ]
  },
  {
   "cell_type": "code",
   "execution_count": 9,
   "metadata": {},
   "outputs": [],
   "source": [
    "# 371. Sum of Two Integers\n",
    "# a^b，得到每个位数直接相加，不考虑进位,0+0=0,1+1=0,1+0=1\n",
    "# (a&b)只有1&1=1，左移一位表示进位\n",
    "class operators():\n",
    "    def getSum(self,a, b):#求和\n",
    "        \"\"\"\n",
    "        :type a: int\n",
    "        :type b: int\n",
    "        :rtype: int\n",
    "        \"\"\"\n",
    "        MAX_INT = 0x7FFFFFFF\n",
    "        MIN_INT = 0x80000000\n",
    "        MASK = 0x100000000\n",
    "        while b:\n",
    "            a, b = (a ^ b) % MASK, ((a & b) << 1) % MASK\n",
    "        return a if a <= MAX_INT else ~((a % MIN_INT) ^ MAX_INT)\n",
    "    \n",
    "    def getNegative(self,a):#求相反数，~a+1\n",
    "        return self.getSum(~a,1)\n",
    "    \n",
    "#     def isPos(self,a):\n",
    "#         return (a&0xFFFFFFFF) and not(a&0x80000000);\n",
    "    \n",
    "#     def isNeg(self,a):\n",
    "#         return a&(0x80000000)\n",
    "    \n",
    "#     def isZero(self,a):\n",
    "#         return not(a&0xFFFFFFFF)\n",
    "    \n",
    "    def getSubtract(self,a,b):\n",
    "        return self.getSum(a,self.getNegative(b))\n",
    "    \n",
    "    def getMultiple(self,a,b):\n",
    "        ans = 0\n",
    "        while b:\n",
    "            if b&1:# 如果b以1结尾，则加上a\n",
    "                ans = self.getSum(ans,a)\n",
    "            a = a<<1#左移一位以做加法\n",
    "            b = b>>1#b右移一位\n",
    "        return ans\n",
    "    \n",
    "    def getDivision(self,a,b):\n",
    "        if a<0:\n",
    "            a = self.getNegative(a)\n",
    "            if b<0:\n",
    "                b = self.getNegative(b)\n",
    "                sign=1\n",
    "            else:\n",
    "                sign = -1\n",
    "        else:\n",
    "            if b<0:\n",
    "                b = self.getNegative(b)\n",
    "                sign=-1\n",
    "            else:\n",
    "                sign = 1\n",
    "            \n",
    "        ans = 0\n",
    "        for i in range(31,-1,-1):\n",
    "            if (a>>i)>=b:\n",
    "                ans+=(1<<i)\n",
    "                a = a-(b<<i)\n",
    "        if sign==-1:\n",
    "            ans = self.getNegative(ans)\n",
    "        return min(max(-2147483648, ans), 2147483647)\n",
    "    \n",
    "    def getDivision(self,dividend,divisor):\n",
    "        positive = (dividend < 0) is (divisor < 0)\n",
    "        dividend, divisor = abs(dividend), abs(divisor)\n",
    "        res = 0\n",
    "        while dividend >= divisor:\n",
    "            temp, i = divisor, 1\n",
    "            while dividend >= temp:\n",
    "                dividend -= temp\n",
    "                res += i\n",
    "                i <<= 1\n",
    "                temp <<= 1\n",
    "        if not positive:\n",
    "            res = -res\n",
    "        return min(max(-2147483648, res), 2147483647)\n",
    "        \n",
    "    \n",
    "#     def getMultiple(self,a,b):\n",
    "#         if self.isZero(a) or self.isZero(b):\n",
    "#             return 0\n",
    "#         if self.isPos(a) and self.isPos(b):\n",
    "#             return self.getPosMultiple(a,b)\n",
    "#         if self.isNeg(a):\n",
    "#             if self.isNeg(b):\n",
    "#                 return self.getPosMultiple(self.getNegative(a),self.getNegative(b))\n",
    "#             else:\n",
    "#                 return self.getNegative(self.getPosMultiple(self.getNegative(a),b))\n",
    "#         else:\n",
    "#             return self.getNegative(self.getPosMultiple(a,self.getNegative(b)))\n",
    "        \n",
    "    \n",
    "    \n",
    "    \n",
    "    "
   ]
  },
  {
   "cell_type": "code",
   "execution_count": 10,
   "metadata": {},
   "outputs": [],
   "source": [
    "sol = operators()\n",
    "# sol.getMultiple(-5,5)"
   ]
  },
  {
   "cell_type": "code",
   "execution_count": 93,
   "metadata": {},
   "outputs": [
    {
     "data": {
      "text/plain": [
       "0"
      ]
     },
     "execution_count": 93,
     "metadata": {},
     "output_type": "execute_result"
    }
   ],
   "source": [
    "sol.getDivision(-2147483648,-1)"
   ]
  },
  {
   "cell_type": "code",
   "execution_count": 17,
   "metadata": {},
   "outputs": [
    {
     "data": {
      "text/plain": [
       "28"
      ]
     },
     "execution_count": 17,
     "metadata": {},
     "output_type": "execute_result"
    }
   ],
   "source": [
    "# 421. Maximum XOR of Two Numbers in an Array，寻找arr里两个数的异或值的最大值\n",
    "def findMaximumXOR(nums):\n",
    "    \"\"\"\n",
    "    :type nums: List[int]\n",
    "    :rtype: int\n",
    "    \"\"\"\n",
    "    trie = dict()\n",
    "    end = \"#\"\n",
    "    maximum = max(nums)\n",
    "    n = 0\n",
    "    while maximum>0:#最高位\n",
    "        n = n+1\n",
    "        maximum = maximum>>1\n",
    "\n",
    "    for num in nums:#按照从高到低依次进入trie\n",
    "        cur = trie\n",
    "        for count in range(n-1,-1,-1):\n",
    "            digit = num>>count & 1\n",
    "            if digit not in cur:\n",
    "                cur[digit] = dict()\n",
    "            cur = cur[digit]\n",
    "        cur[end] = True\n",
    "\n",
    "    maximum = 0\n",
    "    for num in nums:\n",
    "        cur = trie\n",
    "        curval = 0\n",
    "        for count in range(n-1,-1,-1):#对于每个数字bit，寻找其对应的补码，如果存在，则进入更新，如果不存在，就去另一边\n",
    "            digit = 1- (num>>count & 1)#加减的优先级要高于左右移\n",
    "            if digit in cur:\n",
    "                cur = cur[digit]\n",
    "                curval = curval|1<<count\n",
    "            else:\n",
    "                cur = cur[1-digit]\n",
    "        maximum = max(curval,maximum)\n",
    "    return maximum\n",
    "\n",
    "def findMaximumXOR(nums):\n",
    "    \"\"\"\n",
    "    :type nums: List[int]\n",
    "    :rtype: int\n",
    "    \"\"\"\n",
    "    mx,mask=0,0\n",
    "    for i in range(31,-1,-1):\n",
    "        possible_mx = mx | 1 << i#可能的最大值\n",
    "        mask = mask | 1 << i\n",
    "        bits=set()\n",
    "        for num in nums:#bits里存放的是每个数的前面一部分，后面一部分mask了\n",
    "            bits.add(num & mask)\n",
    "        for bit in bits:#如果存放的这一部分里与可能的最大值的XOR在里面，说明可以找到,a^b = c，说明a^c=b能找到mx\n",
    "            if bit ^ possible_mx in bits:#能找到，更新最大值\n",
    "                mx = possible_mx\n",
    "                break\n",
    "    return mx\n",
    "    \n",
    "findMaximumXOR([3, 10, 5, 25, 2, 8])"
   ]
  },
  {
   "cell_type": "code",
   "execution_count": null,
   "metadata": {},
   "outputs": [],
   "source": []
  }
 ],
 "metadata": {
  "kernelspec": {
   "display_name": "Python 3",
   "language": "python",
   "name": "python3"
  },
  "language_info": {
   "codemirror_mode": {
    "name": "ipython",
    "version": 3
   },
   "file_extension": ".py",
   "mimetype": "text/x-python",
   "name": "python",
   "nbconvert_exporter": "python",
   "pygments_lexer": "ipython3",
   "version": "3.7.3"
  }
 },
 "nbformat": 4,
 "nbformat_minor": 2
}
