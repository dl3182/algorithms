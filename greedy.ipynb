{
 "cells": [
  {
   "cell_type": "markdown",
   "metadata": {},
   "source": [
    "### 局部最优解就等于全局最优解\n",
    "55. Jump Game，问能否到达最后\n",
    "45. Jump Game II,给定nums列表，每个数字为可走的步数，从0出发\n",
    "134. Gas Station，给定gas和cost，每一站可以加油，问应该从哪里出发，对每个点遍历一遍\n",
    "406. Queue Reconstruction by Height，给定身高和前面比他高的人个数，求出顺序，按身高降序，如同一身高则升序，每一个按照所在位置进行插入\n",
    "316. Remove Duplicate Letters，字母排序最小的唯一单词，从小到大，每次尽可能找刚好在后面的位置\n",
    "135. Candy, 给定一个数组，如果该数字大于周边，那么分配的值也要大于周边，最少为1，问最小值，先从左到右分配一遍，再从右到左修正\n",
    "376. Wiggle Subsequence,最长的wiggle subsequence长度，从头开始，尽可能往下找\n",
    "861. Score After Flipping Matrix,如何翻转matrix使得分数最高，首先保证第一列全为1，再每一列尽可能的多得到1\n",
    "1055. Shortest Way to Form String，给定source和target，最少需要多少次source，用其subsequence能构成target\n",
    "330. Patching Array,给定nums列表，添加最少的元素，使得nums里能构成1-n之间的所有数字\n",
    "646. Maximum Length of Pair Chain，给定一个为区间的列表，最长的链长度。先按照区间尾排序，然后从前往后遍历，如新元素的头要比cur大，添加\n",
    "945. Minimum Increment to Make Array Unique\n",
    "870. Advantage Shuffle,将A排序使得大于B的数尽可能多\n",
    "452. Minimum Number of Arrows to Burst Balloons,最小的点的个数使得每个区间都被覆盖到\n",
    "1054. Distant Barcodes,重排数组使得无相邻相同, 和358.621类似\n",
    "358. Rearrange String k Distance Apart\n",
    "621. Task Scheduler"
   ]
  },
  {
   "cell_type": "code",
   "execution_count": 55,
   "metadata": {
    "collapsed": true
   },
   "outputs": [],
   "source": [
    "# 455. Assign Cookies\n",
    "def findContentChildren(g, s):\n",
    "    \"\"\"\n",
    "    :type g: List[int]\n",
    "    :type s: List[int]\n",
    "    :rtype: int\n",
    "    \"\"\"\n",
    "    g.sort()\n",
    "    s.sort()\n",
    "    i=0\n",
    "    j=0\n",
    "    while i <len(g):\n",
    "        task=g[i]\n",
    "        print('before',i,j)\n",
    "        while j<len(s) and task>0:\n",
    "            task=task-s[j]\n",
    "            j=j+1\n",
    "        if task<=0:\n",
    "            i=i+1\n",
    "        print('after',i,j,task)\n",
    "        if j==len(s):\n",
    "            break\n",
    "    return i"
   ]
  },
  {
   "cell_type": "code",
   "execution_count": 8,
   "metadata": {},
   "outputs": [],
   "source": [
    "# 55 Jump Game，问能否到达最后\n",
    "def canJump(nums):\n",
    "    \"\"\"\n",
    "    :type nums: List[int]\n",
    "    :rtype: bool\n",
    "    \"\"\"\n",
    "    right=0\n",
    "    i=0\n",
    "    while i<len(nums)-1 and i<=right:\n",
    "        right=max(right,i+nums[i])\n",
    "        i=i+1\n",
    "        if right>=len(nums)-1:\n",
    "            return True\n",
    "    return False"
   ]
  },
  {
   "cell_type": "code",
   "execution_count": 5,
   "metadata": {},
   "outputs": [],
   "source": [
    "# 45. Jump Game II,给定nums列表，每个数字为可走的步数，从0出发，\n",
    "# 每一步更新能到达的最远距离，然后对当前位置到最远距离中的每一个再遍历，更新最远距离\n",
    "def jump(nums):\n",
    "    \"\"\"\n",
    "    :type nums: List[int]\n",
    "    :rtype: int\n",
    "    \"\"\"\n",
    "    cur = nums[0]\n",
    "    start = 1\n",
    "    step = 1\n",
    "    while cur<len(nums)-1:\n",
    "        temp = cur\n",
    "        for i in range(start,temp+1):\n",
    "            cur = max(cur,i+nums[i])#更新最远距离\n",
    "        start = temp#更新起点\n",
    "        step+=1\n",
    "    return step\n",
    "jump([2,3,1,1,4])\n",
    "\n",
    "\n",
    "# 1326. Minimum Number of Taps to Open to Water a Garden\n",
    "# 1024. Video Stitching，覆盖全空间的最小区间数\n",
    "def minTaps(n, ranges):\n",
    "    \"\"\"\n",
    "    :type n: int\n",
    "    :type ranges: List[int]\n",
    "    :rtype: int\n",
    "    \"\"\"\n",
    "    intervals = []\n",
    "    for i in range(len(ranges)):\n",
    "        intervals.append([max(0,i-ranges[i]),min(n,i+ranges[i])])\n",
    "    intervals.sort(key=lambda x:(x[0],-x[1]))\n",
    "\n",
    "    curmax = 0\n",
    "    index = 0\n",
    "    res = 0\n",
    "    while index<n+1:\n",
    "        if curmax>=n:\n",
    "            return res\n",
    "        if curmax<intervals[index][0]:\n",
    "            return -1\n",
    "        left = index\n",
    "        right = curmax\n",
    "        while left<n+1 and intervals[left][0]<=curmax:\n",
    "            right = max(right,intervals[left][1])#可达到的范围内的max\n",
    "            left+=1\n",
    "        index = left\n",
    "        curmax = right\n",
    "        res+=1\n",
    "    return res\n",
    "\n",
    "def minTaps(n, A):\n",
    "    dp = [0] + [n + 2] * n\n",
    "    for i, x in enumerate(A):\n",
    "        for j in range(max(i - x + 1, 0), min(i + x, n) + 1):\n",
    "            dp[j] = min(dp[j], dp[max(0, i - x)] + 1)\n",
    "    return dp[n] if dp[n] < n + 2 else -1\n"
   ]
  },
  {
   "cell_type": "code",
   "execution_count": 3,
   "metadata": {},
   "outputs": [
    {
     "data": {
      "text/plain": [
       "False"
      ]
     },
     "execution_count": 3,
     "metadata": {},
     "output_type": "execute_result"
    }
   ],
   "source": [
    "# 134. Gas Station，给定gas和cost，每一站可以加油，问应该从哪里出发，对每个点遍历一遍\n",
    "def canCompleteCircuit(gas, cost):\n",
    "    \"\"\"\n",
    "    :type gas: List[int]\n",
    "    :type cost: List[int]\n",
    "    :rtype: int\n",
    "    \"\"\"\n",
    "    def check(self,diff):\n",
    "        s=0\n",
    "        for i in range(len(diff)):\n",
    "            s=s+diff[i]\n",
    "            if s<0:\n",
    "                return False\n",
    "        return True\n",
    "    if sum(gas)<sum(cost):\n",
    "        return False\n",
    "    diff=[gas[i]-cost[i] for i in range(len(gas))]\n",
    "    for i in range(len(diff)):\n",
    "        if self.check(diff[i:]+diff[:i]):\n",
    "            return i\n",
    "    return -1\n",
    "canCompleteCircuit([1,2,3,4,5,2,1,3,6],[3,4,5,1,2,6,2,6,3])"
   ]
  },
  {
   "cell_type": "code",
   "execution_count": 1,
   "metadata": {},
   "outputs": [
    {
     "data": {
      "text/plain": [
       "[[5, 0], [7, 0], [5, 2], [6, 1], [4, 4], [7, 1]]"
      ]
     },
     "execution_count": 1,
     "metadata": {},
     "output_type": "execute_result"
    }
   ],
   "source": [
    "# 406. Queue Reconstruction by Height，给定身高和前面比他高的人个数，求出顺序\n",
    "# 按照身高降序，如果同一身高，则升序\n",
    "# 每一个按照所在的位置进行插入\n",
    "def reconstructQueue(people):\n",
    "    \"\"\"\n",
    "    :type people: List[List[int]]\n",
    "    :rtype: List[List[int]]\n",
    "    \"\"\"\n",
    "    people = sorted(people, key = lambda x: (-x[0], x[1]))\n",
    "    res = []\n",
    "    for p in people:\n",
    "        res.insert(p[1], p)\n",
    "    return res\n",
    "reconstructQueue([[7,0], [4,4], [7,1], [5,0], [6,1], [5,2]])"
   ]
  },
  {
   "cell_type": "code",
   "execution_count": 3,
   "metadata": {},
   "outputs": [
    {
     "name": "stdout",
     "output_type": "stream",
     "text": [
      "{'c': [0, 3, 5, 7], 'b': [1, 6], 'a': [2], 'd': [4]}\n",
      "['a', 'b', 'c', 'd']\n",
      "[]\n",
      "[[2, 'a']]\n",
      "[[2, 'a'], [6, 'b']]\n",
      "[[2, 'a'], [6, 'b'], [7, 'c']]\n"
     ]
    },
    {
     "data": {
      "text/plain": [
       "'adbc'"
      ]
     },
     "execution_count": 3,
     "metadata": {},
     "output_type": "execute_result"
    }
   ],
   "source": [
    "# 316. Remove Duplicate Letters，字母排序最小的唯一单词，从小到大，每次尽可能找刚好在后面的位置\n",
    "def removeDuplicateLetters(s):\n",
    "    \"\"\"\n",
    "    :type s: str\n",
    "    :rtype: str\n",
    "    \"\"\"\n",
    "    pos = dict()\n",
    "    for i in range(len(s)):\n",
    "        if s[i] not in pos:\n",
    "            pos[s[i]] = []\n",
    "        pos[s[i]].append(i)\n",
    "    keys = sorted(list(pos.keys()))\n",
    "    res = []\n",
    "    def binarySearch(nums,target):\n",
    "        left = 0\n",
    "        right = len(nums)\n",
    "        while left<right:\n",
    "            mid = left +(right-left)//2\n",
    "            if nums[mid]<target:\n",
    "                left=mid+1\n",
    "            else:\n",
    "                right = mid\n",
    "        return left\n",
    "    print(pos)\n",
    "    print(keys)\n",
    "    for idx in range(len(keys)):\n",
    "        print(res)\n",
    "        key = keys[idx]\n",
    "        if idx == 0:\n",
    "            res.append([pos[key][0],key])\n",
    "        else:\n",
    "            target = binarySearch(pos[key],res[-1][0])#最后一个字母在新字母中的排序\n",
    "            if target==len(pos[key]):#如果排到了最后，说明新字母在前面，添加最后一个字母\n",
    "                res.append([pos[key][-1],key])\n",
    "            else:#否则添加其后面的字母\n",
    "                res.append([pos[key][target],key])\n",
    "    res = sorted(res,key=lambda x:x[0])\n",
    "    res = [i[1] for i in res]\n",
    "    return \"\".join(res)\n",
    "removeDuplicateLetters(\"cbacdcbc\")"
   ]
  },
  {
   "cell_type": "code",
   "execution_count": 4,
   "metadata": {},
   "outputs": [
    {
     "data": {
      "text/plain": [
       "5"
      ]
     },
     "execution_count": 4,
     "metadata": {},
     "output_type": "execute_result"
    }
   ],
   "source": [
    "# 135. Candy, 给定一个数组，如果该数字大于周边，那么分配的值也要大于周边，最少为1，问最小值\n",
    "# 先从左到右分配一遍，再从右到左修正\n",
    "def candy(ratings):\n",
    "    \"\"\"\n",
    "    :type ratings: List[int]\n",
    "    :rtype: int\n",
    "    \"\"\"\n",
    "    a = [1 for _ in range(len(ratings))]\n",
    "    for i in range(1,len(ratings)):\n",
    "        if ratings[i]>ratings[i-1]:\n",
    "            a[i] = a[i-1]+1\n",
    "    for i in range(len(ratings)-1,0,-1):\n",
    "        if ratings[i]<ratings[i-1] and a[i]>=a[i-1]:\n",
    "            a[i-1]=a[i]+1\n",
    "    return sum(a)\n",
    "candy([1,0,2])"
   ]
  },
  {
   "cell_type": "code",
   "execution_count": 5,
   "metadata": {},
   "outputs": [
    {
     "data": {
      "text/plain": [
       "2"
      ]
     },
     "execution_count": 5,
     "metadata": {},
     "output_type": "execute_result"
    }
   ],
   "source": [
    "# 376. Wiggle Subsequence,最长的wiggle subsequence长度，从头开始，尽可能往下找\n",
    "def wiggleMaxLength(nums):\n",
    "    \"\"\"\n",
    "    :type nums: List[int]\n",
    "    :rtype: int\n",
    "    \"\"\"\n",
    "    if not nums:\n",
    "        return 0\n",
    "    res = 1\n",
    "    cur = nums[0]\n",
    "    flag = 'start'\n",
    "    for i in range(1,len(nums)):\n",
    "        if nums[i]==nums[i-1]:\n",
    "            continue\n",
    "        if nums[i]>cur:\n",
    "            if flag=='decrease' or flag=='start':\n",
    "                res+=1\n",
    "                cur = nums[i]\n",
    "                flag = 'increase'\n",
    "            else:\n",
    "                cur = nums[i]\n",
    "        else:\n",
    "            if flag=='increase' or flag=='start':\n",
    "                res+=1\n",
    "                cur = nums[i]\n",
    "                flag = 'decrease'\n",
    "            else:\n",
    "                cur = nums[i]\n",
    "    return res\n",
    "wiggleMaxLength([1,2,3,4,5,6,7,8,9])"
   ]
  },
  {
   "cell_type": "code",
   "execution_count": 6,
   "metadata": {},
   "outputs": [],
   "source": [
    "# 861. Score After Flipping Matrix,如何翻转matrix使得分数最高，首先保证第一列全为1，再每一列尽可能的多得到1\n",
    "def matrixScore(A):\n",
    "    \"\"\"\n",
    "    :type A: List[List[int]]\n",
    "    :rtype: int\n",
    "    \"\"\"\n",
    "    if not A or not A[0]:\n",
    "        return 0\n",
    "    m,n=len(A),len(A[0])\n",
    "    for i in range(m):\n",
    "        if A[i][0]==0:\n",
    "            for j in range(n):\n",
    "                A[i][j]=1-A[i][j]\n",
    "\n",
    "    res = 0\n",
    "    base = 1\n",
    "    for j in range(n-1,-1,-1):\n",
    "        count = 0\n",
    "        for i in range(m):\n",
    "            if A[i][j]==1:\n",
    "                count+=1\n",
    "        count = max(count,m-count)\n",
    "        res += base*count\n",
    "        base = base*2\n",
    "    return res"
   ]
  },
  {
   "cell_type": "code",
   "execution_count": 8,
   "metadata": {},
   "outputs": [
    {
     "data": {
      "text/plain": [
       "3"
      ]
     },
     "execution_count": 8,
     "metadata": {},
     "output_type": "execute_result"
    }
   ],
   "source": [
    "# 1055. Shortest Way to Form String，给定source和target，最少需要多少次source，用其subsequence能构成target\n",
    "def shortestWay(source, target):\n",
    "    \"\"\"\n",
    "    :type source: str\n",
    "    :type target: str\n",
    "    :rtype: int\n",
    "    \"\"\"\n",
    "    left = 0\n",
    "    right = 0\n",
    "    res = 0\n",
    "    while right<len(target):\n",
    "        res +=1\n",
    "        left = 0\n",
    "        prev = right\n",
    "        while right<len(target) and left<len(source):\n",
    "            if source[left]==target[right]:\n",
    "                right+=1\n",
    "            left += 1\n",
    "        if right== prev:#如果遍历了一次毫无更新，说明遇到了新字符，失败\n",
    "            return -1\n",
    "    return res\n",
    "shortestWay(\"aaaaa\",\"aaaaaaaaaaaaa\")"
   ]
  },
  {
   "cell_type": "code",
   "execution_count": 9,
   "metadata": {},
   "outputs": [
    {
     "data": {
      "text/plain": [
       "2"
      ]
     },
     "execution_count": 9,
     "metadata": {},
     "output_type": "execute_result"
    }
   ],
   "source": [
    "# 330. Patching Array,给定nums列表，添加最少的元素，使得nums里能构成1-n之间的所有数字\n",
    "# reach代表目前能覆盖到的范围是reach-1，如果当前arr里的数比reach小于或等于，那么reach就改成reach+arr[i]\n",
    "# 否则reach由于无法到达，只能加一个数\n",
    "def minPatches(nums, n):\n",
    "    \"\"\"\n",
    "    :type nums: List[int]\n",
    "    :type n: int\n",
    "    :rtype: int\n",
    "    \"\"\"\n",
    "    reach = 1\n",
    "    res = 0\n",
    "    cur = 0\n",
    "    while reach<=n:\n",
    "        if cur<len(nums) and nums[cur]<=reach:\n",
    "            reach = reach+nums[cur]\n",
    "            cur = cur+1\n",
    "        else:\n",
    "            reach = reach+reach\n",
    "            res+=1\n",
    "    return res\n",
    "minPatches(nums = [1,5,10], n = 20)"
   ]
  },
  {
   "cell_type": "code",
   "execution_count": 1,
   "metadata": {},
   "outputs": [
    {
     "data": {
      "text/plain": [
       "2"
      ]
     },
     "execution_count": 1,
     "metadata": {},
     "output_type": "execute_result"
    }
   ],
   "source": [
    "# 646. Maximum Length of Pair Chain，给定一个为区间的列表，最长的链长度\n",
    "# 可以用DP，排序后一个个比较，就像找最长的递增subsequence一样\n",
    "def findLongestChain(pairs):\n",
    "    \"\"\"\n",
    "    :type pairs: List[List[int]]\n",
    "    :rtype: int\n",
    "    \"\"\"\n",
    "    pairs = sorted(pairs,key=lambda x:(x[0],x[1]))\n",
    "    dp = [1 for _ in range(len(pairs))]\n",
    "    for i in range(1,len(pairs)):\n",
    "        temp = 0\n",
    "        for j in range(i):\n",
    "            if pairs[i][0]>pairs[j][1]:\n",
    "                temp = max(dp[j],temp)\n",
    "        dp[i] = temp+1\n",
    "    return max(dp)\n",
    "\n",
    "# greedy,先按照区间尾端排序，然后从前往后遍历，如果新元素的头要比cur大，说明可以添加并更新，否则不可以\n",
    "# 这相当于是找尽可能长的情况\n",
    "def findLongestChain(pairs):\n",
    "    cur, res = float('-inf'), 0\n",
    "    for p in sorted(pairs, key=lambda x: x[1]):\n",
    "        if cur < p[0]: cur, res = p[1], res + 1\n",
    "    return res\n",
    "findLongestChain([[1,2], [2,3], [3,4]])"
   ]
  },
  {
   "cell_type": "code",
   "execution_count": 47,
   "metadata": {},
   "outputs": [
    {
     "data": {
      "text/plain": [
       "2"
      ]
     },
     "execution_count": 47,
     "metadata": {},
     "output_type": "execute_result"
    }
   ],
   "source": [
    "# 945. Minimum Increment to Make Array Unique\n",
    "# 排序以后直接前后比较，如果后面的数不大于前面的数，则说明需要修改\n",
    "# 还有别的复杂度更低的解法\n",
    "def minIncrementForUnique(A):\n",
    "    \"\"\"\n",
    "    :type A: List[int]\n",
    "    :rtype: int\n",
    "    \"\"\"\n",
    "#     if not A:\n",
    "#         return 0\n",
    "    A.sort()\n",
    "    res = 0\n",
    "    for i in range(len(A)-1):\n",
    "        if A[i+1]<=A[i]:\n",
    "            res+=(A[i]+1-A[i+1])\n",
    "            A[i+1] = A[i]+1\n",
    "    return res\n",
    "minIncrementForUnique([1,1,2])"
   ]
  },
  {
   "cell_type": "code",
   "execution_count": 16,
   "metadata": {},
   "outputs": [
    {
     "data": {
      "text/plain": [
       "[24, 32, 8, 12]"
      ]
     },
     "execution_count": 16,
     "metadata": {},
     "output_type": "execute_result"
    }
   ],
   "source": [
    "# 870. Advantage Shuffle,将A排序使得大于B的数尽可能多\n",
    "# 对B进行统计排序，如果B的值比A要大，那么就用A中最小的，否则就用A中最大的\n",
    "def advantageCount(A, B):\n",
    "    \"\"\"\n",
    "    :type A: List[int]\n",
    "    :type B: List[int]\n",
    "    :rtype: List[int]\n",
    "    \"\"\"\n",
    "    A.sort()\n",
    "    arr = dict()\n",
    "    for i in range(len(B)):\n",
    "        if B[i] not in arr:\n",
    "            arr[B[i]] = []\n",
    "        arr[B[i]].append(i)\n",
    "    arr = sorted(arr.items(),key=lambda x:x[0])\n",
    "    arr2 = dict()\n",
    "    left,right = 0,len(A)-1\n",
    "    while arr:\n",
    "        val,idx = arr.pop()#对B中当前最大的数进行处理\n",
    "        arr2[val] = []\n",
    "        while idx:\n",
    "            idx.pop()\n",
    "            if A[right]>val:\n",
    "                arr2[val].append(right)\n",
    "                right-=1\n",
    "            else:\n",
    "                arr2[val].append(left)\n",
    "                left+=1\n",
    "\n",
    "    res = []\n",
    "    for i in B:\n",
    "        res.append(A[arr2[i].pop()])\n",
    "    return res\n",
    "\n",
    "import collections\n",
    "def advantageCount(A, B):\n",
    "    A = sorted(A)\n",
    "    take = collections.defaultdict(list)\n",
    "    for b in sorted(B)[::-1]:\n",
    "        if b < A[-1]: take[b].append(A.pop())\n",
    "    return [(take[b] or A).pop() for b in B]\n",
    "advantageCount(A = [12,24,8,32], B = [13,25,32,11])"
   ]
  },
  {
   "cell_type": "code",
   "execution_count": 21,
   "metadata": {},
   "outputs": [
    {
     "data": {
      "text/plain": [
       "2"
      ]
     },
     "execution_count": 21,
     "metadata": {},
     "output_type": "execute_result"
    }
   ],
   "source": [
    "# 452. Minimum Number of Arrows to Burst Balloons\n",
    "\n",
    "def findMinArrowShots(points):\n",
    "    \"\"\"\n",
    "    :type points: List[List[int]]\n",
    "    :rtype: int\n",
    "    \"\"\"\n",
    "    points = sorted(points,key = lambda x:(x[1],x[0]))\n",
    "    res = 0\n",
    "    while points:\n",
    "        start,end = points.pop()\n",
    "        while points and start<=points[-1][1]<=end:\n",
    "            x,y = points.pop()\n",
    "            start,end = max(start,x),min(end,y)\n",
    "        res+=1\n",
    "    return res\n",
    "findMinArrowShots([[10,16], [2,8], [1,6], [7,12]])"
   ]
  },
  {
   "cell_type": "code",
   "execution_count": 1,
   "metadata": {},
   "outputs": [
    {
     "name": "stdout",
     "output_type": "stream",
     "text": [
      "[3, 3, 2, 2, 1, 1, 1, 1]\n"
     ]
    },
    {
     "data": {
      "text/plain": [
       "'badcbadcbaedca'"
      ]
     },
     "execution_count": 1,
     "metadata": {},
     "output_type": "execute_result"
    }
   ],
   "source": [
    "# 1054. Distant Barcodes,重排数组使得无相邻相同，确认有答案\n",
    "# 和358. Rearrange String k Distance Apart，621. Task Scheduler, 767. Reorganize String类似\n",
    "# heap每次弹出最多的，如果最多的刚刚排了，就再弹一次\n",
    "import heapq\n",
    "import collections\n",
    "def rearrangeBarcodes(barcodes):\n",
    "    \"\"\"\n",
    "    :type barcodes: List[int]\n",
    "    :rtype: List[int]\n",
    "    \"\"\"\n",
    "    counts = collections.Counter(barcodes)\n",
    "    heap = []\n",
    "    for i,j in counts.items():\n",
    "        heapq.heappush(heap,(-j,i))\n",
    "    res = []\n",
    "    while heap:\n",
    "        f1,v1 = heapq.heappop(heap)\n",
    "        if res and v1==res[-1]:\n",
    "            f2,v2 = heapq.heappop(heap)\n",
    "            res.append(v2)\n",
    "            if f2!=-1:\n",
    "                heapq.heappush(heap,(f2+1,v2))\n",
    "            heapq.heappush(heap,(f1,v1))\n",
    "        else:\n",
    "            res.append(v1)\n",
    "            if f1!=-1:\n",
    "                heapq.heappush(heap,(f1+1,v1))\n",
    "    return res\n",
    "\n",
    "def rearrangeBarcodes(barcodes):\n",
    "    cnt = collections.Counter(barcodes).most_common()[::-1]\n",
    "    ref = [val for val, t in cnt for _ in range(t)]\n",
    "    print(ref)\n",
    "    for i in range(0, len(barcodes), 2):#最多的插在偶数位置\n",
    "        barcodes[i] = ref.pop()\n",
    "    for i in range(1, len(barcodes), 2):#另一半插在奇数位置\n",
    "        barcodes[i] = ref.pop()\n",
    "    return barcodes\n",
    "\n",
    "rearrangeBarcodes(barcodes=[1,1,1,1,2,2,3,3])\n",
    "\n",
    "# 621. Task Scheduler\n",
    "# 两种情况：一种是n过大，导致没法排完，中间会出现空格，空格出现的原因是最多的排不完\n",
    "# 一种是n比较小，可以排完，就直接求长度\n",
    "def leastInterval(tasks, n):\n",
    "    \"\"\"\n",
    "    :type tasks: List[str]\n",
    "    :type n: int\n",
    "    :rtype: int\n",
    "    \"\"\"\n",
    "    if not tasks:\n",
    "        return 0\n",
    "    counts = collections.Counter(tasks)\n",
    "    maximum = max(counts.values())#模块数+1\n",
    "    most = list(counts.values()).count(maximum)\n",
    "    res = (n+1)*(maximum-1)+most#模块的长度*模块数+要放在最后面的\n",
    "    return max(res,len(tasks))\n",
    "leastInterval(tasks = [\"A\",\"A\",\"A\",\"B\",\"B\",\"B\"], n = 2)\n",
    "\n",
    "# 358. Rearrange String k Distance Apart,排布string使得同样字符最少相邻k，不要单纯的按count顺序填充\n",
    "import heapq\n",
    "import collections\n",
    "def rearrangeString(s, k):\n",
    "    \"\"\"\n",
    "    :type s: str\n",
    "    :type k: int\n",
    "    :rtype: str\n",
    "    \"\"\"\n",
    "    if k<=1:\n",
    "        return s\n",
    "    counts = collections.Counter(s)\n",
    "    heap = []\n",
    "    for i in counts:\n",
    "        heapq.heappush(heap,(-counts[i],i))\n",
    "    cache = set()\n",
    "    res = []\n",
    "    while heap:\n",
    "        stock = []\n",
    "        while heap and heap[0][1] in cache:\n",
    "            c,v = heapq.heappop(heap)\n",
    "            stock.append((c,v))\n",
    "        if not heap:\n",
    "            return \"\"\n",
    "        c,v=heapq.heappop(heap)\n",
    "        res.append(v)\n",
    "        if c!=-1:\n",
    "            heapq.heappush(heap,(c+1,v))\n",
    "        for i,j in stock:\n",
    "            heapq.heappush(heap,(i,j))\n",
    "        cache.add(res[-1])\n",
    "        if len(res)>=k:\n",
    "            cache.remove(res[-k])\n",
    "    return \"\".join(res)\n",
    "\n",
    "def rearrangeString(s, k):\n",
    "    n = len(s)\n",
    "    if not k: return s\n",
    "    count = collections.Counter(s)\n",
    "    maxf = max(count.values())\n",
    "    if (maxf - 1) * k + list(count.values()).count(maxf) > len(s):\n",
    "        return \"\"\n",
    "    res = list(s)\n",
    "    i = (n - 1) % k\n",
    "    for c in sorted(count, key=lambda i: -count[i]):\n",
    "        for j in range(count[c]):\n",
    "            res[i] = c\n",
    "            i += k\n",
    "            if i >= n:\n",
    "                i = (i - 1) % k\n",
    "    return \"\".join(res)\n",
    "rearrangeString(\"abcdabcdabdeac\",4)"
   ]
  },
  {
   "cell_type": "code",
   "execution_count": 2,
   "metadata": {},
   "outputs": [
    {
     "data": {
      "text/plain": [
       "'cbcabcabcabcabc'"
      ]
     },
     "execution_count": 2,
     "metadata": {},
     "output_type": "execute_result"
    }
   ],
   "source": [
    "# 1405. Longest Happy String,排布abc使得无三个相邻相同\n",
    "import heapq\n",
    "def longestDiverseString(a, b, c):\n",
    "    \"\"\"\n",
    "    :type a: int\n",
    "    :type b: int\n",
    "    :type c: int\n",
    "    :rtype: str\n",
    "    \"\"\"\n",
    "    res = []\n",
    "    heap = []\n",
    "    if a>0:\n",
    "        heapq.heappush(heap,(-a,'a'))\n",
    "    if b>0:\n",
    "        heapq.heappush(heap,(-b,'b'))\n",
    "    if c>0:\n",
    "        heapq.heappush(heap,(-c,'c'))\n",
    "    while heap:\n",
    "        val,ch = heapq.heappop(heap)\n",
    "        if len(res)<=1 or not (res[-1]==res[-2]==ch):\n",
    "            res.append(ch)\n",
    "            if val<-1:\n",
    "                heapq.heappush(heap,(val+1,ch))\n",
    "        else:\n",
    "            if not heap:\n",
    "                break\n",
    "            v2,ch2 = heapq.heappop(heap)\n",
    "            res.append(ch2)\n",
    "            if v2<-1:\n",
    "                heapq.heappush(heap,(v2+1,ch2))\n",
    "            heapq.heappush(heap,(val,ch))\n",
    "    return \"\".join(res)\n",
    "longestDiverseString(4,5,6)"
   ]
  },
  {
   "cell_type": "code",
   "execution_count": 2,
   "metadata": {},
   "outputs": [
    {
     "data": {
      "text/plain": [
       "3"
      ]
     },
     "execution_count": 2,
     "metadata": {},
     "output_type": "execute_result"
    }
   ],
   "source": [
    "# 630. Course Schedule III，给定每门课的持续时间和最晚结束时间，问最多能选几门课\n",
    "# 课程按照结束时间排序，不断添加进去，如果出现了溢出，则将已经添加的最长的课pop出来，相当于其余添加了的课整体往前移动\n",
    "import heapq\n",
    "def scheduleCourse(courses):\n",
    "    \"\"\"\n",
    "    :type courses: List[List[int]]\n",
    "    :rtype: int\n",
    "    \"\"\"\n",
    "    courses.sort(key=lambda x:(x[1],-x[0]))\n",
    "    heap = []\n",
    "    start = 0\n",
    "    for duration,end in courses:\n",
    "        start = start+duration\n",
    "        heapq.heappush(heap,-duration)\n",
    "        while start>end:\n",
    "            t = heapq.heappop(heap)\n",
    "            start = start+t\n",
    "    return len(heap)\n",
    "scheduleCourse([[100, 200], [200, 1300], [1000, 1250], [2000, 3200]])"
   ]
  },
  {
   "cell_type": "code",
   "execution_count": 1,
   "metadata": {},
   "outputs": [
    {
     "data": {
      "text/plain": [
       "2"
      ]
     },
     "execution_count": 1,
     "metadata": {},
     "output_type": "execute_result"
    }
   ],
   "source": [
    "# 948. Bag of Tokens\n",
    "def bagOfTokensScore(tokens, P):\n",
    "    \"\"\"\n",
    "    :type tokens: List[int]\n",
    "    :type P: int\n",
    "    :rtype: int\n",
    "    \"\"\"\n",
    "    # 尽可能的用小的来换成score，用大的来换成power\n",
    "    tokens.sort()\n",
    "    left,right = 0,len(tokens)-1\n",
    "    score = 0\n",
    "    maximum = 0\n",
    "    while left<=right:\n",
    "        if tokens[left]>P and score==0:\n",
    "            return maximum\n",
    "        else:\n",
    "            while left<=right and tokens[left]<=P:#如果左边可以兑换score\n",
    "                score+=1\n",
    "                maximum = max(maximum,score)\n",
    "                P = P-tokens[left]\n",
    "                left+=1\n",
    "            if left<=right:#不能兑换了，如果还可以换power\n",
    "                score-=1\n",
    "                P = P+tokens[right]\n",
    "                right-=1\n",
    "    return maximum\n",
    "\n",
    "import collections\n",
    "def bagOfTokensScore(tokens, P):\n",
    "    res = cur = 0\n",
    "    d = collections.deque(sorted(tokens))\n",
    "    while d and (d[0] <= P or cur):\n",
    "        if d[0] <= P:#这样就可以把两个操作分开，不用担心没有得到局域最大，不需要用while将其跑完，尽可能买，买不了再卖\n",
    "            P -= d.popleft()\n",
    "            cur += 1\n",
    "        else:\n",
    "            P += d.pop()\n",
    "            cur -= 1\n",
    "        res = max(res, cur)\n",
    "    return res\n",
    "bagOfTokensScore(tokens = [100,200,300,400], P = 200)"
   ]
  },
  {
   "cell_type": "code",
   "execution_count": 1,
   "metadata": {},
   "outputs": [
    {
     "data": {
      "text/plain": [
       "4"
      ]
     },
     "execution_count": 1,
     "metadata": {},
     "output_type": "execute_result"
    }
   ],
   "source": [
    "#1247. Minimum Swaps to Make Strings Equal\n",
    "\n",
    "def minimumSwap(s1, s2):\n",
    "    \"\"\"\n",
    "    :type s1: str\n",
    "    :type s2: str\n",
    "    :rtype: int\n",
    "    \"\"\"\n",
    "    counts = dict()\n",
    "    for a,b in zip(s1,s2):\n",
    "        if (a,b)==(\"x\",\"y\"):\n",
    "            counts[\"xy\"] = counts.get(\"xy\",0)+1\n",
    "        elif (a,b) == (\"y\",\"x\"):\n",
    "            counts[\"yx\"] = counts.get(\"yx\",0)+1\n",
    "    res = 0\n",
    "    for key in list(counts.keys()):\n",
    "        res += counts[key]//2\n",
    "        counts[key] = counts[key]%2\n",
    "        if counts[key]==0:\n",
    "            counts.pop(key)\n",
    "    if len(counts)==2:\n",
    "        res+=2\n",
    "    if len(counts)==1:\n",
    "        return -1\n",
    "    return res\n",
    "\n",
    "minimumSwap(s1 = \"xxyyxyxyxx\", s2 = \"xyyxyxxxyx\")"
   ]
  },
  {
   "cell_type": "code",
   "execution_count": 1,
   "metadata": {},
   "outputs": [
    {
     "data": {
      "text/plain": [
       "5"
      ]
     },
     "execution_count": 1,
     "metadata": {},
     "output_type": "execute_result"
    }
   ],
   "source": [
    "#757. Set Intersection Size At Least Two，找出子集，使得每个有序区间与其的交集不少于2个元素\n",
    "\n",
    "# 排序后从前往后\n",
    "\n",
    "def intersectionSizeTwo(intervals):\n",
    "    \"\"\"\n",
    "    :type intervals: List[List[int]]\n",
    "    :rtype: int\n",
    "    \"\"\"\n",
    "    intervals.sort(key=lambda x:(x[1],-x[0]))#end从小到大，start从大到小\n",
    "    res = []#维持一个有序列表\n",
    "    for s,e in intervals:\n",
    "        if not res or res[-1]<s:#如果与前面无交集，则在区间内找最后两个元素\n",
    "            res.append(e-1)\n",
    "            res.append(e)\n",
    "        elif res[-2]<s<=res[-1]:#如果有一个元素的交集，则区间内找最后一个元素\n",
    "            res.append(e)\n",
    "    return len(res)\n",
    "intersectionSizeTwo(intervals = [[1, 2], [2, 3], [2, 4], [4, 5]])"
   ]
  },
  {
   "cell_type": "code",
   "execution_count": 1,
   "metadata": {},
   "outputs": [
    {
     "data": {
      "text/plain": [
       "3"
      ]
     },
     "execution_count": 1,
     "metadata": {},
     "output_type": "execute_result"
    }
   ],
   "source": [
    "# 955. Delete Columns to Make Sorted II，一样长的单词，删除最少的列使得单词表有序\n",
    "# 用level存放比较对象，如果小于后面，说明这一对已经满足了，如果是等于，说明可以放放；\n",
    "# 如果大于的不为空，说明这一列一定要删除，重新比较；如果大于的为空，说明这一列可以包括，只需要考虑那些相等的\n",
    "\n",
    "def minDeletionSize(A):\n",
    "    \"\"\"\n",
    "    :type A: List[str]\n",
    "    :rtype: int\n",
    "    \"\"\"\n",
    "    res = 0\n",
    "    level = list(range(len(A)-1))\n",
    "    for i in range(len(A[0])):\n",
    "        newlevel = []\n",
    "        newlevel2 = []\n",
    "        for t in level:\n",
    "            if A[t][i]>A[t+1][i]:\n",
    "                newlevel.append(t)\n",
    "            elif A[t][i]==A[t+1][i]:\n",
    "                newlevel2.append(t)\n",
    "        if len(newlevel):\n",
    "            res+=1\n",
    "        elif len(newlevel2):\n",
    "            level = newlevel2\n",
    "        else:\n",
    "            return res\n",
    "    return res\n",
    "minDeletionSize([\"zyx\",\"wvu\",\"tsr\"])"
   ]
  },
  {
   "cell_type": "code",
   "execution_count": 20,
   "metadata": {},
   "outputs": [
    {
     "name": "stdout",
     "output_type": "stream",
     "text": [
      "DRRRRDDD 0 0\n",
      "DRRR 0 0\n",
      "DRR 2 0\n"
     ]
    },
    {
     "data": {
      "text/plain": [
       "'Radiant'"
      ]
     },
     "execution_count": 20,
     "metadata": {},
     "output_type": "execute_result"
    }
   ],
   "source": [
    "# 649. Dota2 Senate,两个玩家，如果当前元素还活着，可以去掉后面的一次对方，问最后活下来的\n",
    "def predictPartyVictory(senate):\n",
    "    \"\"\"\n",
    "    :type senate: str\n",
    "    :rtype: str\n",
    "    \"\"\"\n",
    "    if len(set(senate))==1:\n",
    "        return \"Radiant\" if senate[0]=='R' else \"Dire\"\n",
    "    R,D = 0,0\n",
    "    res = \"\"\n",
    "    for s in senate:\n",
    "        if s=='R':\n",
    "            if D>0:#如果D的攻击大于0\n",
    "                D = D-1\n",
    "                continue\n",
    "            else:\n",
    "                R+=1#R的攻击增加1\n",
    "                res+=\"R\"\n",
    "        else:\n",
    "            if R>0:#如果R的攻击大于0\n",
    "                R = R-1\n",
    "                continue\n",
    "            else:\n",
    "                D+=1#D的攻击增加1\n",
    "                res+='D'\n",
    "    print(res,R,D)\n",
    "    newres = \"\"\n",
    "    for i in res:\n",
    "        if i=='R' and D>0:\n",
    "            D-=1\n",
    "        elif i=='D' and R>0:\n",
    "            R-=1\n",
    "        else:\n",
    "            newres += i\n",
    "    return predictPartyVictory(newres)\n",
    "predictPartyVictory(\"DRRDRDRDRDDRDRDR\")"
   ]
  },
  {
   "cell_type": "code",
   "execution_count": 1,
   "metadata": {},
   "outputs": [
    {
     "data": {
      "text/plain": [
       "[0, 0, 1, 0, 1, 0, 1, 1]"
      ]
     },
     "execution_count": 1,
     "metadata": {},
     "output_type": "execute_result"
    }
   ],
   "source": [
    "# 1111. Maximum Nesting Depth of Two Valid Parentheses Strings，将括号分成两个子序列，使得两者的最大深度最小\n",
    "# 从左到右，right肯定不比left大，将right按照left的顺序来分配\n",
    "def maxDepthAfterSplit(seq):\n",
    "    \"\"\"\n",
    "    :type seq: str\n",
    "    :rtype: List[int]\n",
    "    \"\"\"\n",
    "    if len(seq)==0:\n",
    "        return []\n",
    "    res = []\n",
    "    left,right = 0,0\n",
    "    for index,c in enumerate(seq):\n",
    "        if c=='(':\n",
    "            res.append(left%2)\n",
    "            left+=1\n",
    "        else:\n",
    "            res.append(right%2)\n",
    "            right+=1\n",
    "    return res\n",
    "maxDepthAfterSplit(seq = \"()(())()\")"
   ]
  },
  {
   "cell_type": "code",
   "execution_count": 1,
   "metadata": {},
   "outputs": [
    {
     "data": {
      "text/plain": [
       "[1, 6, 7, 8, 9, 5, 4, 2, 3, 0]"
      ]
     },
     "execution_count": 1,
     "metadata": {},
     "output_type": "execute_result"
    }
   ],
   "source": [
    "# LCP 15. 游乐园的迷宫，给定一系列点，然后每次运动的方向左右已经给定，找出点的顺序\n",
    "# 从最左边的点开始，如果下一个方向是L，那么在当前点中找最右边的点，如果下一个方向为R，那么在当前点中找最左边的点\n",
    "def visitOrder(points, direction):\n",
    "    \"\"\"\n",
    "    :type points: List[List[int]]\n",
    "    :type direction: str\n",
    "    :rtype: List[int]\n",
    "    \"\"\"\n",
    "    def isRight(p1,p2,p3):#p3为p1,p2往右走，也就是p3在p1p2右边\n",
    "        x1,y1 = points[p2][0]-points[p1][0],points[p2][1]-points[p1][1]\n",
    "        x2,y2 = points[p3][0]-points[p2][0],points[p3][1]-points[p2][1]\n",
    "        return x1*y2-x2*y1<0\n",
    "\n",
    "    visited = [False for _ in range(len(points))]\n",
    "    start = 0\n",
    "    for index,(x,y) in enumerate(points):\n",
    "        if points[start][0]>x:\n",
    "            start = index\n",
    "    visited[start] = True\n",
    "    res = [start]\n",
    "\n",
    "    for i in range(len(direction)):\n",
    "        for j in range(len(points)):#第一个没有被visit的点\n",
    "            if not visited[j]:\n",
    "                nxt = j\n",
    "                break\n",
    "        for j in range(nxt+1,len(points)):#不断的更新\n",
    "            if not visited[j]:\n",
    "                if (direction[i]=='L' and isRight(start,nxt,j)) or (direction[i]=='R' and not isRight(start,nxt,j)):#如果是L,找最右边的; 如果是R,找最左边的\n",
    "                    nxt = j\n",
    "        visited[nxt] = j\n",
    "        res.append(nxt)\n",
    "        start = nxt#更新当前点\n",
    "\n",
    "    for i in range(len(points)):\n",
    "        if not visited[i]:\n",
    "            res.append(i)\n",
    "    return res\n",
    "\n",
    "visitOrder([[39,79],[9,52],[67,70],[56,65],[43,49],[16,86],[81,3],[43,43],[75,51],[75,85]],\"LRLLLLLR\")"
   ]
  },
  {
   "cell_type": "code",
   "execution_count": 2,
   "metadata": {},
   "outputs": [
    {
     "data": {
      "text/plain": [
       "[2, 1, 4, 3, 6, 5, 8, 7, 9, 10, 13, 12, 11, 14]"
      ]
     },
     "execution_count": 2,
     "metadata": {},
     "output_type": "execute_result"
    }
   ],
   "source": [
    "# 484. Find Permutation,根据上升和下降来找出最小的排列\n",
    "# 先初始化序列，把D的部分翻转，想想逻辑\n",
    "# 尽可能小，所以尽可能保留初始化序列，D的部分是当前能想到的损失最小情况\n",
    "def findPermutation(s):\n",
    "    \"\"\"\n",
    "    :type s: str\n",
    "    :rtype: List[int]\n",
    "    \"\"\"\n",
    "    res = list(range(1,len(s)+2))\n",
    "    left = 0\n",
    "    while left<len(s):\n",
    "        right = left\n",
    "        while right<len(s) and s[right]==\"D\":\n",
    "            right+=1\n",
    "        res[left:right+1] = res[left:right+1][::-1]\n",
    "        left = right+1\n",
    "    return res\n",
    "findPermutation(\"DIDIDIDIIIDDI\")"
   ]
  },
  {
   "cell_type": "code",
   "execution_count": 1,
   "metadata": {},
   "outputs": [
    {
     "data": {
      "text/plain": [
       "True"
      ]
     },
     "execution_count": 1,
     "metadata": {},
     "output_type": "execute_result"
    }
   ],
   "source": [
    "# 1585. Check If String Is Transformable With Substring Sort Operations，s子序列任意升序，是否能得到t\n",
    "# 核心思想，升序无法创造reverse对，所以只需要数出所有的reverse对，然后比较两个的reverse对\n",
    "import collections\n",
    "def isTransformable(s, t):\n",
    "    \"\"\"\n",
    "    :type s: str\n",
    "    :type t: str\n",
    "    :rtype: bool\n",
    "    \"\"\"\n",
    "    if collections.Counter(s)!=collections.Counter(t):\n",
    "        return False\n",
    "    s = list(map(int,s))\n",
    "    t = list(map(int,t))\n",
    "\n",
    "    def getInv(s):\n",
    "        hashtable = collections.Counter()#(5,4)\n",
    "        dic = [0 for _ in range(10)]\n",
    "        for i in s:\n",
    "            for t in range(i+1,10):\n",
    "                hashtable[(t,i)] += dic[t]\n",
    "            dic[i]+=1\n",
    "        return hashtable\n",
    "\n",
    "    hs = getInv(s)\n",
    "    ht = getInv(t)\n",
    "    return sum(hs[i]<ht[i] for i in hs)==0\n",
    "isTransformable(s = \"34521\", t = \"23415\")"
   ]
  },
  {
   "cell_type": "code",
   "execution_count": null,
   "metadata": {},
   "outputs": [],
   "source": []
  }
 ],
 "metadata": {
  "kernelspec": {
   "display_name": "Python 3",
   "language": "python",
   "name": "python3"
  },
  "language_info": {
   "codemirror_mode": {
    "name": "ipython",
    "version": 3
   },
   "file_extension": ".py",
   "mimetype": "text/x-python",
   "name": "python",
   "nbconvert_exporter": "python",
   "pygments_lexer": "ipython3",
   "version": "3.7.3"
  }
 },
 "nbformat": 4,
 "nbformat_minor": 2
}
