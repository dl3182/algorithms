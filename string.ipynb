{
 "cells": [
  {
   "cell_type": "code",
   "execution_count": 1,
   "metadata": {},
   "outputs": [],
   "source": [
    "# Rolling hash"
   ]
  },
  {
   "cell_type": "code",
   "execution_count": null,
   "metadata": {},
   "outputs": [],
   "source": [
    "# 28. Implement strStr()\n",
    "def strStr(haystack, needle):\n",
    "    \"\"\"\n",
    "    :type haystack: str\n",
    "    :type needle: str\n",
    "    :rtype: int\n",
    "    \"\"\"\n",
    "    hlen, nlen = len(haystack),len(needle)\n",
    "    if nlen==0:\n",
    "        return 0\n",
    "    if hlen<nlen:\n",
    "        return -1\n",
    "\n",
    "    base = 31\n",
    "    mod = 10**9+7\n",
    "    rolling = lambda x,y:x*base+y\n",
    "    get_hash = lambda a:ord(a)-ord('a')\n",
    "\n",
    "    nhash = reduce(rolling, map(get_hash, needle))%mod\n",
    "    hhash = reduce(rolling, map(get_hash, haystack[:nlen]))%mod\n",
    "    if nhash == hhash and needle == haystack[:nlen]:\n",
    "        return 0\n",
    "\n",
    "    high_base = (base**(nlen-1)) % mod\n",
    "    for i in range(nlen,hlen):\n",
    "        hhash = hhash - get_hash(haystack[i-nlen])*high_base\n",
    "        hhash = (hhash*base+get_hash(haystack[i]))%mod\n",
    "        if hhash==nhash and needle == haystack[i-nlen+1:i+1]:\n",
    "            return i-nlen+1\n",
    "    return -1"
   ]
  },
  {
   "cell_type": "code",
   "execution_count": 2,
   "metadata": {},
   "outputs": [],
   "source": [
    "# # 1392. Longest Happy Prefix,最长的prefix前后一致\n",
    "def longestPrefix(s):\n",
    "    \"\"\"\n",
    "    :type s: str\n",
    "    :rtype: str\n",
    "    \"\"\"\n",
    "    base, mod = 31, 10**9+7\n",
    "    get_hash = lambda a:ord(a)-ord('a')\n",
    "    pre, suf = 0,0\n",
    "\n",
    "    res = -1\n",
    "    for i in range(len(s)-1):\n",
    "        pre = (pre*base + get_hash(s[i]))%mod\n",
    "        suf = (suf + get_hash(s[-i-1])*pow(base,i,mod))%mod\n",
    "        if pre==suf and s[:i+1]==s[-i-1:]:\n",
    "            res = i\n",
    "\n",
    "    return s[:res+1]"
   ]
  },
  {
   "cell_type": "code",
   "execution_count": 1,
   "metadata": {},
   "outputs": [
    {
     "data": {
      "text/plain": [
       "7"
      ]
     },
     "execution_count": 1,
     "metadata": {},
     "output_type": "execute_result"
    }
   ],
   "source": [
    "# 1147. Longest Chunked Palindrome Decomposition，将string分割成多块回文\n",
    "def longestDecomposition(text):\n",
    "    \"\"\"\n",
    "    :type text: str\n",
    "    :rtype: int\n",
    "    \"\"\"\n",
    "    base,mod = 31,10**9+7\n",
    "\n",
    "    get_hash = lambda x:ord(x)-ord('a')\n",
    "    pre,suf = 0,0\n",
    "\n",
    "    res = 0\n",
    "    index,curbase = 0,1\n",
    "    while index<len(text)//2:\n",
    "        pre = (pre*base+get_hash(text[index]))%mod\n",
    "        suf = (suf+get_hash(text[-index-1])*curbase)%mod\n",
    "        curbase = curbase*base\n",
    "        if pre==suf:\n",
    "            res+=1\n",
    "            pre,suf,curbase = 0,0,1\n",
    "        index+=1\n",
    "    if pre==suf:\n",
    "        return res*2+len(text)%2\n",
    "    else:\n",
    "        return res*2+1\n",
    "    \n",
    "def longestDecomposition(text):\n",
    "    \"\"\"\n",
    "    :type text: str\n",
    "    :rtype: int\n",
    "    \"\"\"\n",
    "    res = 0\n",
    "    left,right = \"\",\"\"\n",
    "    for i,j in zip(text,text[::-1]):\n",
    "        left = left+i\n",
    "        right = j+right\n",
    "        if left==right:\n",
    "            res+=1\n",
    "            left,right = \"\",\"\"\n",
    "    return res\n",
    "\n",
    "longestDecomposition(text = \"ghiabcdefhelloadamhelloabcdefghi\")"
   ]
  },
  {
   "cell_type": "code",
   "execution_count": 7,
   "metadata": {},
   "outputs": [
    {
     "data": {
      "text/plain": [
       "'ana'"
      ]
     },
     "execution_count": 7,
     "metadata": {},
     "output_type": "execute_result"
    }
   ],
   "source": [
    "# 1044. Longest Duplicate Substring,寻找最长的重复substring（可重叠）\n",
    "\n",
    "# Binary Search in range 1 and N, so it's O(logN)\n",
    "# Rolling hash O(N)\n",
    "# Overall O(NlogN)\n",
    "# SpaceO(N)\n",
    "\n",
    "from functools import reduce\n",
    "def longestDupSubstring(S):\n",
    "    \"\"\"\n",
    "    :type S: str\n",
    "    :rtype: str\n",
    "    \"\"\"\n",
    "    base,mod = 31,10**9+7\n",
    "\n",
    "    get_hash = lambda x:ord(x)-ord('a')\n",
    "    rolling = lambda x,y:x*base+y\n",
    "\n",
    "    def isExist(n,S):\n",
    "        visited = dict()\n",
    "        curhash = reduce(rolling,map(get_hash,S[:n]))%mod\n",
    "        visited[curhash]=0\n",
    "        high_base = pow(base,n-1,mod)\n",
    "        for i in range(n,len(S)):\n",
    "            curhash = curhash - high_base*get_hash(S[i-n])\n",
    "            curhash = (curhash*base+get_hash(S[i]))%mod\n",
    "            if curhash in visited and S[visited[curhash]:visited[curhash]+n]==S[i-n+1:i+1]:\n",
    "                return (True,i-n+1)\n",
    "            visited[curhash] = i-n+1\n",
    "        return (False,None)\n",
    "\n",
    "    left,right,res = 1,len(S),[0,0]\n",
    "    while left<right:\n",
    "        mid = left+(right-left)//2\n",
    "        flag,word = isExist(mid,S)\n",
    "        if flag:#如果mid能找到\n",
    "            left = mid+1\n",
    "            if mid>res[1]-res[0]:\n",
    "                res = [word,word+mid]\n",
    "        else:#如果不存在比这更长的\n",
    "            right = mid\n",
    "    return S[res[0]:res[1]]\n",
    "\n",
    "def longestDupSubstring(S):\n",
    "    \"\"\"\n",
    "    :type S: str\n",
    "    :rtype: str\n",
    "    \"\"\"\n",
    "    A = [ord(c) - ord('a') for c in S]\n",
    "    mod = 2**63 - 1\n",
    "\n",
    "    def test(L):\n",
    "        p = pow(26, L, mod)\n",
    "        cur = reduce(lambda x, y: (x * 26 + y) % mod, A[:L], 0)\n",
    "        seen = {cur}\n",
    "        for i in range(L, len(S)):\n",
    "            cur = (cur * 26 + A[i] - A[i - L] * p) % mod\n",
    "            if cur in seen: return i - L + 1\n",
    "            seen.add(cur)\n",
    "    res, lo, hi = 0, 0, len(S)\n",
    "    while lo < hi:\n",
    "        mi = (lo + hi + 1) // 2\n",
    "        pos = test(mi)\n",
    "        if pos:\n",
    "            lo = mi\n",
    "            res = pos\n",
    "        else:\n",
    "            hi = mi - 1\n",
    "    return S[res:res + lo]\n",
    "\n",
    "longestDupSubstring(\"banana\")"
   ]
  },
  {
   "cell_type": "code",
   "execution_count": 1,
   "metadata": {},
   "outputs": [
    {
     "data": {
      "text/plain": [
       "'aadcaacdaa'"
      ]
     },
     "execution_count": 1,
     "metadata": {},
     "output_type": "execute_result"
    }
   ],
   "source": [
    "# 214. Shortest Palindrome，在字符串前面添加一部分，使得回文的最短长度\n",
    "# 即为前面这一部分的正反rolling hash值相等，不断添加直到相等\n",
    "\n",
    "def shortestPalindrome(s):\n",
    "    \"\"\"\n",
    "    :type s: str\n",
    "    :rtype: str\n",
    "    \"\"\"\n",
    "    base,mod = 31,10**9+7\n",
    "    prefix,suffix = 0,0\n",
    "    for index,c in enumerate(s):#the prefix of original string\n",
    "        prefix = (prefix * base + ord(c)-ord('a'))%mod\n",
    "    for index,c in enumerate(s[::-1]):#the suffix of reverse\n",
    "        suffix = (suffix * base + ord(c)-ord('a'))%mod\n",
    "    if prefix==suffix and s == s[::-1]:\n",
    "        return s\n",
    "\n",
    "    for i in range(len(s)):\n",
    "        prefix = (prefix-(ord(s[-i-1])-ord('a'))*pow(base,i,mod))%mod #选取片段为0:-i+1\n",
    "        suffix = (suffix*base - (ord(s[-i-1])-ord('a'))*pow(base,len(s),mod))%mod#选取片段为i+1:\n",
    "        if prefix==suffix and s[:-(i+1)] == s[:-(i+1)][::-1]:\n",
    "            return s[-(i+1):][::-1]+s\n",
    "    return s[::-1]+s\n",
    "\n",
    "def shortestPalindrome(s):\n",
    "    \"\"\"\n",
    "    :type s: str\n",
    "    :rtype: str\n",
    "    \"\"\"\n",
    "    if not s:\n",
    "        return \"\"\n",
    "    base,mod = 31,10**9+7\n",
    "    prefix,suffix = 0,0\n",
    "    for index,c in enumerate(s):\n",
    "        prefix = (prefix * base + ord(c)-ord('a'))%mod#the prefix of original string\n",
    "        suffix = (suffix + (ord(c)-ord('a'))*pow(base,index,mod))%mod#the suffix of reversed string\n",
    "        if prefix==suffix:\n",
    "            curlen = index\n",
    "    return s[curlen+1:][::-1]+s\n",
    "    \n",
    "shortestPalindrome(\"aacdaa\")"
   ]
  },
  {
   "cell_type": "code",
   "execution_count": 31,
   "metadata": {},
   "outputs": [
    {
     "data": {
      "text/plain": [
       "True"
      ]
     },
     "execution_count": 31,
     "metadata": {},
     "output_type": "execute_result"
    }
   ],
   "source": [
    "# 1554. Strings Differ by One Character，长度一样的字符串，是否存在两个字符串，只相差一个元素\n",
    "def differByOne(self, dict):\n",
    "    \"\"\"\n",
    "    :type dict: List[str]\n",
    "    :rtype: bool\n",
    "    \"\"\"\n",
    "    base,mod = 26,10**11+7\n",
    "    # 使用31, 10**9+7时出现了collision\n",
    "    visited = set()\n",
    "    level = []\n",
    "    for s in dict:\n",
    "        cur = 0\n",
    "        for i,c in enumerate(s):\n",
    "            cur = (base*cur+ord(c)-ord('a'))%mod\n",
    "        level.append(cur)\n",
    "        visited.add(cur)\n",
    "\n",
    "    for index,s in enumerate(dict):\n",
    "        cur = level[index]\n",
    "        curbase = 1\n",
    "        for i in range(len(s)):\n",
    "            c = s[len(s)-i-1]\n",
    "            for t in \"abcdefghijklmnopqrstuvwxyz\":\n",
    "                if t==c:\n",
    "                    continue\n",
    "                cur2 = (cur+(ord(t)-ord(c))*curbase)%mod\n",
    "                if cur2 in visited:\n",
    "                    return True\n",
    "            curbase = curbase*base%mod\n",
    "    return False\n",
    "\n",
    "def differByOne(dict):\n",
    "    hset = set()\n",
    "    for word in dict:\n",
    "        for i in range(len(word)):\n",
    "            combo = word[:i] + '*' + word[i+1:]\n",
    "            if combo in hset:\n",
    "                return True\n",
    "            hset.add(combo)\n",
    "    return False\n",
    "\n",
    "differByOne(dict = [\"abcd\",\"acbd\", \"aacd\"])"
   ]
  },
  {
   "cell_type": "code",
   "execution_count": null,
   "metadata": {},
   "outputs": [],
   "source": []
  }
 ],
 "metadata": {
  "kernelspec": {
   "display_name": "Python 3",
   "language": "python",
   "name": "python3"
  },
  "language_info": {
   "codemirror_mode": {
    "name": "ipython",
    "version": 3
   },
   "file_extension": ".py",
   "mimetype": "text/x-python",
   "name": "python",
   "nbconvert_exporter": "python",
   "pygments_lexer": "ipython3",
   "version": "3.7.3"
  }
 },
 "nbformat": 4,
 "nbformat_minor": 2
}
