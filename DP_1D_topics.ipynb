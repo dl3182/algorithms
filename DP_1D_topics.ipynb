{
 "cells": [
  {
   "cell_type": "markdown",
   "metadata": {},
   "source": [
    "# 1. Fibonacci Numbers\n",
    "# 2. maximum subarray问题\n",
    "# 3. 硬币找零问题，从0到目标遍历，计算每一个值的答案\n",
    "# 4. 状态演化，记录状态个数，每一步更新"
   ]
  },
  {
   "cell_type": "markdown",
   "metadata": {},
   "source": [
    "## 1. Fibonacci Numbers\n",
    "#### 选择上一步，或者当前一步与上上步，爬梯子问题\n",
    "746. Min Cost Climbing Stairs\n",
    "198. House Robber\n",
    "213. House Robber II\n",
    "740. Delete and Earn\n",
    "#### 路径种类，当前位置由两个方向的上一步构成\n",
    "63. Unique Paths II\n",
    "301. Number of Paths with Max Score,从右下到左上的最高分和方式"
   ]
  },
  {
   "cell_type": "code",
   "execution_count": 1,
   "metadata": {},
   "outputs": [],
   "source": [
    "def fib(self, N):\n",
    "    \"\"\"\n",
    "    :type N: int\n",
    "    :rtype: int\n",
    "    \"\"\"\n",
    "    if N<=1:\n",
    "        return N\n",
    "    small=0\n",
    "    large=1\n",
    "    for i in range(2,N+1):\n",
    "        large2=small+large\n",
    "        small=large\n",
    "        large=large2\n",
    "    return large"
   ]
  },
  {
   "cell_type": "code",
   "execution_count": 2,
   "metadata": {},
   "outputs": [
    {
     "name": "stdout",
     "output_type": "stream",
     "text": [
      "[0, 1, 2, 2, 3, 3, 4, 4, 5, 6]\n"
     ]
    },
    {
     "data": {
      "text/plain": [
       "6"
      ]
     },
     "execution_count": 2,
     "metadata": {},
     "output_type": "execute_result"
    }
   ],
   "source": [
    "# 746. Min Cost Climbing Stairs，每次走一步或者走两步\n",
    "def minCostClimbingStairs(cost):\n",
    "    \"\"\"\n",
    "    :type cost: List[int]\n",
    "    :rtype: int\n",
    "    \"\"\"\n",
    "    n=len(cost)\n",
    "    steps=[None]*n# minimum to climb across i\n",
    "    if n>0:\n",
    "        steps[0]=min(cost[0],0)\n",
    "    if n>1:\n",
    "        steps[1]=min(cost[0],cost[1])\n",
    "#     if n>2:\n",
    "#         steps[2]=min(cost[2]+steps[1],cost[1])\n",
    "    for i in range(2,n):# 爬过i，意味着从i出发，或者从i-1出发\n",
    "        steps[i]=min(cost[i]+steps[i-1],cost[i-1]+steps[i-2])\n",
    "    print(steps)\n",
    "    return steps[-1]\n",
    "minCostClimbingStairs(cost = [1, 100, 1, 1, 1, 100, 1, 1, 100, 1])"
   ]
  },
  {
   "cell_type": "code",
   "execution_count": 3,
   "metadata": {},
   "outputs": [],
   "source": [
    "# 63. Unique Paths II\n",
    "def uniquePathsWithObstacles(obstacleGrid):\n",
    "    \"\"\"\n",
    "    :type obstacleGrid: List[List[int]]\n",
    "    :rtype: int\n",
    "    \"\"\"\n",
    "    m = len(obstacleGrid)\n",
    "    n = len(obstacleGrid[0])\n",
    "    methods=[[1]*n]*m\n",
    "    methods=[[methods[i][j]-obstacleGrid[i][j] for j in range(n)]for i in range(m)]\n",
    "    for i in range(m-1):\n",
    "        if methods[i][0]==0:\n",
    "            methods[i+1][0]=0\n",
    "    for j in range(n-1):\n",
    "        if methods[0][j]==0:\n",
    "            methods[0][j+1]=0\n",
    "    print(methods)\n",
    "    for i in range(1,m):\n",
    "        for j in range(1,n):\n",
    "#                 print(i,j,methods[i][j])\n",
    "            if methods[i][j]:\n",
    "                methods[i][j]=methods[i-1][j]+methods[i][j-1]\n",
    "    return methods[m-1][n-1]"
   ]
  },
  {
   "cell_type": "code",
   "execution_count": 4,
   "metadata": {},
   "outputs": [
    {
     "data": {
      "text/plain": [
       "[7, 1]"
      ]
     },
     "execution_count": 4,
     "metadata": {},
     "output_type": "execute_result"
    }
   ],
   "source": [
    "# 1301. Number of Paths with Max Score,从右下到左上的最高分和方式\n",
    "def pathsWithMaxScore(board):\n",
    "    \"\"\"\n",
    "    :type board: List[str]\n",
    "    :rtype: List[int]\n",
    "    \"\"\"\n",
    "    m,n=len(board),len(board[0])\n",
    "    values = [[0 for _ in range(n)] for _ in range(m)]\n",
    "    counts = [[0 for _ in range(n)] for _ in range(m)]\n",
    "    mod = 10**9+7\n",
    "\n",
    "    if board[m-2][n-1].isdigit():\n",
    "        values[m-2][n-1] = int(board[m-2][n-1])\n",
    "        counts[m-2][n-1] = 1\n",
    "    for i in range(m-3,-1,-1): \n",
    "        if values[i+1][n-1] and board[i][n-1].isdigit():\n",
    "            values[i][n-1] = values[i+1][n-1]+int(board[i][n-1])\n",
    "            counts[i][n-1] = 1\n",
    "\n",
    "    if board[m-1][n-2].isdigit():\n",
    "        values[m-1][n-2] = int(board[m-1][n-2])\n",
    "        counts[m-1][n-2] = 1 \n",
    "    for j in range(n-3,-1,-1): \n",
    "        if values[m-1][j+1] and board[m-1][j].isdigit():\n",
    "            values[m-1][j] = values[m-1][j+1]+int(board[m-1][j])\n",
    "            counts[m-1][j] = 1 \n",
    "\n",
    "    for i in range(m-2,-1,-1):\n",
    "        for j in range(n-2,-1,-1):\n",
    "            if board[i][j]=='X':\n",
    "                continue\n",
    "            if (i,j)!=(m-2,n-2):\n",
    "                val = max(values[i+1][j],values[i][j+1],values[i+1][j+1])\n",
    "                count = 0\n",
    "                for x,y in [(i+1,j),(i,j+1),(i+1,j+1)]:\n",
    "                    if values[x][y]==val:\n",
    "                        count+=counts[x][y]\n",
    "            else:\n",
    "                val = max(values[i+1][j],values[i][j+1])\n",
    "                count = 0\n",
    "                for x,y in [(i+1,j),(i,j+1)]:\n",
    "                    if values[x][y]==val:\n",
    "                        count+=counts[x][y]\n",
    "            if val!=0:\n",
    "                values[i][j] = val+(int(board[i][j]) if (i,j)!=(0,0) else 0)\n",
    "                counts[i][j] = count%mod\n",
    "            elif val==0 and (i,j)==(m-2,n-2):\n",
    "                values[i][j] = (int(board[i][j]) if (i,j)!=(0,0) else 0)\n",
    "                counts[i][j] = 1\n",
    "    return (values[0][0],counts[0][0])\n",
    "\n",
    "def pathsWithMaxScore(A):\n",
    "    n, mod = len(A), 10**9 + 7\n",
    "    dp = [[[-10**5, 0] for j in range(n + 1)] for i in range(n + 1)]\n",
    "    dp[n - 1][n - 1] = [0, 1]\n",
    "    for x in range(n)[::-1]:\n",
    "        for y in range(n)[::-1]:\n",
    "            if A[x][y] in 'XS': continue\n",
    "            for i, j in [[0, 1], [1, 0], [1, 1]]:\n",
    "                if dp[x][y][0] < dp[x + i][y + j][0]:\n",
    "                    dp[x][y] = [dp[x + i][y + j][0], 0]\n",
    "                if dp[x][y][0] == dp[x + i][y + j][0]:\n",
    "                    dp[x][y][1] += dp[x + i][y + j][1]\n",
    "            dp[x][y][0] += int(A[x][y]) if x or y else 0\n",
    "    return [dp[0][0][0] if dp[0][0][1] else 0, dp[0][0][1] % mod]\n",
    "pathsWithMaxScore([\"E23\",\"2X2\",\"12S\"])"
   ]
  },
  {
   "cell_type": "code",
   "execution_count": 8,
   "metadata": {},
   "outputs": [
    {
     "name": "stdout",
     "output_type": "stream",
     "text": [
      "9\n"
     ]
    }
   ],
   "source": [
    "# 198. House Robber, 给定nums，不选择相邻的情况下求最大值，要么当前不要，选上一个；要么选当前+上上个的最大值\n",
    "def rob(nums):\n",
    "    \"\"\"\n",
    "    :type nums: List[int]\n",
    "    :rtype: int\n",
    "    \"\"\"\n",
    "    n=len(nums)\n",
    "    if n==0:\n",
    "        return 0\n",
    "    if n<=2:\n",
    "        return max(nums)\n",
    "    nums[1]=max(nums[0],nums[1])\n",
    "    for i in range(2,n):\n",
    "        nums[i]=max(nums[i-1],nums[i-2]+nums[i])\n",
    "    return nums[-1]\n",
    "    \n",
    "# 213. House Robber II，如果最后一个和第一个相邻，那么相当于求两个最大值\n",
    "def rob2(nums):\n",
    "    if not nums: return 0\n",
    "    if len(nums) <= 2: return max(nums)\n",
    "    def rob_row(nums):\n",
    "        res = [0] * len(nums)\n",
    "        res[0], res[1] = nums[0], max(nums[0], nums[1])\n",
    "\n",
    "        for i in range(2, len(nums)):\n",
    "            res[i] = max(res[i-1], res[i-2] + nums[i])\n",
    "\n",
    "        return res[-1]\n",
    "\n",
    "    return max(rob_row(nums[1:]), rob_row(nums[:-1]))\n",
    "\n",
    "rob2([1,2,3,1])\n",
    "\n",
    "# 740. Delete and Earn\n",
    "import collections\n",
    "def deleteAndEarn(nums):#不选值相邻的数，每个数带一个频率\n",
    "    \"\"\"\n",
    "    :type nums: List[int]\n",
    "    :rtype: int\n",
    "    \"\"\"\n",
    "    # sort them by num and record the frequency\n",
    "    # 如果目前的数不与之前的数相邻，则相加\n",
    "    # 如果相邻，dp[n] = max(dp[n-1],dp[n-2]+an)\n",
    "    if not nums:\n",
    "        return 0\n",
    "    counts = collections.Counter(nums)\n",
    "    counts = sorted(counts.items(),key=lambda x:x[0])\n",
    "    cur = [0 for _ in range(len(counts))]\n",
    "    cur[0] = counts[0][0]*counts[0][1]\n",
    "\n",
    "    if len(counts)>=2:\n",
    "        if counts[1][0]!=counts[0][0]+1:\n",
    "            cur[1] = cur[0]+counts[1][0]*counts[1][1]\n",
    "        else:\n",
    "            cur[1] = max(cur[0],counts[1][0]*counts[1][1])\n",
    "    for i in range(2,len(counts)):\n",
    "        if counts[i][0]!= counts[i-1][0]+1:\n",
    "            cur[i] = cur[i-1]+counts[i][0]*counts[i][1]\n",
    "        else:\n",
    "            cur[i] = max(cur[i-1],cur[i-2]+counts[i][0]*counts[i][1])\n",
    "    return cur[-1]\n",
    "print(deleteAndEarn(nums = [2, 2, 3, 3, 3, 4]))"
   ]
  },
  {
   "cell_type": "code",
   "execution_count": 19,
   "metadata": {},
   "outputs": [
    {
     "data": {
      "text/plain": [
       "6"
      ]
     },
     "execution_count": 19,
     "metadata": {},
     "output_type": "execute_result"
    }
   ],
   "source": [
    "# 276. Paint Fence,n个格子各有k种方法，保证至多两个相邻同样选择\n",
    "# an = a_{n-2}*(k-1)(n-2,n-1相同）+\n",
    "def numWays(n, k):\n",
    "    \"\"\"\n",
    "    :type n: int\n",
    "    :type k: int\n",
    "    :rtype: int\n",
    "    \"\"\"\n",
    "#     x0 = k\n",
    "#     x1 = k*k\n",
    "#     if n==0 or k ==0:\n",
    "#         return 0\n",
    "#     if n==1:\n",
    "#         return x0\n",
    "#     for i in range(2,n):\n",
    "#         x0,x1 = x1,(k-1)*(x0+x1)\n",
    "#     return x1\n",
    "\n",
    "    if n == 0:\n",
    "        return 0\n",
    "    if n == 1:\n",
    "        return k\n",
    "    same, dif = k, k*(k-1)\n",
    "    for i in range(3, n+1):\n",
    "        # an与an-1相同，那么对应diff种方法\n",
    "        # an与an-1不同，对应an-1 * (k-1)种方法\n",
    "        same, dif = dif, (same+dif)*(k-1)\n",
    "    return same + dif\n",
    "\n",
    "numWays(n=3,k=2)"
   ]
  },
  {
   "cell_type": "markdown",
   "metadata": {},
   "source": [
    "# 数学归纳法类型DP"
   ]
  },
  {
   "cell_type": "code",
   "execution_count": 1,
   "metadata": {},
   "outputs": [
    {
     "data": {
      "text/plain": [
       "462032897"
      ]
     },
     "execution_count": 1,
     "metadata": {},
     "output_type": "execute_result"
    }
   ],
   "source": [
    "# 1411. Number of Ways to Paint N × 3 Grid,N*3的格子相邻不同色的种类\n",
    "# 只有两种\n",
    "# 121：212, 213, 232, 312, 313\n",
    "# 123： 212, 231, 312, 232\n",
    "def numOfWays(n):\n",
    "    \"\"\"\n",
    "    :type n: int\n",
    "    :rtype: int\n",
    "    \"\"\"\n",
    "    a,b = 6,6\n",
    "    mod = 10**9+7\n",
    "    for i in range(1,n):\n",
    "        a,b = 2*a+2*b,2*a+3*b\n",
    "        a,b = a%mod,b%mod\n",
    "    return (a+b)%mod\n",
    "numOfWays(30)"
   ]
  },
  {
   "cell_type": "code",
   "execution_count": 3,
   "metadata": {},
   "outputs": [
    {
     "data": {
      "text/plain": [
       "18"
      ]
     },
     "execution_count": 3,
     "metadata": {},
     "output_type": "execute_result"
    }
   ],
   "source": [
    "# 字节跳动 笔试题，给定macs，nums，每个macs[i]能完成不大于其值的任务，跟定nums任务，问有多少种方法\n",
    "# 排序以后对于当前i，要么直接当下完成不变，找到可以替换的位置，总共有cur个可以完成当前任务，对于每一个，直接对换以后macs[i]参与前面的排序\n",
    "# 与前面的结果是一样的，故为(1+cur)*dp[i-1]\n",
    "import bisect\n",
    "def getWays(macs,nums):\n",
    "    macs.sort()\n",
    "    nums.sort()\n",
    "    mod = 10**9+7\n",
    "    dp = [0 for _ in range(len(nums))]\n",
    "    if macs[0]>=nums[0]:\n",
    "        dp[0] = 1\n",
    "    for i in range(1,len(nums)):\n",
    "        if macs[i]<nums[i]:\n",
    "            continue\n",
    "        index = bisect.bisect_left(macs,nums[i])\n",
    "        cur = i-index\n",
    "        dp[i] = (dp[i-1]+cur*dp[i-1])%mod\n",
    "    return dp[-1]\n",
    "\n",
    "def getWays(macs,nums):\n",
    "    macs.sort()\n",
    "    nums.sort()\n",
    "    mod = 10**9+7\n",
    "    res = int(macs[0]>=nums[0])\n",
    "    for i in range(1,len(nums)):\n",
    "        if macs[i]<nums[i]:\n",
    "            return 0\n",
    "        index = bisect.bisect_left(macs,nums[i])\n",
    "        cur = i-index\n",
    "        res = (1+cur)*res%mod\n",
    "    return res\n",
    "\n",
    "getWays([1,2,3,4],[1,1,1,2])\n"
   ]
  },
  {
   "cell_type": "code",
   "execution_count": 6,
   "metadata": {},
   "outputs": [
    {
     "data": {
      "text/plain": [
       "11"
      ]
     },
     "execution_count": 6,
     "metadata": {},
     "output_type": "execute_result"
    }
   ],
   "source": [
    "# 790. Domino and Tromino Tiling,积木的堆积方式\n",
    "# dp[n] = dp[n-1]+dp[n-2]+2dp[n-3]+2dp[n-4]+...+dp[0] = 2dp[n-1]+dp[n-3]\n",
    "def numTilings(N):\n",
    "    \"\"\"\n",
    "    :type N: int\n",
    "    :rtype: int\n",
    "    \"\"\"\n",
    "    dp = [0,1,2]\n",
    "    if N<=2:\n",
    "        return dp[N]\n",
    "    cursum,mod = 0,10**9+7\n",
    "    for i in range(2,N):\n",
    "        dp.append((2*cursum+dp[-1]+dp[-2]+2)%mod)\n",
    "        cursum += dp[-3]\n",
    "    return dp[-1]\n",
    "\n",
    "def numTilings(N):\n",
    "    mod = 10**9+7\n",
    "    dp = [1,1,2]\n",
    "    if N<=2:\n",
    "        return dp[N]\n",
    "    for i in range(2,N):\n",
    "        dp.append((2*dp[-1]+dp[-3])%mod)\n",
    "    return dp[-1]\n",
    "numTilings(4)"
   ]
  },
  {
   "cell_type": "code",
   "execution_count": null,
   "metadata": {},
   "outputs": [],
   "source": [
    "# 629. K Inverse Pairs Array\n",
    "# 先建立(i,j)与之前的联系，然后把求和改成递推关系式，注意边界\n",
    "def kInversePairs(n, k):\n",
    "    \"\"\"\n",
    "    :type n: int\n",
    "    :type k: int\n",
    "    :rtype: int\n",
    "    \"\"\"\n",
    "    # dp[n][k] = dp[n-1]max(0,k-n+1,k) 再转换成递归\n",
    "    mod = 10**9+7\n",
    "    dp = [[0 for _ in range(k+1)] for _ in range(n+1)]\n",
    "    for i in range(n+1):\n",
    "        dp[i][0] = 1\n",
    "\n",
    "    for i in range(1,n+1):\n",
    "        for j in range(1,k+1):#这里要非常注意(1,1)的情况，如果不设置(0,0)=1,(1,1)会重置\n",
    "            dp[i][j] = (dp[i][j-1]+dp[i-1][j]-(dp[i-1][j-i] if j-i>=0 else 0))%mod\n",
    "            # dp[i][j] = (sum(dp[i-1][t] for t in range(max(j-i+1,0),j+1)))%mod\n",
    "    return dp[-1][-1]"
   ]
  },
  {
   "cell_type": "code",
   "execution_count": 1,
   "metadata": {},
   "outputs": [
    {
     "data": {
      "text/plain": [
       "850728840"
      ]
     },
     "execution_count": 1,
     "metadata": {},
     "output_type": "execute_result"
    }
   ],
   "source": [
    "# 1359. Count All Valid Pickup and Delivery Options\n",
    "def countOrders(n):\n",
    "    \"\"\"\n",
    "    :type n: int\n",
    "    :rtype: int\n",
    "    \"\"\"\n",
    "    new = prev = 1\n",
    "    mod = 10**9+7\n",
    "    for i in range(1,n):\n",
    "        new = (prev*(2*i+1)*(i+1))%mod\n",
    "        prev = new\n",
    "    return new\n",
    "countOrders(10)"
   ]
  },
  {
   "cell_type": "code",
   "execution_count": 1,
   "metadata": {},
   "outputs": [
    {
     "data": {
      "text/plain": [
       "985598218"
      ]
     },
     "execution_count": 1,
     "metadata": {},
     "output_type": "execute_result"
    }
   ],
   "source": [
    "# 552. Student Attendance Record II, 长度为N，最多只有一个A，不能有超过2个的连续L，问多少种方式\n",
    "# 分成多种类型，啥都没有，以L结束、以LL结束，以及各自前面有A的情况\n",
    "def checkRecord(n):\n",
    "    \"\"\"\n",
    "    :type n: int\n",
    "    :rtype: int\n",
    "    \"\"\"\n",
    "    a,p,pl,ll,ap,al,all = 1,1,1,0,0,0,0\n",
    "    mod = 10**9+7\n",
    "    # 以a结束，以p结束，以l结束\n",
    "    # 以2个L结束前面啥都没有，以p结束前面有a，以一个L结束前面有a，以2个L结束前面有a\n",
    "    for i in range(n-1):\n",
    "        na = p + pl + ll\n",
    "        np = p + pl + ll\n",
    "        npl = p\n",
    "        nll = pl\n",
    "        nap = a + al + all + ap\n",
    "        nal = a + ap\n",
    "        nall = al\n",
    "        a,p,pl,ll,ap,al,all = na%mod,np%mod,npl%mod,nll%mod,nap%mod,nal%mod,nall%mod\n",
    "    return sum([a,p,pl,ll,ap,al,all])%mod\n",
    "\n",
    "def checkRecord(n):# A和AP可以合并\n",
    "    \"\"\"\n",
    "    :type n: int\n",
    "    :rtype: int\n",
    "    \"\"\"\n",
    "    a,p,pl,ll,al,all = 1,1,1,0,0,0\n",
    "    mod = 10**9+7\n",
    "    # 以a或者ap结束，以p结束，以l结束\n",
    "    # 以2个L结束前面啥都没有，以一个L结束前面有a，以2个L结束前面有a\n",
    "    for i in range(n-1):\n",
    "        na = p + pl + ll + a + al + all\n",
    "        np = p + pl + ll\n",
    "        npl = p\n",
    "        nll = pl\n",
    "        nal = a\n",
    "        nall = al\n",
    "        a,p,pl,ll,al,all = na%mod,np%mod,npl%mod,nll%mod,nal%mod,nall%mod\n",
    "    return sum([a,p,pl,ll,al,all])%mod\n",
    "\n",
    "checkRecord(100)"
   ]
  },
  {
   "cell_type": "code",
   "execution_count": 3,
   "metadata": {},
   "outputs": [
    {
     "data": {
      "text/plain": [
       "68"
      ]
     },
     "execution_count": 3,
     "metadata": {},
     "output_type": "execute_result"
    }
   ],
   "source": [
    "# 1220. Count Vowels Permutation,给定限制条件，元素出现的个数, 将限制条件转换成递推演化\n",
    "def countVowelPermutation(n):\n",
    "    \"\"\"\n",
    "    :type n: int\n",
    "    :rtype: int\n",
    "    \"\"\"\n",
    "    dic = {\"a\":0,\"e\":1,\"i\":2,\"o\":3,\"u\":4}\n",
    "    dp = [1 for _ in range(5)]# 某一轮结束以后以某元素结尾的个数\n",
    "    mod = 10**9+7\n",
    "    \n",
    "    for i in range(n-1):\n",
    "        newdp = [0 for _ in range(5)]\n",
    "        newdp[dic[\"a\"]] = (dp[dic[\"u\"]]+dp[dic[\"e\"]]+dp[dic[\"i\"]])%mod\n",
    "        newdp[dic[\"e\"]] = (dp[dic[\"a\"]]+dp[dic[\"i\"]])%mod\n",
    "        newdp[dic[\"i\"]] = (dp[dic[\"e\"]]+dp[dic[\"o\"]])%mod\n",
    "        newdp[dic[\"o\"]] = dp[dic[\"i\"]]%mod\n",
    "        newdp[dic[\"u\"]] = (dp[dic[\"o\"]]+dp[dic[\"i\"]])%mod\n",
    "        dp = newdp[:]\n",
    "    return sum(dp)%mod\n",
    "\n",
    "def count_vowel_permutations(n):\n",
    "    a, e, i, o, u = 1, 1, 1, 1, 1\n",
    "    for _ in range(n - 1):\n",
    "        a, e, i, o, u = e + i + u, a + i, e + o, i, i + o\n",
    "    return (a + e + i + o + u) % (10**9 + 7)\n",
    "countVowelPermutation(n = 5)"
   ]
  },
  {
   "cell_type": "code",
   "execution_count": 3,
   "metadata": {},
   "outputs": [
    {
     "name": "stdout",
     "output_type": "stream",
     "text": [
      "[[5, 0, 0], [5, 0, 0], [5, 0, 0], [5, 1, 0], [5, 1, 0], [5, 1, 0]]\n",
      "[[28, 0, 0], [28, 0, 0], [28, 0, 0], [27, 5, 0], [27, 5, 0], [27, 5, 1]]\n"
     ]
    },
    {
     "data": {
      "text/plain": [
       "181"
      ]
     },
     "execution_count": 3,
     "metadata": {},
     "output_type": "execute_result"
    }
   ],
   "source": [
    "# 1223. Dice Roll Simulation，投掷色子，每个数最多能连续出现a[i]次，总共投掷n次，问总共有多少种状态\n",
    "# dp[i][j]记录数字i结尾次数为j的总次数\n",
    "# 如果j!=1,那么就等于上一轮的dp[i][j-1]，如果j==1，那么等于上一轮其余所有之和\n",
    "def dieSimulator(n, rollMax):\n",
    "    \"\"\"\n",
    "    :type n: int\n",
    "    :type rollMax: List[int]\n",
    "    :rtype: int\n",
    "    \"\"\"\n",
    "    dp = [[0 for _ in range(max(rollMax))] for _ in range(6)]\n",
    "    # after several rolls, the number of sequence that ends with k-1 times i.\n",
    "    for i in range(6):#第一次\n",
    "        dp[i][0] = 1\n",
    "    cursum = 6\n",
    "    mod = 10**9+7\n",
    "\n",
    "    for i in range(n-1):\n",
    "        newdp = [[0 for _ in range(max(rollMax))] for _ in range(6)]\n",
    "        newcursum = 0#任何数字结束任何次之和\n",
    "        for j in range(6):\n",
    "            for k in range(1,rollMax[j]):\n",
    "                newdp[j][k] = dp[j][k-1]%mod#当前数字j结尾k次，为上一轮结尾k-1次\n",
    "            newdp[j][0] = (cursum - sum(dp[j]))%mod#不是j的数字结束任何次之和\n",
    "            newcursum += sum(newdp[j])\n",
    "        dp = [[newdp[j][k] for k in range(len(newdp[0]))] for j in range(len(dp))]\n",
    "        print(dp)\n",
    "        cursum = newcursum%mod\n",
    "    return cursum\n",
    "dieSimulator(n = 3, rollMax = [1,1,1,2,2,3])"
   ]
  },
  {
   "cell_type": "code",
   "execution_count": 2,
   "metadata": {},
   "outputs": [
    {
     "name": "stdout",
     "output_type": "stream",
     "text": [
      "[0, 0, 2, 4]\n"
     ]
    },
    {
     "data": {
      "text/plain": [
       "4"
      ]
     },
     "execution_count": 2,
     "metadata": {},
     "output_type": "execute_result"
    }
   ],
   "source": [
    "# 从0出发，如果是第奇数次访问i，那么下一步走到nums[i](nums[i]i)，如果是偶数次，那么下一步走到i+1，问走出全段的次数\n",
    "# 链接：https://www.nowcoder.com/questionTerminal/58b04ed2865f4ff4921290f1bd4ee486?f=discussion\n",
    "# 记录第一次到达i为dp[i]，此时前面的所有门肯定是已经到达偶数次了\n",
    "# 因为传送只会后退，前进的唯一方式是偶数次到达并+1，不能跳跃\n",
    "# 所以到达i门前面所有门都走过并且经过偶数次（反正法也可以证明）\n",
    "# dp[i]=dp[i-1]+第二次到达i-1 + 1\n",
    "# 第一次到达i-1门后再走一步会回到p[i-1]，此时p[i-1]门到达奇数次，其他所有门到达偶数次\n",
    "# 这和第一次到达p[i-1]门的情况完全相同，所以从p[i-1]门回到i-1门，需要dp[i-1]-dp[p[i-1]]\n",
    "# 所以dp[i] = dp[i-1] + dp[i-1] - dp[p[i-1]] + 1 + 1\n",
    "def movingSteps(nums):\n",
    "#     nums.insert(0,0)\n",
    "    nums = [0] +nums\n",
    "    mod=10**9+7\n",
    "    dp=[0]*(len(nums)+1) #初始化状态空间\n",
    "    for i in range(2,len(dp)):\n",
    "        dp[i] = (2 * dp[i - 1] - dp[nums[i-1]] + 2) % mod\n",
    "\n",
    "    print(dp)\n",
    "    return dp[-1]%mod\n",
    "movingSteps([1,2])"
   ]
  },
  {
   "cell_type": "code",
   "execution_count": 28,
   "metadata": {},
   "outputs": [
    {
     "data": {
      "text/plain": [
       "34"
      ]
     },
     "execution_count": 28,
     "metadata": {},
     "output_type": "execute_result"
    }
   ],
   "source": [
    "# 字典序,n个数中第k小的\n",
    "def find_kth_number(n, k):\n",
    "cur = 1\n",
    "k-=1\n",
    "while k>0:\n",
    "    step = 0\n",
    "    first = cur\n",
    "    last = cur + 1\n",
    "    while first <=n:\n",
    "        step += min(n + 1, last) - first#当前开头拥有的个数\n",
    "        first *= 10\n",
    "        last *= 10\n",
    "    if step<=k:\n",
    "        cur += 1\n",
    "        k-=step\n",
    "    else:\n",
    "        cur *= 10\n",
    "        k-=1\n",
    "    return cur\n",
    "find_kth_number(121,50)\n",
    "\n",
    "# def lexicalOrder(n):\n",
    "#     ans = [1]\n",
    "#     while len(ans) < n:\n",
    "#         new = ans[-1] * 10#下一个是直接添加0\n",
    "#         while new > n:#如果不能添加0\n",
    "#             new //= 10\n",
    "#             new += 1#最后一位添加1，可能添加1以后出现进位，进位要先给去尾的\n",
    "#             while new % 10 == 0:    # deal with case like 199+1=200 when we need to restart from 2.\n",
    "#                 new //= 10\n",
    "#         ans.append(new)    \n",
    "#     return ans\n",
    "# lexicalOrder(12)"
   ]
  },
  {
   "cell_type": "code",
   "execution_count": 1,
   "metadata": {},
   "outputs": [
    {
     "data": {
      "text/plain": [
       "0.5"
      ]
     },
     "execution_count": 1,
     "metadata": {},
     "output_type": "execute_result"
    }
   ],
   "source": [
    "# 探究前后的关系\n",
    "# 799. Champagne Tower,香槟塔，倒入pourer的酒，row,glass所在位置的酒量\n",
    "# 直接想象酒是一口气倒入，而不是一点点倒入，多余的酒会流下去，从前推到后\n",
    "def champagneTower(poured, query_row, query_glass):\n",
    "    \"\"\"\n",
    "    :type poured: int\n",
    "    :type query_row: int\n",
    "    :type query_glass: int\n",
    "    :rtype: float\n",
    "    \"\"\"\n",
    "    dp = [[0 for _ in range(query_row+1)] for _ in range(query_row+1)]\n",
    "    dp[0][0] = poured*1.0\n",
    "    for i in range(query_row):\n",
    "        for j in range(i+1):\n",
    "            if dp[i][j]>1.0:\n",
    "                dp[i+1][j] += (dp[i][j]-1)/2\n",
    "                dp[i+1][j+1] += (dp[i][j]-1)/2\n",
    "    return min(1.0,dp[query_row][query_glass])\n",
    "champagneTower(poured = 2, query_glass = 1, query_row = 1)"
   ]
  },
  {
   "cell_type": "code",
   "execution_count": 2,
   "metadata": {},
   "outputs": [
    {
     "data": {
      "text/plain": [
       "0.8024691358024691"
      ]
     },
     "execution_count": 2,
     "metadata": {},
     "output_type": "execute_result"
    }
   ],
   "source": [
    "# 837. New 21 Game\n",
    "def new21Game(N, K, W):\n",
    "    \"\"\"\n",
    "    :type N: int\n",
    "    :type K: int\n",
    "    :type W: int\n",
    "    :rtype: float\n",
    "    \"\"\"\n",
    "    if K-1+W<=N or K==0:#当不可能投出那个距离，或者不投的时候\n",
    "        return 1.0\n",
    "    dp = [1.0]+[0.0]*N\n",
    "    moving = 1.0\n",
    "    for i in range(1,K):\n",
    "        dp[i] = moving/W\n",
    "        moving+=dp[i]\n",
    "        if i-W>=0:\n",
    "            moving-=dp[i-W]\n",
    "    for i in range(K,N+1):\n",
    "        dp[i] = moving/W\n",
    "        if i-W>=0:\n",
    "            moving-=dp[i-W]\n",
    "    return sum(dp[K:])\n",
    "new21Game(5,4,3)"
   ]
  },
  {
   "cell_type": "code",
   "execution_count": 5,
   "metadata": {},
   "outputs": [
    {
     "data": {
      "text/plain": [
       "10"
      ]
     },
     "execution_count": 5,
     "metadata": {},
     "output_type": "execute_result"
    }
   ],
   "source": [
    "# 求组合数\n",
    "comb = dict()\n",
    "def combinations(m,n):\n",
    "    if (m,n) in comb:\n",
    "        return comb[(m,n)]\n",
    "    if m==0 or m==n:\n",
    "        return 1\n",
    "    comb[(m,n)] = combinations(m-1,n-1)+combinations(m,n-1)\n",
    "    return comb[(m,n)]\n",
    "combinations(3,5)"
   ]
  },
  {
   "cell_type": "markdown",
   "metadata": {},
   "source": [
    "# maximum subarray问题\n",
    "152. Maximum Product Subarray\n",
    "918. Maximum Sum Circular Subarray，环形最大值\n",
    "1186. Maximum Subarray Sum with One Deletion,在可以删除一个元素的情况下的最大subarray和\n",
    "1031. Maximum Sum of Two Non-Overlapping Subarrays\n",
    "1191. K-Concatenation Maximum Sum,可以重复K次，求max subarray sum"
   ]
  },
  {
   "cell_type": "code",
   "execution_count": 7,
   "metadata": {},
   "outputs": [
    {
     "data": {
      "text/plain": [
       "4"
      ]
     },
     "execution_count": 7,
     "metadata": {},
     "output_type": "execute_result"
    }
   ],
   "source": [
    "# 918. Maximum Sum Circular Subarray，环形最大值\n",
    "# 考虑corner case, 全部为负数，minimum_sum=0,这样得到错误的答案\n",
    "def maxSubarraySumCircular(A):\n",
    "    \"\"\"\n",
    "    :type A: List[int]\n",
    "    :rtype: int\n",
    "    \"\"\"\n",
    "    maximum_end = A[0]\n",
    "    maximum_sum = A[0]\n",
    "    minimum_end = A[0]\n",
    "    minimum_sum = A[0]\n",
    "    total = A[0]\n",
    "    for i in A[1:]:\n",
    "        maximum_end = max(maximum_end+i,i)\n",
    "        maximum_sum = max(maximum_sum,maximum_end)\n",
    "        minimum_end = min(minimum_end+i,i)\n",
    "        minimum_sum = min(minimum_sum,minimum_end)\n",
    "        total = total+i\n",
    "    minimum_sum = total-minimum_sum\n",
    "    return max(maximum_sum,minimum_sum) if minimum_sum!=0 else maximum_sum\n",
    "maxSubarraySumCircular([3,-2,2,-1])"
   ]
  },
  {
   "cell_type": "code",
   "execution_count": 5,
   "metadata": {},
   "outputs": [],
   "source": [
    "# 152. Maximum Product Subarray\n",
    "def maxProduct(nums):\n",
    "    \"\"\"\n",
    "    :type nums: List[int]\n",
    "    :rtype: int\n",
    "    \"\"\"\n",
    "    n=len(nums)\n",
    "    if n==0:\n",
    "        return 0\n",
    "    A=[None]*n\n",
    "    B=[None]*n\n",
    "    A[0],B[0]=nums[0],nums[0]\n",
    "    for i in range(1,n):\n",
    "        A[i]=max(nums[i],A[i-1]*nums[i],B[i-1]*nums[i])\n",
    "        B[i]=min(nums[i],A[i-1]*nums[i],B[i-1]*nums[i])\n",
    "    return max(A)"
   ]
  },
  {
   "cell_type": "code",
   "execution_count": 6,
   "metadata": {},
   "outputs": [],
   "source": [
    "# 1186. Maximum Subarray Sum with One Deletion,在可以删除一个元素的情况下的最大subarray和\n",
    "# 当前最大和为：包括当前（前面已经删除一个了），不包括当前也不删前面的（删除当前，如想删除当前，那么前面保留的是上一个无删除最大），只有当前\n",
    "\n",
    "def maximumSum(arr):\n",
    "    \"\"\"\n",
    "    :type arr: List[int]\n",
    "    :rtype: int\n",
    "    \"\"\"\n",
    "    curmax,cursum = -float('inf'),-float('inf')#无删除情况下结尾最大值和最大值\n",
    "    withmax,withsum = -float('inf'),-float('inf')#有删除情况下结尾最大值和最大值\n",
    "    for i in arr:\n",
    "        withmax = max(curmax,withmax+i)#要么删除当前，要么保留当前\n",
    "        curmax = max(i,i+curmax)#要么就是当前，要么保留当前\n",
    "        cursum = max(cursum,curmax)\n",
    "        withsum = max(withsum,withmax)\n",
    "    return max(cursum,withsum)"
   ]
  },
  {
   "cell_type": "code",
   "execution_count": 16,
   "metadata": {},
   "outputs": [
    {
     "data": {
      "text/plain": [
       "17"
      ]
     },
     "execution_count": 16,
     "metadata": {},
     "output_type": "execute_result"
    }
   ],
   "source": [
    "# 1031. Maximum Sum of Two Non-Overlapping Subarrays,找两个不覆盖的长度为L，M的子列表，最大和\n",
    "def maxSumTwoNoOverlap(A, L, M):# 和最多两次股票交易#123题相似，\n",
    "    \"\"\"\n",
    "    :type A: List[int]\n",
    "    :type L: int\n",
    "    :type M: int\n",
    "    :rtype: int\n",
    "    \"\"\"\n",
    "    def maximum(A,L,M):\n",
    "        dpfront = [0 for _ in range(len(A)-L-M+1)]#在i及以前最大的长度为L的和\n",
    "        dpback = [0 for _ in range(len(A)-L-M+1)]#i之后最大的长度为M的和\n",
    "        beginning = sum(A[:L])\n",
    "        dpfront[0] = beginning\n",
    "        for i in range(1,len(dpfront)):\n",
    "            beginning = beginning+A[L+i-1]-A[i-1]\n",
    "            dpfront[i] = max(dpfront[i-1],beginning)\n",
    "        beginning = sum(A[-M:])\n",
    "        dpback[-1] = beginning\n",
    "        for i in range(len(dpfront)-2,-1,-1):\n",
    "            beginning = beginning +A[i+L]-A[i+L+M]\n",
    "            dpback[i] = max(dpback[i+1],beginning)\n",
    "        return max([dpfront[i]+dpback[i] for i in range(len(dpfront))])\n",
    "\n",
    "    return max(maximum(A,L,M),maximum(A,M,L))\n",
    "\n",
    "def maxSumTwoNoOverlap(A, L, M):\n",
    "    for i in range(1, len(A)):#求prefix sum\n",
    "        A[i] += A[i - 1]\n",
    "    res, Lmax, Mmax = A[L + M - 1], A[L - 1], A[M - 1]\n",
    "    # window  | --- L --- | --- M --- |\n",
    "    for i in range(L + M, len(A)):\n",
    "        Lmax = max(Lmax, A[i - M] - A[i - L - M])#i-M以前最大的L长度和，\n",
    "        res = max(res, Lmax + A[i] - A[i - M])\n",
    "\n",
    "    # window  | --- M --- | --- L --- |\n",
    "    for i in range(L + M, len(A)):\n",
    "        Mmax = max(Mmax, A[i - L] - A[i - L - M])\n",
    "        res = max(res, Mmax + A[i] - A[i - L])\n",
    "    return res\n",
    "maxSumTwoNoOverlap(A = [3,8,1,3,2], L = 3, M = 2)"
   ]
  },
  {
   "cell_type": "code",
   "execution_count": 1,
   "metadata": {},
   "outputs": [
    {
     "data": {
      "text/plain": [
       "2"
      ]
     },
     "execution_count": 1,
     "metadata": {},
     "output_type": "execute_result"
    }
   ],
   "source": [
    "# 1191. K-Concatenation Maximum Sum,可以重复K次，求max subarray sum\n",
    "def kConcatenationMaxSum(arr, k):\n",
    "    \"\"\"\n",
    "    :type arr: List[int]\n",
    "    :type k: int\n",
    "    :rtype: int\n",
    "    \"\"\"\n",
    "    onesum = sum(arr)\n",
    "    curmax,maxsum = 0,0#one array maxisum\n",
    "    cursum,leftsum = 0,0#maximum from left side\n",
    "    mod = 10**9+7\n",
    "    for i in arr:\n",
    "        curmax = max(i,i+curmax)\n",
    "        maxsum = max(maxsum,curmax)\n",
    "        cursum+=i\n",
    "        leftsum = max(leftsum,cursum)\n",
    "    if k==1:\n",
    "        return maxsum\n",
    "    cursum,rightsum = 0,0\n",
    "    for i in arr[::-1]:\n",
    "        cursum+=i\n",
    "        rightsum = max(rightsum,cursum)\n",
    "    max2sum = leftsum+rightsum\n",
    "\n",
    "    if onesum>=0:\n",
    "        return max(maxsum,onesum*(k-2)+max2sum)%mod\n",
    "    else:\n",
    "        return max(maxsum,max2sum)%mod\n",
    "\n",
    "# Kadane(arr * 2) is always >= Kadane(arr)\n",
    "# Kadane(arr * 2) will always cross the boundary if sum(arr) > 0\n",
    "# if Kadane(arr * 2) does not cross the boundary, then Kadane(arr * 2) == Kadane(arr)\n",
    "\n",
    "def kConcatenationMaxSum(arr, k, mod = 10 ** 9 + 7):\n",
    "    def Kadane(arr, res = 0, cur = 0):\n",
    "        for num in arr:\n",
    "            cur = max(num, num + cur)\n",
    "            res = max(res, cur)\n",
    "        return res\n",
    "    return ((k - 2) * max(sum(arr), 0) + Kadane(arr * 2)) % mod if k > 1 else Kadane(arr) % mod\n",
    "\n",
    "kConcatenationMaxSum(arr = [1,-2,1], k = 5)"
   ]
  },
  {
   "cell_type": "code",
   "execution_count": 2,
   "metadata": {},
   "outputs": [
    {
     "data": {
      "text/plain": [
       "54"
      ]
     },
     "execution_count": 2,
     "metadata": {},
     "output_type": "execute_result"
    }
   ],
   "source": [
    "# 396. Rotate Function,和为0*A[0]+1*A[1]+i*A[i]一直rotate到上一个元素，求最大rotate和\n",
    "def maxRotateFunction(A):\n",
    "    \"\"\"\n",
    "    :type A: List[int]\n",
    "    :rtype: int\n",
    "    \"\"\"\n",
    "    # 往后移一格，会增大sum，减少na_i,问题变成了最小连续子串和,不要尝试去找连续子串和，而是将所有的值一个个利用递推算出来\n",
    "    # 以i开头的和为F[i]\n",
    "    # F[i+1] = F[i]-sum(A)+n*A[i]\n",
    "    # F[1] = F[0] - sum(A)+n*A[0]\n",
    "    sums = sum(A)\n",
    "    cursum = sum(i*A[i] for i in range(len(A)))\n",
    "    maximum = cursum\n",
    "    for i in range(len(A)-1):\n",
    "        newsum = cursum-sums+len(A)*A[i]\n",
    "        maximum = max(maximum,newsum)\n",
    "        cursum = newsum\n",
    "    return maximum\n",
    "maxRotateFunction([1,2,3,4,1,2,1])"
   ]
  },
  {
   "cell_type": "code",
   "execution_count": 1,
   "metadata": {},
   "outputs": [
    {
     "data": {
      "text/plain": [
       "3"
      ]
     },
     "execution_count": 1,
     "metadata": {},
     "output_type": "execute_result"
    }
   ],
   "source": [
    "def numSubarrayBoundedMax(A, L, R):\n",
    "    \"\"\"\n",
    "    :type A: List[int]\n",
    "    :type L: int\n",
    "    :type R: int\n",
    "    :rtype: int\n",
    "    \"\"\"\n",
    "    def countSubarray(A,T):\n",
    "        res = 0\n",
    "        left = 0\n",
    "        curmax = 0\n",
    "        for right in range(len(A)):\n",
    "            if A[right]<=T:\n",
    "                res+=right-left+1\n",
    "            else:\n",
    "                left = right+1\n",
    "        return res\n",
    "\n",
    "    return countSubarray(A,R) - countSubarray(A,L-1)\n",
    "\n",
    "# 795. Number of Subarrays with Bounded Maximum，最大值位于L-R之间的subarray个数\n",
    "def numSubarrayBoundedMax(A, L, R):\n",
    "    \"\"\"\n",
    "    :type A: List[int]\n",
    "    :type L: int\n",
    "    :type R: int\n",
    "    :rtype: int\n",
    "    \"\"\"\n",
    "    res, dp = 0, 0\n",
    "    prev = -1\n",
    "    for i in range(len(A)):\n",
    "        if A[i] < L and i > 0:\n",
    "            res += dp\n",
    "        if A[i] > R:\n",
    "            dp = 0\n",
    "            prev = i\n",
    "        if L <= A[i] <= R:\n",
    "            dp = i - prev\n",
    "            res += dp\n",
    "    return res\n",
    "numSubarrayBoundedMax(A = [2, 1, 4, 3],L = 2,R = 3)"
   ]
  },
  {
   "cell_type": "markdown",
   "metadata": {},
   "source": [
    "# 硬币找零问题，无限背包问题\n",
    "### 从0到目标遍历，计算每一个值的答案，后面的用到前面的，而不在乎过程\n",
    "139. Word Break: 通过wordDict中的词能否构成s，用dfs会超时\n",
    "140. Word Break2,返回上述路径，但是会遇到无路径的情况下TLE，可以先调取#139题判断其是否可分, 用dp，dp中的每个元素记住之前的路径\n",
    "300. Longest Increasing Subsequence, 最长递增子序列\n",
    "673. Number of Longest Increasing Subsequence, 最长递增子序列的个数\n",
    "322. Coin Change\n",
    "377. Combination Sum IV: 通过nums中的数构成target的排列方式，可重复，不同顺序\n",
    "983. Minimum Cost For Tickets\n",
    "1048. Longest String Chain,列表里可以构成string chain的最长长度\n",
    "467. Unique Substrings in Wraparound String,字符串p中拥有的独一无二的封装字符串"
   ]
  },
  {
   "cell_type": "code",
   "execution_count": 2,
   "metadata": {},
   "outputs": [
    {
     "data": {
      "text/plain": [
       "5"
      ]
     },
     "execution_count": 2,
     "metadata": {},
     "output_type": "execute_result"
    }
   ],
   "source": [
    "# 322. Coin Change\n",
    "def coinChange(self, coins, amount):\n",
    "    \"\"\"\n",
    "    :type coins: List[int]\n",
    "    :type amount: int\n",
    "    :rtype: int\n",
    "    \"\"\"\n",
    "    nums =[0]+ [float('inf')]*amount\n",
    "    for i in range(min(coins),amount+1):\n",
    "        nums[i]=min([nums[i-j] if i-j >=0 else float('inf') for j in coins])+1\n",
    "    return nums[amount] if nums[amount]<float('inf') else -1\n",
    "\n",
    "# 300. Longest Increasing Subsequence,最长递增子序列\n",
    "# 如果前面有比其小的，则考虑上，否则就为1\n",
    "def lengthOfLIS(nums):\n",
    "    \"\"\"\n",
    "    :type nums: List[int]\n",
    "    :rtype: int\n",
    "    \"\"\"\n",
    "    if not nums:\n",
    "        return 0\n",
    "    dp = [1 for _ in range(len(nums))]\n",
    "    for i in range(1,len(nums)):\n",
    "        dp[i] =max([dp[j]+1 if nums[i]>nums[j] else 1 for j in range(i)])\n",
    "    return max(dp)\n",
    "\n",
    "# 673. Number of Longest Increasing Subsequence, 最长递增子序列的个数\n",
    "# 用另一个维度去统计频率\n",
    "def findNumberOfLIS(nums):\n",
    "    \"\"\"\n",
    "    :type nums: List[int]\n",
    "    :rtype: int\n",
    "    \"\"\"\n",
    "    dp = [[1,1] for _ in range(len(nums))]#for i, length and occurrence\n",
    "    for i in range(len(nums)):\n",
    "        for j in range(i):\n",
    "            if nums[i]>nums[j]:\n",
    "                if dp[i][0]<dp[j][0]+1:\n",
    "                    dp[i] = [dp[j][0]+1,dp[j][1]]\n",
    "                elif dp[i][0]==dp[j][0]+1:\n",
    "                    dp[i] = [dp[i][0],dp[i][1]+dp[j][1]]\n",
    "    length,freq = 0,0\n",
    "    for i in range(len(nums)):\n",
    "        if dp[i][0]>length:\n",
    "            length,freq = dp[i]\n",
    "        elif dp[i][0]==length:\n",
    "            freq+=dp[i][1]\n",
    "\n",
    "    return freq\n",
    "\n",
    "    \n",
    "# 983. Minimum Cost For Tickets，给定单日票，七日票和月票，给定旅游计划，求最少花费\n",
    "# 对于每一天，如果那天不去，那么花费和前一天一样；如果哪天去，就考虑是单日票，还是七天以前的七日票；或30天以前的月票\n",
    "def mincostTickets(days, costs):\n",
    "    \"\"\"\n",
    "    :type days: List[int]\n",
    "    :type costs: List[int]\n",
    "    :rtype: int\n",
    "    \"\"\"\n",
    "    dp=[0 for i in range(days[-1]+1)]\n",
    "    for i in range(days[-1]+1):\n",
    "        if i not in days:\n",
    "            dp[i]=dp[i-1]\n",
    "        else:\n",
    "            dp[i]=min(dp[max(0,i-7)]+costs[1],dp[max(0,i-1)]+costs[0],dp[max(0,i-30)]+costs[2])\n",
    "    return dp[-1]\n",
    "\n",
    "# 873. Length of Longest Fibonacci Subsequence, 最长的Fibonacci子序列\n",
    "def lenLongestFibSubseq(A):\n",
    "    \"\"\"\n",
    "    :type A: List[int]\n",
    "    :rtype: int\n",
    "    \"\"\"\n",
    "    dp = dict()\n",
    "    for i in range(len(A)):\n",
    "        for j in range(i+1,len(A)):\n",
    "            if A[j]-A[i]<A[i] and (A[j]-A[i],A[i]) in dp:\n",
    "                dp[(A[i],A[j])] = dp[(A[j]-A[i],A[i])]+1\n",
    "            else:\n",
    "                dp[(A[i],A[j])]=2\n",
    "    return max(dp.values()) if max(dp.values())>=3 else 0\n",
    "lenLongestFibSubseq([1,2,3,4,5,6,7,8])"
   ]
  },
  {
   "cell_type": "code",
   "execution_count": 4,
   "metadata": {},
   "outputs": [
    {
     "name": "stdout",
     "output_type": "stream",
     "text": [
      "[1, 1, 1, 2, 2]\n"
     ]
    },
    {
     "data": {
      "text/plain": [
       "3"
      ]
     },
     "execution_count": 4,
     "metadata": {},
     "output_type": "execute_result"
    }
   ],
   "source": [
    "# 960. Delete Columns to Make Sorted III,删除最少的column以满足每一行有序，注意是每一行\n",
    "# 其实就是最长递增子序列\n",
    "def minDeletionSize(A):\n",
    "    \"\"\"\n",
    "    :type A: List[str]\n",
    "    :rtype: int\n",
    "    \"\"\"\n",
    "    # 最长的共用LIS\n",
    "    m,n = len(A),len(A[0])\n",
    "    dp = [1 for _ in range(n)]#dp[j]为以当前j结尾的情况下，最长LIS\n",
    "    for i in range(1,n):\n",
    "        for j in range(i):\n",
    "            if all(a[i]>=a[j] for a in A):#当前元素大于之前元素，也就是有序\n",
    "                dp[i] = max(dp[i],dp[j]+1)\n",
    "    print(dp)\n",
    "    return n-max(dp)\n",
    "minDeletionSize([\"babca\",\"bbazb\"])"
   ]
  },
  {
   "cell_type": "code",
   "execution_count": 1,
   "metadata": {},
   "outputs": [
    {
     "data": {
      "text/plain": [
       "7"
      ]
     },
     "execution_count": 1,
     "metadata": {},
     "output_type": "execute_result"
    }
   ],
   "source": [
    "# 823. Binary Trees With Factors，给定数组，问以这些数组构成的根节点=children之积的二叉树的个数\n",
    "def numFactoredBinaryTrees(A):\n",
    "    \"\"\"\n",
    "    :type A: List[int]\n",
    "    :rtype: int\n",
    "    \"\"\"\n",
    "    mod = 10**9+7\n",
    "    dp = dict()#每个数作为根节点的二叉树个数\n",
    "    for i in sorted(A):\n",
    "        dp[i] = (sum(dp[j]*dp[i//j] for j in dp if i%j==0 and i//j in dp)+1)%mod\n",
    "    return sum(dp.values())%mod\n",
    "numFactoredBinaryTrees(A = [2, 4, 5, 10])"
   ]
  },
  {
   "cell_type": "code",
   "execution_count": 9,
   "metadata": {},
   "outputs": [
    {
     "data": {
      "text/plain": [
       "11"
      ]
     },
     "execution_count": 9,
     "metadata": {},
     "output_type": "execute_result"
    }
   ],
   "source": [
    "# 467. Unique Substrings in Wraparound String,字符串p中拥有的独一无二的封装字符串\n",
    "# 找出每个字符的各自最长连续字符串\n",
    "def findSubstringInWraproundString(p):\n",
    "    \"\"\"\n",
    "    :type p: str\n",
    "    :rtype: int\n",
    "    \"\"\"\n",
    "    p = p+'0'\n",
    "    dp = [0 for _ in range(26)]#每个字符结尾字符串的最大长度\n",
    "    idx = 0\n",
    "    while idx<len(p)-1:\n",
    "        start = idx\n",
    "        while idx<len(p)-1 and ord(p[idx+1])-ord(p[idx]) in [1,-25]:#如果有下一位\n",
    "            c = ord(p[idx])-ord('a')\n",
    "            idx+=1\n",
    "            curlen = idx-start\n",
    "            dp[c] = max(dp[c],curlen)\n",
    "        c = ord(p[idx])-ord('a')\n",
    "        idx+=1\n",
    "        dp[c] = max(dp[c],idx-start)\n",
    "    return sum(dp)\n",
    "\n",
    "import collections\n",
    "def findSubstringInWraproundString(p):\n",
    "    p, d, lo = '0'+p, collections.defaultdict(int), 0\n",
    "    for hi in range(1, len(p)):\n",
    "        if p[hi-1]+p[hi] not in 'abcdefghijklmnopqrstuvwxyza':#如果当前不满足，就更新最低端\n",
    "            lo = hi\n",
    "        d[p[hi]] = max(d[p[hi]], hi+1-lo)#满足，陆续更新长度\n",
    "    return sum(d.values())\n",
    "    \n",
    "def findSubstringInWraproundString(p):\n",
    "    res = {i: 1 for i in p}\n",
    "    l = 1\n",
    "    for i, j in zip(p, p[1:]):\n",
    "        l = l + 1 if (ord(j) - ord(i)) % 26 == 1 else 1\n",
    "        res[j] = max(res[j], l)\n",
    "    return sum(res.values())\n",
    "\n",
    "findSubstringInWraproundString('eabcd')\n",
    "\n",
    "# 如果是字符串的话\n",
    "# def findSubsequenceInWraproundString(p):\n",
    "#     dp = [0 for _ in range(26)]\n",
    "#     for i in range(len(p)):\n",
    "#         c = ord(p[i])-ord('a')\n",
    "#         dp[c] = max(dp[c],dp[(c-1)%26]+1)\n",
    "#     return sum(dp)\n",
    "# findSubsequenceInWraproundString('abcde')"
   ]
  },
  {
   "cell_type": "code",
   "execution_count": 12,
   "metadata": {},
   "outputs": [
    {
     "data": {
      "text/plain": [
       "7"
      ]
     },
     "execution_count": 12,
     "metadata": {},
     "output_type": "execute_result"
    }
   ],
   "source": [
    "# 1048. Longest String Chain,列表里可以构成string chain的最长长度（相邻之间相差1个char）\n",
    "# 每一个元素尝试做减法，如果减后的元素能被找到，则长度+1\n",
    "# 需要从长度由短到长，做排序\n",
    "import collections\n",
    "def longestStrChain(words):\n",
    "    \"\"\"\n",
    "    :type words: List[str]\n",
    "    :rtype: int\n",
    "    \"\"\"\n",
    "    words.sort(key=lambda x:len(x))\n",
    "    hashtable = collections.Counter()\n",
    "    for word in words:\n",
    "        temp = 1\n",
    "        for j in range(len(word)):\n",
    "            temp = max(temp,hashtable[word[:j]+word[j+1:]]+1)\n",
    "        hashtable[word]=temp\n",
    "    return max(hashtable.values())\n",
    "longestStrChain([\"ksqvsyq\",\"ks\",\"kss\",\"czvh\",\"zczpzvdhx\",\"zczpzvh\",\"zczpzvhx\",\"zcpzvh\",\"zczvh\",\"gr\",\"grukmj\",\"ksqvsq\",\"gruj\",\"kssq\",\"ksqsq\",\"grukkmj\",\"grukj\",\"zczpzfvdhx\",\"gru\"])"
   ]
  },
  {
   "cell_type": "code",
   "execution_count": 1,
   "metadata": {},
   "outputs": [
    {
     "data": {
      "text/plain": [
       "6"
      ]
     },
     "execution_count": 1,
     "metadata": {},
     "output_type": "execute_result"
    }
   ],
   "source": [
    "# 1105. Filling Bookcase Shelves,从左往右填充固定宽度的书架\n",
    "# 就是普通的双循环问题\n",
    "\n",
    "def minHeightShelves(books, shelf_width):\n",
    "    \"\"\"\n",
    "    :type books: List[List[int]]\n",
    "    :type shelf_width: int\n",
    "    :rtype: int\n",
    "    \"\"\"\n",
    "    dp = [0]+[float('inf') for _ in range(len(books))]\n",
    "    for i in range(len(books)):#对于第i本书，可以选择自身独立，也可以考虑逐渐和前面合并\n",
    "        j = i-1\n",
    "        curwidth,curheight = books[i]\n",
    "        dp[i+1] = dp[i]+curheight\n",
    "        while j>=0 and books[j][0]+curwidth<=shelf_width:\n",
    "            curwidth += books[j][0]\n",
    "            curheight = max(curheight,books[j][1])\n",
    "            dp[i+1] = min(dp[i+1],curheight+dp[j])\n",
    "            j = j-1\n",
    "    return dp[-1]\n",
    "minHeightShelves(books = [[1,1],[2,3],[2,3],[1,1],[1,1],[1,1],[1,2]], shelf_width = 4)"
   ]
  },
  {
   "cell_type": "code",
   "execution_count": 2,
   "metadata": {},
   "outputs": [
    {
     "data": {
      "text/plain": [
       "[1, 2, 4, 8]"
      ]
     },
     "execution_count": 2,
     "metadata": {},
     "output_type": "execute_result"
    }
   ],
   "source": [
    "# 368. Largest Divisible Subset，最多的能相互整除的集合\n",
    "# 先排序，对每个元素，检查前面的元素是否可以被整除，并判断最长长度，普通的双循环\n",
    "def largestDivisibleSubset(nums):\n",
    "    \"\"\"\n",
    "    :type nums: List[int]\n",
    "    :rtype: List[int]\n",
    "    \"\"\"\n",
    "    if not nums:\n",
    "        return []\n",
    "    nums.sort()\n",
    "    dp = [[nums[0]]]\n",
    "    curmax = 0\n",
    "    for i in range(1,len(nums)):\n",
    "        index= -1#对应的最长整除index\n",
    "        for j in range(i):\n",
    "            if nums[i]%nums[j]==0:#如果能整除，如果之前没有，或者比当前更短\n",
    "                if index==-1 or len(dp[j])>len(dp[index]):\n",
    "                    index = j\n",
    "        if index==-1:\n",
    "            dp.append([nums[i]])\n",
    "        else:\n",
    "            dp.append(dp[index]+[nums[i]])\n",
    "        if len(dp[i])>len(dp[curmax]):\n",
    "            curmax = i\n",
    "    return dp[curmax]\n",
    "largestDivisibleSubset([1,2,4,8])"
   ]
  },
  {
   "cell_type": "code",
   "execution_count": 20,
   "metadata": {},
   "outputs": [
    {
     "data": {
      "text/plain": [
       "7"
      ]
     },
     "execution_count": 20,
     "metadata": {},
     "output_type": "execute_result"
    }
   ],
   "source": [
    "# 377. Combination Sum IV: 通过nums中的数构成target的排列方式，可重复，不同顺序\n",
    "def combinationSum4(nums, target):\n",
    "    if not nums:\n",
    "        return 0\n",
    "    dp = [0 for _ in range(target+1)]\n",
    "    dp[0]=1\n",
    "    for i in range(min(nums),target+1):\n",
    "        for j in nums:\n",
    "            if j<=i:\n",
    "                dp[i] += dp[i-j]\n",
    "    return dp[-1]\n",
    "combinationSum4(nums = [1, 2, 3],target = 4)"
   ]
  },
  {
   "cell_type": "code",
   "execution_count": 3,
   "metadata": {},
   "outputs": [
    {
     "name": "stdout",
     "output_type": "stream",
     "text": [
      "{(1, -2): 1, (2, 0): 1, (2, 2): 1, (3, 2): 3, (3, 4): 1, (4, 4): 2, (4, 6): 1, (4, 2): 4}\n"
     ]
    },
    {
     "data": {
      "text/plain": [
       "4"
      ]
     },
     "execution_count": 3,
     "metadata": {},
     "output_type": "execute_result"
    }
   ],
   "source": [
    "# 等差数列\n",
    "# 1218. Longest Arithmetic Subsequence of Given Difference, 最长的以difference等差序列\n",
    "def longestSubsequence(arr, difference):\n",
    "    \"\"\"\n",
    "    :type arr: List[int]\n",
    "    :type difference: int\n",
    "    :rtype: int\n",
    "    \"\"\"\n",
    "    # hashtable[i],目前为止以i结尾的序列的最长长度\n",
    "    hashtable = dict()\n",
    "    for i in arr:\n",
    "        hashtable[i] = max(hashtable.get(i,0),hashtable.get(i-difference,0)+1)\n",
    "    return max(hashtable.values())\n",
    "\n",
    "longestSubsequence(arr = [1,2,3,4], difference = 1)\n",
    "\n",
    "# 413. Arithmetic Slices,等差subarray的数量\n",
    "def numberOfArithmeticSlices(A):\n",
    "    \"\"\"\n",
    "    :type A: List[int]\n",
    "    :rtype: int\n",
    "    \"\"\"\n",
    "    res = 0\n",
    "    cur = 0\n",
    "    for i in range(2,len(A)):\n",
    "        if A[i]+A[i-2]==2*A[i-1]:\n",
    "            cur = cur+1\n",
    "            res+=cur\n",
    "        else:\n",
    "            cur = 0\n",
    "    return res\n",
    "numberOfArithmeticSlices(A = [1, 2, 3, 4])\n",
    "\n",
    "# 1027. Longest Arithmetic Sequence,最长的等差子序列\n",
    "import collections\n",
    "def longestArithSeqLength(A):\n",
    "    \"\"\"\n",
    "    :type A: List[int]\n",
    "    :rtype: int\n",
    "    \"\"\"\n",
    "    dp = dict()\n",
    "    for i in range(len(A)):\n",
    "        for j in range(i+1,len(A)):\n",
    "            d = A[j] - A[i]\n",
    "            if d==0:# 如果以值作为存储的话，就必须要考虑值相同的情况，强烈不建议用值存储\n",
    "                continue\n",
    "            dp[(A[j],d)] = max(dp.get((A[j],d),1),dp.get((A[i],d),1)+1)\n",
    "    return max(max(maxdp.values()),max((collections.Counter(A)).values()))\n",
    "\n",
    "def longestArithSeqLength(A):\n",
    "    \"\"\"\n",
    "    :type A: List[int]\n",
    "    :rtype: int\n",
    "    \"\"\"\n",
    "    dp = dict()# (A[i],d)，以ind结尾，d为差的最长长度\n",
    "    for i in range(len(A)):\n",
    "        for j in range(i+1,len(A)):\n",
    "            d = A[j] - A[i]\n",
    "            dp[(j,d)] = dp.get((i,d),1)+1\n",
    "#后面的一定比前面的大，如果(j,d)在(i0,d)上取得最大值，那么在i0之后的i1，一定可以取到和i0一样大的情况，所以这里不用max\n",
    "    return max(dp.values())\n",
    "\n",
    "arr = [9,4,7,2,10]\n",
    "# arr = [12,28,13,6,34,36,53,24,29,2,23,0,22,25,53,34,23,50,35,43,53,11,48,56,44,53,31,6,31,57,46,6,17,42,48,28,5,24,0,14,43,12,21,6,30,37,16,56,19,45,51,10,22,38,39,23,8,29,60,18]\n",
    "longestArithSeqLength(arr)\n",
    "\n",
    "# 446. Arithmetic Slices II - Subsequence,等差序列的个数\n",
    "# 保存的是当前元素和以某个gap结尾的长度超过2的个数，这样后续的每一个可以添加上去的数，都刚好满足\n",
    "\n",
    "def numberOfArithmeticSlices2(A):\n",
    "    \"\"\"\n",
    "    :type A: List[int]\n",
    "    :rtype: int\n",
    "    \"\"\"\n",
    "    res = 0\n",
    "    dp = dict()#以当前元素和某一个gap结尾的个数\n",
    "    for i in range(len(A)):\n",
    "        for j in range(i):\n",
    "            gap = A[i]-A[j]\n",
    "            dp[(i,gap)] = dp.get((i,gap),0)+1#这个是最新的pair，可能由于长度为2，所以不能计入结果\n",
    "            if (j,gap) in dp:\n",
    "                dp[(i,gap)] += dp[(j,gap)]\n",
    "                res += dp[(j,gap)]#计入结果的其实是上一个\n",
    "    print(dp)\n",
    "    return res\n",
    "numberOfArithmeticSlices2([6, 4, 6, 8, 10])\n"
   ]
  },
  {
   "cell_type": "code",
   "execution_count": null,
   "metadata": {},
   "outputs": [],
   "source": []
  },
  {
   "cell_type": "code",
   "execution_count": 1,
   "metadata": {},
   "outputs": [
    {
     "data": {
      "text/plain": [
       "1"
      ]
     },
     "execution_count": 1,
     "metadata": {},
     "output_type": "execute_result"
    }
   ],
   "source": [
    "# 1395. Count Number of Teams，array中构成三数递增或者递减的数量\n",
    "def numTeams(rating):\n",
    "    \"\"\"\n",
    "    :type rating: List[int]\n",
    "    :rtype: int\n",
    "    \"\"\"\n",
    "    greater = [0 for _ in range(len(rating))]\n",
    "    less =  [0 for _ in range(len(rating))]\n",
    "\n",
    "    for i in range(len(rating)):\n",
    "        for j in range(i+1,len(rating)):\n",
    "            if rating[i]>rating[j]:\n",
    "                less[i]+=1\n",
    "            elif rating[i]<rating[j]:\n",
    "                greater[i]+=1\n",
    "    res = 0\n",
    "    for i in range(len(rating)):\n",
    "        for j in range(i+1,len(rating)):\n",
    "            if rating[i]>rating[j]:\n",
    "                res+=less[j]\n",
    "            elif rating[i]<rating[j]:\n",
    "                res+=greater[j]\n",
    "    return res\n",
    "\n",
    "numTeams([1,4,2,3])"
   ]
  },
  {
   "cell_type": "code",
   "execution_count": 14,
   "metadata": {},
   "outputs": [
    {
     "name": "stdout",
     "output_type": "stream",
     "text": [
      "[True, False, False, True, True, False, False, True, False, False]\n"
     ]
    },
    {
     "data": {
      "text/plain": [
       "False"
      ]
     },
     "execution_count": 14,
     "metadata": {},
     "output_type": "execute_result"
    }
   ],
   "source": [
    "# 139. Word Break: 通过wordDict中的词能否构成s，用dfs会超时\n",
    "# dp[i] = dp[i] or (dp[i-len(j)] and s[i-len(j):i]==j)\n",
    "def wordBreak(s, wordDict):\n",
    "    \"\"\"\n",
    "    :type s: str\n",
    "    :type wordDict: List[str]\n",
    "    :rtype: bool\n",
    "    \"\"\"\n",
    "    length = len(s)\n",
    "    if not wordDict and s:\n",
    "        return False\n",
    "    dp = [False for _ in range(length+1)]\n",
    "    dp[0] = True\n",
    "    minimum = min([len(i) for i in wordDict])\n",
    "    for i in range(minimum,length+1):\n",
    "        for j in wordDict:\n",
    "            if i>=len(j):\n",
    "                dp[i] = dp[i] or (dp[i-len(j)] and s[i-len(j):i]==j)\n",
    "    print(dp)\n",
    "    return dp[-1]\n",
    "wordBreak(s = \"catsandog\", wordDict = [\"cats\", \"dog\", \"sand\", \"and\", \"cat\"])"
   ]
  },
  {
   "cell_type": "code",
   "execution_count": 15,
   "metadata": {},
   "outputs": [],
   "source": [
    "# 140, Word Break2,返回上述路径，但是会遇到无路径的情况下TLE，可以先调取#139题判断其是否可分\n",
    "# 用dp，dp中的每个元素记住之前的路径\n",
    "def wordBreak2(s, wordDict):\n",
    "    if not wordDict and s:\n",
    "        return []\n",
    "    minlength = min(map(len,wordDict))\n",
    "    dp = [[] for _ in range(len(s)+1)]\n",
    "    dp[0] = [\"\"]\n",
    "    for i in range(minlength,len(s)+1):\n",
    "        for word in wordDict:\n",
    "            if len(word)<=i:\n",
    "                if s[i-len(word):i] == word and dp[i-len(word)]:\n",
    "                    temp = [ele+\" \"+word if ele!=\"\" else ele+word for ele in dp[i-len(word)]]\n",
    "                    dp[i]+=temp\n",
    "    return dp[-1]\n",
    "# 也可以用DFS记住路径的方法\n",
    "\n",
    "def wordBreak2(s,wordDict):\n",
    "    if not canBreak(s, wordDict):\n",
    "        return []\n",
    "    length = len(s)\n",
    "    ans = []\n",
    "    def dfs(cur,ans,path):\n",
    "        if cur == length:\n",
    "            ans.append(path[1:])\n",
    "        for word in wordDict:\n",
    "            if len(word)<=length-cur and word==s[cur:cur+len(word)]:\n",
    "                dfs(cur+len(word),ans,path+' '+word)\n",
    "    dfs(0,ans,'')\n",
    "    return ans\n",
    "\n",
    "def wordBreak(s, wordDict):\n",
    "    \"\"\"\n",
    "    :type s: str\n",
    "    :type wordDict: List[str]\n",
    "    :rtype: List[str]\n",
    "    \"\"\"\n",
    "    dp = dict()\n",
    "    def dfs(index):\n",
    "        if index in dp:\n",
    "            return dp[index]\n",
    "        if index==len(s):\n",
    "            return [\"\"]\n",
    "        cur = []\n",
    "        for c in wordDict:\n",
    "            if len(s)-index>=len(c) and s[index:index+len(c)]==c:\n",
    "                temp = dfs(index+len(c))\n",
    "                if not temp:\n",
    "                    continue\n",
    "                elif temp==[\"\"]:\n",
    "                    cur.append(c)\n",
    "                else:\n",
    "                    for t in temp:\n",
    "                        cur.append(c+\" \"+t)\n",
    "        dp[index] = cur\n",
    "        return cur\n",
    "    return dfs(0)"
   ]
  },
  {
   "cell_type": "code",
   "execution_count": 1,
   "metadata": {},
   "outputs": [],
   "source": [
    "# 1049. Last Stone Weight II\n",
    "# 将nums分成两个部分，两部分差值的最小值\n",
    "# 求出所有可能的和\n",
    "def lastStoneWeightII(stones):\n",
    "    \"\"\"\n",
    "    :type stones: List[int]\n",
    "    :rtype: int\n",
    "    \"\"\"\n",
    "    cursum = {0}\n",
    "    sums = sum(stones)\n",
    "    for i in stones:\n",
    "        cursum = cursum | {i+j for j in cursum}\n",
    "    return min([abs(sums-2*i) for i in cursum])"
   ]
  },
  {
   "cell_type": "code",
   "execution_count": 2,
   "metadata": {},
   "outputs": [
    {
     "data": {
      "text/plain": [
       "0.03125"
      ]
     },
     "execution_count": 2,
     "metadata": {},
     "output_type": "execute_result"
    }
   ],
   "source": [
    "# 1230. Toss Strange Coins, 多个硬币中选target个的概率\n",
    "def probabilityOfHeads(prob, target):\n",
    "    \"\"\"\n",
    "    :type prob: List[float]\n",
    "    :type target: int\n",
    "    :rtype: float\n",
    "    \"\"\"\n",
    "    dp = [1]\n",
    "    for i in range(len(prob)):\n",
    "        newdp = [0]+[prob[i]*dp[j] for j in range(len(dp))]\n",
    "        dp = [(1-prob[i])*t for t in dp]+[0]\n",
    "        dp = [dp[j]+newdp[j] for j in range(len(dp))]\n",
    "    return dp[target]\n",
    "\n",
    "probabilityOfHeads(prob = [0.5,0.5,0.5,0.5,0.5], target = 0)"
   ]
  },
  {
   "cell_type": "code",
   "execution_count": 83,
   "metadata": {},
   "outputs": [
    {
     "data": {
      "text/plain": [
       "411743991"
      ]
     },
     "execution_count": 83,
     "metadata": {},
     "output_type": "execute_result"
    }
   ],
   "source": [
    "# 1416. Restore The Array\n",
    "# 拆分s的方法，使得每个数都位于1-k之间\n",
    "def numberOfArrays(s, k):\n",
    "    \"\"\"\n",
    "    :type s: str\n",
    "    :type k: int\n",
    "    :rtype: int\n",
    "    \"\"\"\n",
    "    # 拆分s的方法，使得每个数都位于1-k之间\n",
    "    mod = 10**9+7\n",
    "    dp = [1]+[0 for _ in range(len(s))]\n",
    "    lk = len(str(k))\n",
    "    for i in range(len(s)):\n",
    "        for j in range(i,max(-1,i-lk),-1):#拆分与前面lenk个有关\n",
    "            if s[j]!='0' and int(s[j:i+1])<=k:#如果可以拆分，加上\n",
    "                dp[i+1]+=dp[j]\n",
    "        dp[i+1]%=mod\n",
    "    return dp[-1]%mod\n",
    "\n",
    "numberOfArrays(\"600342244431311113256628376226052681059918526204\",703)"
   ]
  },
  {
   "cell_type": "markdown",
   "metadata": {},
   "source": [
    "# 状态演化，记录状态个数，每一步更新\n",
    "#### 一般种类很多，需要用mod，用DFS/BFS复杂度很高\n",
    "494. Target Sum,一个列表通过加减构成S的种类，从左到右通过hashtable统计次数\n",
    "576. Out of Boundary Paths, 给定网格中的坐标点，问N步内走出网格的方式，每一步更新状态\n",
    "688. Knight Probability in Chessboard,N*N的棋盘，knight在K步内还停留在棋盘内的概率\n",
    "935. Knight Dialer,每一步决定下一步，问总共多少种走法\n",
    "1269. Number of Ways to Stay in the Same Place After Some Steps\n",
    "1155. Number of Dice Rolls With Target Sum，面值为1-f的色子，投掷d次，和为target的方式"
   ]
  },
  {
   "cell_type": "code",
   "execution_count": 13,
   "metadata": {},
   "outputs": [
    {
     "name": "stdout",
     "output_type": "stream",
     "text": [
      "{1: 1, -1: 1}\n"
     ]
    },
    {
     "data": {
      "text/plain": [
       "5"
      ]
     },
     "execution_count": 13,
     "metadata": {},
     "output_type": "execute_result"
    }
   ],
   "source": [
    "# 494. Target Sum,一个列表通过加减构成S的种类，从左到右通过hashtable统计次数，和四个列表的和比较像\n",
    "def findTargetSumWays(nums, S):\n",
    "    if not nums:\n",
    "        return 0\n",
    "    dic = {nums[0]: 1, -nums[0]: 1} if nums[0] != 0 else {0: 2}\n",
    "    print(dic)\n",
    "    for i in range(1, len(nums)):\n",
    "        tdic = {}\n",
    "        for d in dic:\n",
    "            tdic[d + nums[i]] = tdic.get(d + nums[i], 0) + dic.get(d, 0)\n",
    "            tdic[d - nums[i]] = tdic.get(d - nums[i], 0) + dic.get(d, 0)\n",
    "        dic = tdic\n",
    "    return dic.get(S, 0)\n",
    "\n",
    "findTargetSumWays([1,1,1,1,1],3)"
   ]
  },
  {
   "cell_type": "code",
   "execution_count": 9,
   "metadata": {},
   "outputs": [
    {
     "data": {
      "text/plain": [
       "0.0"
      ]
     },
     "execution_count": 9,
     "metadata": {},
     "output_type": "execute_result"
    }
   ],
   "source": [
    "# 688. Knight Probability in Chessboard,N*N的棋盘，knight在K步内还停留在棋盘内的概率\n",
    "# 下一步一定与上一步相关，每次更新状态\n",
    "def knightProbability(N, K, r, c):\n",
    "    \"\"\"\n",
    "    :type N: int\n",
    "    :type K: int\n",
    "    :type r: int,从(r,c)出发\n",
    "    :type c: int\n",
    "    :rtype: float\n",
    "    \"\"\"\n",
    "    directions = [(-2,-1),(-2,1),(2,1),(2,-1),(-1,2),(1,2),(-1,-2),(1,-2)]\n",
    "    points = {(r,c):1}\n",
    "    for k in range(K):\n",
    "        points2 = dict()\n",
    "        for point in points:\n",
    "            for direction in directions:\n",
    "                x = point[0]+direction[0]\n",
    "                y = point[1]+direction[1]\n",
    "                if 0<=x<N and 0<=y<N:\n",
    "                    points2[(x,y)]=points2.get((x,y),0)+points[point]\n",
    "        points = points2\n",
    "    return sum(points.values())/8**K\n",
    "\n",
    "knightProbability(2, 2, 0, 0)"
   ]
  },
  {
   "cell_type": "code",
   "execution_count": 11,
   "metadata": {},
   "outputs": [
    {
     "data": {
      "text/plain": [
       "46"
      ]
     },
     "execution_count": 11,
     "metadata": {},
     "output_type": "execute_result"
    }
   ],
   "source": [
    "# 935. Knight Dialer,每一步决定下一步，问总共多少种走法\n",
    "# dp[i][j] = sum(dp[nex][j-1] for nex in (i能走到的位置) )\n",
    "def knightDialer(N):\n",
    "    \"\"\"\n",
    "    :type N: int\n",
    "    :rtype: int\n",
    "    \"\"\"\n",
    "    nextstep = {0:[4,6],1:[6,8],2:[7,9],3:[4,8],4:[0,3,9],5:[],6:[0,1,7],7:[2,6],8:[1,3],9:[2,4]}\n",
    "    dp = [1 for _ in range(10)]\n",
    "    mod = 10**9+7\n",
    "    for _ in range(N-1):\n",
    "        newdp = [0 for _ in range(10)]\n",
    "        for j in range(10):\n",
    "            for k in nextstep[j]:\n",
    "                newdp[k] += dp[j]\n",
    "        dp = [i%mod for i in newdp]\n",
    "    return sum(dp)%mod\n",
    "knightDialer(3)"
   ]
  },
  {
   "cell_type": "code",
   "execution_count": 10,
   "metadata": {},
   "outputs": [
    {
     "data": {
      "text/plain": [
       "2"
      ]
     },
     "execution_count": 10,
     "metadata": {},
     "output_type": "execute_result"
    }
   ],
   "source": [
    "# 1269. Number of Ways to Stay in the Same Place After Some Steps\n",
    "# 每一次可以向左或者向右走一步或者stay，总共steps步，总长度为arrLen，从0出发，问有多少种回到原点的方式\n",
    "def numWays(steps, arrLen):\n",
    "    \"\"\"\n",
    "    :type steps: int\n",
    "    :type arrLen: int\n",
    "    :rtype: int\n",
    "    \"\"\"\n",
    "    points = {0:1}\n",
    "    const = 10**9+7\n",
    "    for i in range(steps):\n",
    "        points2 = dict()\n",
    "        for d in [-1,0,1]:\n",
    "            for point in points:\n",
    "                x = d+point\n",
    "                if 0<=x<arrLen:\n",
    "                    points2[x] = (points2.get(x,0)+points[point])%const\n",
    "        points = points2\n",
    "    return points[0]\n",
    "numWays(2,2)"
   ]
  },
  {
   "cell_type": "code",
   "execution_count": 18,
   "metadata": {},
   "outputs": [
    {
     "data": {
      "text/plain": [
       "124"
      ]
     },
     "execution_count": 18,
     "metadata": {},
     "output_type": "execute_result"
    }
   ],
   "source": [
    "# 576. Out of Boundary Paths, 给定网格中的坐标点，问N步内走出网格的方式，每一步更新状态\n",
    "def findPaths(m, n, N, i, j):\n",
    "    \"\"\"\n",
    "    :type m: int\n",
    "    :type n: int\n",
    "    :type N: int\n",
    "    :type i: int\n",
    "    :type j: int\n",
    "    :rtype: int\n",
    "    \"\"\"\n",
    "    dp = dict()\n",
    "    dp[(i,j)] = 1\n",
    "    res = 0\n",
    "    mod = 10**9+7\n",
    "    for _ in range(N):\n",
    "        newdp = dict()\n",
    "        for i,j in dp:\n",
    "            for dx,dy in [(-1,0),(1,0),(0,1),(0,-1)]:\n",
    "                x = dx+i\n",
    "                y = dy+j\n",
    "                if 0<=x<m and 0<=y<n:\n",
    "                    if (x,y) not in newdp:\n",
    "                        newdp[(x,y)] = 0\n",
    "                    newdp[(x,y)] +=dp[(i,j)]\n",
    "                else:\n",
    "                    res+=dp[(i,j)]\n",
    "        res = res%mod\n",
    "        dp = newdp\n",
    "    return res\n",
    "findPaths(5,5,5,2,3)"
   ]
  },
  {
   "cell_type": "code",
   "execution_count": 1,
   "metadata": {},
   "outputs": [
    {
     "data": {
      "text/plain": [
       "222616187"
      ]
     },
     "execution_count": 1,
     "metadata": {},
     "output_type": "execute_result"
    }
   ],
   "source": [
    "# 1155. Number of Dice Rolls With Target Sum, 面值为1-f的色子，投掷d次，和为target的方式\n",
    "def numRollsToTarget(d, f, target):\n",
    "    \"\"\"\n",
    "    :type d: int\n",
    "    :type f: int\n",
    "    :type target: int\n",
    "    :rtype: int\n",
    "    \"\"\"\n",
    "    hashtable = {0:1}\n",
    "    mod = 10**9+7\n",
    "    for i in range(d):\n",
    "        newhashtable = dict()\n",
    "        for val in range(1,f+1):\n",
    "            for key in hashtable:\n",
    "                if val+key<=target:\n",
    "                    if val+key not in newhashtable:\n",
    "                        newhashtable[val+key] = 0\n",
    "                    newhashtable[val+key]+=hashtable[key]\n",
    "        hashtable = {key:newhashtable[key]%mod for key in newhashtable}\n",
    "    return hashtable[target] if target in hashtable else 0\n",
    "numRollsToTarget(30,30,500)"
   ]
  },
  {
   "cell_type": "markdown",
   "metadata": {},
   "source": [
    "# 区间DP，长度变化\n",
    "312. Burst Balloons,去掉一个数，代价是这个数与相邻两个数的乘积，求最大代价\n",
    "546. Remove Boxes, 数组中可以删除连续的相同数，代价为出现次数的平方\n",
    "664. Strange Printer\n",
    "1000. Minimum Cost to Merge Stones，合并K个相邻数的最小代价\n",
    "1039. Minimum Score Triangulation of Polygon"
   ]
  },
  {
   "cell_type": "code",
   "execution_count": 3,
   "metadata": {},
   "outputs": [
    {
     "data": {
      "text/plain": [
       "167"
      ]
     },
     "execution_count": 3,
     "metadata": {},
     "output_type": "execute_result"
    }
   ],
   "source": [
    "# 312. Burst Balloons,去掉一个数，代价是这个数与相邻两个数的乘积，求最大代价\n",
    "def maxCoins(nums):\n",
    "    \"\"\"\n",
    "    :type nums: List[int]\n",
    "    :rtype: int\n",
    "    \"\"\"\n",
    "    n = len(nums)\n",
    "    nums = [1] + nums + [1]\n",
    "    dp = [[0 for _ in range(len(nums))] for _ in range(len(nums))]\n",
    "    for dt in range(n):\n",
    "        for i in range(1,1+n-dt):\n",
    "            j = i+dt#[i,j]区间内的最大代价\n",
    "#             if dt==0:\n",
    "#                 dp[i][j] = nums[i]\n",
    "#             if dt==1:\n",
    "#                 dp[i][j] = nums[i]*nums[j]+max(nums[i],nums[j])\n",
    "            for k in range(i,j+1):\n",
    "                dp[i][j] = max(dp[i][j],dp[i][k-1]+dp[k+1][j]+nums[i-1]*nums[j+1]*nums[k])\n",
    "    return dp[1][n]\n",
    "maxCoins([3,1,5,8])"
   ]
  },
  {
   "cell_type": "code",
   "execution_count": 82,
   "metadata": {},
   "outputs": [
    {
     "data": {
      "text/plain": [
       "25"
      ]
     },
     "execution_count": 82,
     "metadata": {},
     "output_type": "execute_result"
    }
   ],
   "source": [
    "# 1000. Minimum Cost to Merge Stones，合并K个相邻数的最小代价\n",
    "def mergeStones(stones, K):\n",
    "    \"\"\"\n",
    "    :type stones: List[int]\n",
    "    :type K: int\n",
    "    :rtype: int\n",
    "    \"\"\"\n",
    "    # The minimum cost to merge stones[i .. j] into 1 pile equals to\n",
    "    # the minimum cost to merge stones[i .. j] into K piles + sum(nums[i .. j])\n",
    "    # The minimum cost to merge stones[i .. j] into K piles equals to\n",
    "    # the minimum cost to make stones[i .. k] form 1 pile ((k - i) % (K - 1) == 0)\n",
    "    # plus the minimum cost to merge stones[k + 1 .. j] into (K - 1) piles\n",
    "    if (len(stones)-1)%(K-1)!=0:\n",
    "        return -1\n",
    "    presum = [0]\n",
    "    for i in stones:\n",
    "        presum.append(presum[-1]+i)\n",
    "    dp = dict()\n",
    "\n",
    "    def recursive(i,j,piles):#将i-j合并成piles部分所需要的代价\n",
    "        if i==j and piles==1:\n",
    "            return 0\n",
    "#         if (j - i + 1 - piles) % (K - 1) != 0: \n",
    "#             return float('inf')  # means impossible\n",
    "        if (i,j,piles) in dp:\n",
    "            return dp[(i,j,piles)]\n",
    "        if piles==1:#如果合成一堆，那么相当于将i-j的元素分成K堆，然后再合并\n",
    "            dp[(i,j,piles)] = recursive(i,j,K)+presum[j+1]-presum[i]\n",
    "            return dp[(i,j,piles)]\n",
    "        minimum = float('inf')\n",
    "        for t in range(i,j,K-1):#如果合成piles堆，相当于从i到t合成1堆，后面的合成piles-1堆\n",
    "            minimum = min(minimum,recursive(i,t,1)+recursive(t+1,j,piles-1))\n",
    "        dp[(i,j,piles)]=minimum\n",
    "        return minimum\n",
    "    return recursive(0,len(stones)-1,1)\n",
    "\n",
    "mergeStones(stones = [3,5,1,2,6], K = 3)\n",
    "\n",
    "# 不太理解这个做法\n",
    "def mergeStones(stones, K):\n",
    "    if (len(stones)-1)%(K-1)!=0:\n",
    "        return -1\n",
    "    presum = [0]\n",
    "    for i in stones:\n",
    "        presum.append(presum[-1]+i)\n",
    "        \n",
    "    dp = [[0 for _ in range(len(stones))] for _ in range(len(stones))]\n",
    "    \n",
    "    for dt in range(K-1,len(stones)):#dt+1的长度，K-1开始\n",
    "        for i in range(len(stones)-dt):\n",
    "            j  = i+dt#从i到j\n",
    "            minimum = float('inf')\n",
    "            for t in range(i,j,K-1):\n",
    "                minimum = min(minimum,dp[i][t]+dp[t+1][j])\n",
    "            dp[i][j] = minimum+(presum[j+1]-presum[i] if dt%(K-1)==0 else 0)#如果能融合成1个，则相加\n",
    "    return dp[0][-1]\n",
    "mergeStones(stones = [3,5,1,2,6], K = 3)             "
   ]
  },
  {
   "cell_type": "code",
   "execution_count": 3,
   "metadata": {},
   "outputs": [
    {
     "data": {
      "text/plain": [
       "23"
      ]
     },
     "execution_count": 3,
     "metadata": {},
     "output_type": "execute_result"
    }
   ],
   "source": [
    "# 546. Remove Boxes, 数组中可以删除连续的相同数，代价为出现次数的平方\n",
    "# 起初我是准备按照普通的二维情况来做，但如果出现多次合并，将会很难处理\n",
    "# dp[(i,j,k)] 为从i到j，前面有k个和i号元素相同的情况\n",
    "# 对于(i,j,k)的情况，先把i后面和ai一样的元素并入\n",
    "# 从j-k中如果出现和ai一样的元素，可以考虑将其并入，也可以考虑不并入\n",
    "def removeBoxes(boxes):\n",
    "    \"\"\"\n",
    "    :type boxes: List[int]\n",
    "    :rtype: int\n",
    "    \"\"\"\n",
    "    dp = dict()\n",
    "\n",
    "    def dfs(i,j,k):#从i-j，前面有k个与ai一样的\n",
    "        if i>j:\n",
    "            return 0\n",
    "        if (i,j,k) in dp:\n",
    "            return dp[(i,j,k)]\n",
    "#         if i==j:\n",
    "#             dp[(i,j,k)] = (k+1)**2\n",
    "#             return dp[(i,j,k)]\n",
    "\n",
    "        cur = i+1\n",
    "        while cur<=j and boxes[cur]==boxes[i]:\n",
    "            cur+=1\n",
    "        i,j,k = cur-1,j,k+cur-i-1\n",
    "\n",
    "        maximum = (k+1)**2+dfs(i+1,j,0)\n",
    "        for m in range(i+1,j+1):\n",
    "            if boxes[m]==boxes[i]:\n",
    "                maximum = max(maximum,dfs(i+1,m-1,0)+dfs(m,j,k+1))\n",
    "        dp[(i,j,k)] = maximum\n",
    "        return dp[(i,j,k)]\n",
    "\n",
    "    return dfs(0,len(boxes)-1,0)\n",
    "\n",
    "removeBoxes(boxes = [1,3,2,2,2,3,4,3,1])"
   ]
  },
  {
   "cell_type": "code",
   "execution_count": 2,
   "metadata": {},
   "outputs": [
    {
     "data": {
      "text/plain": [
       "3"
      ]
     },
     "execution_count": 2,
     "metadata": {},
     "output_type": "execute_result"
    }
   ],
   "source": [
    "# 664. Strange Printer，可以出现重复覆盖，本质上也是一个元素寻找另一个元素，和#546 Remove Boxes题目很像\n",
    "def strangePrinter(s):\n",
    "    \"\"\"\n",
    "    :type s: str\n",
    "    :rtype: int\n",
    "    \"\"\"\n",
    "    dp = dict()\n",
    "    def dfs(i,j):#从i到j所需要的步数,#从i到j，前面有k个和s[i]一样的元素\n",
    "        if (i,j) in dp:\n",
    "            return dp[(i,j)]\n",
    "        if j<i:\n",
    "            return 0\n",
    "        cur = i+1\n",
    "        while cur<=j and s[cur]==s[i]:\n",
    "            cur+=1\n",
    "        i,j= cur-1,j#先将前面一样的删除掉\n",
    "        minimum = 1+dfs(i+1,j)#可能是第一个单独打印\n",
    "        for m in range(i+1,j+1):\n",
    "            if s[m]==s[i]:#或者和后面的打印\n",
    "                minimum = min(minimum,dfs(i+1,m-1)+dfs(m,j))\n",
    "        dp[(i,j)] = minimum\n",
    "        return minimum\n",
    "    return dfs(0,len(s)-1)\n",
    "strangePrinter(\"aaaabab\")"
   ]
  },
  {
   "cell_type": "markdown",
   "metadata": {},
   "source": [
    "# K份"
   ]
  },
  {
   "cell_type": "code",
   "execution_count": 166,
   "metadata": {},
   "outputs": [
    {
     "data": {
      "text/plain": [
       "20.0"
      ]
     },
     "execution_count": 166,
     "metadata": {},
     "output_type": "execute_result"
    }
   ],
   "source": [
    "# 813. Largest Sum of Averages,将array分割成K份，每份平均值的和的最大值\n",
    "# 状态方程：dp[i][j][k]=max(dp[i][j][k],dp[i][s][k−1]+Sum(s+1,j)/j−s),s 为区间 [i,j] 之间的一个分割点\n",
    "\n",
    "def largestSumOfAverages(A, K):\n",
    "    \"\"\"\n",
    "    :type A: List[int]\n",
    "    :type K: int\n",
    "    :rtype: float\n",
    "    \"\"\"\n",
    "    # dp[i][j][k] 为从i到j分割成k+1段对应的largest sum\n",
    "    dp = [[[0 for _ in range(K)] for _ in range(len(A))] for _ in range(len(A))]\n",
    "    presum = [0]\n",
    "    for i in A:\n",
    "        presum.append(presum[-1]+i)\n",
    "    for i in range(len(A)):\n",
    "        for j in range(i,len(A)):\n",
    "            dp[i][j][0]= (presum[j+1]-presum[i])*1.0/(j-i+1)#从i-j分割成1段\n",
    "            for k in range(1,K):#从i到j，共j-i+1个元素，分割成k+1段\n",
    "#                 temp= 0\n",
    "#                 for t in range(i+k-1,j):#从i到t共t-i+1个元素，分割成k段，从t+1到j共j-t个元素，分割成1段\n",
    "# #                     print(i,j,k,t,dp[i][t][k-1]+(presum[j+1]-presum[t+1])*1.0/(j-t))\n",
    "#                     temp = max(temp,dp[i][t][k-1]+(presum[j+1]-presum[t+1])*1.0/(j-t))\n",
    "#                 dp[i][j][k]=temp\n",
    "                dp[i][j][k] = max([dp[i][t][k-1]+(presum[j+1]-presum[t+1])*1.0/(j-t) for t in range(i+k-1,j)]+[0])\n",
    "    return dp[0][-1][-1]\n",
    "\n",
    "largestSumOfAverages(A = [9,1,2,3,9],K = 3)\n",
    "\n",
    "def largestSumOfAverages(A, K):\n",
    "    \"\"\"\n",
    "    :type A: List[int]\n",
    "    :type K: int\n",
    "    :rtype: float\n",
    "    \"\"\"\n",
    "    # dp[i][k] 为从0到i分割成k+1段对应的largest sum\n",
    "    dp = [[0 for _ in range(K)] for _ in range(len(A))]\n",
    "    presum = [0]\n",
    "    for i in A:\n",
    "        presum.append(presum[-1]+i)\n",
    "    for i in range(len(A)):\n",
    "        dp[i][0]= presum[i+1]*1.0/(i+1)#从0-i分割成1段\n",
    "        for k in range(1,K):#从0到i，共i+1个元素，分割成k+1段\n",
    "            #从0到t共t+1个元素，分割成k段，从t+1到i共j-t个元素，分割成1段\n",
    "            dp[i][k] = max([dp[t][k-1]+(presum[i+1]-presum[t+1])*1.0/(i-t) for t in range(k-1,i)]+[0])\n",
    "    return dp[-1][-1]\n",
    "\n",
    "largestSumOfAverages(A = [9,1,2,3,9],K = 3)\n",
    "\n",
    "def largestSumOfAverages(A, K):\n",
    "    \"\"\"\n",
    "    :type A: List[int]\n",
    "    :type K: int\n",
    "    :rtype: float\n",
    "    \"\"\"\n",
    "    memo = {}\n",
    "    def search(n, k):\n",
    "        if (n, k) in memo: return memo[n, k]\n",
    "        if n < k: return 0\n",
    "        if k == 1:\n",
    "            memo[n, k] = sum(A[:n]) / float(n)\n",
    "            return memo[n, k]\n",
    "        cur, memo[n, k] = 0, 0\n",
    "        for i in range(n - 1, 0, -1):\n",
    "            cur += A[i]\n",
    "            memo[n, k] = max(memo[n, k], search(i, k - 1) + cur / float(n - i))\n",
    "        return memo[n, k]"
   ]
  },
  {
   "cell_type": "code",
   "execution_count": 13,
   "metadata": {},
   "outputs": [
    {
     "data": {
      "text/plain": [
       "1"
      ]
     },
     "execution_count": 13,
     "metadata": {},
     "output_type": "execute_result"
    }
   ],
   "source": [
    "# 1278. Palindrome Partitioning III，分割成K个回文子串所需要的最少改变次数\n",
    "def palindromePartition(s, k):\n",
    "    if len(s)==k:\n",
    "        return 0\n",
    "    dp = [[0 for _ in range(len(s))] for _ in range(len(s))]#从left到right之间需要的步数\n",
    "    def fillTable(left,right):\n",
    "        count = 0\n",
    "        t = 0\n",
    "        while left>=0 and right<len(s):\n",
    "            if s[left]!=s[right]:\n",
    "                count+=1\n",
    "            dp[left][right] = count\n",
    "            left = left-1\n",
    "            right = right+1\n",
    "\n",
    "    for i in range(len(s)):\n",
    "        fillTable(i,i)\n",
    "    for i in range(len(s)-1):\n",
    "        fillTable(i,i+1)\n",
    "                \n",
    "    res = [[0 for _ in range(len(s))] for _ in range(k+1)]#从i到len(s)之间分成k份需要的步数\n",
    "    for i in range(len(s)):\n",
    "        res[1][i] = dp[i][-1]\n",
    "    \n",
    "    for step in range(2,k+1):\n",
    "        for i in range(len(s)):\n",
    "            temp = float('inf')\n",
    "            for j in range(i,len(s)-1):\n",
    "                temp = min(temp,dp[i][j]+res[step-1][j+1])\n",
    "            res[step][i] = temp\n",
    "    return res[-1][0]\n",
    "palindromePartition('abc',2)"
   ]
  },
  {
   "cell_type": "code",
   "execution_count": 1,
   "metadata": {},
   "outputs": [
    {
     "data": {
      "text/plain": [
       "843"
      ]
     },
     "execution_count": 1,
     "metadata": {},
     "output_type": "execute_result"
    }
   ],
   "source": [
    "# 1335. Minimum Difficulty of a Job Schedule，将数组分成d段，每段的最大值求和的最小值\n",
    "# 分成d段和d-1段的关系\n",
    "# dp[d,i] = min_j(dp[d-1,j] + max arr(j,i))\n",
    "# https://leetcode.com/problems/minimum-difficulty-of-a-job-schedule/discuss/490316/JavaC%2B%2BPython3-DP-O(nd)-Solution\n",
    "# Time complexity O(nnd), Space complexity O(nd)\n",
    "\n",
    "def minDifficulty(jobDifficulty, d):\n",
    "    \"\"\"\n",
    "    :type jobDifficulty: List[int]\n",
    "    :type d: int\n",
    "    :rtype: int\n",
    "    \"\"\"\n",
    "    if len(jobDifficulty)<d:\n",
    "        return -1\n",
    "    dp = [[float('inf') for _ in range(len(jobDifficulty))] for _ in range(d)]\n",
    "    dp[0][0] = jobDifficulty[0]\n",
    "    for i in range(1,len(jobDifficulty)):\n",
    "        dp[0][i] = max(dp[0][i-1],jobDifficulty[i])\n",
    "\n",
    "    for i in range(1,d):#分割成i+1块\n",
    "        for j in range(i,len(jobDifficulty)):#总共j+1个任务\n",
    "            curmax = -float('inf')\n",
    "            for k in range(j,i-1,-1):\n",
    "                curmax = max(curmax,jobDifficulty[k])\n",
    "                dp[i][j] = min(dp[i][j],dp[i-1][k-1]+curmax)\n",
    "\n",
    "    return dp[-1][-1]\n",
    "\n",
    "minDifficulty(jobDifficulty = [11,111,22,222,33,333,44,444], d = 6)"
   ]
  },
  {
   "cell_type": "code",
   "execution_count": 3,
   "metadata": {},
   "outputs": [
    {
     "data": {
      "text/plain": [
       "True"
      ]
     },
     "execution_count": 3,
     "metadata": {},
     "output_type": "execute_result"
    }
   ],
   "source": [
    "# 877. Stone Game，两个人轮流取两边的数，先手是否获胜\n",
    "# 不是所有的都可以用minimax来递归，容易超时\n",
    "\n",
    "def stoneGame(piles):\n",
    "    \"\"\"\n",
    "    :type piles: List[int]\n",
    "    :rtype: bool\n",
    "    \"\"\"\n",
    "    # dp[i][j],i-j时先手相对于后手的优势\n",
    "    dp = [[0 for _ in range(len(piles))] for _ in range(len(piles))]\n",
    "    for i in range(len(piles)):\n",
    "        dp[i][i] = piles[i]\n",
    "    for i in range(len(piles)):\n",
    "        for j in range(i+1,len(piles)):#i-j时\n",
    "            dp[i][j] = max(piles[i]-dp[i+1][j], piles[j]-dp[i][j-1])\n",
    "#     for d in range(1,len(piles)):#i-j的距离为d\n",
    "#         for i in range(len(piles)-d):\n",
    "#             j = i+d\n",
    "#             dp[i][j] = max(piles[i]-dp[i+1][j],piles[j]-dp[i][j-1])\n",
    "    return dp[0][-1]>0\n",
    "\n",
    "# dp[i,j] = max(piles[i] + min(dp[i+2][j],dp[i+1][j-1]), piles[j] + min(dp[i+1][j-1],dp[i][j-2]))\n",
    "def stoneGame(piles):\n",
    "    dp =[[0]*len(piles) for _ in range(len(piles))]#i-j之间先手能取到的最大值，只有偶数长度\n",
    "\n",
    "    for i in range(len(piles)-1,-1,-1):\n",
    "        for j in range(i+1,len(piles),2): # j>i and (j-i+1) is even | make it faster\n",
    "            if i+1==j:#如果长度为2，则为大的\n",
    "                dp[i][j] = max(piles[i],piles[j])\n",
    "            else:#对于i-j之间，如果选择i,那么剩下的为选择i+2-j之间小的，或者i+1到j-1之间小的\n",
    "                dp[i][j] = max(piles[i] + min(dp[i+2][j],dp[i+1][j-1]), piles[j] + min(dp[i+1][j-1],dp[i][j-2]))\n",
    "\n",
    "    return dp[0][-1] > sum(piles) - dp[0][-1]\n",
    "\n",
    "def stoneGame(piles):#memorized dp, 486. Predict the Winner\n",
    "    \"\"\"\n",
    "    :type piles: List[int]\n",
    "    :rtype: bool\n",
    "    \"\"\"\n",
    "    dp = dict()\n",
    "    for i in range(1,len(piles)):\n",
    "        piles[i] += piles[i-1]\n",
    "\n",
    "    def dfs(left,right):\n",
    "        if (left,right) in dp:\n",
    "            return dp[(left,right)]\n",
    "        if right-left==0:\n",
    "            dp[(left,right)] = piles[left] if left==0 else piles[left]-piles[left-1]\n",
    "            return dp[(left,right)]\n",
    "\n",
    "        cursum = piles[right]-piles[left-1] if left!=0 else piles[right]\n",
    "        maximum = cursum - min(dfs(left+1,right),dfs(left,right-1))\n",
    "        dp[(left,right)] = maximum\n",
    "        return maximum\n",
    "\n",
    "    res = dfs(0,len(piles)-1)\n",
    "    return res>piles[-1]//2\n",
    "            \n",
    "\n",
    "def stoneGame(piles):# minimax 超时\n",
    "    \"\"\"\n",
    "    :type piles: List[int]\n",
    "    :rtype: bool\n",
    "    \"\"\"\n",
    "    def helper(piles,cur0,cur1,left,right,player):\n",
    "        if left>right:\n",
    "            return cur0>cur1\n",
    "        if player==0:\n",
    "            return helper(piles,cur0+piles[left],cur1,left+1,right,1) | helper(piles,cur0+piles[right],cur1,left,right-1,1)\n",
    "        else:\n",
    "            return helper(piles,cur0,cur1+piles[left],left+1,right,0) | helper(piles,cur0,cur1+piles[right],left,right-1,0)\n",
    "\n",
    "    return helper(piles,0,0,0,len(piles)-1,0)\n",
    "\n",
    "    \n",
    "stoneGame([1,2,3,4,5,6])"
   ]
  },
  {
   "cell_type": "code",
   "execution_count": 22,
   "metadata": {},
   "outputs": [
    {
     "data": {
      "text/plain": [
       "418930126"
      ]
     },
     "execution_count": 22,
     "metadata": {},
     "output_type": "execute_result"
    }
   ],
   "source": [
    "#1420. Build Array Where You Can Find The Maximum Exactly K Comparisons\n",
    "# 长度为n，每个数在1-m之间，出现新高次数为k\n",
    "def numOfArrays(n, m, k):\n",
    "    \"\"\"\n",
    "    :type n: int\n",
    "    :type m: int\n",
    "    :type k: int\n",
    "    :rtype: int\n",
    "    \"\"\"\n",
    "    # search_cost是指每次遇到新的更大的数，就要+1\n",
    "    # n个数，每个数在1-m之间，新高次数为k\n",
    "    mod = 10**9+7\n",
    "    if k==0:\n",
    "        return 0\n",
    "    dp = [[[0 for _ in range(m+1)] for _ in range(n+1)] for _ in range(k+1)]\n",
    "    for j in range(1,n+1):\n",
    "        for m0 in range(1,m+1):#cost为1，长度为j，最大值为m0\n",
    "            dp[1][j][m0]=m0**(j-1)\n",
    "    for i in range(2,k+1):#新高次数为2~k\n",
    "        for j in range(i,n+1):#新高次数为i，长度最小为i,最大为n\n",
    "            for m0 in range(i,m+1):#长度为j，新高为i,最大值为m\n",
    "                temp =0\n",
    "                for t in range(i-1,m0):\n",
    "                    temp+=dp[i-1][j-1][t]\n",
    "                dp[i][j][m0] = (dp[i][j-1][m0]*m0+temp)%mod\n",
    "    return sum(dp[k][n])%mod\n",
    "    \n",
    "# 长度为n，每个数在1-m之间，出现更高次数为k    \n",
    "def numOfArrays2(n, m, k):\n",
    "    \"\"\"\n",
    "    :type n: int\n",
    "    :type m: int\n",
    "    :type k: int\n",
    "    :rtype: int\n",
    "    \"\"\"\n",
    "    mod = 10**9+7\n",
    "    dp = [[[0 for _ in range(m)] for _ in range(n)] for _ in range(k)]\n",
    "    # i,j,m0表示的是有i+1次cost，长度为j，最后一个数为m0\n",
    "    # dp[i][j][m0] = dp[i][j-1][m0,m0+1...m-1]+dp[i-1][j-1][0...m0-1]\n",
    "\n",
    "    for m0 in range(m):#cost为1，长度为1，最后一个数为m0+1\n",
    "        dp[0][0][m0] = 1\n",
    "    for j in range(1,n):#cost为1，长度为j+1,最后一个数为m0+1\n",
    "        for m0 in range(m):\n",
    "            temp = 0\n",
    "            for mm in range(m0,m):\n",
    "                temp+=dp[0][j-1][mm]\n",
    "            dp[0][j][m0] = temp%mod\n",
    "\n",
    "    for i in range(1,k):\n",
    "        for j in range(i,n):#cost为i+1,长度至少要为i+1\n",
    "            for m0 in range(m):#最后一个数为m0+1\n",
    "                temp = 0\n",
    "                for mm in range(m0,m):#要么最后一个数没有导致cost\n",
    "                    temp += dp[i][j-1][mm]\n",
    "                for mm in range(m0):#要么最后一个数导致了cost\n",
    "                    temp += dp[i-1][j][mm]\n",
    "                dp[i][j][m0] = temp%mod\n",
    "\n",
    "    return sum(dp[-1][-1])%mod\n",
    "numOfArrays(n = 37, m = 17, k = 7)"
   ]
  },
  {
   "cell_type": "code",
   "execution_count": null,
   "metadata": {},
   "outputs": [],
   "source": []
  }
 ],
 "metadata": {
  "kernelspec": {
   "display_name": "Python 3",
   "language": "python",
   "name": "python3"
  },
  "language_info": {
   "codemirror_mode": {
    "name": "ipython",
    "version": 3
   },
   "file_extension": ".py",
   "mimetype": "text/x-python",
   "name": "python",
   "nbconvert_exporter": "python",
   "pygments_lexer": "ipython3",
   "version": "3.7.3"
  }
 },
 "nbformat": 4,
 "nbformat_minor": 2
}
