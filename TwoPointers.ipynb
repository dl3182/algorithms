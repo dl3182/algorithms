{
 "cells": [
  {
   "cell_type": "markdown",
   "metadata": {},
   "source": [
    "# 对撞类\n",
    "## Two sum\n",
    "\n",
    "611. Valid Triangle Number\n",
    "\n",
    "## 灌水\n",
    "11. Container With Most Water\n",
    "42. Trapping Rain Water\n",
    "```python\n",
    " Give an array arr[]\n",
    "int left = 0;\n",
    "int right = arr.length - 1;\n",
    "\n",
    "while(left < right) {\n",
    "    if(arr[left] 和 arr[right] 满足某一条件) {\n",
    "        // Do something\n",
    "        right --; // 不用考虑[left + 1, right - 1] 和 right 组成的pair\n",
    "    } else if (arr[left] 和 arr[right] 不满足某一条件) {\n",
    "        left ++; // 不用考虑[left + 1, right - 1] 和 left 组成的pair\n",
    "    }\n",
    "}\n",
    "```"
   ]
  },
  {
   "cell_type": "code",
   "execution_count": 247,
   "metadata": {},
   "outputs": [
    {
     "data": {
      "text/plain": [
       "[]"
      ]
     },
     "execution_count": 247,
     "metadata": {},
     "output_type": "execute_result"
    }
   ],
   "source": [
    "def threeSum(nums):\n",
    "    \"\"\"\n",
    "    :type nums: List[int]\n",
    "    :rtype: List[List[int]]\n",
    "    \"\"\"\n",
    "    nums.sort()\n",
    "    res = []\n",
    "    i=0\n",
    "    while i <len(nums)-2:\n",
    "        while i>0 and i<len(nums)-2 and nums[i]==nums[i-1]:\n",
    "            i+=1\n",
    "        if i<len(nums)-2:\n",
    "            target = -nums[i]\n",
    "            left = i+1\n",
    "            right = len(nums)-1\n",
    "            while left<right:\n",
    "                if nums[left]+nums[right]<target:\n",
    "                    left+=1\n",
    "                elif nums[left]+nums[right]>target:\n",
    "                    right-=1\n",
    "                else:\n",
    "                    res.append([nums[i],nums[left],nums[right]])\n",
    "                    left+=1\n",
    "                    right-=1\n",
    "                    while left<right and nums[left]==nums[left-1]:\n",
    "                        left+=1\n",
    "                    while left<right and nums[right]== nums[right+1]:\n",
    "                        right-=1\n",
    "            i+=1\n",
    "    return res\n",
    "\n",
    "def fourSum(nums, target):\n",
    "    \"\"\"\n",
    "    :type nums: List[int]\n",
    "    :type target: int\n",
    "    :rtype: List[List[int]]\n",
    "    \"\"\"\n",
    "    nums.sort()\n",
    "    res = []\n",
    "    for i in range(3,len(nums)):\n",
    "        for j in range(2,i):\n",
    "            goal = -nums[i]-nums[j]\n",
    "            left = 0\n",
    "            right = j-1\n",
    "            while left<right:\n",
    "                if nums[left]+nums[right]>goal:\n",
    "                    right = right -1\n",
    "                elif nums[left]+nums[right]<goal:\n",
    "                    left = left+1\n",
    "                else:\n",
    "                    if [nums[left],nums[right],nums[j],nums[i]] not in res:\n",
    "                        res.append([nums[left],nums[right],nums[j],nums[i]])\n",
    "                    left = left+1\n",
    "                    right = right-1\n",
    "    return res\n",
    "\n",
    "fourSum(nums = [1, 0, -1],target = 0.)"
   ]
  },
  {
   "cell_type": "code",
   "execution_count": 1,
   "metadata": {},
   "outputs": [],
   "source": [
    "# 1099. Two Sum Less Than K，小于K的两个数和\n",
    "def towSumLessThanK(A,K): \n",
    "    a = sorted(A) \n",
    "    i,j = 0,len(a)-1\n",
    "    ans = -1\n",
    "    while i<j:\n",
    "        if a[i]+a[j]<K:\n",
    "            ans = max(ans,a[i]+a[j])\n",
    "            i += 1\n",
    "        else:\n",
    "            j -= 1\n",
    "    return ans"
   ]
  },
  {
   "cell_type": "code",
   "execution_count": 1,
   "metadata": {},
   "outputs": [
    {
     "data": {
      "text/plain": [
       "49"
      ]
     },
     "execution_count": 1,
     "metadata": {},
     "output_type": "execute_result"
    }
   ],
   "source": [
    "# 11. Container With Most Water\n",
    "# 由于水的容量是有较小的那个边界决定的，因此某次迭代中，假设height[i] < height[j]，\n",
    "# 那么j 减小肯定不会使水的容量增大，只有i 增加才有可能使水的容量增大\n",
    "# 当某边到达最值点，接下来只能是另一边移动，证明见https://yq.aliyun.com/articles/653473\n",
    "def maxArea(height):\n",
    "    \"\"\"\n",
    "    :type height: List[int]\n",
    "    :rtype: int\n",
    "    \"\"\"\n",
    "    left = 0\n",
    "    right = len(height)-1\n",
    "    vol = 0\n",
    "    while left<right:\n",
    "        vol = max(vol, min(height[left],height[right])*(right-left))\n",
    "        if height[left]<height[right]:\n",
    "            left = left+1\n",
    "        else:\n",
    "            right = right-1\n",
    "    return vol\n",
    "maxArea([1,8,6,2,5,4,8,3,7])"
   ]
  },
  {
   "cell_type": "code",
   "execution_count": 2,
   "metadata": {
    "collapsed": true
   },
   "outputs": [],
   "source": [
    "# 125. Valid Palindrome\n",
    "# 判断是否是回文串\n",
    "def isPalindrome(s):\n",
    "    l, r = 0, len(s)-1\n",
    "    while l < r:\n",
    "        while l < r and not s[l].isalnum():\n",
    "            l += 1\n",
    "        while l <r and not s[r].isalnum():\n",
    "            r -= 1\n",
    "        if s[l].lower() != s[r].lower():\n",
    "            return False\n",
    "        l +=1; r -= 1\n",
    "    return True"
   ]
  },
  {
   "cell_type": "code",
   "execution_count": 19,
   "metadata": {
    "collapsed": true
   },
   "outputs": [],
   "source": [
    "# 42. Trapping Rain Water\n",
    "# 给定一串高度，能收集到多少水\n",
    "def trap(height):\n",
    "    left = 0\n",
    "    right = len(height)-1\n",
    "    result = 0\n",
    "    while left<right:\n",
    "        minheight = min(height[left],height[right])\n",
    "        if height[left]<height[right]:\n",
    "            left = left +1\n",
    "            while left<right and height[left]<minheight:#既然比最矮的还要矮，那么这个差值就是可以添加的水\n",
    "                result = result + minheight-height[left]\n",
    "                left = left +1\n",
    "        else:\n",
    "            right = right -1\n",
    "            while left<right and height[right]<minheight:\n",
    "                result = result + minheight - height[right]\n",
    "                right = right -1\n",
    "    return result\n",
    "\n",
    "def trap(bars):\n",
    "    if not bars or len(bars) < 3:\n",
    "        return 0\n",
    "    volume = 0\n",
    "    left, right = 0, len(bars) - 1\n",
    "    l_max, r_max = bars[left], bars[right]\n",
    "    while left < right:\n",
    "        l_max, r_max = max(bars[left], l_max), max(bars[right], r_max)\n",
    "        if l_max <= r_max:\n",
    "            volume += l_max - bars[left]\n",
    "            left += 1\n",
    "        else:\n",
    "            volume += r_max - bars[right]\n",
    "            right -= 1\n",
    "    return volume\n",
    "height = [0,1,0,2,1,0,1,3,2,1,2,1]\n",
    "trap(height)"
   ]
  },
  {
   "cell_type": "code",
   "execution_count": 41,
   "metadata": {
    "collapsed": true
   },
   "outputs": [],
   "source": [
    "# 532. K-diff Pairs in an Array\n",
    "import collections\n",
    "def findPairs(nums, k):\n",
    "    \"\"\"\n",
    "    :type nums: List[int]\n",
    "    :type k: int\n",
    "    :rtype: int\n",
    "    \"\"\"\n",
    "    k = abs(k)\n",
    "    if k == 0:\n",
    "        counts = collections.Counter(nums)\n",
    "        return sum([i>=2 for i in counts.values()])\n",
    "    else:\n",
    "        return len(set(nums) & {i+k for i in set(nums)})"
   ]
  },
  {
   "cell_type": "code",
   "execution_count": 159,
   "metadata": {
    "collapsed": true
   },
   "outputs": [],
   "source": [
    "# The Smallest Difference\n",
    "# 对于两个列表，求最小差\n",
    "def minDiff(A,B):\n",
    "    A.sort()\n",
    "    B.sort()\n",
    "    pa = 0\n",
    "    pb = 0\n",
    "    diff = float('inf')\n",
    "    while pa<len(A) and pb<len(B):\n",
    "        if A[pa]<B[pb]:\n",
    "            diff = min(diff,B[pb]-A[pa])\n",
    "            pa = pa + 1\n",
    "        elif A[pa]>B[pb]:\n",
    "            diff = min(diff, A[pa]-B[pb])\n",
    "            pb = pb +1\n",
    "        else:\n",
    "            return 0\n",
    "    return diff\n",
    "\n",
    "minDiff([1,5,8],[3,7,10])"
   ]
  },
  {
   "cell_type": "code",
   "execution_count": 1,
   "metadata": {},
   "outputs": [
    {
     "data": {
      "text/plain": [
       "1"
      ]
     },
     "execution_count": 1,
     "metadata": {},
     "output_type": "execute_result"
    }
   ],
   "source": [
    "# 809. Expressive Words，习惯用for来做two pointers而不是while\n",
    "\n",
    "def expressiveWords(S, words):\n",
    "    def check(S, W):\n",
    "        i, j, n, m = 0, 0, len(S), len(W)\n",
    "        for i in range(n):\n",
    "            if j < m and S[i] == W[j]: j += 1\n",
    "            elif S[i - 1:i + 2] != S[i] * 3 != S[i - 2:i + 1]: return False\n",
    "        return j == m\n",
    "    return sum(check(S, W) for W in words)\n",
    "\n",
    "expressiveWords(S = \"heeellooo\",words = [\"hello\", \"hi\", \"helo\"])"
   ]
  },
  {
   "cell_type": "markdown",
   "metadata": {},
   "source": [
    "# Partition类\n",
    "要用到快速选择的思想"
   ]
  },
  {
   "cell_type": "code",
   "execution_count": 198,
   "metadata": {},
   "outputs": [
    {
     "data": {
      "text/plain": [
       "(6, [1, 1, 2, 2, 3, 3, 2, 2, 2, 2, 3, 3, 3])"
      ]
     },
     "execution_count": 198,
     "metadata": {},
     "output_type": "execute_result"
    }
   ],
   "source": [
    "# 80. Remove Duplicates from Sorted Array II\n",
    "# 对于排序好的列表，最多保留两次重复\n",
    "def removeDuplicates(nums):\n",
    "    \"\"\"\n",
    "    :type nums: List[int]\n",
    "    :rtype: int\n",
    "    \"\"\"\n",
    "    counts = 0\n",
    "    index = 1\n",
    "    if len(nums)==0:\n",
    "        return 0\n",
    "    for i in range(1,len(nums)):        \n",
    "        if nums[i]!=nums[i-1]:\n",
    "            nums[index] = nums[i]\n",
    "            index = index+1\n",
    "            counts = 0\n",
    "        elif counts == 0:\n",
    "            nums[index] = nums[i]\n",
    "            counts = 1\n",
    "            index = index +1\n",
    "        else:\n",
    "            if i+1<len(nums) and nums[i]!=nums[i+1]:\n",
    "                counts = 0\n",
    "    return index,nums\n",
    "def removeDuplicates(nums):\n",
    "    \"\"\"\n",
    "    can be generate to kth duplicates\n",
    "    i 指向的是简化后当前位的下一位，所以i-2对应的是当前位的前一位，如果这个数比它大，说明出现次数不到2次，如果不比它大，说明已经出现了两次\n",
    "    \"\"\"\n",
    "    i = 0\n",
    "    for n in nums:\n",
    "        if i < 2 or n > nums[i-2]:\n",
    "            nums[i] = n\n",
    "            i += 1\n",
    "    return i,nums\n",
    "removeDuplicates([1,1,1,2,2,2,2,2,2,2,3,3,3])"
   ]
  },
  {
   "cell_type": "code",
   "execution_count": 220,
   "metadata": {},
   "outputs": [
    {
     "name": "stdout",
     "output_type": "stream",
     "text": [
      "0 0 [2, 1, 0, 2, 0, 1, 0]\n",
      "0 1 [1, 2, 0, 2, 0, 1, 0]\n",
      "1 2 [0, 1, 2, 2, 0, 1, 0]\n",
      "1 2 [0, 1, 2, 2, 0, 1, 0]\n",
      "2 3 [0, 0, 1, 2, 2, 1, 0]\n",
      "2 4 [0, 0, 1, 1, 2, 2, 0]\n",
      "3 5 [0, 0, 0, 1, 1, 2, 2]\n"
     ]
    },
    {
     "data": {
      "text/plain": [
       "[0, 0, 0, 1, 1, 2, 2]"
      ]
     },
     "execution_count": 220,
     "metadata": {},
     "output_type": "execute_result"
    }
   ],
   "source": [
    "# 75. Sort Colors，三色旗分类0，1，2\n",
    "# 如果是2，则调换cur,right;right左移\n",
    "# 如果是1，则cur右移\n",
    "# 如果是0，则调换cur,left;left,cur右移\n",
    "\n",
    "def sortColors(nums):\n",
    "    left = 0#第一个非1\n",
    "    right = len(nums)-1\n",
    "    cur = 0\n",
    "    while cur <= right:\n",
    "        print(nums,left,cur,right)\n",
    "        if nums[cur]==2:\n",
    "            nums[cur],nums[right] = nums[right],nums[cur]\n",
    "            right = right -1\n",
    "        elif nums[cur]==1:\n",
    "            cur = cur+1\n",
    "        else:\n",
    "            nums[cur],nums[left] = nums[left],nums[cur]#用来和cur交换的left一定指向1\n",
    "            left = left+1\n",
    "            cur = cur+1\n",
    "    return nums\n",
    "\n",
    "def sortColors(nums):\n",
    "    i = j = 0\n",
    "    for k in range(len(nums)):\n",
    "        v = nums[k]\n",
    "        nums[k] = 2\n",
    "        if v < 2:\n",
    "            nums[j] = 1\n",
    "            j += 1\n",
    "        if v == 0:\n",
    "            nums[i] = 0\n",
    "            i += 1\n",
    "        print(i,j,nums)\n",
    "    return nums\n",
    "sortColors([2,1,0,2,0,1,0])"
   ]
  },
  {
   "cell_type": "code",
   "execution_count": 219,
   "metadata": {},
   "outputs": [
    {
     "name": "stdout",
     "output_type": "stream",
     "text": [
      "0 0 [2, 1, 0, 2, 0, 1, 0]\n",
      "0 1 [1, 2, 0, 2, 0, 1, 0]\n",
      "1 2 [0, 1, 2, 2, 0, 1, 0]\n",
      "1 2 [0, 1, 2, 2, 0, 1, 0]\n",
      "2 3 [0, 0, 1, 2, 2, 1, 0]\n",
      "2 4 [0, 0, 1, 1, 2, 2, 0]\n",
      "3 5 [0, 0, 0, 1, 1, 2, 2]\n"
     ]
    },
    {
     "data": {
      "text/plain": [
       "[0, 0, 0, 1, 1, 2, 2]"
      ]
     },
     "execution_count": 219,
     "metadata": {},
     "output_type": "execute_result"
    }
   ],
   "source": [
    "sortColors([2,1,0,2,0,1,0])"
   ]
  },
  {
   "cell_type": "markdown",
   "metadata": {
    "collapsed": true
   },
   "source": [
    "基于双指针的快速排序\n",
    "https://selfboot.cn/2016/09/01/lost_partition/\n",
    "int pivot = arr[begin];\n",
    "    while(begin < end)\n",
    "    {\n",
    "        while(begin < end && arr[--end] >= pivot);\n",
    "        arr[begin] = arr[end];\n",
    "        while(begin < end && arr[++begin] <= pivot);\n",
    "        arr[end] = arr[begin];\n",
    "    }\n",
    "    arr[begin] = pivot;\n",
    "    return begin;"
   ]
  },
  {
   "cell_type": "code",
   "execution_count": 87,
   "metadata": {
    "collapsed": true
   },
   "outputs": [],
   "source": [
    "# 双指针，找第K大或者第K小的数，1<=K<=length.\n",
    "def findKthLargest(nums,k):\n",
    "    pivot = nums[0]\n",
    "    l = 0 \n",
    "    r = len(nums)-1\n",
    "    while l<r:\n",
    "        while l<r and nums[r]>=pivot:\n",
    "            r = r-1\n",
    "        if l<r:\n",
    "            nums[l] = nums[r]\n",
    "            l = l+1\n",
    "        while l<r and nums[l]<=pivot:\n",
    "            l = l+1\n",
    "        if l<r:\n",
    "            nums[r] = nums[l]\n",
    "            r = r-1\n",
    "    nums[l] = pivot\n",
    "    if l==len(nums)-k:\n",
    "        return nums[l]\n",
    "    elif k<len(nums)-l:\n",
    "        return findKthLargest(nums[l+1:],k)\n",
    "    else:\n",
    "        return findKthLargest(nums[:l],k-len(nums)+l)\n",
    "    \n",
    "def findKthSmallest(nums,k):\n",
    "    pivot = nums[0]\n",
    "    l = 0 \n",
    "    r = len(nums)-1\n",
    "    while l<r:\n",
    "        while l<r and nums[r]>=pivot:\n",
    "            r = r-1\n",
    "        if l<r:\n",
    "            nums[l] = nums[r]\n",
    "            l = l+1\n",
    "        while l<r and nums[l]<=pivot:\n",
    "            l = l+1\n",
    "        if l<r:\n",
    "            nums[r] = nums[l]\n",
    "            r = r-1\n",
    "    nums[l] = pivot\n",
    "    if l+1==k:\n",
    "        return nums[l]\n",
    "    elif l+1<k:\n",
    "        return findKthSmallest(nums[l+1:],k-l-1)\n",
    "    else:\n",
    "        return findKthSmallest(nums[:l],k)\n",
    "findKthSmallest([3,2,3,1,2,4,5,5,6],4)"
   ]
  },
  {
   "cell_type": "markdown",
   "metadata": {},
   "source": [
    "# 多指针齐头并进"
   ]
  },
  {
   "cell_type": "code",
   "execution_count": 22,
   "metadata": {},
   "outputs": [
    {
     "name": "stdout",
     "output_type": "stream",
     "text": [
      "5\n"
     ]
    },
    {
     "data": {
      "text/plain": [
       "1529437"
      ]
     },
     "execution_count": 22,
     "metadata": {},
     "output_type": "execute_result"
    }
   ],
   "source": [
    "# 264. Ugly Number II,找第n个ugly数\n",
    "import heapq\n",
    "def nthUglyNumber(n):#对每次的数*2，3，5加入到heap中\n",
    "    \"\"\"\n",
    "    :type n: int\n",
    "    :rtype: int\n",
    "    \"\"\"\n",
    "    heap = []\n",
    "    count =1\n",
    "    start = 1\n",
    "    uniques = set()\n",
    "    heapq.heappush(heap,start)\n",
    "    while count<=n:\n",
    "        start = heapq.heappop(heap)\n",
    "        for i in [2,3,5]:\n",
    "            val = i * start\n",
    "            if val not in uniques:\n",
    "                heapq.heappush(heap,val)\n",
    "                uniques.add(val)# 避免重复\n",
    "        count+=1\n",
    "    return start\n",
    "\n",
    "def nthUglyNumber(n):#下一个数一定是由前面的数乘以2，3，5得到，用三个指针来统计2，3，5进行到的位置\n",
    "    ugly = [1]\n",
    "    i2 = i3 = i5 = 0#i指向最后一个一旦乘以就将超出的index\n",
    "    while len(ugly) < n:\n",
    "        while ugly[i2] * 2 <= ugly[-1]: i2 += 1\n",
    "        while ugly[i3] * 3 <= ugly[-1]: i3 += 1\n",
    "        while ugly[i5] * 5 <= ugly[-1]: i5 += 1\n",
    "        ugly.append(min(ugly[i2] * 2, ugly[i3] * 3, ugly[i5] * 5))\n",
    "    return ugly[-1]\n",
    "\n",
    "print(nthUglyNumber(5))\n",
    "\n",
    "# 313. Super Ugly Number\n",
    "def nthSuperUglyNumber(n, primes):\n",
    "    ugly = [1]\n",
    "    items = [0 for _ in range(len(primes))]\n",
    "    count = 1\n",
    "    while count<n:\n",
    "        temps = [primes[i]*ugly[items[i]] for i in range(len(primes))]\n",
    "        value = min(temps)\n",
    "        for i in range(len(primes)):\n",
    "            if temps[i]==value:\n",
    "                items[i]+=1\n",
    "        ugly.append(value)\n",
    "        count+=1\n",
    "    return ugly[-1]\n",
    "nthSuperUglyNumber(1244,[2,7,13,19,37,61,73])"
   ]
  },
  {
   "cell_type": "code",
   "execution_count": 1,
   "metadata": {},
   "outputs": [],
   "source": [
    "# S,T两个字符串是否相同，存在数字代表通配符\n",
    "def wordMatch(S,T):\n",
    "    left = 0\n",
    "    right = 0\n",
    "    curleft,curright=0,0\n",
    "    while (left<len(S) or curleft!=0) and (right<len(T) or curright!=0):\n",
    "        if left<len(S) and S[left].isnumeric():\n",
    "            curleft = int(S[left])\n",
    "            left +=1\n",
    "            while left<len(S) and S[left].isnumeric():\n",
    "                curleft = curleft*10+int(S[left])\n",
    "                left = left+1 \n",
    "        if (right<len(T)) and T[right].isnumeric():\n",
    "            curright = int(T[right])\n",
    "            right+=1\n",
    "            while right<len(T) and T[right].isnumeric():\n",
    "                curright = curright*10+int(T[right])\n",
    "                right = right+1\n",
    "        if curleft==0 and curright==0:\n",
    "            if S[left].isalpha() and T[right].isalpha() and S[left]!=T[right]:\n",
    "                return False\n",
    "            left,right=left+1,right+1\n",
    "        else:\n",
    "            if curleft and curright:\n",
    "                curleft,curright = curleft-min(curleft,curright),curright-min(curleft,curright)\n",
    "            elif curleft:\n",
    "                right+=1\n",
    "                curleft-=1\n",
    "            else:\n",
    "                curright-=1\n",
    "                left+=1\n",
    "    print(left,right,curleft,curright)\n",
    "    if left==len(S) and right==len(T) and curleft==0 and curright==0:\n",
    "        return True\n",
    "    return False"
   ]
  },
  {
   "cell_type": "code",
   "execution_count": 56,
   "metadata": {},
   "outputs": [
    {
     "data": {
      "text/plain": [
       "11"
      ]
     },
     "execution_count": 56,
     "metadata": {},
     "output_type": "execute_result"
    }
   ],
   "source": [
    "# 找出两个数之间以3，5为因子的数的个数\n",
    "import math\n",
    "def getIdealNums(l,r):\n",
    "    threes = []\n",
    "    fives= []\n",
    "    i = 1\n",
    "    def binarySearch(nums,target):\n",
    "        low = 0\n",
    "        high = len(nums)\n",
    "        while low<high:\n",
    "            mid = low + (high-low)//2\n",
    "            if nums[mid]<target:\n",
    "                low = mid + 1\n",
    "            else:\n",
    "                high = mid\n",
    "        return low\n",
    "    \n",
    "    while i<=r:\n",
    "        threes.append(i)\n",
    "        i = 3*i\n",
    "    i = 1\n",
    "    while i<=r:\n",
    "        fives.append(i)\n",
    "        i = 5*i\n",
    "    res = 0\n",
    "#     print(threes)\n",
    "#     print(fives)\n",
    "    for i in fives:\n",
    "        index = binarySearch(threes,l//i)\n",
    "        index2 = binarySearch(threes,math.ceil(r//i))\n",
    "#         print(i,index,index2,index2-index+1)\n",
    "        res+=index2-index\n",
    "    return res\n",
    "getIdealNums(412,5212)"
   ]
  },
  {
   "cell_type": "code",
   "execution_count": 2,
   "metadata": {},
   "outputs": [
    {
     "data": {
      "text/plain": [
       "[[1, 2], [5, 5], [8, 10], [15, 23], [24, 24], [25, 25]]"
      ]
     },
     "execution_count": 2,
     "metadata": {},
     "output_type": "execute_result"
    }
   ],
   "source": [
    "# 986. Interval List Intersections,两个区间集列表的交集\n",
    "def intervalIntersection(a,b):\n",
    "    i,j, res = 0, 0, []\n",
    "    while i < len(a) and j < len(b):\n",
    "        if a[i][1] < b[j][0]:\n",
    "            i += 1\n",
    "        elif b[j][1] < a[i][0]:\n",
    "            j += 1\n",
    "        else:\n",
    "            res.append([max(a[i][0], b[j][0]), min(a[i][1], b[j][1])]) \n",
    "            if a[i][1] > b[j][1]:\n",
    "                j += 1\n",
    "            else:\n",
    "                i += 1\n",
    "    return res\n",
    "\n",
    "intervalIntersection(a = [[0,2],[5,10],[13,23],[24,25]], b = [[1,5],[8,12],[15,24],[25,26]])"
   ]
  },
  {
   "cell_type": "code",
   "execution_count": 1,
   "metadata": {},
   "outputs": [
    {
     "data": {
      "text/plain": [
       "'LL.RR.LLRRLL..'"
      ]
     },
     "execution_count": 1,
     "metadata": {},
     "output_type": "execute_result"
    }
   ],
   "source": [
    "# 838. Push Dominoes,推Dominoes，给定LR，求推后的状态\n",
    "# 分成几种类型，L.....R; R....R; L...L; R...L\n",
    "# 用两个指针记录LR的位置来追赶\n",
    "\n",
    "\n",
    "def pushDominoes(dominoes):\n",
    "    \"\"\"\n",
    "    :type dominoes: str\n",
    "    :rtype: str\n",
    "    \"\"\"\n",
    "    dominoes = \"L\"+dominoes+\"R\"\n",
    "    res = []\n",
    "    left,right = 0,1\n",
    "    while right<len(dominoes):\n",
    "        while dominoes[right]=='.':\n",
    "            right+=1\n",
    "        temp = right-left-1\n",
    "        if [dominoes[left],dominoes[right]]==['R','L']:\n",
    "            res+=['R']*(temp//2+1)+[\".\"]*(temp%2)+[\"L\"]*(temp//2)\n",
    "        elif dominoes[left]=='R' or dominoes[right] == 'L':\n",
    "            res+=[dominoes[left]]*(temp+1)\n",
    "        else:\n",
    "            res+=['L']+['.']*temp\n",
    "        left = right\n",
    "        right+=1\n",
    "    return \"\".join(res[1:])\n",
    "\n",
    "pushDominoes(\".L.R...LR..L..\")"
   ]
  },
  {
   "cell_type": "code",
   "execution_count": 38,
   "metadata": {},
   "outputs": [
    {
     "data": {
      "text/plain": [
       "57"
      ]
     },
     "execution_count": 38,
     "metadata": {},
     "output_type": "execute_result"
    }
   ],
   "source": [
    "# 828. Count Unique Characters of All Substrings of a Given String，所有可能的子串的unique char的总和\n",
    "def uniqueLetterString(s):\n",
    "    \"\"\"\n",
    "    :type s: str\n",
    "    :rtype: int\n",
    "    \"\"\"\n",
    "    h,h2 = dict(),dict()#最新出现位置，和上次出现位置\n",
    "    dp = [0 for _ in range(len(s))]#当前位置的总次数\n",
    "    mod = 10**9+7\n",
    "    for i,c in enumerate(s):\n",
    "        if i==0:\n",
    "            dp[i] = 1\n",
    "        elif s[i] not in h:#如果没有出现过，那么每个都+1\n",
    "            dp[i] = dp[i-1]+i+1\n",
    "        else:\n",
    "            if c not in h2:#如果只出现过一次，那么要加上h[c]到i的次数(i-h[c]),减去h[c]及以前的(h[c]+1)次数\n",
    "                dp[i] = dp[i-1]+i-2*h[c]-1\n",
    "            else:#如果出现过多次，加上h[c]到i的次数i-h[c],减去h2[c]到h[c]的次数h[c]-h2[c]\n",
    "                dp[i] = dp[i-1]+i-2*h[c]+h2[c]\n",
    "            h2[c] = h[c]\n",
    "        h[c] = i\n",
    "        dp[i] = dp[i]%mod\n",
    "    return sum(dp)%mod\n",
    "\n",
    "# 相比于每一个子串出现的独一无二char的次数\n",
    "import string\n",
    "def uniqueLetterString(s):\n",
    "    \"\"\"\n",
    "    :type s: str\n",
    "    :rtype: int\n",
    "    \"\"\"\n",
    "    index = {c: [-1, -1] for c in string.ascii_uppercase}\n",
    "    res = 0\n",
    "    for i, c in enumerate(s):\n",
    "        k, j = index[c]\n",
    "        res += (i - j) * (j - k)\n",
    "        index[c] = [j, i]\n",
    "    for c in index:\n",
    "        k, j = index[c]\n",
    "        res += (len(s) - j) * (j - k)\n",
    "    return res % (10**9 + 7)\n",
    "uniqueLetterString('BABBABCAB')"
   ]
  },
  {
   "cell_type": "code",
   "execution_count": 46,
   "metadata": {},
   "outputs": [
    {
     "data": {
      "text/plain": [
       "True"
      ]
     },
     "execution_count": 46,
     "metadata": {},
     "output_type": "execute_result"
    }
   ],
   "source": [
    "# 457. Circular Array Loop,检测环状\n",
    "def circularArrayLoop(nums):\n",
    "    \"\"\"\n",
    "    :type nums: List[int]\n",
    "    :rtype: bool\n",
    "    \"\"\"\n",
    "    n = len(nums)\n",
    "    for i, num in enumerate(nums):\n",
    "        linkLength = 0\n",
    "        j = i\n",
    "        forward = nums[j] > 0\n",
    "        while True:\n",
    "            if (forward and nums[j] < 0) or (not forward and nums[j] > 0):\n",
    "                break\n",
    "            nextj = (j + nums[j] + n) % n\n",
    "            if nextj == j:\n",
    "                break\n",
    "            j = nextj\n",
    "            linkLength += 1\n",
    "            if linkLength > n:\n",
    "                return True\n",
    "    return False\n",
    "circularArrayLoop( [2,-1,1,2,2])"
   ]
  },
  {
   "cell_type": "markdown",
   "metadata": {},
   "source": [
    "# 窗口类\n",
    "可能与hashmap联系在一起\n",
    "https://leetcode.com/problems/minimum-size-subarray-sum/discuss/59110/O(N)-template-for-Minimum-Size-Subarray-Sum-and-Minimum-Window-Substring-and-Longest-Substring-Without-Repeating-Characters\n",
    "3. Longest Substring Without Repeating Characters\n",
    "76. Minimum Window Substring\n",
    "209. Minimum Size Subarray Sum\n",
    "340. Longest Substring with At Most K Distinct Characters\n",
    "395. Longest Substring with At Least K Repeating Characters\n",
    "424. Longest Repeating Character Replacement\n",
    "438. Find All Anagrams in a String\n",
    "713. Subarray Product Less Than K\n",
    "992. Subarrays with K Different Integers\n",
    "1151. Minimum Swaps to Group All 1's Together,一个由0,1构成的array，调换最小的次数，使得1聚集在一起\n",
    "1358. Number of Substrings Containing All Three Characters,给定含abc的字符串，包含所有字符的子串个数\n",
    "\n",
    "for (i = 0; i < n; i++) {\n",
    "    while (j < n) {\n",
    "        if (满足条件)\n",
    "            j++\n",
    "            更行j状态\n",
    "        else (不满足条件)\n",
    "            break\n",
    "    }\n",
    "    更新i状态\n",
    "}"
   ]
  },
  {
   "cell_type": "code",
   "execution_count": 32,
   "metadata": {},
   "outputs": [],
   "source": [
    "import collections"
   ]
  },
  {
   "cell_type": "code",
   "execution_count": 9,
   "metadata": {},
   "outputs": [
    {
     "data": {
      "text/plain": [
       "3"
      ]
     },
     "execution_count": 9,
     "metadata": {},
     "output_type": "execute_result"
    }
   ],
   "source": [
    "# 3. Longest Substring Without Repeating Characters\n",
    "# 寻找最长无重复子串，对于寻找子串的题，要反应过来是用双指针\n",
    "\n",
    "# 将每一个字母出现的index保存，如果下一个字母出现过，则start为保存index+1\n",
    "\n",
    "def lengthOfLongestSubstring(s):\n",
    "    start = maxLength = 0\n",
    "    usedChar = {}\n",
    "\n",
    "    for i in range(len(s)):\n",
    "        if s[i] in usedChar and start <= usedChar[s[i]]:#i在里面，并且start比\n",
    "            start = usedChar[s[i]] + 1\n",
    "        else:\n",
    "            maxLength = max(maxLength, i - start + 1)\n",
    "\n",
    "        usedChar[s[i]] = i\n",
    "\n",
    "    return maxLength\n",
    "\n",
    "def lengthOfLongestSubstring(s):\n",
    "    \"\"\"\n",
    "    :type s: str\n",
    "    :rtype: int\n",
    "    \"\"\"\n",
    "    pos = dict()\n",
    "    start = 0\n",
    "    i=0\n",
    "    maximum = 0\n",
    "    while i<len(s):\n",
    "        if s[i] in pos and pos[s[i]]>=start:#如果之前出现过，就统计，start更新为出现char的下一位\n",
    "            maximum = max(maximum,i-start)\n",
    "            start = pos[s[i]]+1\n",
    "        pos[s[i]] = i\n",
    "        i = i+1\n",
    "    maximum = max(maximum,len(s)-start)\n",
    "    return maximum\n",
    "lengthOfLongestSubstring(\"abcabcbb\")"
   ]
  },
  {
   "cell_type": "code",
   "execution_count": 11,
   "metadata": {},
   "outputs": [
    {
     "data": {
      "text/plain": [
       "11"
      ]
     },
     "execution_count": 11,
     "metadata": {},
     "output_type": "execute_result"
    }
   ],
   "source": [
    "\n",
    "# https://leetcode.com/problems/replace-the-substring-for-balanced-string/discuss/408978/JavaC%2B%2BPython-Sliding-Window\n",
    "import collections\n",
    "def balancedString(s):\n",
    "    \"\"\"\n",
    "    :type s: str\n",
    "    :rtype: int\n",
    "    \"\"\"\n",
    "    counts = collections.Counter()\n",
    "    index,target,minimum = 0,len(s)//4,len(s)\n",
    "    while index<len(s):\n",
    "        counts[s[index]]+=1\n",
    "        if counts[s[index]]>target:\n",
    "            break\n",
    "        index+=1\n",
    "    minimum = len(s)-index#此时的counts是超出的\n",
    "    if index==len(s):\n",
    "        return 0\n",
    "    right = len(s)-1\n",
    "    for left in range(index,-1,-1):\n",
    "        counts[s[left]]-=1#left向左退一格\n",
    "        while right>=left and counts[s[right]]+1<=target:#如果右边能前进，则前进\n",
    "            counts[s[right]]+=1\n",
    "            minimum = min(minimum,right-left)#更改区间为left到right-1\n",
    "            right-=1\n",
    "    return minimum\n",
    "\n",
    "def balancedString(s):\n",
    "    count = collections.Counter(s)\n",
    "    res = n = len(s)\n",
    "    i = 0\n",
    "    for j, c in enumerate(s):#j是右边，一直往前走，直到能满足条件\n",
    "        count[c] -= 1\n",
    "        while i < n and all(n / 4 >= count[c] for c in 'QWER'):#满足条件之后左边往前走\n",
    "            res = min(res, j - i + 1)\n",
    "            count[s[i]] += 1\n",
    "            i += 1\n",
    "    return res\n",
    "    \n",
    "balancedString(\"RWQWRQEQQWQWQQRWRRRWEEEWQWREWQWRRQQWRQREQWRWRQREWRRWREEQERRERRRQEERRWQRQQQEQ\")"
   ]
  },
  {
   "cell_type": "code",
   "execution_count": 1,
   "metadata": {},
   "outputs": [
    {
     "data": {
      "text/plain": [
       "3"
      ]
     },
     "execution_count": 1,
     "metadata": {},
     "output_type": "execute_result"
    }
   ],
   "source": [
    "# 1208. Get Equal Substrings Within Budget，全是非负数的array和小于maxCost的最大子串长度\n",
    "def equalSubstring(s, t, maxCost):\n",
    "    \"\"\"\n",
    "    :type s: str\n",
    "    :type t: str\n",
    "    :type maxCost: int\n",
    "    :rtype: int\n",
    "    \"\"\"\n",
    "    left,right,cursum,maximum = 0,0,0,0\n",
    "    for right in range(len(s)):\n",
    "        cursum+=abs(ord(s[right])-ord(t[right]))\n",
    "        if cursum>maxCost:\n",
    "            while left<=right:\n",
    "                cursum -= abs(ord(s[left])-ord(t[left]))\n",
    "                left+=1\n",
    "                if cursum<=maxCost:\n",
    "                    break\n",
    "        maximum = max(maximum,right-left+1)\n",
    "    return maximum\n",
    "equalSubstring(s = \"abcd\", t = \"bcdf\", maxCost = 3)\n",
    "\n",
    "# 全是正数，subarray和位于L-R之间的个数，不确定正确\n",
    "def numSubarrayBoundedSum(A, L, R):\n",
    "    \"\"\"\n",
    "    :type A: List[int]\n",
    "    :type L: int\n",
    "    :type R: int\n",
    "    :rtype: int\n",
    "    \"\"\"\n",
    "    def countSubarray(A,T):\n",
    "        res = 0\n",
    "        left = 0\n",
    "        cursum = 0\n",
    "        for right in range(len(A)):\n",
    "            cursum+=A[right]\n",
    "            if cursum>T:\n",
    "                while left<=right:\n",
    "                    cursum -= A[left]\n",
    "                    left+=1\n",
    "                    if cursum<=T:\n",
    "                        break\n",
    "            res+=right-left+1\n",
    "        return res\n",
    "\n",
    "    return countSubarray(A,R) - countSubarray(A,L-1)"
   ]
  },
  {
   "cell_type": "code",
   "execution_count": 9,
   "metadata": {},
   "outputs": [],
   "source": [
    "# 1358. Number of Substrings Containing All Three Characters,给定含abc的字符串，包含所有字符的子串个数\n",
    "\n",
    "def numberOfSubstrings(s):\n",
    "    \"\"\"\n",
    "    :type s: str\n",
    "    :rtype: int\n",
    "    \"\"\"\n",
    "    pos = dict()\n",
    "    res = 0\n",
    "    for t in range(len(s)):\n",
    "        pos[s[t]] = t\n",
    "        if len(pos)==3:\n",
    "            break\n",
    "    if len(pos)<3:\n",
    "        return 0\n",
    "    minkey,minvalue = min(pos.items(),key=lambda x:x[1])\n",
    "    res+=minvalue+1\n",
    "    for i in range(t+1,len(s)):\n",
    "        pos[s[i]] = i\n",
    "        minkey,minvalue = min(pos.items(),key=lambda x:x[1])\n",
    "        res+=minvalue+1\n",
    "    return res"
   ]
  },
  {
   "cell_type": "code",
   "execution_count": 191,
   "metadata": {
    "collapsed": true
   },
   "outputs": [],
   "source": [
    "# 209. Minimum Size Subarray Sum\n",
    "# https://leetcode.com/problems/minimum-size-subarray-sum/discuss/59093/Python-O(n)-and-O(n-log-n)-solution\n",
    "# sliding window\n",
    "# 寻找最小连续子串使得和大于s，从左到右，如果l--r >s,右移l使得和小于s,在这个过程中记录最小长度\n",
    "\n",
    "def minSubArrayLen(s,nums):\n",
    "    total = left = 0\n",
    "    result = len(nums) + 1\n",
    "    for right, n in enumerate(nums):\n",
    "        total += n\n",
    "        while total >= s:\n",
    "            result = min(result, right - left + 1)\n",
    "            total -= nums[left]\n",
    "            left += 1\n",
    "    return result if result <= len(nums) else 0\n",
    "\n",
    "minSubArrayLen(s = 8, nums = [1,2,3,6,4,5,6,7])"
   ]
  },
  {
   "cell_type": "code",
   "execution_count": 19,
   "metadata": {},
   "outputs": [
    {
     "data": {
      "text/plain": [
       "3"
      ]
     },
     "execution_count": 19,
     "metadata": {},
     "output_type": "execute_result"
    }
   ],
   "source": [
    "# 487. Max Consecutive Ones II,01 array最多翻转一次，求最长的连续为1的subarray长度\n",
    "# 可以用hashtable，Si-Sj = (i-j) or (i-j-1)\n",
    "def findMaxConsecutiveOnes(nums):\n",
    "    # previous and current length of consecutive 1 \n",
    "    pre, curr, maxlen = -1, 0, 0#记录两段1的长度\n",
    "    for n in nums:\n",
    "        if n == 0:#如果为0，那么当前段变成上一段\n",
    "            pre, curr = curr, 0\n",
    "        else:\n",
    "            curr += 1\n",
    "        maxlen = max(maxlen, pre + 1 + curr )\n",
    "\n",
    "    return maxlen\n",
    "\n",
    "findMaxConsecutiveOnes([1,1,0,1,0,1])\n",
    "\n",
    "# 1004. Max Consecutive Ones III,01一维矩阵，翻转0的个数使得连续1的长度最长，用sliding window,维持一个长度为K的矩阵\n",
    "import collections\n",
    "def longestOnes(A, K):\n",
    "    \"\"\"\n",
    "    :type A: List[int]\n",
    "    :type K: int\n",
    "    :rtype: int\n",
    "    \"\"\"\n",
    "    left,right = 0,0\n",
    "    idx = collections.deque()\n",
    "    while right<len(A) and len(idx)<=K:# when it breaks, length should be K+1,right is idx of next one\n",
    "        if A[right] == 0:\n",
    "            idx.append(right)\n",
    "        right+=1\n",
    "    if right==len(A):#如果走到了最后\n",
    "        return right\n",
    "    else:#否则前面这段\n",
    "        maximum = right - left-1\n",
    "    left = idx.popleft()+1\n",
    "    while right<len(A):\n",
    "        if A[right]==0:\n",
    "            maximum = max(maximum,right-left)\n",
    "            idx.append(right)\n",
    "            left = idx.popleft()+1\n",
    "        right+=1\n",
    "    return max(maximum,right-left)\n",
    "\n",
    "\n",
    "#For each A[j], try to find the longest subarray.\n",
    "#If A[i] ~ A[j] has zeros <= K, we continue to increment j.\n",
    "# If A[i] ~ A[j] has zeros > K, we increment i.\n",
    "def longestOnes(A, K):\n",
    "    i = 0\n",
    "    for j in range(len(A)):\n",
    "        K -= 1 - A[j]\n",
    "        if K < 0:\n",
    "            K += 1 - A[i]\n",
    "            i += 1\n",
    "    return j - i + 1\n",
    "    \n",
    "longestOnes([0,0,0],3)"
   ]
  },
  {
   "cell_type": "code",
   "execution_count": 9,
   "metadata": {},
   "outputs": [
    {
     "data": {
      "text/plain": [
       "[0, 6]"
      ]
     },
     "execution_count": 9,
     "metadata": {},
     "output_type": "execute_result"
    }
   ],
   "source": [
    "# 438. Find All Anagrams in a String，找到所有的p字符串的变体\n",
    "def findAnagrams(s, p):\n",
    "    \"\"\"\n",
    "    :type s: str\n",
    "    :type p: str\n",
    "    :rtype: List[int]\n",
    "    \"\"\"\n",
    "    res = []\n",
    "    if len(s)<len(p):\n",
    "        return res\n",
    "    countp = collections.Counter(p)\n",
    "    counts = collections.Counter(s[:len(p)])\n",
    "    if counts == countp:\n",
    "        res.append(0)\n",
    "    for i in range(len(p),len(s)):\n",
    "        counts[s[i-len(p)]]-=1\n",
    "        if not counts[s[i]]:\n",
    "            counts[s[i]]=1\n",
    "        else:\n",
    "            counts[s[i]]+=1\n",
    "        if counts[s[i-len(p)]]==0:\n",
    "            del counts[s[i-len(p)]]\n",
    "        if counts == countp:\n",
    "            res.append(i-len(p)+1)\n",
    "    return res\n",
    "\n",
    "def findAnagrams(s, p):\n",
    "    hashtable = {} # hash stores the list of characters we need to cross-off. Initially has all of p in it\n",
    "    for i in p:\n",
    "        hashtable[i] = hashtable.get(i,0)+1\n",
    "    left = 0\n",
    "    count = len(p)# number of characters still to be crossed-off\n",
    "    res = []\n",
    "    right =0\n",
    "    while right < len(s):\n",
    "        if s[right] in hashtable:\n",
    "            hashtable[s[right]]-=1\n",
    "            if hashtable[s[right]]>=0:\n",
    "                count -=1\n",
    "        if count ==0:\n",
    "            res.append(left)\n",
    "        if right==len(p)+left-1:\n",
    "            if s[left] in hashtable:\n",
    "                if hashtable[s[left]]>=0:\n",
    "                    count+=1\n",
    "                hashtable[s[left]]+=1\n",
    "            left +=1\n",
    "        right +=1\n",
    "    return res\n",
    "findAnagrams(s=\"cbaebabacd\", p=\"abc\")"
   ]
  },
  {
   "cell_type": "code",
   "execution_count": 241,
   "metadata": {},
   "outputs": [
    {
     "data": {
      "text/plain": [
       "0"
      ]
     },
     "execution_count": 241,
     "metadata": {},
     "output_type": "execute_result"
    }
   ],
   "source": [
    "# 713. Subarray Product Less Than K,连续积小于K\n",
    "# right每向右移动一格，加上所有以其结尾的数目right-left+1\n",
    "# 当乘积达到K以后，left右移，加上以导致大于K的数结尾的数目right-left+1\n",
    "def numSubarrayProductLessThanK(nums, k):\n",
    "    \"\"\"\n",
    "    :type nums: List[int]\n",
    "    :type k: int\n",
    "    :rtype: int\n",
    "    \"\"\"\n",
    "    counts = 0\n",
    "    left = 0\n",
    "    product = 1\n",
    "    if k<=1:\n",
    "        return 0       \n",
    "    for right in range(len(nums)):\n",
    "        product = product * nums[right]\n",
    "        if product<k:\n",
    "            counts = counts+right-left+1\n",
    "        else:\n",
    "            while product>=k:\n",
    "                product = product/nums[left]\n",
    "                left = left+1\n",
    "            counts = counts+right-left+1\n",
    "    return counts\n",
    "\n",
    "def numSubarrayProductLessThanK(nums, k):\n",
    "    \"\"\"\n",
    "    :type nums: List[int]\n",
    "    :type k: int\n",
    "    :rtype: int\n",
    "    \"\"\"\n",
    "    counts = 0\n",
    "    left = 0\n",
    "    product = 1     \n",
    "    for right in range(len(nums)):\n",
    "        product = product * nums[right]\n",
    "        while product>=k and right>=left:\n",
    "            product = product/nums[left]\n",
    "            left = left+1\n",
    "        counts = counts+right-left+1\n",
    "    return counts\n",
    "numSubarrayProductLessThanK(nums = [10,5,2,6],k=1)"
   ]
  },
  {
   "cell_type": "code",
   "execution_count": 76,
   "metadata": {},
   "outputs": [
    {
     "name": "stdout",
     "output_type": "stream",
     "text": [
      "0 6 Counter({'A': 0, 'B': 0, 'C': 0, 'D': -1, 'O': -1, 'E': -1})\n",
      "1 11 Counter({'A': 0, 'C': 0, 'B': -1, 'D': -2, 'O': -2, 'E': -2})\n",
      "6 13 Counter({'A': 0, 'B': 0, 'C': 0, 'D': -1, 'O': -1, 'E': -1, 'N': -1})\n"
     ]
    },
    {
     "data": {
      "text/plain": [
       "'BANC'"
      ]
     },
     "execution_count": 76,
     "metadata": {},
     "output_type": "execute_result"
    }
   ],
   "source": [
    "# 76. Minimum Window Substring，最小的能包含t内所有（可重复）元素的s子串\n",
    "import collections\n",
    "def minWindow(s, t):\n",
    "    \"\"\"\n",
    "    :type s: str\n",
    "    :type t: str\n",
    "    :rtype: str\n",
    "    \"\"\"\n",
    "    pos = {i:collections.deque() for i in t}\n",
    "    need = collections.Counter(t)#对t的统计\n",
    "    remainder = len(t)\n",
    "    right = 0\n",
    "    while remainder>0 and right<len(s):\n",
    "        if s[right] in t:\n",
    "            if len(pos[s[right]])<need[s[right]]:#如果t还没满足，就记录下来\n",
    "                print(pos[s[right]],s[right])\n",
    "                remainder-=1\n",
    "                pos[s[right]].append(right)\n",
    "            else:\n",
    "                pos[s[right]].popleft()\n",
    "                pos[s[right]].append(right)\n",
    "        right = right+1\n",
    "    if remainder>0:\n",
    "        return \"\"\n",
    "    leftchar,left = min(pos.items(),key=lambda x:x[1][0])#满足t了，记下当前left为substring的第一位，right为最后一位的下一位\n",
    "    minimum = right-left[0]\n",
    "    res = s[left[0]:right]#第一个有效长度\n",
    "    while right<len(s):\n",
    "        if s[right]==leftchar:\n",
    "            pos[leftchar].popleft()\n",
    "            pos[leftchar].append(right)\n",
    "            leftchar,left = min(pos.items(),key=lambda x:x[1][0])\n",
    "            if right-left[0]+1<minimum:\n",
    "                minimum = right-left[0]+1\n",
    "                res = s[left[0]:right+1]\n",
    "        elif s[right] in pos:\n",
    "            pos[s[right]].popleft()\n",
    "            pos[s[right]].append(right)\n",
    "        right+=1\n",
    "    return res\n",
    "\n",
    "def minWindow(s, t):\n",
    "    need = collections.Counter(t)            #hash table to store char frequency\n",
    "    missing = len(t)                         #total number of chars we care\n",
    "    start, end = 0, 0\n",
    "    i = 0\n",
    "    for j, char in enumerate(s, 1):          #index j from 1\n",
    "        if need[char] > 0:# 满足了一个，要求-1\n",
    "            missing -= 1\n",
    "        need[char] -= 1\n",
    "        if missing == 0:                     #match all chars\n",
    "            print(i,j,need)\n",
    "            while i < j and need[s[i]] < 0:  #remove chars to find the real start\n",
    "                need[s[i]] += 1\n",
    "                i += 1\n",
    "            need[s[i]] += 1                  #make sure the first appearing char satisfies need[char]>0\n",
    "            missing += 1                     #we missed this first char, so add missing by 1\n",
    "            if end == 0 or j-i < end-start:  #update window\n",
    "                start, end = i, j\n",
    "            i += 1                           #update i to start+1 for next window\n",
    "    return s[start:end]\n",
    "\n",
    "minWindow(s = \"ADOBECODEBANC\", t = \"ABC\")"
   ]
  },
  {
   "cell_type": "code",
   "execution_count": 122,
   "metadata": {},
   "outputs": [
    {
     "data": {
      "text/plain": [
       "1"
      ]
     },
     "execution_count": 122,
     "metadata": {},
     "output_type": "execute_result"
    }
   ],
   "source": [
    "# 340. Longest Substring with At Most K Distinct Characters，有K个不同字母的子串最大长度\n",
    "# 先找出第一个K长度子串，每次记录最后一个坐标。更新时每出现一个新的字符，就统计之前的长度，并删除一个旧的字符\n",
    "def lengthOfLongestSubstringKDistinct(s,k):\n",
    "    indices = dict()\n",
    "    right = 0\n",
    "    while right<len(s):\n",
    "        if s[right] not in indices and len(indices)==k:\n",
    "            break\n",
    "        else:\n",
    "            indices[s[right]] = right\n",
    "        right = right+1\n",
    "    left,maximum =0, right\n",
    "    while right<len(s):\n",
    "        if s[right] in indices:\n",
    "            indices[s[right]] = right\n",
    "        else:\n",
    "            minchar,minpos = min(indices.items(),key=lambda x:x[1])\n",
    "            maximum = max(maximum,right-left)\n",
    "            left = minpos+1\n",
    "            indices.pop(minchar)\n",
    "            indices[s[right]]=right\n",
    "        right = right+1\n",
    "    return max(maximum,right-left)\n",
    "\n",
    "# 用d记录最后出现的位置，如果d的长度超过k，去掉最左边的旧字符\n",
    "def lengthOfLongestSubstringKDistinct(s, k):\n",
    "    \"\"\"\n",
    "    :type s: str\n",
    "    :type k: int\n",
    "    :rtype: int\n",
    "    \"\"\"\n",
    "    # Use dictionary d to keep track of (character, location) pair,\n",
    "    # where location is the rightmost location that the character appears at\n",
    "    d = {}\n",
    "    left, res = 0, 0\n",
    "    for right, c in enumerate(s):\n",
    "        d[c] = right\n",
    "        if len(d) > k:\n",
    "            left = min(d.values())\n",
    "            del d[s[left]]\n",
    "            left += 1\n",
    "        res = max(right - left + 1, res)\n",
    "    return res\n",
    "lengthOfLongestSubstringKDistinct(\"ab\",1)"
   ]
  },
  {
   "cell_type": "code",
   "execution_count": 102,
   "metadata": {},
   "outputs": [
    {
     "data": {
      "text/plain": [
       "[3, 3, 5, 5, 6, 7]"
      ]
     },
     "execution_count": 102,
     "metadata": {},
     "output_type": "execute_result"
    }
   ],
   "source": [
    "# 239. Sliding Window Maximum\n",
    "import collections\n",
    "def maxSlidingWindow(nums, k):\n",
    "    \"\"\"\n",
    "    :type nums: List[int]\n",
    "    :type k: int\n",
    "    :rtype: List[int]\n",
    "    \"\"\"\n",
    "    q = collections.deque()\n",
    "    result = []\n",
    "\n",
    "    for i in range(len(nums)):\n",
    "        # the first/left (max) element is out of the current window\n",
    "        if q and i - q[0] == k:\n",
    "            q.popleft()\n",
    "\n",
    "        while q:\n",
    "            # pop useles elements from last/right of the queue\n",
    "            if nums[q[-1]] < nums[i]:\n",
    "                q.pop()\n",
    "            else:\n",
    "                break\n",
    "\n",
    "        q.append(i)\n",
    "\n",
    "        if i >= k-1: # i == k-1 is the beginning of a full window\n",
    "            result.append(nums[q[0]])\n",
    "\n",
    "    return result\n",
    "maxSlidingWindow(nums = [1,3,-1,-3,5,3,6,7], k = 3)"
   ]
  },
  {
   "cell_type": "code",
   "execution_count": 201,
   "metadata": {},
   "outputs": [
    {
     "data": {
      "text/plain": [
       "7"
      ]
     },
     "execution_count": 201,
     "metadata": {},
     "output_type": "execute_result"
    }
   ],
   "source": [
    "# 424. Longest Repeating Character Replacement，可以替换k长度的最大长度\n",
    "# right-left-max为替换长度，如果替换长度超过要求，\n",
    "import collections\n",
    "def characterReplacement(s, k):\n",
    "    \"\"\"\n",
    "    :type s: str\n",
    "    :type k: int\n",
    "    :rtype: int\n",
    "    \"\"\"\n",
    "    if not s:\n",
    "        return 0\n",
    "    counts = dict()\n",
    "    right = 0\n",
    "    maxcount = 0\n",
    "    maxchar = [s[0]]\n",
    "    while right<len(s):\n",
    "        if right - maxcount>=k and s[right] not in maxchar:\n",
    "            break\n",
    "        counts[s[right]] = counts.get(s[right],0)+1\n",
    "        if counts[s[right]]>maxcount:\n",
    "            maxcount = counts[s[right]]\n",
    "            maxchar = [s[right]]\n",
    "        elif counts[s[right]]==maxcount:\n",
    "            maxchar.append(s[right])\n",
    "        right = right+1\n",
    "    res = right\n",
    "    left = 0\n",
    "    while right<len(s):\n",
    "        counts[s[right]] = counts.get(s[right],0)+1\n",
    "        if right-left-max(counts.values())>=k:\n",
    "            counts[s[left]]-=1\n",
    "            res = max(res,right-left)\n",
    "            left+=1\n",
    "        right = right+1\n",
    "    return max(res,right-left)\n",
    "\n",
    "def characterReplacement(s, k):\n",
    "    count = {}\n",
    "    max_count = start = result = 0\n",
    "    for end in range(len(s)):\n",
    "        count[s[end]] = count.get(s[end], 0) + 1#当前元素count+1\n",
    "        max_count = max(max_count, count[s[end]])#当前的最大count\n",
    "        if end - start + 1 - max_count > k:#如果需要替换的大于k,则往后移\n",
    "            count[s[start]] -= 1\n",
    "            start += 1\n",
    "        result = max(result, end - start + 1)\n",
    "    return result\n",
    "characterReplacement(s = \"AABBDBCBBA\", k = 2)"
   ]
  },
  {
   "cell_type": "code",
   "execution_count": 1,
   "metadata": {},
   "outputs": [
    {
     "data": {
      "text/plain": [
       "1"
      ]
     },
     "execution_count": 1,
     "metadata": {},
     "output_type": "execute_result"
    }
   ],
   "source": [
    "# 1151. Minimum Swaps to Group All 1's Together,一个由0,1构成的array，调换最小的次数，使得1聚集在一起\n",
    "# 找到1的个数n，长度为n的subarray中0最少的个数(n-1最多的个数)\n",
    "def minSwaps(data):\n",
    "    \"\"\"\n",
    "    :type data: List[int]\n",
    "    :rtype: int\n",
    "    \"\"\"\n",
    "    length,n = len(data),sum(data)#值最大的长度为n\n",
    "    cursum = sum(data[:n])\n",
    "    maximum = cursum\n",
    "    for i in range(n,length):\n",
    "        cursum = cursum+data[i]-data[i-n]\n",
    "        maximum = max(maximum,cursum)\n",
    "    return n-maximum\n",
    "minSwaps([1,0,1,0,1])"
   ]
  },
  {
   "cell_type": "code",
   "execution_count": 213,
   "metadata": {},
   "outputs": [
    {
     "data": {
      "text/plain": [
       "21148476"
      ]
     },
     "execution_count": 213,
     "metadata": {},
     "output_type": "execute_result"
    }
   ],
   "source": [
    "# 992. Subarrays with K Different Integers，总共有K个不同字符的字符串的个数，相当于总共有最多K个的个数-最多K-1个的个数\n",
    "def subarraysWithKDistinct(self, A, K):\n",
    "    \"\"\"\n",
    "    :type A: List[int]\n",
    "    :type K: int\n",
    "    :rtype: int\n",
    "    \"\"\"\n",
    "    return countsOfLongestSubstringKDistinct(A,K)-self.countsOfLongestSubstringKDistinct(A,K-1)\n",
    "    \n",
    "def countsOfLongestSubstringKDistinct(s, k):# 总共有最多K个的个数\n",
    "    \"\"\"\n",
    "    :type s: str\n",
    "    :type k: int\n",
    "    :rtype: int\n",
    "    \"\"\"\n",
    "    # Use dictionary d to keep track of (character, location) pair,\n",
    "    # where location is the rightmost location that the character appears at\n",
    "    d = {}\n",
    "    left, res = 0, 0\n",
    "    for right, c in enumerate(s):\n",
    "        d[c] = right\n",
    "        if len(d) > k:\n",
    "            left = min(d.values())\n",
    "            del d[s[left]]\n",
    "            left += 1\n",
    "        res += right - left + 1\n",
    "    return res\n",
    "countsOfLongestSubstringKDistinct(s,k)\n",
    "\n",
    "def countsOfLongestSubstringKDistinct(A, K):\n",
    "    count = collections.Counter()\n",
    "    res = i = 0\n",
    "    for j in range(len(A)):\n",
    "        if count[A[j]] == 0: K -= 1\n",
    "        count[A[j]] += 1\n",
    "        while K < 0:#K个机会都用完了，并且遇到了新的，把左边的一直减，直到出现空缺\n",
    "            count[A[i]] -= 1# 最左边的count-1\n",
    "            if count[A[i]] == 0: K += 1#A[i]用完了，机会增加1\n",
    "            i += 1\n",
    "        res += j - i + 1\n",
    "    return res"
   ]
  },
  {
   "cell_type": "code",
   "execution_count": 2,
   "metadata": {},
   "outputs": [
    {
     "data": {
      "text/plain": [
       "3"
      ]
     },
     "execution_count": 2,
     "metadata": {},
     "output_type": "execute_result"
    }
   ],
   "source": [
    "# 395. Longest Substring with At Least K Repeating Characters,每个元素至少重复了K次的最长子串\n",
    "# 这道题不能从小到大，因为可能小的不满足大的满足。所以遍历全部，不满足的一定会将其余的分割出来，对每部分处理\n",
    "import collections\n",
    "def longestSubstring(s, k):\n",
    "    \"\"\"\n",
    "    :type s: str\n",
    "    :type k: int\n",
    "    :rtype: int\n",
    "    \"\"\"\n",
    "    if len(s)<k or len(s)==0:\n",
    "        return 0\n",
    "    counts = collections.Counter(s)\n",
    "    indices = []\n",
    "    for i in range(len(s)):\n",
    "        if counts[s[i]]<k:\n",
    "            indices.append(i)\n",
    "    if len(indices)==0:\n",
    "        return len(s)\n",
    "    res = max(longestSubstring(s[:indices[0]],k),longestSubstring(s[indices[-1]+1:],k))\n",
    "    for i in range(len(indices)-1):\n",
    "        res = max(res,longestSubstring(s[indices[i]+1:indices[i+1]],k))\n",
    "    return res\n",
    "longestSubstring(s = \"aaabb\", k = 3)"
   ]
  },
  {
   "cell_type": "code",
   "execution_count": 57,
   "metadata": {},
   "outputs": [
    {
     "data": {
      "text/plain": [
       "[6, 9, 12]"
      ]
     },
     "execution_count": 57,
     "metadata": {},
     "output_type": "execute_result"
    }
   ],
   "source": [
    "# 30. Substring with Concatenation of All Words，找出满足对应words里的子串\n",
    "# 对从indlen开始的字符串分别做sliding window，右边加单词，出现特定情况左边减单词\n",
    "import collections\n",
    "def findSubstring(s, words):\n",
    "    \"\"\"\n",
    "    :type s: str\n",
    "    :type words: List[str]\n",
    "    :rtype: List[int]\n",
    "    \"\"\"\n",
    "    if not words:\n",
    "        return []\n",
    "    counts = collections.Counter(words)\n",
    "    if \"\" in counts and len(counts)==1:\n",
    "        return list(range(len(s)+1))\n",
    "    indlen = len(words[0])\n",
    "    totlen = indlen*len(words)\n",
    "    if len(s)<totlen:\n",
    "        return []\n",
    "    res = []\n",
    "    for i in range(indlen):\n",
    "        left = i\n",
    "        movcounts = collections.Counter()#the counts\n",
    "        poscounts = dict()# the positions\n",
    "        while left+indlen<=len(s):\n",
    "            curword = s[left:left+indlen]# a new word\n",
    "            if curword not in counts:# if not in, reset\n",
    "                movcounts = collections.Counter()\n",
    "                poscounts = dict()\n",
    "            else:# if in\n",
    "                if curword not in poscounts:# not recorded yet\n",
    "                    poscounts[curword] = collections.deque()\n",
    "                poscounts[curword].append(left)\n",
    "                movcounts[curword]+=1\n",
    "                if movcounts[curword]>counts[curword]:#a new word which cause surplus\n",
    "                    pivot = poscounts[curword].popleft()\n",
    "                    movcounts[curword]-=1\n",
    "                    for key in poscounts:# remove all words which are on the left side\n",
    "                        while poscounts[key] and poscounts[key][0]<pivot:\n",
    "                            poscounts[key].popleft()\n",
    "                            movcounts[key]-=1\n",
    "                if movcounts == counts:#if satisfy\n",
    "                    res.append(left+indlen-totlen)\n",
    "            left = left+indlen\n",
    "    return res\n",
    "findSubstring(\"barfoofoobarthefoobarman\",[\"bar\",\"foo\",\"the\"])"
   ]
  },
  {
   "cell_type": "code",
   "execution_count": 1,
   "metadata": {},
   "outputs": [],
   "source": [
    "# 1052. Grumpy Bookstore Owner\n",
    "\n",
    "# 一个矩阵customers和一个mask array grumpy，可以去掉X长度的mask，求最大值\n",
    "\n",
    "import collections\n",
    "def maxSatisfied(customers, grumpy, X):\n",
    "    \"\"\"\n",
    "    :type customers: List[int]\n",
    "    :type grumpy: List[int]\n",
    "    :type X: int\n",
    "    :rtype: int\n",
    "    \"\"\"\n",
    "    res = 0\n",
    "    indices = []\n",
    "    scores = []\n",
    "    for i in range(len(grumpy)):\n",
    "        if grumpy[i]==0:\n",
    "            res+=customers[i]\n",
    "        else:\n",
    "            indices.append(i)\n",
    "            scores.append(customers[i])\n",
    "    nums = collections.deque()\n",
    "    cursum,maximum = 0,0\n",
    "    for i in range(len(indices)):\n",
    "        while nums and indices[i]-indices[nums[0]]>=X:\n",
    "            index = nums.popleft()\n",
    "            cursum-=scores[index]\n",
    "        nums.append(i)\n",
    "        cursum+=scores[i]\n",
    "        maximum = max(maximum,cursum)\n",
    "    return res+maximum\n",
    "\n",
    "def maxSatisfied(customers, grumpy, X):\n",
    "    \"\"\"\n",
    "    :type customers: List[int]\n",
    "    :type grumpy: List[int]\n",
    "    :type X: int\n",
    "    :rtype: int\n",
    "    \"\"\"\n",
    "    res = 0\n",
    "    for i in range(len(grumpy)):\n",
    "        if grumpy[i]==0:\n",
    "            res+=customers[i]\n",
    "            customers[i]=0#将其置为0\n",
    "    cursum,maximum = 0,0\n",
    "    for i in range(len(grumpy)):\n",
    "        cursum+=customers[i]\n",
    "        if i>=X:\n",
    "            cursum-=customers[i-X]\n",
    "        maximum = max(maximum,cursum)\n",
    "    return res+maximum"
   ]
  },
  {
   "cell_type": "code",
   "execution_count": 1,
   "metadata": {},
   "outputs": [
    {
     "data": {
      "text/plain": [
       "3"
      ]
     },
     "execution_count": 1,
     "metadata": {},
     "output_type": "execute_result"
    }
   ],
   "source": [
    "# 881. Boats to Save People,给定一些数，每次最多可以拿两个，并限制和为limit，求最少拿完次数，可以follow为knapsack问题\n",
    "\n",
    "def numRescueBoats(people, limit):\n",
    "    \"\"\"\n",
    "    :type people: List[int]\n",
    "    :type limit: int\n",
    "    :rtype: int\n",
    "    \"\"\"\n",
    "    people.sort()\n",
    "    left = 0\n",
    "    right = len(people)-1\n",
    "    res = 0\n",
    "    while left<=right:\n",
    "        if people[right]+people[left]<=limit:\n",
    "            right-=1\n",
    "            left+=1\n",
    "        else:\n",
    "            right-=1\n",
    "        res+=1\n",
    "    return res\n",
    "numRescueBoats(people = [3,2,2,1], limit = 3)"
   ]
  },
  {
   "cell_type": "code",
   "execution_count": 48,
   "metadata": {},
   "outputs": [
    {
     "data": {
      "text/plain": [
       "10"
      ]
     },
     "execution_count": 48,
     "metadata": {},
     "output_type": "execute_result"
    }
   ],
   "source": [
    "# 418. Sentence Screen Fitting,将sentence放在二维矩阵中\n",
    "def wordsTyping(sentence, rows, cols):\n",
    "    \"\"\"\n",
    "    :type sentence: List[str]\n",
    "    :type rows: int\n",
    "    :type cols: int\n",
    "    :rtype: int\n",
    "    \"\"\"\n",
    "    sentence = [len(i)+1 for i in sentence]\n",
    "    total_len = sum(sentence)\n",
    "    occurs = (cols+1)//total_len\n",
    "    count = 0\n",
    "    cols = cols+1-occurs*total_len\n",
    "    pointer = 0# the pointer in the sentence\n",
    "    idx = 0 # the index in the sentence\n",
    "    i = 1 # the row idx\n",
    "    while i<=rows:\n",
    "        while pointer+sentence[idx]<=cols:#only when the next word can fit, keep going\n",
    "            pointer +=sentence[idx]\n",
    "            idx = idx+1\n",
    "            if idx==len(sentence):\n",
    "                idx = 0\n",
    "                count+=1\n",
    "        if idx == 0:\n",
    "            count = count*(rows//i)\n",
    "            i  = i * (rows//i)\n",
    "        i = i+1\n",
    "        pointer = 0\n",
    "    return count+occurs*rows\n",
    "wordsTyping([\"f\",\"p\",\"a\"],8,7)"
   ]
  },
  {
   "cell_type": "code",
   "execution_count": 1,
   "metadata": {},
   "outputs": [
    {
     "name": "stdout",
     "output_type": "stream",
     "text": [
      "[-1, 0, 1, 3, 4, 5]\n"
     ]
    },
    {
     "data": {
      "text/plain": [
       "2"
      ]
     },
     "execution_count": 1,
     "metadata": {},
     "output_type": "execute_result"
    }
   ],
   "source": [
    "# 1248. Count Number of Nice Subarrays,含有K个奇数的子数组个数\n",
    "def numberOfSubarrays(nums, k):\n",
    "    \"\"\"\n",
    "    :type nums: List[int]\n",
    "    :type k: int\n",
    "    :rtype: int\n",
    "    \"\"\"\n",
    "    odd = [-1]\n",
    "    for i in range(len(nums)):\n",
    "        if nums[i]%2==1:\n",
    "            odd.append(i)\n",
    "    odd.append(len(nums))\n",
    "    print(odd)\n",
    "    return sum((odd[i]-odd[i-1])*(odd[i+k]-odd[i+k-1]) for i in range(1,len(odd)-k))\n",
    "numberOfSubarrays([1,1,2,1,1],3)"
   ]
  },
  {
   "cell_type": "code",
   "execution_count": 48,
   "metadata": {},
   "outputs": [],
   "source": [
    "import collections\n",
    "def threeSumMulti(A, target):\n",
    "    \"\"\"\n",
    "    :type A: List[int]\n",
    "    :type target: int\n",
    "    :rtype: int\n",
    "    \"\"\"\n",
    "    counts = collections.Counter(A)\n",
    "    nums = sorted(counts.keys())\n",
    "    res = 0\n",
    "    mod = 10**9+7\n",
    "    for i in range(len(nums)):\n",
    "        if counts[nums[i]]>=2:\n",
    "            temp = target - nums[i]*2\n",
    "            if temp==nums[i]:\n",
    "                res+= counts[nums[i]]*(counts[nums[i]]-1)*(counts[nums[i]]-2)//6\n",
    "                print(counts[nums[i]],3*2*1//6)\n",
    "            elif temp in counts:\n",
    "                res+= counts[nums[i]]*(counts[nums[i]]-1)//2*counts[temp]\n",
    "        res = res%mod\n",
    "        for j in range(i+1,len(nums)):\n",
    "            temp = target-nums[i]-nums[j]\n",
    "            if temp in counts and temp>=nums[j]:\n",
    "                if temp==nums[j]:\n",
    "                    res+= counts[nums[i]]*counts[temp]*(counts[temp]-1)//2\n",
    "                else:\n",
    "                    res+=counts[nums[i]]*counts[nums[j]]*counts[temp]\n",
    "        res = res%mod\n",
    "        counts.pop(nums[i])\n",
    "    return res"
   ]
  },
  {
   "cell_type": "code",
   "execution_count": 49,
   "metadata": {},
   "outputs": [
    {
     "data": {
      "text/plain": [
       "20"
      ]
     },
     "execution_count": 49,
     "metadata": {},
     "output_type": "execute_result"
    }
   ],
   "source": [
    "threeSumMulti(A = [1,1,2,2,3,3,4,4,5,5], target = 8)"
   ]
  },
  {
   "cell_type": "code",
   "execution_count": 27,
   "metadata": {},
   "outputs": [
    {
     "data": {
      "text/plain": [
       "(10, 10)"
      ]
     },
     "execution_count": 27,
     "metadata": {},
     "output_type": "execute_result"
    }
   ],
   "source": [
    "# 632. Smallest Range Covering Elements from K Lists\n",
    "# 给定k个有序list,求最小的能与每个list都有覆盖的区间,将所有数并入一个列表，然后minimum window substring\n",
    "import heapq\n",
    "def smallestRange(nums):\n",
    "    \"\"\"\n",
    "    :type nums: List[List[int]]\n",
    "    :rtype: List[int]\n",
    "    \"\"\"\n",
    "    tot,k,values = [],len(nums),[]\n",
    "    heap = [(nums[i][0],0,i) for i in range(k)]\n",
    "    heapq.heapify(heap)\n",
    "    while heap:\n",
    "        val,idx,ilist = heapq.heappop(heap)\n",
    "        tot.append(ilist)\n",
    "        values.append(val)\n",
    "        if idx!=len(nums[ilist])-1:\n",
    "            heapq.heappush(heap,(nums[ilist][idx+1],idx+1,ilist))\n",
    "    # find the minimum window to include [0,...,k-1]\n",
    "    pos = dict()#对于ilist的值，对应的index\n",
    "    left,right = 0,0\n",
    "    while right<len(tot) and len(pos)<k:\n",
    "        pos[tot[right]] = right\n",
    "        right+=1\n",
    "    \n",
    "    left = min(pos.values())\n",
    "    curmin = [values[left],values[right-1]]\n",
    "    while right<len(tot):\n",
    "        pos[tot[right]]=right\n",
    "        if tot[right]==tot[left]:\n",
    "            left = min(pos.values())\n",
    "            if values[right]-values[left]<curmin[1]-curmin[0]:\n",
    "                curmin = [values[left],values[right]]\n",
    "        right+=1\n",
    "    return curmin\n",
    "\n",
    "def smallestRange(nums):\n",
    "    \"\"\"\n",
    "    :type nums: List[List[int]]\n",
    "    :rtype: List[int]\n",
    "    \"\"\"\n",
    "    pq = [(row[0], i, 0) for i, row in enumerate(nums)]\n",
    "    heapq.heapify(pq)\n",
    "\n",
    "    ans = -1e9, 1e9\n",
    "    right = max(row[0] for row in nums)\n",
    "    while pq:\n",
    "        left, i, j = heapq.heappop(pq)\n",
    "        if right - left < ans[1] - ans[0]:\n",
    "            ans = left, right\n",
    "        if j + 1 == len(nums[i]):\n",
    "            return ans\n",
    "        v = nums[i][j+1]\n",
    "        right = max(right, v)\n",
    "        heapq.heappush(pq, (v, i, j+1))\n",
    "\n",
    "smallestRange([[4,10,15,24,26],[10]])"
   ]
  },
  {
   "cell_type": "code",
   "execution_count": 1,
   "metadata": {},
   "outputs": [
    {
     "data": {
      "text/plain": [
       "4"
      ]
     },
     "execution_count": 1,
     "metadata": {},
     "output_type": "execute_result"
    }
   ],
   "source": [
    "# 1498. Number of Subsequences That Satisfy the Given Sum Condition\n",
    "def numSubseq(nums, target):\n",
    "    \"\"\"\n",
    "    :type nums: List[int]\n",
    "    :type target: int\n",
    "    :rtype: int\n",
    "    \"\"\"\n",
    "    nums.sort()\n",
    "    res,mod = 0,10**9+7\n",
    "    left,right = 0,len(nums)-1\n",
    "    while left<=right:\n",
    "        if nums[right]+nums[left]>target:#随着left的增大，右边界不断左移\n",
    "            right-=1\n",
    "        else:\n",
    "            res += pow(2,right-left,mod)#对每一个left，找到left+1~right满足区间，区间内任意选择\n",
    "            left+=1\n",
    "    return res%mod\n",
    "numSubseq(nums = [3,5,6,7], target = 9)"
   ]
  },
  {
   "cell_type": "code",
   "execution_count": 2,
   "metadata": {},
   "outputs": [
    {
     "data": {
      "text/plain": [
       "4"
      ]
     },
     "execution_count": 2,
     "metadata": {},
     "output_type": "execute_result"
    }
   ],
   "source": [
    "# 1499. Max Value of Equation,sorted坐标，求x差在k以内的yi + yj + |xi - xj|最大值\n",
    "# 相当于对j,求最大的yi-xi，把其压入heap，\n",
    "import heapq\n",
    "def findMaxValueOfEquation(points, k):\n",
    "    \"\"\"\n",
    "    :type points: List[List[int]]\n",
    "    :type k: int\n",
    "    :rtype: int\n",
    "    \"\"\"\n",
    "    heap = []\n",
    "    maximum = -float('inf')\n",
    "    for x,y in points:\n",
    "        if heap:\n",
    "            while heap and x-heap[0][1]>k:\n",
    "                heapq.heappop(heap)\n",
    "            if heap:\n",
    "                maximum = max(maximum,x+y-heap[0][0])\n",
    "        heapq.heappush(heap,(-(y-x),x))\n",
    "    return maximum\n",
    "\n",
    "import collections\n",
    "def findMaxValueOfEquation(points, k):\n",
    "    q = collections.deque()\n",
    "    res = -float('inf')\n",
    "    for x, y in points:\n",
    "        while q and q[0][1] < x - k:#如果左边不满足，就左边推出\n",
    "            q.popleft()\n",
    "        if q: #左边值为最大值\n",
    "            res = max(res, q[0][0] + y + x)\n",
    "        while q and q[-1][0] <= y - x:#把小的全部pop掉，维持一个递减栈\n",
    "            q.pop()\n",
    "        q.append([y - x, x])\n",
    "    return res\n",
    "findMaxValueOfEquation(points = [[1,3],[2,0],[5,10],[6,-10]], k = 1)"
   ]
  },
  {
   "cell_type": "code",
   "execution_count": 25,
   "metadata": {},
   "outputs": [
    {
     "data": {
      "text/plain": [
       "4"
      ]
     },
     "execution_count": 25,
     "metadata": {},
     "output_type": "execute_result"
    }
   ],
   "source": [
    "# 给一个全是正整数array 和k, 求其和严格小于k的subarray数目\n",
    "def countSubarray(arr, k): \n",
    "    counts = 0\n",
    "    left,cursum = 0,0,\n",
    "    for right in range(len(arr)):\n",
    "        cursum+=arr[right]\n",
    "        if cursum>=k:\n",
    "            while left<=right and cursum>=k:\n",
    "                cursum-=arr[left]\n",
    "                left+=1\n",
    "        counts+=right-left+1\n",
    "    return counts\n",
    "countSubarray([1, 11, 2, 3, 15],10 )"
   ]
  },
  {
   "cell_type": "code",
   "execution_count": 1,
   "metadata": {},
   "outputs": [
    {
     "data": {
      "text/plain": [
       "3"
      ]
     },
     "execution_count": 1,
     "metadata": {},
     "output_type": "execute_result"
    }
   ],
   "source": [
    "# 1574. Shortest Subarray to be Removed to Make Array Sorted，删除最小subarray使得剩下的有序\n",
    "# 先找到左右两边各自有序\n",
    "# 然后从左边开始，用sliding window移动查找，最终答案可能是取两头的各一部分，所以不能用binary search\n",
    "def findLengthOfShortestSubarray(arr):\n",
    "    left,right = 0,len(arr)-1\n",
    "    while left<len(arr)-1 and arr[left+1]>=arr[left]:\n",
    "        left+=1\n",
    "    if left==len(arr)-1:\n",
    "        return 0\n",
    "    while right>0 and arr[right]>=arr[right-1]:\n",
    "        right-=1\n",
    "    res = min(len(arr)-left-1,right)\n",
    "    for i in range(left+1):\n",
    "        if arr[i]<=arr[right]:\n",
    "            res = min(res,right-i-1)\n",
    "        elif right<len(arr)-1:\n",
    "            right+=1\n",
    "        else:\n",
    "            break\n",
    "    return res\n",
    "findLengthOfShortestSubarray(arr = [1,2,3,10,4,2,3,5])"
   ]
  },
  {
   "cell_type": "code",
   "execution_count": null,
   "metadata": {},
   "outputs": [],
   "source": []
  }
 ],
 "metadata": {
  "kernelspec": {
   "display_name": "Python 3",
   "language": "python",
   "name": "python3"
  },
  "language_info": {
   "codemirror_mode": {
    "name": "ipython",
    "version": 3
   },
   "file_extension": ".py",
   "mimetype": "text/x-python",
   "name": "python",
   "nbconvert_exporter": "python",
   "pygments_lexer": "ipython3",
   "version": "3.7.3"
  }
 },
 "nbformat": 4,
 "nbformat_minor": 2
}
