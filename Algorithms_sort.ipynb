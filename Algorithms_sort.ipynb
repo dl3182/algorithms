{
 "cells": [
  {
   "cell_type": "code",
   "execution_count": 14,
   "metadata": {
    "collapsed": true
   },
   "outputs": [],
   "source": [
    "class Divide_conque:\n",
    "    def mergesort(self,seq):\n",
    "        \"\"\"归并排序\"\"\"\n",
    "        if len(seq) <= 1:\n",
    "            return seq\n",
    "        mid = len(seq) // 2  # 将列表分成更小的两个列表\n",
    "        # 分别对左右两个列表进行处理，分别返回两个排序好的列表\n",
    "        left = self.mergesort(seq[:mid])\n",
    "        right = self.mergesort(seq[mid:])\n",
    "        # 对排序好的两个列表合并，产生一个新的排序好的列表\n",
    "        print(left,right)\n",
    "        return self.merge(left, right)\n",
    "\n",
    "    def merge(self,left, right):\n",
    "        \"\"\"合并两个已排序好的列表，产生一个新的已排序好的列表\"\"\"\n",
    "        result = []  # 新的已排序好的列表\n",
    "        i = 0  # 下标\n",
    "        j = 0\n",
    "        # 对两个列表中的元素 两两对比。\n",
    "        # 将最小的元素，放到result中，并对当前列表下标加1\n",
    "        while i < len(left) and j < len(right):\n",
    "            if left[i] <= right[j]:\n",
    "                result.append(left[i])\n",
    "                i += 1\n",
    "            else:\n",
    "                result.append(right[j])\n",
    "                j += 1\n",
    "        result += left[i:]\n",
    "        result += right[j:]\n",
    "        return result\n",
    "    \n",
    "    def maxSubArray(self, nums):\n",
    "        \"\"\"\n",
    "        用分治法得到最大子数组\n",
    "        :type nums: List[int]\n",
    "        :rtype: int\n",
    "        \"\"\"\n",
    "        if len(nums)==1:\n",
    "            return nums[0]\n",
    "        value1=self.maxSubArray(nums[0:len(nums)//2])\n",
    "        value2=self.maxSubArray(nums[len(nums)//2:])\n",
    "        value3=nums[len(nums)//2]\n",
    "        temp=0\n",
    "        for i in range(len(nums)//2,len(nums)):\n",
    "            temp=temp+nums[i]\n",
    "            if temp>value3:\n",
    "                value3=temp\n",
    "        temp=value3\n",
    "        for i in range(len(nums)//2-1,-1,-1):\n",
    "            temp=temp+nums[i]\n",
    "            if temp>value3:\n",
    "                value3=temp\n",
    "        return max(value1,value2,value3)"
   ]
  },
  {
   "cell_type": "code",
   "execution_count": 7,
   "metadata": {},
   "outputs": [],
   "source": [
    "def mergesort(arr):\n",
    "    def merge(left,right):\n",
    "        result = []  # 新的已排序好的列表\n",
    "        i = 0  # 下标\n",
    "        j = 0\n",
    "        while i < len(left) and j < len(right):\n",
    "            if left[i] <= right[j]:\n",
    "                result.append(left[i])\n",
    "                i += 1\n",
    "            else:\n",
    "                result.append(right[j])\n",
    "                j += 1\n",
    "        result += left[i:]\n",
    "        result += right[j:]\n",
    "        return result\n",
    "    if len(arr)<=1:\n",
    "        return arr\n",
    "    left = mergesort(arr[:len(arr)//2])\n",
    "    right = mergesort(arr[len(arr)//2:])\n",
    "    return merge(left,right)\n"
   ]
  },
  {
   "cell_type": "code",
   "execution_count": 8,
   "metadata": {},
   "outputs": [
    {
     "data": {
      "text/plain": [
       "[1, 2, 3, 4, 5]"
      ]
     },
     "execution_count": 8,
     "metadata": {},
     "output_type": "execute_result"
    }
   ],
   "source": [
    "mergesort([1,4,3,5,2])"
   ]
  },
  {
   "cell_type": "code",
   "execution_count": null,
   "metadata": {},
   "outputs": [],
   "source": []
  },
  {
   "cell_type": "code",
   "execution_count": 71,
   "metadata": {
    "collapsed": true
   },
   "outputs": [],
   "source": [
    "#堆排序\n",
    "class heap:\n",
    "    def swap(self,a, i, j):\n",
    "        a[i], a[j] = a[j], a[i]\n",
    "\n",
    "    def is_heap(self,a):#判断是否为heap\n",
    "        n = 0\n",
    "        m = 0\n",
    "        while True:\n",
    "            for i in [0, 1]:\n",
    "                m += 1\n",
    "                if m >= len(a):\n",
    "                    return True\n",
    "            if a[m] > a[n]:\n",
    "                return False\n",
    "            n += 1\n",
    "\n",
    "    def sift_down(self,a, n, length):#让节点n的数大于其子节点的数，并让其子节点的数也如此\n",
    "        while True:\n",
    "            biggest = n\n",
    "            c1 = 2*n + 1\n",
    "            c2 = c1 + 1\n",
    "            for c in [c1, c2]: # 比较该值和其子节点的值\n",
    "                if c < length and a[c] > a[biggest]:\n",
    "                    biggest = c\n",
    "            if biggest == n:\n",
    "                return\n",
    "            self.swap(a, n, biggest)\n",
    "            n = biggest #换下来的数要继续往下比较\n",
    "\n",
    "    def heapify(self,a):\n",
    "        i = len(a) // 2 - 1 #可能的父节点个数\n",
    "        length = len(a)\n",
    "        while i >= 0:\n",
    "            self.sift_down(a, i, length)\n",
    "            i -= 1\n",
    "\n",
    "    def heapsort(self,a):\n",
    "        self.heapify(a) #构建堆\n",
    "        print(a)\n",
    "        j = len(a) - 1\n",
    "        while j > 0:\n",
    "            self.swap(a, 0, j) # 将0号元素和最后一个元素兑换\n",
    "            self.sift_down(a, 0, j) #沉底长度减1，将0号元素沉底\n",
    "            j -= 1\n",
    "        return a"
   ]
  },
  {
   "cell_type": "code",
   "execution_count": 73,
   "metadata": {},
   "outputs": [
    {
     "name": "stdout",
     "output_type": "stream",
     "text": [
      "[11, 10, 7, 9, 5, 6, 3, 8, 4, 2, 1]\n"
     ]
    },
    {
     "data": {
      "text/plain": [
       "[1, 2, 3, 4, 5, 6, 7, 8, 9, 10, 11]"
      ]
     },
     "execution_count": 73,
     "metadata": {},
     "output_type": "execute_result"
    }
   ],
   "source": [
    "a = [3, 11, 10, 9, 8, 7, 1, 2, 12, 4, 5, 6]\n",
    "a = list(range(1,12))\n",
    "sol=heap()\n",
    "sol.heapsort(a)"
   ]
  },
  {
   "cell_type": "code",
   "execution_count": 2,
   "metadata": {},
   "outputs": [
    {
     "data": {
      "text/plain": [
       "[17, 20, 21, 21, 26, 31, 32, 44, 54, 55, 77, 93]"
      ]
     },
     "execution_count": 2,
     "metadata": {},
     "output_type": "execute_result"
    }
   ],
   "source": [
    "#快速排序\n",
    "def quickSort(arr):\n",
    "    def quickSortHelper(first,last):\n",
    "        if first<last:\n",
    "            splitpoint = partition(first,last)\n",
    "            quickSortHelper(first,splitpoint-1)\n",
    "            quickSortHelper(splitpoint+1,last)\n",
    "\n",
    "    def partition(first,last):\n",
    "        pivotvalue = arr[first]#第一个数为pivot\n",
    "        left = first+1\n",
    "        right = last\n",
    "        \n",
    "        done = False\n",
    "        while not done:\n",
    "            while left <= right and arr[left] <= pivotvalue:#从左到右找到第一个比pivot大的数\n",
    "                left = left + 1\n",
    "\n",
    "            while arr[right] >= pivotvalue and right >= left:#从右到左找到第一个比pivot小的数\n",
    "                right = right -1\n",
    "\n",
    "            if right < left:#right依然是从右往左第一个小于first的数\n",
    "                done = True\n",
    "            else:\n",
    "                arr[left],arr[right]=arr[right],arr[left]\n",
    "        \n",
    "        arr[first],arr[right]=arr[right],arr[first]\n",
    "        return right\n",
    "\n",
    "    length=len(arr)\n",
    "    quickSortHelper(0,length-1)\n",
    "    return arr\n",
    "\n",
    "quickSort([54,26,93,32,21,21,17,77,31,44,55,20])\n"
   ]
  },
  {
   "cell_type": "code",
   "execution_count": 67,
   "metadata": {},
   "outputs": [
    {
     "name": "stdout",
     "output_type": "stream",
     "text": [
      "before sorting [957, 958, 338, 365, 57, 123, 895, 731, 296, 486]\n",
      "after sorting  [57, 123, 296, 338, 365, 486, 731, 895, 957, 958]\n"
     ]
    }
   ],
   "source": [
    "from random import randint\n",
    "#基数排序\n",
    "def RadixSort(list,d):    \n",
    "    for k in range(d):#d轮排序\n",
    "        s=[[] for i in range(10)]#因为每一位数字都是0~9，故建立10个桶\n",
    "        '''对于数组中的元素，首先按照最低有效数字进行\n",
    "           排序，然后由低位向高位进行。'''\n",
    "        for i in list:\n",
    "            s[i//(10**k)%10].append(i) #977/10=97(小数舍去),87/100=0#第k位的数字对应的桶添加数字i\n",
    "        list=[j for i in s for j in i]#注意双循环之间的顺序\n",
    "    return list\n",
    "\n",
    "a=[randint(1,999) for i in range(10)]#最多是三位数，因此d=3\n",
    "print('before sorting',a)\n",
    "a=RadixSort(a,3)\n",
    "print('after sorting ',a)"
   ]
  },
  {
   "cell_type": "code",
   "execution_count": 51,
   "metadata": {},
   "outputs": [
    {
     "name": "stdout",
     "output_type": "stream",
     "text": [
      "[2, 2, 3, 3, 4, 5, 5, 5, 6, 7, 1, 3]\n",
      "found: [0, 3, 5, 6, 8, 10]\n"
     ]
    }
   ],
   "source": [
    "# -*- coding: cp936 -*-\n",
    "import sys\n",
    "# 收费公路重建问题，使用backtracking方法\n",
    " \n",
    "class turnpike_problem:\n",
    "    def __init__(self, n, D):\n",
    "        self.x = [0]*(n+1)#从x[1:]表示解 \n",
    "        self.n = n\n",
    "        if self.n*(self.n-1)//2!=len(D):\n",
    "            print('Incorrect input')\n",
    "            return \n",
    "        self.D = D[:]\n",
    "        self.D.sort()\n",
    "        self.show()\n",
    "    \n",
    "    def place(self, n, D, left, right):\n",
    "        found_flag = False\n",
    "        \n",
    "        if len(D) == 0:#这里是found_flag可能被改成True的地方\n",
    "            return True\n",
    " \n",
    "        Dmax = max(D)#最大的数要么出现在未找到的第一个（与最后一个构成最大值），要么出现在未找到的最后一个（与第一个构成最大值）\n",
    " \n",
    "        tmpD = D[:]#用一个temp尝试赋值删除\n",
    "        set_right = True\n",
    "        for i in list(range(1, left))+list(range(right+1, n+1)):#删除left左边和right右边的已有距离\n",
    "            if abs(self.x[i]-Dmax) not in tmpD:\n",
    "                set_right = False\n",
    "                break #break跳出这个循环\n",
    "            tmpD.remove(abs(self.x[i]-Dmax))\n",
    "        \n",
    "        if set_right == True:#如果可行，则实行上述赋值与删除\n",
    "            self.x[right] = Dmax\n",
    "            for i in list(range(1, left))+list(range(right+1, n+1)):\n",
    "                D.remove(abs(self.x[i]-Dmax))\n",
    " \n",
    "            found_flag = self.place(n, D, left, right-1)\n",
    " \n",
    "            if found_flag == False:#操作失败，undo deletion\n",
    "                for i in list(range(1, left))+list(range(right+1, n+1)):\n",
    "                    D.append(abs(self.x[i]-Dmax))\n",
    "#                 D.sort() #从始至终我们只考虑D的最大值，故不需要重新排序\n",
    " \n",
    "        if found_flag == False:\n",
    "            tmpD = D[:]\n",
    "            set_left = True\n",
    "            for i in list(range(1, left))+list(range(right+1, n+1)):#将左边的值赋值为xn-Dmax，然后尝试作删除\n",
    "                if abs(self.x[n]-Dmax-self.x[i]) not in tmpD:\n",
    "                    set_left = False\n",
    "                    break\n",
    "                tmpD.remove(abs(self.x[n]-Dmax-self.x[i]))\n",
    "                \n",
    "            if set_left == True:\n",
    "                self.x[left] = self.x[n]-Dmax\n",
    "                for i in list(range(1, left))+list(range(right+1, n+1)):\n",
    "                    D.remove(abs(self.x[n]-Dmax-self.x[i]))\n",
    " \n",
    "                found_flag = self.place(n, D, left+1, right)\n",
    "                \n",
    "                if found_flag == False:\n",
    "                    for i in list(range(1, left))+list(range(right+1, n+1)):\n",
    "                        D.append(abs(self.x[n]-Dmax-self.x[i]))\n",
    "#                     D.sort()\n",
    "        return found_flag\n",
    "        \n",
    "    def turnpike(self, n, D):\n",
    "        self.x[n] = max(D)\n",
    "        D.remove(self.x[n])\n",
    "        self.x[n-1] = max(D)#由于对称性，设置n-1不影响\n",
    "        D.remove(self.x[n-1])\n",
    "        if self.x[n]-self.x[n-1] in D:\n",
    "            D.remove(self.x[n]-self.x[n-1])\n",
    "            return self.place(n, D, 2, n-2)\n",
    "        else:\n",
    "            return False\n",
    " \n",
    "    def show(self):\n",
    "        if self.turnpike(self.n, self.D):\n",
    "            print ('found:', self.x[1:])\n",
    "        else:\n",
    "            print ('not found')\n",
    "\n",
    "sys.setrecursionlimit(1000)\n",
    "\n",
    "D = [1, 2, 2, 2, 3, 3, 3, 4, 5, 5, 5, 6, 7, 8, 10]\n",
    "# D = [1, 2, 2, 3, 4, 5]\n",
    "# D=[2,3,5,10,1,3,8,2,7,5]\n",
    "t = turnpike_problem(6, D)\n"
   ]
  },
  {
   "cell_type": "code",
   "execution_count": 1,
   "metadata": {
    "collapsed": true
   },
   "outputs": [],
   "source": [
    "### 快速选择\n",
    "#查找第K大的数，leetcode 215\n",
    "def findKthLargest(nums, k):\n",
    "    \"\"\"\n",
    "    :type nums: List[int]\n",
    "    :type k: int\n",
    "    :rtype: int\n",
    "    \"\"\"\n",
    "    s = 0\n",
    "    for i in range(1,len(nums)):\n",
    "        if nums[i]>nums[0]:#如果这个数比pivot要大，将它放在前面\n",
    "            s = s+1\n",
    "            nums[i],nums[s]=nums[s],nums[i]\n",
    "    nums[0],nums[s]=nums[s],nums[0]\n",
    "    if s==k-1:#最终前面有s个数，如果pivot刚好是第k大，返回\n",
    "        return nums[s]\n",
    "    if s<k-1:\n",
    "        return findKthLargest(nums[s+1:],k-s-1)\n",
    "    else:\n",
    "        return findKthLargest(nums[:s],k)"
   ]
  },
  {
   "cell_type": "code",
   "execution_count": 103,
   "metadata": {},
   "outputs": [],
   "source": [
    "# Definition for singly-linked list.\n",
    "class ListNode(object):\n",
    "    def __init__(self, x):\n",
    "        self.val = x\n",
    "        self.next = None\n",
    "\n",
    "class Solution(object):\n",
    "    def __init__(self):\n",
    "        self.head = ListNode(None)\n",
    "\n",
    "    def initList(self,data):\n",
    "        \"\"\"\n",
    "        初始化一个链表\n",
    "        :param data:\n",
    "        :return:\n",
    "        \"\"\"\n",
    "        self.head = ListNode(data[0])\n",
    "        p = self.head\n",
    "        for i in data[1:]:\n",
    "            node = ListNode(i)\n",
    "            p.next=node\n",
    "            p = p.next\n",
    "        return self.head\n",
    "    \n",
    "    def print_ListNode(self, node):\n",
    "        l = []\n",
    "        while node:\n",
    "            l.append(node.val)\n",
    "            node = node.next\n",
    "        return l\n",
    "            \n",
    "#     def sortList(self, head):\n",
    "#         \"\"\"\n",
    "#         :type head: ListNode\n",
    "#         :rtype: ListNode\n",
    "#         \"\"\"\n",
    "#         prev = ListNode(None)\n",
    "#         if not head or not head.next:\n",
    "#             return head\n",
    "#         fast,slow = head,head\n",
    "#         prev.next = slow\n",
    "#         while fast and fast.next:\n",
    "#             fast = fast.next.next\n",
    "#             slow = slow.next\n",
    "#             prev = prev.next\n",
    "#         prev.next = None\n",
    "#         left = self.sortList(head)\n",
    "#         right = self.sortList(slow)\n",
    "#         return self.merge(left,right)\n",
    "#     \n",
    "#     def merge(self,left,right):\n",
    "#         head = newNode = ListNode(None)\n",
    "#         while left and right:\n",
    "#             if left.val<right.val:\n",
    "#                 newNode.next = left\n",
    "#                 left = left.next\n",
    "#                 newNode = newNode.next\n",
    "#             else:\n",
    "#                 newNode.next = right\n",
    "#                 right = right.next\n",
    "#                 newNode = newNode.next\n",
    "#         if left:\n",
    "#             newNode.next = left\n",
    "#         else:\n",
    "#             newNode.next = right\n",
    "#         return head.next\n",
    "    \n",
    "    def sortList(self, head):#bottom-up merge sort, O(1) space complexity\n",
    "        \"\"\"\n",
    "        :type head: ListNode\n",
    "        :rtype: ListNode\n",
    "        \"\"\"\n",
    "        if head is None: return None\n",
    "\n",
    "        def getSize(head):#list length\n",
    "            counter = 0\n",
    "            while (head is not None):\n",
    "                counter += 1\n",
    "                head = head.next\n",
    "            return counter\n",
    "\n",
    "        def split(head, step):#返回从head开始的step之后，并与前面切断联系\n",
    "            i = 1\n",
    "            while (i < step and head):\n",
    "                head = head.next\n",
    "                i += 1\n",
    "\n",
    "            if head is None: return None\n",
    "            # disconnect\n",
    "            temp, head.next = head.next, None\n",
    "            return temp\n",
    "\n",
    "        def merge(l, r, head):\n",
    "            cur = head\n",
    "            while (l and r):\n",
    "                if l.val < r.val:\n",
    "                    cur.next, l = l, l.next\n",
    "                else:\n",
    "                    cur.next, r = r, r.next\n",
    "                cur = cur.next\n",
    "\n",
    "            cur.next = l if l is not None else r\n",
    "            while cur.next is not None: cur = cur.next\n",
    "            return cur\n",
    "\n",
    "        size = getSize(head)\n",
    "        bs = 1\n",
    "        dummy = ListNode(0)\n",
    "        dummy.next = head\n",
    "        l, r, tail = None, None, None\n",
    "        while (bs < size):\n",
    "            cur = dummy.next\n",
    "            tail = dummy\n",
    "            while cur:#cur为每隔2*bs长度，期间对每个bs排序合并\n",
    "                l = cur\n",
    "                r = split(l, bs)# 从l开始切断bs，新的起点为r\n",
    "                cur = split(r, bs)#从r开始切断bs，cur为新的2bs的起点\n",
    "#                 print(l.val,r.val,cur.val)\n",
    "                tail = merge(l, r, tail)#tail的目的是在前面2bs排好序之后与接下来一段相连\n",
    "#                 print(l.val,r.val,tail.val)\n",
    "            bs <<= 1\n",
    "        return dummy.next"
   ]
  },
  {
   "cell_type": "code",
   "execution_count": 104,
   "metadata": {},
   "outputs": [],
   "source": [
    "sol = Solution()\n",
    "a = sol.initList([4,5,7,3,1,6,2])"
   ]
  },
  {
   "cell_type": "code",
   "execution_count": 105,
   "metadata": {},
   "outputs": [],
   "source": [
    "b = sol.sortList(a)"
   ]
  },
  {
   "cell_type": "code",
   "execution_count": 106,
   "metadata": {},
   "outputs": [
    {
     "data": {
      "text/plain": [
       "[1, 2, 3, 4, 5, 6, 7]"
      ]
     },
     "execution_count": 106,
     "metadata": {},
     "output_type": "execute_result"
    }
   ],
   "source": [
    "sol.print_ListNode(b)"
   ]
  },
  {
   "cell_type": "code",
   "execution_count": 13,
   "metadata": {},
   "outputs": [],
   "source": [
    "# 179. Largest Number，给定一系列数，求能构成的最大的数，其实就是一个排序问题，两个数的比较方式就是看如何构成最大\n",
    "def largestNumber(nums):\n",
    "    \"\"\"\n",
    "    :type nums: List[int]\n",
    "    :rtype: str\n",
    "    \"\"\"\n",
    "    def merge(left,right):\n",
    "        res = []\n",
    "        i,j=0,0\n",
    "        while i<len(left) and j<len(right):\n",
    "            if int(str(left[i])+str(right[j]))>int(str(right[j])+str(left[i])):\n",
    "                res.append(left[i])\n",
    "                i=i+1\n",
    "            else:\n",
    "                res.append(right[j])\n",
    "                j = j+1\n",
    "        res+=left[i:]\n",
    "        res+=right[j:]\n",
    "        return res            \n",
    "            \n",
    "    def mergesort(nums):\n",
    "        length = len(nums)\n",
    "        if length==1:\n",
    "            return nums\n",
    "        res1 = mergesort(nums[:length//2])\n",
    "        res2 = mergesort(nums[length//2:])\n",
    "        return merge(res1,res2)\n",
    "\n",
    "    if len(nums)==0:\n",
    "        return \"\"\n",
    "    if sum(nums)==0:\n",
    "        return '0'\n",
    "    nums = mergesort(nums)\n",
    "    return \"\".join(map(str,nums))"
   ]
  },
  {
   "cell_type": "code",
   "execution_count": 14,
   "metadata": {},
   "outputs": [
    {
     "data": {
      "text/plain": [
       "'9534330'"
      ]
     },
     "execution_count": 14,
     "metadata": {},
     "output_type": "execute_result"
    }
   ],
   "source": [
    "largestNumber([3,30,34,5,9])"
   ]
  },
  {
   "cell_type": "code",
   "execution_count": null,
   "metadata": {},
   "outputs": [],
   "source": [
    "# 853. Car Fleet\n",
    "def carFleet(target, position, speed):\n",
    "    \"\"\"\n",
    "    :type target: int\n",
    "    :type position: List[int]\n",
    "    :type speed: List[int]\n",
    "    :rtype: int\n",
    "    \"\"\"\n",
    "    if len(position)==0:\n",
    "        return 0\n",
    "    values = sorted(zip(position,speed))\n",
    "    arr = [values[-1]]\n",
    "    res = len(values)\n",
    "    for i in range(len(values)-2,-1,-1):\n",
    "        if (arr[-1][0]-values[i][0])*values[i][1]<=(values[i][1]-arr[-1][1])*(target-values[i][0]):\n",
    "            res-=1\n",
    "        else:\n",
    "            arr.append(values[i])\n",
    "    return res\n",
    "carFleet(10,[0,4,2],[2,1,3])"
   ]
  },
  {
   "cell_type": "code",
   "execution_count": 1,
   "metadata": {},
   "outputs": [],
   "source": [
    "# 木桶排序"
   ]
  },
  {
   "cell_type": "code",
   "execution_count": 1,
   "metadata": {},
   "outputs": [
    {
     "data": {
      "text/plain": [
       "True"
      ]
     },
     "execution_count": 1,
     "metadata": {},
     "output_type": "execute_result"
    }
   ],
   "source": [
    "# 220. Contains Duplicate III 是否存在两个数字距离相隔不到k，值相差不到t\n",
    "# 木桶排序的思想，保证同一个木桶里面的值是相差不到t的，然后每次和旁边进行比较。同时更新木桶以满足现存的木桶都是在k范围内\n",
    "def containsNearbyAlmostDuplicate(nums, k, t):\n",
    "    \"\"\"\n",
    "    :type nums: List[int]\n",
    "    :type k: int\n",
    "    :type t: int\n",
    "    :rtype: bool\n",
    "    \"\"\"\n",
    "    # 距离在k以内，值在t以内\n",
    "    if k<1 or t<0:\n",
    "        return False\n",
    "    width = t+1\n",
    "    bucket = dict()\n",
    "    for i in range(len(nums)):\n",
    "        index = nums[i]//width\n",
    "        if index in bucket:\n",
    "            return True\n",
    "        if index+1 in bucket and abs(nums[i]-bucket[index+1])<=t:\n",
    "            return True\n",
    "        if index-1 in bucket and abs(nums[i]-bucket[index-1])<=t:\n",
    "            return True\n",
    "        bucket[index] = nums[i]\n",
    "        if i>=k:\n",
    "            bucket.pop((nums[i-k])//width,None)\n",
    "    return False\n",
    "containsNearbyAlmostDuplicate(nums = [1,0,1,1], k = 1, t = 2)"
   ]
  },
  {
   "cell_type": "code",
   "execution_count": 2,
   "metadata": {},
   "outputs": [],
   "source": [
    "# 729. My Calendar I，建立BST来进行搜索\n",
    "class TreeNode(object):\n",
    "    def __init__(self,start,end):\n",
    "        self.start = start\n",
    "        self.end = end\n",
    "        self.left = None\n",
    "        self.right = None\n",
    "        \n",
    "class MyCalendar(object):\n",
    "\n",
    "    def __init__(self):\n",
    "        self.root = None\n",
    "        \n",
    "    def insert(self,start,end,node):#将[start,end]插入到node中\n",
    "        if start>=node.end:\n",
    "            if node.right:\n",
    "                return self.insert(start,end,node.right)\n",
    "            else:\n",
    "                newnode = TreeNode(start,end)\n",
    "                node.right = newnode\n",
    "                return True\n",
    "        elif end<=node.start:\n",
    "            if node.left:\n",
    "                return self.insert(start,end,node.left)\n",
    "            else:\n",
    "                newnode = TreeNode(start,end)\n",
    "                node.left = newnode\n",
    "                return True\n",
    "        else:\n",
    "            return False\n",
    "        \n",
    "\n",
    "    def book(self, start, end):\n",
    "        \"\"\"\n",
    "        :type start: int\n",
    "        :type end: int\n",
    "        :rtype: bool\n",
    "        \"\"\"\n",
    "        if not self.root:\n",
    "            self.root = TreeNode(start,end)\n",
    "            return True\n",
    "        else:\n",
    "            return self.insert(start,end,self.root)"
   ]
  },
  {
   "cell_type": "code",
   "execution_count": 1,
   "metadata": {},
   "outputs": [
    {
     "data": {
      "text/plain": [
       "[4, 7, 4, 5, 3, 4, 2, 3]"
      ]
     },
     "execution_count": 1,
     "metadata": {},
     "output_type": "execute_result"
    }
   ],
   "source": [
    "# 969. Pancake Sorting,对1-n数字进行煎饼排序，每次将当前最大的通过两次翻转放在其所在的位置\n",
    "def pancakeSort(A):\n",
    "    \"\"\"\n",
    "    :type A: List[int]\n",
    "    :rtype: List[int]\n",
    "    \"\"\"\n",
    "    def flip(A,i,j):\n",
    "        while i<j:\n",
    "            A[i],A[j] = A[j],A[i]\n",
    "            i = i+1\n",
    "            j = j-1\n",
    "        return A\n",
    "\n",
    "    n = len(A)\n",
    "    res = []\n",
    "    while n>0:\n",
    "        idx = A.index(n)\n",
    "        if idx!= n-1 and idx!=0:\n",
    "            A = flip(A,0,idx)\n",
    "            res.append(idx+1)\n",
    "        if idx!=n-1:\n",
    "            A = flip(A,0,n-1)\n",
    "            res.append(n)\n",
    "        n = n-1\n",
    "    return res\n",
    "pancakeSort([5,3,6,7,2,4,1])"
   ]
  },
  {
   "cell_type": "code",
   "execution_count": 2,
   "metadata": {},
   "outputs": [
    {
     "data": {
      "text/plain": [
       "[3, 5, 1, 6, 2, 4]"
      ]
     },
     "execution_count": 2,
     "metadata": {},
     "output_type": "execute_result"
    }
   ],
   "source": [
    "# 280. Wiggle Sort\n",
    "def wiggleSort(nums):\n",
    "    \"\"\"\n",
    "    :type nums: List[int]\n",
    "    :rtype: None Do not return anything, modify nums in-place instead.\n",
    "    \"\"\"\n",
    "    length = len(nums)\n",
    "    if length <=1:\n",
    "        return nums\n",
    "    for i in range(len(nums)-1):\n",
    "        if (i%2 ==1 and nums[i]<nums[i+1]) or (i%2 ==0 and nums[i]>nums[i+1]):#should be largest\n",
    "            nums[i],nums[i+1] = nums[i+1],nums[i]\n",
    "\n",
    "    if (length-1)%2==1 and nums[length-1]<nums[length-2] or ((length-1)%2==0 and nums[length-1]>nums[length-2]):\n",
    "        nums[length-1],nums[length-2] = nums[length-2],nums[length-1]\n",
    "    return nums\n",
    "wiggleSort(nums = [3,5,2,1,6,4])"
   ]
  },
  {
   "cell_type": "code",
   "execution_count": 3,
   "metadata": {},
   "outputs": [
    {
     "data": {
      "text/plain": [
       "[7]"
      ]
     },
     "execution_count": 3,
     "metadata": {},
     "output_type": "execute_result"
    }
   ],
   "source": [
    "# quick select，找出A中前k大的数\n",
    "def qselect(A,k):    \n",
    "    if len(A)<=k:\n",
    "        return A    \n",
    "    pivot = A[-1]    \n",
    "    right = [pivot] + [x for x in A[:-1] if x>=pivot]    \n",
    "    rlen = len(right)    \n",
    "    if rlen==k:    \n",
    "        return right    \n",
    "    if rlen>k:    \n",
    "        return qselect(right, k)    \n",
    "    else:    \n",
    "        left = [x for x in A[:-1] if x<pivot]    \n",
    "        return qselect(left, k-rlen) + right \n",
    "    \n",
    "qselect([1,2,5,4,7],1)"
   ]
  },
  {
   "cell_type": "code",
   "execution_count": null,
   "metadata": {},
   "outputs": [],
   "source": []
  }
 ],
 "metadata": {
  "kernelspec": {
   "display_name": "Python 3",
   "language": "python",
   "name": "python3"
  },
  "language_info": {
   "codemirror_mode": {
    "name": "ipython",
    "version": 3
   },
   "file_extension": ".py",
   "mimetype": "text/x-python",
   "name": "python",
   "nbconvert_exporter": "python",
   "pygments_lexer": "ipython3",
   "version": "3.7.3"
  }
 },
 "nbformat": 4,
 "nbformat_minor": 2
}
