{
 "cells": [
  {
   "cell_type": "code",
   "execution_count": 60,
   "metadata": {},
   "outputs": [
    {
     "name": "stdout",
     "output_type": "stream",
     "text": [
      "a =  [0, 2, 3, 4, ['d', 'b', 'c'], 5]\n",
      "b =  [0, 2, 3, 4, ['d', 'b', 'c'], 5]\n",
      "c =  [1, 2, 3, 4, ['d', 'b', 'c']]\n",
      "d =  [1, 2, 3, 4, ['a', 'b']]\n",
      "e =  [1, 2, 3, 4, ['d', 'b', 'c']]\n"
     ]
    }
   ],
   "source": [
    "import copy\n",
    "a = [1, 2, 3, 4, ['a', 'b']] #原始对象\n",
    " \n",
    "b = a                       #赋值，传对象的引用\n",
    "c = copy.copy(a)            #对象拷贝，浅拷贝\n",
    "d = copy.deepcopy(a)        #对象拷贝，深拷贝\n",
    "e = [i for i in a] \n",
    "\n",
    "a[0]=0\n",
    "a.append(5)                 #修改对象a\n",
    "a[4].append('c')            #修改对象a中的['a', 'b']数组对象\n",
    "a[4][0]=\"d\"\n",
    " \n",
    "\n",
    "\n",
    "print( 'a = ', a )\n",
    "print( 'b = ', b )\n",
    "print( 'c = ', c )\n",
    "print( 'd = ', d )\n",
    "print( 'e = ', e)"
   ]
  },
  {
   "cell_type": "code",
   "execution_count": 57,
   "metadata": {},
   "outputs": [
    {
     "name": "stdout",
     "output_type": "stream",
     "text": [
      "['a', 'b']\n",
      "['a']\n",
      "['c', 'a']\n",
      "['c', 'b', 'a']\n"
     ]
    }
   ],
   "source": [
    "# 插入元素，返回频率最高的K个\n",
    "# 建立一个双链表，每个节点给定freq，如果插入，则将节点往前移动\n",
    "class ListNode(object):\n",
    "    def __init__(self,key=None,freq=0):\n",
    "        self.key = key\n",
    "        self.freq = freq\n",
    "        self.next = None\n",
    "        self.prev = None\n",
    "\n",
    "class FindElements(object):\n",
    "    def __init__(self):\n",
    "        self.head = ListNode()\n",
    "        self.tail = ListNode()\n",
    "        self.head.next = self.tail\n",
    "        self.tail.prev = self.head\n",
    "        self.hashtable = dict()\n",
    "\n",
    "    def insert(self,word):#插入元素\n",
    "        if word not in self.hashtable:\n",
    "            node = ListNode(word,1)\n",
    "            self.hashtable[word] = node\n",
    "            self.tail.prev.next = node\n",
    "            node.prev = self.tail.prev\n",
    "            node.next = self.tail\n",
    "            self.tail.prev = node\n",
    "        else:\n",
    "            node = self.hashtable[word]\n",
    "            node.freq+=1\n",
    "            while node.prev.key and node.prev.freq<node.freq:\n",
    "                prev = node.prev\n",
    "                self.swap(prev,node)\n",
    "\n",
    "    def swap(self,node1,node2):#swap node1 and node2\n",
    "        prev = node1.prev\n",
    "        nxt = node2.next\n",
    "        node1.next = nxt\n",
    "        node2.prev = prev\n",
    "        prev.next,nxt.prev = node2,node1\n",
    "        node1.prev = node2\n",
    "        node2.next = node1\n",
    "\n",
    "    def top(self,k):\n",
    "        cur = self.head\n",
    "        res = []\n",
    "        while cur.next and len(res)<k:\n",
    "            res.append(cur.next.key)\n",
    "            cur = cur.next\n",
    "        return res\n",
    "\n",
    "obj = FindElements()\n",
    "obj.insert(\"a\")\n",
    "obj.insert(\"b\")\n",
    "print(obj.top(2))\n",
    "obj.insert(\"c\")\n",
    "print(obj.top(1))\n",
    "obj.insert(\"c\")\n",
    "print(obj.top(2))\n",
    "obj.insert(\"c\")\n",
    "obj.insert(\"b\")\n",
    "print(obj.top(3))"
   ]
  },
  {
   "cell_type": "code",
   "execution_count": 2,
   "metadata": {},
   "outputs": [
    {
     "data": {
      "text/plain": [
       "10"
      ]
     },
     "execution_count": 2,
     "metadata": {},
     "output_type": "execute_result"
    }
   ],
   "source": [
    "# Given an array consists of N numbers, for each time take an element from the left or the right side of this array,\n",
    "# K selections in total. How to maximize the sum of the K selected number?\n",
    "# 求最小的N-k长度和\n",
    "def getMaxSum(nums,k):\n",
    "    total = sum(nums)\n",
    "    cur = sum(nums[:len(nums)-k])\n",
    "    minimum = cur\n",
    "    for i in range(len(nums)-k,len(nums)):\n",
    "        cur+=nums[i]\n",
    "        cur-=nums[i-(len(nums)-k)]\n",
    "        minimum = min(minimum,cur)\n",
    "    return total-minimum\n",
    "getMaxSum([1,5,2,3,4],3)"
   ]
  },
  {
   "cell_type": "code",
   "execution_count": 3,
   "metadata": {},
   "outputs": [
    {
     "data": {
      "text/plain": [
       "24"
      ]
     },
     "execution_count": 3,
     "metadata": {},
     "output_type": "execute_result"
    }
   ],
   "source": [
    "# 数组轮流取头或尾，取k个数,给一个长度为k的数组B，然后取出来的k个数分别与数组B顺序相乘，求最大值\n",
    "def getMaxProd(nums,arr,k):#从nums里左右选择k个数，与arr分别相乘的最大值\n",
    "    dp = dict()\n",
    "    def dfs(i,j):#左边是从0到i，右边是从j+1到结尾情况下的最大值\n",
    "        if (i,j) in dp:\n",
    "            return dp[(i,j)]\n",
    "        if len(nums)-(j-i+1)==k:#j-i+1是剩下的总个数\n",
    "            return 0\n",
    "        curnum = len(nums)-(j-i+1)\n",
    "        dp[(i,j)] = max(dfs(i+1,j)+nums[i]*arr[curnum],dfs(i,j-1)+nums[j]*arr[curnum])\n",
    "        return dp[(i,j)]\n",
    "    \n",
    "    return dfs(0,len(nums)-1)\n",
    "getMaxProd([1,5,2,3,4],[1,2,3],3)"
   ]
  },
  {
   "cell_type": "code",
   "execution_count": 4,
   "metadata": {},
   "outputs": [
    {
     "data": {
      "text/plain": [
       "True"
      ]
     },
     "execution_count": 4,
     "metadata": {},
     "output_type": "execute_result"
    }
   ],
   "source": [
    "# 403. Frog Jump\n",
    "# 给定stones的位置，从0出发，到达当前位置能拥有的速度，并保存，这样不断往前走\n",
    "def canCross(stones):\n",
    "    \"\"\"\n",
    "    :type stones: List[int]\n",
    "    :rtype: bool\n",
    "    \"\"\"\n",
    "    if stones[1]!=1:\n",
    "        return False\n",
    "    dp = {i:set() for i in stones}##对于位置i，到达i时可能的速度\n",
    "    dp[1] = {1}\n",
    "\n",
    "    for i in range(1,len(stones)):\n",
    "        for j in dp[stones[i]]:#对于位置i所有可能的速度\n",
    "            for k in [j-1,j,j+1]:#下一步可能的速度\n",
    "                if k>0 and stones[i]+k in dp:#如果下一步刚好在某个位置上，那么就将速度添加上去\n",
    "                    dp[stones[i]+k].add(k)\n",
    "    return len(dp[stones[-1]])>0\n",
    "canCross([0,1,3,5,6,8,12,17])"
   ]
  },
  {
   "cell_type": "code",
   "execution_count": 38,
   "metadata": {},
   "outputs": [
    {
     "data": {
      "text/plain": [
       "16"
      ]
     },
     "execution_count": 38,
     "metadata": {},
     "output_type": "execute_result"
    }
   ],
   "source": [
    "# 318. Maximum Product of Word Lengths，两个word无交集情况下的最大长度乘积\n",
    "def maxProduct(words):\n",
    "    \"\"\"\n",
    "    :type words: List[str]\n",
    "    :rtype: int\n",
    "    \"\"\"\n",
    "    chars = []\n",
    "    for word in words:\n",
    "        cur = 0\n",
    "        for c in word:\n",
    "            cur|=1<<(ord(c)-ord(\"a\"))\n",
    "        chars.append(cur)\n",
    "    res = 0\n",
    "    for i in range(len(words)):\n",
    "        for j in range(i+1,len(words)):\n",
    "            if chars[i]&chars[j]==0:\n",
    "                res = max(res,len(words[i])*len(words[j]))\n",
    "    return res\n",
    "maxProduct([\"abcw\",\"baz\",\"foo\",\"bar\",\"xtfn\",\"abcdef\"])"
   ]
  },
  {
   "cell_type": "code",
   "execution_count": 65,
   "metadata": {},
   "outputs": [
    {
     "name": "stdout",
     "output_type": "stream",
     "text": [
      "1\n"
     ]
    },
    {
     "data": {
      "text/plain": [
       "[1, 7, 3]"
      ]
     },
     "execution_count": 65,
     "metadata": {},
     "output_type": "execute_result"
    }
   ],
   "source": [
    "# reservoir sampling\n",
    "import random\n",
    "def sampling(nums,k):\n",
    "    cur = nums[:k]\n",
    "    for i in range(k+1,len(nums)):\n",
    "        if random.random()>k/i:#如果大于，那么抽样\n",
    "            index = random.randint(0,k-1)\n",
    "            print(index)\n",
    "            cur[index] = nums[i]\n",
    "    return cur\n",
    "sampling([1,2,3,4,5,6,7],3)"
   ]
  },
  {
   "cell_type": "code",
   "execution_count": 66,
   "metadata": {},
   "outputs": [
    {
     "data": {
      "text/plain": [
       "[8, 3, 5, 5, 6, 7]"
      ]
     },
     "execution_count": 66,
     "metadata": {},
     "output_type": "execute_result"
    }
   ],
   "source": [
    "# 239. Sliding Window Maximum\n",
    "import heapq\n",
    "def maxSlidingWindow(nums, k):\n",
    "    \"\"\"\n",
    "    :type nums: List[int]\n",
    "    :type k: int\n",
    "    :rtype: List[int]\n",
    "    \"\"\"\n",
    "    heap = []\n",
    "    for i in range(k):\n",
    "        heapq.heappush(heap,(-nums[i],i))\n",
    "    res = [-heap[0][0]]\n",
    "    for i in range(k,len(nums)):\n",
    "        heapq.heappush(heap,(-nums[i],i))\n",
    "        while heap and heap[0][1]<=i-k:\n",
    "            heapq.heappop(heap)\n",
    "        res.append(-heap[0][0])\n",
    "    return res\n",
    "    \n",
    "import collections\n",
    "def maxSlidingWindow(nums, k):\n",
    "    \"\"\"\n",
    "    :type nums: List[int]\n",
    "    :type k: int\n",
    "    :rtype: List[int]\n",
    "    \"\"\"\n",
    "    d = collections.deque()\n",
    "    res = []\n",
    "    for i, n in enumerate(nums):\n",
    "        while d and nums[d[-1]] < n:#如果之前的数都小于新数字，都不要\n",
    "            d.pop()\n",
    "        d.append(i)\n",
    "        if d[0] == i - k:#如果左边的数超出范围了，也不要\n",
    "            d.popleft()\n",
    "        if i>=k-1:\n",
    "            res.append(nums[d[0]])\n",
    "    return res\n",
    "maxSlidingWindow([8,3,-1,-3,5,3,6,7], 3)"
   ]
  },
  {
   "cell_type": "code",
   "execution_count": 67,
   "metadata": {},
   "outputs": [],
   "source": [
    "# 695. Max Area of Island,最大岛屿面积\n",
    "\n",
    "def maxAreaOfIsland(grid):\n",
    "    \"\"\"\n",
    "    :type grid: List[List[int]]\n",
    "    :rtype: int\n",
    "    \"\"\"\n",
    "    m,n=len(grid),len(grid[0])\n",
    "    dirs=[[0,1],[0,-1],[-1,0],[1,0]]\n",
    "    visited=[[False for i in range(n)] for j in range(m)]\n",
    "    def bfs(i,j):\n",
    "        level = {(i,j)}\n",
    "        res = 0\n",
    "        while level:\n",
    "            newlevel=set()\n",
    "            for i,j in level:\n",
    "                res+=1\n",
    "                for dx,dy in dirs:\n",
    "                    x = i+dx\n",
    "                    y = j+dy\n",
    "                    if 0<=x<m and 0<=y<n and grid[x][y] and not visited[x][y]:\n",
    "                        visited[x][y]=True\n",
    "                        newlevel.add((x,y))\n",
    "            level = newlevel\n",
    "        return res\n",
    "    maxval=0\n",
    "    for i in range(m):\n",
    "        for j in range(n):\n",
    "            if grid[i][j] and not visited[i][j]:\n",
    "                visited[i][j]=True\n",
    "                cur=bfs(i,j)\n",
    "                maxval=max(maxval,cur)\n",
    "    return maxval"
   ]
  },
  {
   "cell_type": "code",
   "execution_count": 68,
   "metadata": {},
   "outputs": [],
   "source": [
    "# 第三轮：给一个directed graph 和一个target node，求包括target node的最小loop. \n",
    "# 要求吧这个最小的loop里面包含的node都找出来存起来，顺序无所谓。 这道题没见过。 但是当时想的是既然是最小loop，就用BFS。 然后把结果backtrack 存起来。 写的时候backtrack的部分卡了很久。\n",
    "# 面试小哥哥人不错一直给提示。最后想出来了。 用一个hash table 存所有的 cur_node -> parent_node. 然后backtrack"
   ]
  },
  {
   "cell_type": "code",
   "execution_count": null,
   "metadata": {},
   "outputs": [],
   "source": [
    "# 问一个coding题，不知道如何处理为好。给一个数组nums和一个数target，从左到右选择nums里的一些数，和不能大于target，但是要尽可能等于，\n",
    "def getNums(nums,target):#尽可能靠近target，但是不能大于\n",
    "    dp = dict()\n",
    "    def dfs(index,target):#不大于index，尽可能靠近target的总和与个数\n",
    "        if (index,target) in dp:\n",
    "            return dp[(index,target)]\n",
    "        res = [float(\"inf\"),0]\n",
    "        \n",
    "        for i in range(index):\n",
    "            if target>=nums[i]:#使用nums[i]\n",
    "                remainder,n = dfs(index,target-nums[i])\n",
    "                if remainder<res[0]:\n",
    "                    res = [remainder,n+1]\n",
    "        dp[(index,target)] = res\n",
    "        return res\n",
    "    \n",
    "    minimum = float(\"inf\")\n",
    "    res = 0\n",
    "    for key in dp:\n",
    "        cur = dp[key]\n",
    "        "
   ]
  },
  {
   "cell_type": "code",
   "execution_count": null,
   "metadata": {},
   "outputs": [],
   "source": [
    "# sorted array（vector）要转成bst"
   ]
  },
  {
   "cell_type": "code",
   "execution_count": 210,
   "metadata": {},
   "outputs": [],
   "source": [
    "# caching system,一个stream每次传入一个record，包含time stamp和一个字符串。如果该字符串再之前T时间窗口内出现大于等于N次，就打印出来\n",
    "def caching(arr,t,k):#[time,str]\n",
    "    hashtable = dict()\n",
    "    res = []\n",
    "    for time,s in arr:\n",
    "        if s not in hashtable:\n",
    "            hashtable[s] = []\n",
    "        hashtable[s].append(time)\n",
    "        idx = bisect.bisect_left(hashtable[s],time-t)\n",
    "        if len(hashtable[s])-idx>=k:\n",
    "            res.append(s)\n",
    "        else:\n",
    "            res.append(None)\n",
    "    return res"
   ]
  },
  {
   "cell_type": "code",
   "execution_count": 216,
   "metadata": {},
   "outputs": [
    {
     "name": "stdout",
     "output_type": "stream",
     "text": [
      "{2: [2], 0: [2, 0], 1: [2, 1], 4: [2, 4]}\n"
     ]
    },
    {
     "data": {
      "text/plain": [
       "[2, 0, 1, 2]"
      ]
     },
     "execution_count": 216,
     "metadata": {},
     "output_type": "execute_result"
    }
   ],
   "source": [
    "import collections\n",
    "def shortestCycle(n,edges,target):#给定graph的情况下，包含target的最小环\n",
    "    graph = collections.defaultdict(set)\n",
    "    for i,j,_ in edges:\n",
    "        graph[i].add(j)\n",
    "        graph[j].add(i)\n",
    "    hashtable = {target:[target]}\n",
    "    visited = [False for _ in range(n)]\n",
    "    level = [target]\n",
    "    step = 0\n",
    "    while level:#用bfs不断的往前走，hashtable用来保存从target到该点的路径\n",
    "        newlevel = []\n",
    "        for node in level:\n",
    "            for newnode in graph[node]:\n",
    "                if visited[newnode]:\n",
    "                    print(hashtable)\n",
    "                    return hashtable[node]+hashtable[newnode][::-1]\n",
    "                hashtable[newnode] = hashtable[node]+[newnode]\n",
    "                newlevel.append(newnode)\n",
    "                visited[newnode] = True\n",
    "        level = newlevel\n",
    "    return []\n",
    "shortestCycle(n = 6, edges = [[0,1,1],[1,2,2],[0,2,4],[1,3,7],[1,4,5],[2,4,1],[3,4,3],[3,5,2],[4,5,6]],target=2)"
   ]
  },
  {
   "cell_type": "code",
   "execution_count": 217,
   "metadata": {},
   "outputs": [],
   "source": [
    "# landlock最大岛屿的面积\n",
    "# 1. 周围相邻\n",
    "# 2. 岛内有水如何处理：先将最外面一圈的水全部设置为2，然后将水一起处理\n",
    "def maxIsland(grid):# 内陆岛的个数\n",
    "    \"\"\"\n",
    "    :type grid: List[List[int]]\n",
    "    :rtype: int\n",
    "    \"\"\"\n",
    "    m,n = len(grid),len(grid[0])\n",
    "    visited = [[False for _ in range(n)] for _ in range(m)]\n",
    "    def bfs(i,j):\n",
    "        visited[i][j] = True\n",
    "        level = [(i,j)]\n",
    "        flag = 1\n",
    "        while level:\n",
    "            newlevel = []\n",
    "            for i,j in level:\n",
    "                if i in [0,m-1] or j in [0,n-1]:\n",
    "                    flag = 0\n",
    "                for dx,dy in [(-1,0),(1,0),(0,-1),(0,1)]:\n",
    "                    x,y = i+dx,j+dy\n",
    "                    if 0<=x<m and 0<=y<n and not visited[x][y] and grid[x][y]==0:\n",
    "                        newlevel.append((x,y))\n",
    "                        visited[x][y] = True\n",
    "            level = newlevel\n",
    "        return flag\n",
    "\n",
    "    res = 0\n",
    "    for i in range(m):\n",
    "        for j in range(n):\n",
    "            if grid[i][j]==0 and not visited[i][j]:\n",
    "                res += bfs(i,j)\n",
    "    return res"
   ]
  },
  {
   "cell_type": "code",
   "execution_count": 224,
   "metadata": {},
   "outputs": [
    {
     "data": {
      "text/plain": [
       "17"
      ]
     },
     "execution_count": 224,
     "metadata": {},
     "output_type": "execute_result"
    }
   ],
   "source": [
    "# 如果相同时间怎么办？\n",
    "# 已知n个公交出发时间比如[\"9:10\", \"9:20\"]\n",
    "# 已知每辆公交的载量（全部相同）， 比如1\n",
    "# 已知m个乘客到达车站的时间比如[\"9:00\", \"9:17\", \"9:18\", \"9:19\"]\n",
    "def lastTime(buses,capacity,times):\n",
    "    left,right = 0,0\n",
    "    cur = 0\n",
    "    while left<len(buses):#for bus left\n",
    "        while right<len(times) and times[right]<=buses[left] and cur<capacity:\n",
    "            #for person right, if there is still room\n",
    "            cur+=1\n",
    "            if left == len(buses)-1 and cur == capacity:# the last bus is full\n",
    "                return times[right]-1\n",
    "            right+=1\n",
    "        if right==len(times):# if all people got on the buses, return the last bus\n",
    "            break\n",
    "        # have to take the next bus\n",
    "        cur = 0\n",
    "        left+=1\n",
    "    return buses[-1]\n",
    "lastTime([10,18],2,[0,17,18,19])               "
   ]
  },
  {
   "cell_type": "code",
   "execution_count": 243,
   "metadata": {},
   "outputs": [
    {
     "data": {
      "text/plain": [
       "'1321212121321312132'"
      ]
     },
     "execution_count": 243,
     "metadata": {},
     "output_type": "execute_result"
    }
   ],
   "source": [
    "def getSmallest(s):#\"1??23\"\n",
    "    \n",
    "    def dfs(index,prev,path):\n",
    "        if index==len(s):\n",
    "            return path\n",
    "        if s[index]==\"?\":#如果当前需要填充\n",
    "            for i in \"123\":#一个个尝试\n",
    "                if i!=prev:#如果可以往下走，就试试\n",
    "                    t = dfs(index+1,i,path+[i])\n",
    "                    if t:#如果成功了，就返回结果\n",
    "                        return t\n",
    "        elif s[index]==prev:#如果不能走，就返回False\n",
    "            return False\n",
    "        return dfs(index+1,s[index],path+[s[index]])\n",
    "    \n",
    "    return \"\".join(dfs(0,None,[]))\n",
    "getSmallest(\"?3?1???????2?31???2\")\n",
    "\n",
    "def findSmallestNum2(string):\n",
    "    string, n = list(string), len(string)\n",
    "    for i, v in enumerate(string):\n",
    "        if v != \"?\":\n",
    "            continue\n",
    "        left = right = None\n",
    "        if i > 0: left = string[i-1]\n",
    "        if i < n-1: right = string[i+1]\n",
    "        for k in \"123\":\n",
    "            if k != left and k != right:\n",
    "                string[i] = k\n",
    "                break\n",
    "    return \"\".join(string)\n",
    "findSmallestNum2(\"?3?1???????2?31???2\")"
   ]
  },
  {
   "cell_type": "code",
   "execution_count": 250,
   "metadata": {},
   "outputs": [
    {
     "data": {
      "text/plain": [
       "[[1, 2], [4, 7], [8, 10], [18, 20]]"
      ]
     },
     "execution_count": 250,
     "metadata": {},
     "output_type": "execute_result"
    }
   ],
   "source": [
    "# inclusion list{[1, 10], [15, 20]}, exclusion list{(2, 4), (7, 8), (12, 18)}\n",
    "def findDiff(intervals,intervals2):\n",
    "    intervals.append([-float(\"inf\"),intervals2[0][0]])\n",
    "    for i in range(len(intervals2)-1):\n",
    "        intervals.append([intervals2[i][1],intervals2[i+1][0]])\n",
    "    intervals.append([intervals2[-1][1],float(\"inf\")])\n",
    "    intervals.sort(key=lambda x:x[0])#找出这些区间相互交错的地方\n",
    "    res = []\n",
    "    for i in range(len(intervals)-1):\n",
    "        if intervals[i+1][0]>intervals[i][1]:#如果无交集\n",
    "            continue\n",
    "        res.append([intervals[i+1][0],min(intervals[i+1][1],intervals[i][1])])#有交集的部分\n",
    "        intervals[i+1] = [intervals[i+1][0],max(intervals[i+1][1],intervals[i][1])]#更新后面一个\n",
    "    return res\n",
    "findDiff([[1, 10], [15, 20]],[(2, 4), (7, 8), (12, 18)])    "
   ]
  },
  {
   "cell_type": "code",
   "execution_count": null,
   "metadata": {},
   "outputs": [],
   "source": []
  }
 ],
 "metadata": {
  "kernelspec": {
   "display_name": "Python 3",
   "language": "python",
   "name": "python3"
  },
  "language_info": {
   "codemirror_mode": {
    "name": "ipython",
    "version": 3
   },
   "file_extension": ".py",
   "mimetype": "text/x-python",
   "name": "python",
   "nbconvert_exporter": "python",
   "pygments_lexer": "ipython3",
   "version": "3.7.3"
  }
 },
 "nbformat": 4,
 "nbformat_minor": 2
}
