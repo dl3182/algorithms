{
 "cells": [
  {
   "cell_type": "markdown",
   "metadata": {},
   "source": [
    "189. Rotate Array，将array右移k个元素，两部分分别reverse，然后整个reverse\n",
    "238. Product of Array Except Self，不包括自己的元素乘积，不能用除法，将前后元素各自相乘\n",
    "164. Maximum Gap，求数组排序后相邻数的最大差，桶排序\n",
    "59. Spiral Matrix II,生成一个n*n的旋转矩阵\n",
    "1329. Sort the Matrix Diagonally，矩阵A按照对角线进行sort，对角线上的i-j都是相等的\n",
    "1041. Robot Bounded In Circle,给定LRG三个动作无限循环，是否可以回到原点"
   ]
  },
  {
   "cell_type": "code",
   "execution_count": 1,
   "metadata": {
    "collapsed": true
   },
   "outputs": [],
   "source": [
    "# 238. Product of Array Except Self，不包括自己的元素乘积，不能用除法，将前后元素各自相乘\n",
    "def productExceptSelf(nums):\n",
    "    p = 1\n",
    "    n = len(nums)\n",
    "    output = []\n",
    "    for i in range(0,n):\n",
    "        output.append(p)\n",
    "        p = p * nums[i]\n",
    "    p = 1\n",
    "    for i in range(n-1,-1,-1):\n",
    "        output[i] = output[i] * p\n",
    "        p = p * nums[i]\n",
    "    return output"
   ]
  },
  {
   "cell_type": "code",
   "execution_count": 12,
   "metadata": {},
   "outputs": [
    {
     "data": {
      "text/plain": [
       "9999995"
      ]
     },
     "execution_count": 12,
     "metadata": {},
     "output_type": "execute_result"
    }
   ],
   "source": [
    "# 164. Maximum Gap，求数组排序后相邻数的最大差，桶排序\n",
    "# 将n个数分成n-1个相同大小的笼子，一定有至少两个放在一个笼子，最大差肯定出现在不同笼子之间\n",
    "# 将其各自放入笼中，笼子里记录最大值最小值，然后相邻比较\n",
    "\n",
    "\n",
    "def maximumGap(nums):\n",
    "    \"\"\"\n",
    "    :type nums: List[int]\n",
    "    :rtype: int\n",
    "    \"\"\"\n",
    "    if len(nums)<=1:\n",
    "        return 0\n",
    "    minimum,maximum = min(nums),max(nums)\n",
    "    if len(nums)==2:\n",
    "        return maximum-minimum\n",
    "    gap = (maximum-minimum+1)//(len(nums)-1)+1\n",
    "    n = len(nums)-1\n",
    "    arr = [[float('inf'),-float('inf')] for _ in range(n)]\n",
    "\n",
    "    for i in nums:\n",
    "        index = (i-minimum)//gap\n",
    "        arr[index] = [min(arr[index][0],i),max(arr[index][1],i)]\n",
    "\n",
    "    arr = [i for i in arr if i[0]!=float('inf')]\n",
    "    res = 0\n",
    "    for i in range(len(arr)-1):\n",
    "        res = max(res,arr[i+1][0] - arr[i][1])\n",
    "    return res\n",
    "maximumGap([1,5,10000000])"
   ]
  },
  {
   "cell_type": "code",
   "execution_count": 2,
   "metadata": {
    "collapsed": true
   },
   "outputs": [],
   "source": [
    "# 189. Rotate Array，将array右移k个元素，两部分分别reverse，然后整个reverse\n",
    "def rotate(nums,k):\n",
    "    length = len(nums)\n",
    "    k = k%length\n",
    "    def reverse(nums,left,right):\n",
    "        for i in range((right-left+1)//2):\n",
    "            nums[left+i],nums[right-i] = nums[right-i],nums[left+i]\n",
    "        return\n",
    "    reverse(nums,0,length-k-1)\n",
    "    reverse(nums,length-k,length-1)\n",
    "    nums.reverse()\n",
    "    return nums"
   ]
  },
  {
   "cell_type": "code",
   "execution_count": 72,
   "metadata": {
    "collapsed": true
   },
   "outputs": [],
   "source": [
    "def spiralOrder(matrix):\n",
    "    if not matrix or not matrix[0]:\n",
    "        return []\n",
    "    m,n=len(matrix),len(matrix[0])\n",
    "    def traverse(x,y):\n",
    "        temp = matrix[x][y:n-y]\n",
    "        temp2 = [matrix[i][n-y-1] for i in range(x+1,m-x-1)]\n",
    "        temp3 =[]\n",
    "        temp4=[]\n",
    "        if x!=m-x-1:\n",
    "            temp3 = [matrix[m-x-1][i] for i in range(n-y-1,y-1,-1)]\n",
    "        if y!=n-y-1:\n",
    "            temp4 = [matrix[i][y] for i in range(m-x-2,x,-1)]\n",
    "        return temp+temp2+temp3+temp4\n",
    "    res = []\n",
    "    for i in range((min(m,n)+1)//2):\n",
    "        res+= traverse(i,i)\n",
    "    return res\n",
    "\n",
    "# 59. Spiral Matrix II,生成一个n*n的旋转矩阵\n",
    "# 不断往前走，赋值可被n整除的时候向右转\n",
    "def generateMatrix(n):\n",
    "    \"\"\"\n",
    "    :type n: int\n",
    "    :rtype: List[List[int]]\n",
    "    \"\"\"\n",
    "    res = [[0 for _ in range(n)] for _ in range(n)]\n",
    "    def first(i,n):\n",
    "        return 4*i*n-4*i**2+1\n",
    "\n",
    "    for i in range((n+1)>>1):\n",
    "        start = first(i,n)\n",
    "        res[i][i:n-i] = [start+j for j in range(n-2*i)]\n",
    "        for k in range(0,n-2*i-2):\n",
    "            res[i+1+k][n-i-1] = start + n-2*i+k\n",
    "            res[n-i-2-k][i] = start + 3*(n-2*i-1)+k+1\n",
    "        res[n-i-1][i:n-i] = [start+2*(n-2*i-1)+j for j in range(n-2*i-1,-1,-1)]\n",
    "    return res\n",
    "\n",
    "def generateMatrix(n):\n",
    "    A = [[0 for _ in range(n)] for _ in range(n)]\n",
    "    i, j, di, dj = 0, 0, 0, 1\n",
    "    for k in range(n*n):\n",
    "        A[i][j] = k + 1\n",
    "        if A[(i+di)%n][(j+dj)%n]:\n",
    "            di, dj = dj, -di\n",
    "        i += di\n",
    "        j += dj\n",
    "    return A\n",
    "\n",
    "\n",
    "# 885. Spiral Matrix III\n",
    "def spiralMatrixIII(R, C, x, y):\n",
    "    res = []\n",
    "    dx, dy, n = 0, 1, 0\n",
    "    while len(res) < R * C:\n",
    "        for i in xrange(n / 2 + 1):\n",
    "            if 0 <= x < R and 0 <= y < C:\n",
    "                res.append([x, y])\n",
    "            x, y = x + dx, y + dy\n",
    "        dx, dy, n = dy, -dx, n + 1\n",
    "    return res"
   ]
  },
  {
   "cell_type": "code",
   "execution_count": 5,
   "metadata": {},
   "outputs": [
    {
     "data": {
      "text/plain": [
       "[[1, 1, 1, 1], [1, 2, 2, 2], [1, 2, 3, 3]]"
      ]
     },
     "execution_count": 5,
     "metadata": {},
     "output_type": "execute_result"
    }
   ],
   "source": [
    "# 1329. Sort the Matrix Diagonally，矩阵A按照对角线进行sort，对角线上的i-j都是相等的，统计后sort，然后pop还原，不需要按照一条条对角线来\n",
    "import collections\n",
    "def diagonalSort(A):\n",
    "    n, m = len(A), len(A[0])\n",
    "    d = collections.defaultdict(list)\n",
    "    for i in range(n):\n",
    "        for j in range(m):\n",
    "            d[i - j].append(A[i][j])\n",
    "    for k in d:\n",
    "        d[k].sort(reverse=1)\n",
    "    for i in range(n):\n",
    "        for j in range(m):\n",
    "            A[i][j] = d[i - j].pop()\n",
    "    return A\n",
    "diagonalSort([[3,3,1,1],[2,2,1,2],[1,1,1,2]])"
   ]
  },
  {
   "cell_type": "code",
   "execution_count": 4,
   "metadata": {},
   "outputs": [
    {
     "data": {
      "text/plain": [
       "True"
      ]
     },
     "execution_count": 4,
     "metadata": {},
     "output_type": "execute_result"
    }
   ],
   "source": [
    "# 1041. Robot Bounded In Circle,给定LRG三个动作无限循环，是否可以回到原点\n",
    "# 回到原点的要求是要么结束以后回到原点，要么结束以后方向变动（方向变动，则2，4个周期一定会回来）\n",
    "# dx,dy->dy,-dx，方向的变动要掌握\n",
    "def isRobotBounded(instructions):\n",
    "    x, y, dx, dy = 0, 0, 0, 1\n",
    "    for i in instructions:\n",
    "        if i == 'R': dx, dy = dy, -dx\n",
    "        if i == 'L': dx, dy = -dy, dx\n",
    "        if i == 'G': x, y = x + dx, y + dy\n",
    "    return (x, y) == (0, 0) or (dx, dy) != (0,1)\n",
    "isRobotBounded(\"GGLLGG\")"
   ]
  },
  {
   "cell_type": "code",
   "execution_count": 153,
   "metadata": {
    "collapsed": true
   },
   "outputs": [],
   "source": [
    "# 228. Summary Ranges\n",
    "def summaryRanges(nums):\n",
    "    \"\"\"\n",
    "    :type nums: List[int]\n",
    "    :rtype: List[str]\n",
    "    \"\"\"\n",
    "    i = 0\n",
    "    res = []\n",
    "    while i<len(nums):\n",
    "        if i<len(nums)-1 and nums[i+1]==nums[i]+1:\n",
    "            prev = i\n",
    "            while i<len(nums)-1 and nums[i+1]==nums[i]+1:\n",
    "                i=i+1\n",
    "            res.append(str(nums[prev])+'->'+str(nums[i]))\n",
    "        else:\n",
    "            res.append(str(nums[i]))\n",
    "        i = i+1\n",
    "    return res\n"
   ]
  },
  {
   "cell_type": "code",
   "execution_count": null,
   "metadata": {
    "collapsed": true
   },
   "outputs": [],
   "source": [
    "# 647. Palindromic Substrings，回文子串的数量\n",
    "def countSubstrings(s):\n",
    "    \"\"\"\n",
    "    :type s: str\n",
    "    :rtype: int\n",
    "    \"\"\"\n",
    "    def longest(s,left,right):\n",
    "        if left==right:\n",
    "            length = -1\n",
    "        else:\n",
    "            length = 0\n",
    "        while left>=0 and right<len(s) and s[left]==s[right]:\n",
    "            left = left -1\n",
    "            right = right+1\n",
    "            length = length+2\n",
    "        return (length+1)//2\n",
    "    res = 0\n",
    "    for i in range(len(s)):\n",
    "        res += longest(s,i,i)\n",
    "        res += longest(s,i,i+1)\n",
    "    return res"
   ]
  },
  {
   "cell_type": "code",
   "execution_count": 2,
   "metadata": {
    "collapsed": true
   },
   "outputs": [],
   "source": [
    "# 214. Shortest Palindrome\n",
    "def shortestPalindrome(s):\n",
    "    \"\"\"\n",
    "    :type s: str\n",
    "    :rtype: str\n",
    "    \"\"\"\n",
    "    length = len(s)\n",
    "    def isPalindrome(s,left,right):\n",
    "        while left>=0 and right<len(s) and s[left]==s[right]:\n",
    "            left = left -1\n",
    "            right = right+1\n",
    "        return left<0\n",
    "\n",
    "    cen = (length-1)//2\n",
    "    if length%2==1 and isPalindrome(s,cen,cen):\n",
    "        return s\n",
    "    while cen>0:\n",
    "        even = isPalindrome(s,cen-1,cen)\n",
    "        if even:\n",
    "            print('even',cen)\n",
    "            return s[2*cen:][::-1]+s\n",
    "        odd = isPalindrome(s,cen,cen)\n",
    "        if odd:\n",
    "            print('odd',cen)\n",
    "            return s[2*cen+1:][::-1]+s\n",
    "        cen = cen -1\n",
    "    return s[1:][::-1]+s\n",
    "shortestPalindrome(\"aaaaaaaaaaaaaaaaaaaaaaaaaaaaaa\")"
   ]
  },
  {
   "cell_type": "code",
   "execution_count": 18,
   "metadata": {},
   "outputs": [
    {
     "data": {
      "text/plain": [
       "['11', '69', '88', '96']"
      ]
     },
     "execution_count": 18,
     "metadata": {},
     "output_type": "execute_result"
    }
   ],
   "source": [
    "# 247. Strobogrammatic Number II\n",
    "# n == 1: [0, 1, 8]\n",
    "# n == 2: [11, 88, 69, 96]\n",
    "# 对于奇数，将[0,1,8]插入之前的中间\n",
    "# 对于偶数，将[11, 88, 69, 96, 00]插入上一个偶数的中间\n",
    "\n",
    "def findStrobogrammatic(n):\n",
    "    evenMidCandidate = [\"11\",\"69\",\"88\",\"96\", \"00\"]\n",
    "    oddMidCandidate = [\"0\", \"1\", \"8\"]\n",
    "    if n == 1:\n",
    "        return oddMidCandidate\n",
    "    if n == 2:\n",
    "        return evenMidCandidate[:-1]\n",
    "    if n % 2:\n",
    "        pre, midCandidate = findStrobogrammatic(n-1), oddMidCandidate\n",
    "    else: \n",
    "        pre, midCandidate = findStrobogrammatic(n-2), evenMidCandidate\n",
    "    premid = (n-1)//2\n",
    "    return [p[:premid] + c + p[premid:] for c in midCandidate for p in pre]\n",
    "findStrobogrammatic(2)"
   ]
  },
  {
   "cell_type": "code",
   "execution_count": null,
   "metadata": {},
   "outputs": [],
   "source": [
    "# 166. Fraction to Recurring Decimal, 将分数换成小数，先将数处理干净\n",
    "# 循环节的判断在于出现同样的余数，用哈希表记录每次余数的位置，用来判断循环节的位置\n",
    "def fractionToDecimal(numerator, denominator):\n",
    "    if numerator%denominator==0:\n",
    "        return str(numerator//denominator)\n",
    "    res = \"\"\n",
    "    if numerator*denominator<0:#opposite sign\n",
    "        res += '-'\n",
    "    denominator = abs(denominator)\n",
    "    numerator = abs(numerator)\n",
    "    res += str(numerator//denominator)+'.'\n",
    "    numerator = numerator%denominator\n",
    "    # now numerator<denominator and both are positive\n",
    "    hashtable = {numerator:0}# to store the remainders\n",
    "    r,i = [],0\n",
    "    while True:\n",
    "        div = numerator*10//denominator\n",
    "        remainder = numerator*10%denominator\n",
    "        r.append(str(div))\n",
    "        if remainder==0 or remainder in hashtable:\n",
    "            break\n",
    "        else:\n",
    "            i+=1\n",
    "            hashtable[remainder]=i\n",
    "            numerator = remainder\n",
    "    if remainder==0:\n",
    "        return res+\"\".join(r)\n",
    "    else:\n",
    "        return res+\"\".join(r[:hashtable[remainder]])+\"(\"+\"\".join(r[hashtable[remainder]:])+\")\"\n",
    "fractionToDecimal(32,7)"
   ]
  },
  {
   "cell_type": "code",
   "execution_count": 93,
   "metadata": {},
   "outputs": [
    {
     "data": {
      "text/plain": [
       "True"
      ]
     },
     "execution_count": 93,
     "metadata": {},
     "output_type": "execute_result"
    }
   ],
   "source": [
    "# 65. Valid Number，给定一个字符串，判断是否是浮点型，有很多很多种情况要考虑\n",
    "def isNumber(s):\n",
    "    \"\"\"\n",
    "    :type s: str\n",
    "    :rtype: bool\n",
    "    \"\"\"\n",
    "    sets = {'0','1','2','3','4','5','6','7','8','9','.','e','+','-'}\n",
    "    nums = {'0','1','2','3','4','5','6','7','8','9'}\n",
    "    s.strip()\n",
    "    if not s:\n",
    "        return False\n",
    "    exponent = -1# the position of exponent,\n",
    "    num = False\n",
    "    for i in range(len(s)):\n",
    "        if s[i] not in sets:#if invalid operator\n",
    "            return False\n",
    "        elif s[i]=='e':#if exponent,only once,can not be at the end of s or before nums\n",
    "            if i==len(s)-1 or num==False:\n",
    "                return False\n",
    "            exponent = i#exponent index\n",
    "            sets.remove('e')\n",
    "        elif s[i]=='.':\n",
    "            if exponent!=-1 and i>=exponent:#if there is exponent, point can only be in front of exponent\n",
    "                return False\n",
    "            sets.remove('.')\n",
    "        elif s[i] in {'+','-'} and (i!=exponent+1 or i==len(s)-1):#+/-should be in the beginning or after exponent and cannot be the last one\n",
    "            return False\n",
    "        elif s[i] in nums:#There must be at least one digit\n",
    "            num = True\n",
    "    return num!=False\n",
    "isNumber(\"-1.\")"
   ]
  },
  {
   "cell_type": "code",
   "execution_count": 3,
   "metadata": {},
   "outputs": [
    {
     "data": {
      "text/plain": [
       "[3, 5]"
      ]
     },
     "execution_count": 3,
     "metadata": {},
     "output_type": "execute_result"
    }
   ],
   "source": [
    "# 136. Single Number\n",
    "# 260. Single Number III,列表里除了两个元素，其余全部重复了2次，找出那两个\n",
    "def singleNumber(nums):\n",
    "    \"\"\"\n",
    "    :type nums: List[int]\n",
    "    :rtype: List[int]\n",
    "    \"\"\"\n",
    "    x = 2*sum(set(nums)) - sum(nums)\n",
    "    y = 2*sum(map(lambda a:a**2,set(nums)))-sum(map(lambda a:a**2,nums))\n",
    "    ans = x/2.0 - (2*y-x**2)**0.5/2.0\n",
    "    for i in nums:\n",
    "        if abs(ans - i)<10**-6:\n",
    "            ans = i\n",
    "    return [ans,x-ans]\n",
    "singleNumber([1,2,1,3,2,5])"
   ]
  },
  {
   "cell_type": "code",
   "execution_count": 4,
   "metadata": {},
   "outputs": [
    {
     "data": {
      "text/plain": [
       "4"
      ]
     },
     "execution_count": 4,
     "metadata": {},
     "output_type": "execute_result"
    }
   ],
   "source": [
    "# 128. Longest Consecutive Sequence,最长的构成连续数字的子串\n",
    "def longestConsecutive(nums):\n",
    "    \"\"\"\n",
    "    :type nums: List[int]\n",
    "    :rtype: int\n",
    "    \"\"\"\n",
    "    nums = set(nums)\n",
    "    maximum = 0\n",
    "    for x in nums:\n",
    "        if x-1 not in nums:\n",
    "            y = x+1\n",
    "            while y in nums:\n",
    "                y = y+1\n",
    "            maximum = max(maximum,y-x)\n",
    "    return maximum\n",
    "longestConsecutive([100,4,200,1,3,2])"
   ]
  },
  {
   "cell_type": "code",
   "execution_count": 3,
   "metadata": {},
   "outputs": [
    {
     "data": {
      "text/plain": [
       "0.9181818181818174"
      ]
     },
     "execution_count": 3,
     "metadata": {},
     "output_type": "execute_result"
    }
   ],
   "source": [
    "def candy(r,w):\n",
    "    dp = [[0 for _ in range(w+1)] for _ in range(r+1)]\n",
    "    for i in range(w+1):\n",
    "        dp[0][i]=1\n",
    "    for i in range(1,r+1):\n",
    "        for j in range(1,w+1):\n",
    "            dp[i][j] = i/(i+j)*dp[i-1][j] + j/(i+j)*(i/(i+j)*dp[i-1][j]+ j/(i+j)*dp[i][j-1])\n",
    "    return dp[-1][-1]\n",
    "candy(90,10)"
   ]
  },
  {
   "cell_type": "code",
   "execution_count": 2,
   "metadata": {},
   "outputs": [
    {
     "name": "stdout",
     "output_type": "stream",
     "text": [
      "{1: 2, 5: 1, 10: 1} {5: 2, 10: 1}\n"
     ]
    },
    {
     "data": {
      "text/plain": [
       "5"
      ]
     },
     "execution_count": 2,
     "metadata": {},
     "output_type": "execute_result"
    }
   ],
   "source": [
    "def circleArray(n, endNote):\n",
    "    start, end = {}, {}\n",
    "    for s, e in zip(endNote[:-1], endNote[1:]):\n",
    "        start[s] = start.get(s, 0) + 1\n",
    "        end[e] = end.get(e, 0) + 1\n",
    "        if s > e:\n",
    "            start[1] = start.get(1, 0) + 1\n",
    "    print(start,end)\n",
    "    max_occur, index = 0, 1\n",
    "    cur = 0\n",
    "    for i in range(1, n+1):\n",
    "        cur += start.get(i, 0)\n",
    "        if cur > max_occur:\n",
    "            max_occur = cur\n",
    "            index = i\n",
    "        cur -= end.get(i, 0)\n",
    "    return index\n",
    "circleArray(10, [1,5,10,5])"
   ]
  },
  {
   "cell_type": "code",
   "execution_count": 6,
   "metadata": {},
   "outputs": [
    {
     "data": {
      "text/plain": [
       "[[15], [7, 8], [4, 5, 6], [1, 2, 3, 4, 5]]"
      ]
     },
     "execution_count": 6,
     "metadata": {},
     "output_type": "execute_result"
    }
   ],
   "source": [
    "# 将一个数分解成连续自然数的和\n",
    "# an + n(n-1)/2=d, n=(sqrt((2a-1)^2+8d)-(2a-1))/2\n",
    "# 含有奇数因子，则可以分解\n",
    "# 证明2^n不能拆分成题目要求的形式，我们可以相像，拆分后的数字个数要么为奇数个要么为偶数个。\n",
    "\n",
    "# 先看拆分为奇数个数的情况，假设拆分成a[1]+ a[2]+ ...+ a[j]其中j为奇数，那么(a[1]+a[j]) = (a[2]+a[j-1])=...= a[(1+j)/2]，这些数相加刚好等于（(1+j) +1) *a[(1+j)/2]因为j位奇数，j+2也为奇数，也就是说n有一个奇数的因子；\n",
    "\n",
    "#再看拆分为偶数个数的情况，假设拆分成a[1]+ a[2]+ ...+ a[j]其中j为偶数，那么(a[1]+a[j]) = (a[2]+a[j-1])=...= (a[j/2] + a[j/2+1])，这些数相加的和等于(j/2)*(a[j/2] + a[j/2+1])，我们知道(a[j/2] + a[j/2+1])是相邻的自然数，必定一个为奇数一个为偶数，所以(a[j/2] + a[j/2+1])必定为奇数，也就是说n有一个奇数的因子；\n",
    "\n",
    "def consecutiveNumbersSum(d):\n",
    "    res = []\n",
    "    for a in range(1,d//2+1):# a最大只能为n的一半\n",
    "        delta = (2*a-1)**2+8*d\n",
    "        if int(delta**0.5)**2!=delta:\n",
    "            continue\n",
    "        n = (int(delta**0.5)-(2*a-1))//2\n",
    "        res.append(list(range(a,a+n)))\n",
    "    return res\n",
    "\n",
    "def consecutiveNumbersSum(N):\n",
    "    \"\"\"\n",
    "    :type N: int\n",
    "    :rtype: int\n",
    "    \"\"\"\n",
    "    res = []\n",
    "    n = 1\n",
    "    while True:\n",
    "        temp = N-n*(n-1)//2\n",
    "        if temp<=0:\n",
    "            return res\n",
    "        if temp%n==0:\n",
    "            res.append(list(range(temp//n,temp//n+n)))\n",
    "        n+=1\n",
    "consecutiveNumbersSum(15)"
   ]
  },
  {
   "cell_type": "code",
   "execution_count": 32,
   "metadata": {},
   "outputs": [
    {
     "data": {
      "text/plain": [
       "True"
      ]
     },
     "execution_count": 32,
     "metadata": {},
     "output_type": "execute_result"
    }
   ],
   "source": [
    "isLine(nums[4],nums[7],nums[8])"
   ]
  },
  {
   "cell_type": "code",
   "execution_count": 1,
   "metadata": {},
   "outputs": [
    {
     "data": {
      "text/plain": [
       "False"
      ]
     },
     "execution_count": 1,
     "metadata": {},
     "output_type": "execute_result"
    }
   ],
   "source": [
    "def IsLeave(s1,s2,s3):\n",
    "    if len(s1)+len(s2)!=len(s3):\n",
    "        return False \n",
    "\n",
    "    def dfs(i,j):\n",
    "        if i+j == len(s3):\n",
    "            return True\n",
    "        elif i<len(s1) and j<len(s2):\n",
    "            if s1[i]==s3[i+j]:\n",
    "                temp = False\n",
    "                temp = temp|dfs(i+1,j)\n",
    "                if temp:\n",
    "                    return True\n",
    "            if s2[j] == s3[i+j]:\n",
    "                temp = False\n",
    "                temp = temp | dfs(i,j+1)\n",
    "                if temp:\n",
    "                    return True\n",
    "            return False\n",
    "        return False\n",
    "    return dfs(0,0)\n",
    "IsLeave(s1 = \"aabcc\", s2 = \"dbbca\", s3 = \"aadbbcbcac\")"
   ]
  },
  {
   "cell_type": "code",
   "execution_count": 1,
   "metadata": {},
   "outputs": [],
   "source": [
    "# 277. Find the Celebrity，找出名人\n",
    "def findCelebrity(n,matrix):\n",
    "    \"\"\"\n",
    "    :type n: int\n",
    "    :rtype: int\n",
    "    \"\"\"\n",
    "    \n",
    "    def knows(i,j):\n",
    "        return matrix[i][j] ==1\n",
    "\n",
    "    start = 0\n",
    "    for i in range(n):#不认识后面所有的那个，是唯一的可能，（因为如果是celebrity，肯定会被认识）\n",
    "        if knows(start,i):\n",
    "            start = i\n",
    "    for i in range(start):#看看这个人之前的人是否满足\n",
    "        if knows(start,i) or not knows(i,start):\n",
    "            return -1\n",
    "    for i in range(start+1,n):#看看这个人之后的人是否都认识他\n",
    "        if not knows(i,start):\n",
    "            return -1\n",
    "    return start\n",
    "findCelebrity(3, [[1,1,0],[0,1,0],[1,1,1]])"
   ]
  },
  {
   "cell_type": "code",
   "execution_count": 1,
   "metadata": {},
   "outputs": [
    {
     "data": {
      "text/plain": [
       "[[0, 0, 0, 0, 0],\n",
       " [0, 0, 0, 0, 0],\n",
       " [0, 0, 0, 0, 0],\n",
       " [110, 0, 0, 0, 114],\n",
       " [210, 0, 0, 0, 214],\n",
       " [310, 0, 0, 113, 314],\n",
       " [410, 0, 0, 213, 414],\n",
       " [610, 211, 112, 313, 614],\n",
       " [710, 311, 412, 613, 714],\n",
       " [810, 411, 512, 713, 1014]]"
      ]
     },
     "execution_count": 1,
     "metadata": {},
     "output_type": "execute_result"
    }
   ],
   "source": [
    "# 723. Candy Crush，消消乐\n",
    "# 先找出所有满足的，然后全部消掉，直到再也找不到\n",
    "def candyCrush(board):\n",
    "    \"\"\"\n",
    "    :type board: List[List[int]]\n",
    "    :rtype: List[List[int]]\n",
    "    \"\"\"\n",
    "    if not board:\n",
    "        return board\n",
    "    m,n = len(board),len(board[0])\n",
    "    top = 0\n",
    "\n",
    "    def canDelete(i,j):\n",
    "        left = right = j\n",
    "        up = down = i\n",
    "        while left>=0 and left>=j-2 and board[i][left] == board[i][j]:\n",
    "            left -=1\n",
    "        while right<n and right<=j+2 and board[i][right]==board[i][j]:\n",
    "            right+=1\n",
    "        if right-left-1>=3:\n",
    "            return True\n",
    "        while up>=0 and up>=i-2 and board[up][j] == board[i][j]:\n",
    "            up-=1\n",
    "        while down<m and down<=i+2 and board[down][j] == board[i][j]:\n",
    "            down+=1\n",
    "        if down-up>3:\n",
    "            return True\n",
    "        return False\n",
    "\n",
    "    def findCrush(board):\n",
    "        cache = []\n",
    "        for i in range(top,m):\n",
    "            for j in range(n):\n",
    "                if board[i][j] and canDelete(i,j):\n",
    "                    cache.append((i,j))\n",
    "        return cache\n",
    "\n",
    "    cache = findCrush(board)\n",
    "    while cache:\n",
    "        for i,j in cache:\n",
    "            board[i][j] = 0\n",
    "        temp = m-1\n",
    "        for j in range(n):\n",
    "            start = index = m-1\n",
    "            while start>=0:\n",
    "                if board[start][j]!=0:\n",
    "                    board[index][j] = board[start][j]\n",
    "                    index -=1\n",
    "                start -=1\n",
    "            for i in range(index+1):\n",
    "                board[i][j]=0\n",
    "            temp = min(index+1,temp)\n",
    "        top = temp\n",
    "        cache = findCrush(board)\n",
    "    return board\n",
    "candyCrush(board =\n",
    "[[110,5,112,113,114],[210,211,5,213,214],[310,311,3,313,314],[410,411,412,5,414],[5,1,512,3,3],[610,4,1,613,614],[710,1,2,713,714],[810,1,2,1,1],[1,1,2,2,2],[4,1,4,4,1014]]\n",
    ")"
   ]
  },
  {
   "cell_type": "code",
   "execution_count": 3,
   "metadata": {},
   "outputs": [],
   "source": [
    "def minTimeToVisitAllPoints(points):\n",
    "    \"\"\"\n",
    "    :type points: List[List[int]]\n",
    "    :rtype: int\n",
    "    \"\"\"\n",
    "    def everystep(a,b):\n",
    "        dx = abs(a[0] - b[0])\n",
    "        dy = abs(a[1] - b[1])\n",
    "        return max(dx,dy)\n",
    "\n",
    "    res = 0\n",
    "    for i in range(len(points)-1):\n",
    "        res += everystep(points[i],points[i+1])\n",
    "    return res\n",
    "minTimeToVisitAllPoints(points = [[3,2]])"
   ]
  },
  {
   "cell_type": "code",
   "execution_count": 2,
   "metadata": {},
   "outputs": [
    {
     "data": {
      "text/plain": [
       "3"
      ]
     },
     "execution_count": 2,
     "metadata": {},
     "output_type": "execute_result"
    }
   ],
   "source": [
    "def countServers(grid):\n",
    "    \"\"\"\n",
    "    :type grid: List[List[int]]\n",
    "    :rtype: int\n",
    "    \"\"\"\n",
    "    if not grid:\n",
    "        return 0\n",
    "    m,n = len(grid),len(grid[0])\n",
    "    new = set()\n",
    "    rows = set()\n",
    "    columns = set()\n",
    "    res = 0\n",
    "    for i in range(m):\n",
    "        for j in range(n):\n",
    "            if grid[i][j]:\n",
    "                if i in rows or j in columns:\n",
    "                    res +=1\n",
    "                    temp = set()\n",
    "                    for x,y in new:\n",
    "                        if (x==i or y==j) and (x,y) not in temp:\n",
    "                            res+=1\n",
    "                            temp.add((x,y))\n",
    "                    new = new.difference(temp)\n",
    "                else:\n",
    "                    new.add((i,j))\n",
    "                rows.add(i)\n",
    "                columns.add(j)\n",
    "    return res\n",
    "countServers(grid = [[1,0],[1,1]])"
   ]
  },
  {
   "cell_type": "code",
   "execution_count": 48,
   "metadata": {},
   "outputs": [],
   "source": [
    "def numWays(steps, arrLen):\n",
    "    \"\"\"\n",
    "    :type steps: int\n",
    "    :type arrLen: int\n",
    "    :rtype: int\n",
    "    \"\"\"\n",
    "    points = {0:1}\n",
    "    const = 10**9+7\n",
    "    for i in range(steps):\n",
    "        points2 = dict()\n",
    "        for d in [-1,0,1]:\n",
    "            for point in points:\n",
    "                x = d+point\n",
    "                if 0<=x<arrLen:\n",
    "                    points2[x] = (points2.get(x,0)+points[point])%const\n",
    "        points = points2\n",
    "    return points[0]\n",
    "numWays(steps = 1, arrLen = 2)"
   ]
  },
  {
   "cell_type": "code",
   "execution_count": 1,
   "metadata": {},
   "outputs": [
    {
     "data": {
      "text/plain": [
       "25"
      ]
     },
     "execution_count": 1,
     "metadata": {},
     "output_type": "execute_result"
    }
   ],
   "source": [
    "# 149. Max Points on a Line,给定很多点，问最多共线的点的个数，点里面有重复\n",
    "# 用三点共线避免求斜率, O(n**3)\n",
    "# 可以对每个点，求其它点的斜率，斜率相同则为共线,O(n**2)\n",
    "def maxPoints(points):\n",
    "    \"\"\"\n",
    "    :type points: List[List[int]]\n",
    "    :rtype: int\n",
    "    \"\"\"\n",
    "    def isLine(x,y,z):\n",
    "        v1 = [y[0]-x[0],y[1]-x[1]]\n",
    "        v2 = [z[0]-x[0],z[1]-x[1]]\n",
    "        return v1[0]*v2[1] == v1[1]*v2[0]\n",
    "\n",
    "    def isExist(i,j):\n",
    "        for pair in pairs:\n",
    "            if i in pair and j in pair:\n",
    "                return True\n",
    "        return False\n",
    "\n",
    "    hashtable = dict()\n",
    "    for x,y in points:\n",
    "        hashtable[(x,y)] = hashtable.get((x,y),0)+1\n",
    "\n",
    "    if len(hashtable)<=2:#if there are no more than 2 sets\n",
    "        return len(points)\n",
    "\n",
    "    points = list(hashtable.keys())\n",
    "    pairs = []\n",
    "\n",
    "    maximum = min(2,len(points))\n",
    "    for i in range(len(points)-2):\n",
    "        for j in range(i+1,len(points)-1):\n",
    "            if isExist(i,j):\n",
    "                continue\n",
    "            else:\n",
    "                temp = hashtable[points[i]]+hashtable[points[j]]\n",
    "                temp_pair = {i,j}\n",
    "                for k in range(j+1,len(points)):\n",
    "                    if isLine(points[i],points[j],points[k]):\n",
    "                        temp += hashtable[points[k]]\n",
    "                        temp_pair.add(k)\n",
    "                maximum = max(maximum,temp)\n",
    "                if len(temp_pair)>2:\n",
    "                    pairs.append(temp_pair)\n",
    "    return maximum\n",
    "\n",
    "maxPoints([[40,-23],[9,138],[429,115],[50,-17],[-3,80],[-10,33],[5,-21],[-3,80],[-6,-65],[-18,26],[-6,-65],[5,72],[0,77],[-9,86],[10,-2],[-8,85],[21,130],[18,-6],[-18,26],[-1,-15],[10,-2],[8,69],[-4,63],[0,3],[-4,40],[-7,84],[-8,7],[30,154],[16,-5],[6,90],[18,-6],[5,77],[-4,77],[7,-13],[-1,-45],[16,-5],[-9,86],[-16,11],[-7,84],[1,76],[3,77],[10,67],[1,-37],[-10,-81],[4,-11],[-20,13],[-10,77],[6,-17],[-27,2],[-10,-81],[10,-1],[-9,1],[-8,43],[2,2],[2,-21],[3,82],[8,-1],[10,-1],[-9,1],[-12,42],[16,-5],[-5,-61],[20,-7],[9,-35],[10,6],[12,106],[5,-21],[-5,82],[6,71],[-15,34],[-10,87],[-14,-12],[12,106],[-5,82],[-46,-45],[-4,63],[16,-5],[4,1],[-3,-53],[0,-17],[9,98],[-18,26],[-9,86],[2,77],[-2,-49],[1,76],[-3,-38],[-8,7],[-17,-37],[5,72],[10,-37],[-4,-57],[-3,-53],[3,74],[-3,-11],[-8,7],[1,88],[-12,42],[1,-37],[2,77],[-6,77],[5,72],[-4,-57],[-18,-33],[-12,42],[-9,86],[2,77],[-8,77],[-3,77],[9,-42],[16,41],[-29,-37],[0,-41],[-21,18],[-27,-34],[0,77],[3,74],[-7,-69],[-21,18],[27,146],[-20,13],[21,130],[-6,-65],[14,-4],[0,3],[9,-5],[6,-29],[-2,73],[-1,-15],[1,76],[-4,77],[6,-29]])"
   ]
  },
  {
   "cell_type": "code",
   "execution_count": 11,
   "metadata": {},
   "outputs": [
    {
     "name": "stdout",
     "output_type": "stream",
     "text": [
      "[1]\n",
      "[1, 2]\n"
     ]
    }
   ],
   "source": [
    "def append(number, number_list = []):    \n",
    "    number_list.append(number)\n",
    "    return number_list\n",
    "print(append(1))\n",
    "print(append(2))"
   ]
  },
  {
   "cell_type": "code",
   "execution_count": 13,
   "metadata": {},
   "outputs": [
    {
     "name": "stdout",
     "output_type": "stream",
     "text": [
      "8\n",
      "8\n",
      "8\n",
      "8\n",
      "8\n"
     ]
    }
   ],
   "source": [
    "def create_multipliers():\n",
    "    return [lambda x: i * x for i in range(5)]\n",
    "for multiplier in create_multipliers():\n",
    "    print(multiplier(2))"
   ]
  },
  {
   "cell_type": "code",
   "execution_count": 22,
   "metadata": {},
   "outputs": [],
   "source": [
    "# 296. Best Meeting Point\n",
    "# 最小曼哈顿距离在中位数，左右两边向中间逼近\n",
    "def minTotalDistance(grid):\n",
    "    if not grid:\n",
    "        return 0\n",
    "    r, c = len(grid), len(grid[0])\n",
    "    sumr = [i for i in xrange(r) for j in xrange(c) if grid[i][j]]\n",
    "    sumc = [j for i in xrange(r) for j in xrange(c) if grid[i][j]]\n",
    "    sumr.sort()\n",
    "    sumc.sort()\n",
    "    mid_row = sumr[len(sumr)/2]\n",
    "    mid_col = sumc[len(sumc)/2]\n",
    "    return sum([abs(r-mid_row) for r in sumr]) + sum([abs(c-mid_col) for c in sumc])\n",
    "minTotalDistance([[0,0,0,0,0],[0,0,0,0,0],[0,0,0,0,0]])"
   ]
  },
  {
   "cell_type": "code",
   "execution_count": 1,
   "metadata": {},
   "outputs": [
    {
     "data": {
      "text/plain": [
       "True"
      ]
     },
     "execution_count": 1,
     "metadata": {},
     "output_type": "execute_result"
    }
   ],
   "source": [
    "# 777. Swap Adjacent in LR String\n",
    "def canTransform(start, end):\n",
    "    \"\"\"\n",
    "    :type start: str\n",
    "    :type end: str\n",
    "    :rtype: bool\n",
    "    \"\"\"\n",
    "    if len(start)!=len(end):\n",
    "        return False\n",
    "    i,j=0,0\n",
    "    while i<len(start) and j<len(end):\n",
    "        while i<len(start) and start[i]=='X':\n",
    "            i = i+1\n",
    "        while j<len(end) and end[j]=='X':\n",
    "            j = j+1\n",
    "        if i<len(start) and j<len(end) and start[i]==end[j] and ((start[i]=='R' and i<=j) or (start[i]=='L' and i>=j)):\n",
    "            i = i+1\n",
    "            j = j+1\n",
    "            continue\n",
    "        else:\n",
    "            break\n",
    "    return start[i:] == (len(start)-i)*'X' and end[j:] == (len(end)-j)*'X'\n",
    "canTransform(start = \"RXXLRXRXL\", end = \"XRLXXRRLX\")"
   ]
  },
  {
   "cell_type": "code",
   "execution_count": 1,
   "metadata": {},
   "outputs": [
    {
     "data": {
      "text/plain": [
       "5"
      ]
     },
     "execution_count": 1,
     "metadata": {},
     "output_type": "execute_result"
    }
   ],
   "source": [
    "# 458. Poor Pigs，可以测试的次数代表的是底，个数代表的是维度\n",
    "def poorPigs(buckets, minutesToDie, minutesToTest):\n",
    "    \"\"\"\n",
    "    :type buckets: int\n",
    "    :type minutesToDie: int\n",
    "    :type minutesToTest: int\n",
    "    :rtype: int\n",
    "    \"\"\"\n",
    "    base = minutesToTest//minutesToDie+1\n",
    "    cur = 1\n",
    "    res = 0\n",
    "    while cur<buckets:\n",
    "        cur = cur*base\n",
    "        res +=1\n",
    "    return res\n",
    "poorPigs(1000,15,60)"
   ]
  },
  {
   "cell_type": "code",
   "execution_count": 1,
   "metadata": {},
   "outputs": [
    {
     "data": {
      "text/plain": [
       "4"
      ]
     },
     "execution_count": 1,
     "metadata": {},
     "output_type": "execute_result"
    }
   ],
   "source": [
    "# 565. Array Nesting,嵌套数组中最大的环\n",
    "# 环是不会交叉interwine的\n",
    "def arrayNesting(nums):\n",
    "    \"\"\"\n",
    "    :type nums: List[int]\n",
    "    :rtype: int\n",
    "    \"\"\"\n",
    "    visited = [False for _ in range(len(nums))]\n",
    "\n",
    "    def lengthCircle(i):\n",
    "        length = 0\n",
    "        while not visited[i]:\n",
    "            visited[i] = True\n",
    "            length +=1\n",
    "            i = nums[i]\n",
    "        return length\n",
    "\n",
    "    maximum = 0\n",
    "    for i in range(len(nums)):\n",
    "        if not visited[i]:\n",
    "            maximum = max(maximum,lengthCircle(i))\n",
    "    return maximum\n",
    "arrayNesting([5,4,0,3,1,6,2])"
   ]
  },
  {
   "cell_type": "code",
   "execution_count": 1,
   "metadata": {},
   "outputs": [],
   "source": [
    "# 519. Random Flip Matrix,给定一个rows*cols的矩阵，随机将其中的0翻转成1，尽可能减少随机数调用次数和复杂度\n",
    "# 用start,end来表示随机数的范围，同时也是字典的key，每次start+1，用字典来找映射关系，最终得到的是字典的值\n",
    "class Solution:\n",
    "\n",
    "    def __init__(self, n_rows, n_cols):\n",
    "        \"\"\"\n",
    "        :type n_rows: int\n",
    "        :type n_cols: int\n",
    "        \"\"\"\n",
    "        self.c = n_cols\n",
    "        self.end = n_rows * n_cols - 1\n",
    "        self.d = {}\n",
    "        self.start = 0\n",
    "        \n",
    "    def flip(self):\n",
    "        \"\"\"\n",
    "        :rtype: List[int]\n",
    "        \"\"\"\n",
    "        rand = random.randint(self.start, self.end)\n",
    "        res = self.d.get(rand, rand)\n",
    "        self.d[rand] = self.d.get(self.start, self.start)\n",
    "        self.start += 1\n",
    "        return divmod(res, self.c)\n",
    "    \n",
    "    def reset(self):\n",
    "        \"\"\"\n",
    "        :rtype: void\n",
    "        \"\"\"\n",
    "        self.d = {}\n",
    "        self.start = 0"
   ]
  },
  {
   "cell_type": "code",
   "execution_count": 1,
   "metadata": {},
   "outputs": [
    {
     "data": {
      "text/plain": [
       "[1, 2, 4, 7, 5, 3, 6, 8, 9]"
      ]
     },
     "execution_count": 1,
     "metadata": {},
     "output_type": "execute_result"
    }
   ],
   "source": [
    "# 498. Diagonal Traverse, 对角线遍历，按照坐标一个个走\n",
    "def findDiagonalOrder(matrix):\n",
    "    \"\"\"\n",
    "    :type matrix: List[List[int]]\n",
    "    :rtype: List[int]\n",
    "    \"\"\"\n",
    "    if not matrix or not matrix[0]:\n",
    "        return []\n",
    "    m,n=len(matrix),len(matrix[0])\n",
    "    r,c,up = 0,0,1#row idx, col idx, up or not\n",
    "    res = []\n",
    "    while r< m and c<n:\n",
    "        res.append(matrix[r][c])\n",
    "        if up:\n",
    "            if c==n-1:\n",
    "                r,c,up= r+1,c,1-up\n",
    "            elif r==0:\n",
    "                r,c,up = r,c+1,1-up\n",
    "            else:\n",
    "                r,c = r-1,c+1\n",
    "        else:\n",
    "            if r==m-1:\n",
    "                r,c,up = r,c+1,1-up\n",
    "            elif c==0:\n",
    "                r,c,up = r+1,c,1-up\n",
    "            else:\n",
    "                r,c = r+1,c-1\n",
    "    return res\n",
    "findDiagonalOrder([[ 1, 2, 3 ],[ 4, 5, 6 ],[ 7, 8, 9 ]])"
   ]
  },
  {
   "cell_type": "code",
   "execution_count": 24,
   "metadata": {},
   "outputs": [
    {
     "name": "stdout",
     "output_type": "stream",
     "text": [
      "[1, 0]\n",
      "[0, 1]\n",
      "[1, 1]\n",
      "[0, 2]\n",
      "[1, 2]\n"
     ]
    },
    {
     "data": {
      "text/plain": [
       "8"
      ]
     },
     "execution_count": 24,
     "metadata": {},
     "output_type": "execute_result"
    }
   ],
   "source": [
    "# 1079. Letter Tile Possibilities\n",
    "import collections\n",
    "def numTilePossibilities( tiles):\n",
    "    \"\"\"\n",
    "    :type tiles: str\n",
    "    :rtype: int\n",
    "    \"\"\"\n",
    "    counts = collections.Counter(tiles)\n",
    "    keys = list(counts.keys())\n",
    "    values = list(counts.values())\n",
    "    chars = len(keys)\n",
    "    values += [0 for _ in range(7-chars)]\n",
    "    f = [1,1,2,6,24,120,120*6,120*6*7]\n",
    "    res = 0\n",
    "    print(values)\n",
    "    for x0 in range(values[0]+1):\n",
    "        for x1 in range(values[1]+1):\n",
    "            for x2 in range(values[2]+1):\n",
    "                for x3 in range(values[3]+1):\n",
    "                    for x4 in range(values[4]+1):\n",
    "                        for x5 in range(values[5]+1):\n",
    "                            for x6 in range(values[6]+1):\n",
    "                                t = f[x0+x1+x2+x3+x4+x5+x6]//(f[x0]*f[x1]*f[x2]*f[x3]*f[x4]*f[x5]*f[x6])\n",
    "                                print(x0,x1,x2,x3,x4,x5,x6,t)\n",
    "                                res+=t\n",
    "    return res-1\n",
    "\n",
    "def numTilePossibilities( tiles):\n",
    "    freq = collections.Counter(tiles)\n",
    "    factorial = [1]\n",
    "    for i in range(1,len(tiles)+1):\n",
    "        factorial.append(factorial[-1]*i)\n",
    "    prod = 1\n",
    "    for f in freq.values():#得到总共的种类数\n",
    "        prod *= f + 1\n",
    "    res = 0\n",
    "    for i in range(1, prod):\n",
    "        digits = []\n",
    "        for f in freq.values():#没看懂这个是怎么运行的，需要从0--k-1中选取\n",
    "            digits.append(i % (f + 1))\n",
    "            i = i // (f + 1)\n",
    "        print(digits)\n",
    "        tmp = factorial[sum(digits)]\n",
    "        for d in digits:\n",
    "            tmp //= factorial[d]\n",
    "        res += tmp\n",
    "    return res\n",
    "numTilePossibilities(\"ABB\")"
   ]
  },
  {
   "cell_type": "code",
   "execution_count": 1,
   "metadata": {},
   "outputs": [],
   "source": [
    "# 840. Magic Squares In Grid\n",
    "def numMagicSquaresInside(grid):\n",
    "    \"\"\"\n",
    "    :type grid: List[List[int]]\n",
    "    :rtype: int\n",
    "    \"\"\"\n",
    "    if not grid or not grid[0]:\n",
    "        return 0\n",
    "    m,n=len(grid),len(grid[0])\n",
    "    res = 0\n",
    "\n",
    "    def isMagic(i,j):\n",
    "        s = \"\".join(map(str,[grid[i-1][j-1],grid[i-1][j],grid[i-1][j+1],grid[i][j+1],grid[i+1][j+1],grid[i+1][j],grid[i+1][j-1],grid[i][j-1]]))\n",
    "        if (s in \"43816729\"*2) or (s in \"43816729\"[::-1]*2):\n",
    "            return True\n",
    "        return False\n",
    "\n",
    "    for i in range(1,m-1):\n",
    "        for j in range(1,n-1):\n",
    "            if grid[i][j]==5:\n",
    "                res+=isMagic(i,j)\n",
    "    return res"
   ]
  },
  {
   "cell_type": "code",
   "execution_count": 1,
   "metadata": {},
   "outputs": [
    {
     "data": {
      "text/plain": [
       "[-2, 0, 3, 5, 3]"
      ]
     },
     "execution_count": 1,
     "metadata": {},
     "output_type": "execute_result"
    }
   ],
   "source": [
    "# 370. Range Addition, 对updates中[i,j]的元素加d，实际上相当于[i,length-1]的元素加上d，[j+1,length-1]的元素减d\n",
    "# 只需要在res中做标记，然后后面累加即可\n",
    "def getModifiedArray(length,updates):\n",
    "    res=[0]*(length+1)\n",
    "    for u in updates:\n",
    "        res[u[0]]+=u[2]\n",
    "        res[u[1]+1]-=u[2]\n",
    "    cur=0\n",
    "    for i in range(length):\n",
    "        cur+=res[i]\n",
    "        res[i]=cur\n",
    "    res.pop()\n",
    "    return res\n",
    "\n",
    "getModifiedArray(length = 5, updates = [[1,3,2],[2,4,3],[0,2,-2]])"
   ]
  },
  {
   "cell_type": "code",
   "execution_count": 1,
   "metadata": {},
   "outputs": [
    {
     "data": {
      "text/plain": [
       "'<b>abc</b>xyz<b>123</b>'"
      ]
     },
     "execution_count": 1,
     "metadata": {},
     "output_type": "execute_result"
    }
   ],
   "source": [
    "# 616. Add Bold Tag in String\n",
    "# 在字符串s中找dict里有的元素，对其两边添加<br>\n",
    "# 直接暴力标记存在，然后对True的两边添加\n",
    "def addBoldTag(s, dict):\n",
    "    \"\"\"\n",
    "    :type s: str\n",
    "    :type dict: List[str]\n",
    "    :rtype: str\n",
    "    \"\"\"\n",
    "    status = [False for i in range(len(s))]\n",
    "    for i in range(len(s)):\n",
    "        for word in dict:\n",
    "            if i+len(word)<=len(s) and s[i:i+len(word)]==word:\n",
    "                for t in range(len(word)):\n",
    "                    status[i+t] = True\n",
    "    res = \"\"\n",
    "    i = 0\n",
    "    while i<len(s):\n",
    "        if status[i] and (i==0 or not status[i-1]):\n",
    "            res+='<b>'\n",
    "        res+=s[i]\n",
    "        if status[i] and (i==len(s)-1 or not status[i+1]):\n",
    "            res+='</b>'\n",
    "        i+=1\n",
    "    return res\n",
    "addBoldTag(s = \"abcxyz123\",dict = [\"abc\",\"123\"])"
   ]
  },
  {
   "cell_type": "code",
   "execution_count": 2,
   "metadata": {},
   "outputs": [
    {
     "data": {
      "text/plain": [
       "[1, 2]"
      ]
     },
     "execution_count": 2,
     "metadata": {},
     "output_type": "execute_result"
    }
   ],
   "source": [
    "# Boyer–Moore majority vote algorithm\n",
    "# 169. Majority Element，nums里存在频率超过一半的数，找出来\n",
    "def majorityElement(nums):\n",
    "    \"\"\"\n",
    "    :type nums: List[int]\n",
    "    :rtype: int\n",
    "    \"\"\"\n",
    "    count, val = 0,0\n",
    "    for i in range(len(nums)):\n",
    "        if nums[i]==val:# 如果值等于val，count+=1\n",
    "            count+=1\n",
    "        elif count==0:#如果count等于0，就重置\n",
    "            val,count = nums[i],1\n",
    "        else:#否则count-1\n",
    "            count-=1\n",
    "    return val\n",
    "\n",
    "# nums中出现频率超过n//3次的数，设立两个candidate\n",
    "def majorityElement2(nums):\n",
    "    \"\"\"\n",
    "    :type nums: List[int]\n",
    "    :rtype: List[int]\n",
    "    \"\"\"\n",
    "    if len(nums)<=2:\n",
    "        return list(set(nums))\n",
    "    c1,c2 = 0,0\n",
    "    v1,v2 = 0,0\n",
    "    for i in range(len(nums)):\n",
    "        if nums[i]==v1:\n",
    "            c1+=1\n",
    "        elif nums[i]==v2:\n",
    "            c2+=1\n",
    "        elif c1==0:\n",
    "            v1,c1 = nums[i],1\n",
    "        elif c2==0:\n",
    "            v2,c2 = nums[i],1\n",
    "        else:\n",
    "            c1,c2 = c1-1,c2-1\n",
    "\n",
    "    if v1==v2:\n",
    "        return [v1] if nums.count(v1)>len(nums)//3 else []\n",
    "    return [n for n in (v1, v2)\n",
    "                    if nums.count(n) > len(nums) // 3]\n",
    "\n",
    "majorityElement2([1,1,1,2,2,2,3,3])"
   ]
  },
  {
   "cell_type": "code",
   "execution_count": 3,
   "metadata": {},
   "outputs": [],
   "source": [
    "# 769. Max Chunks To Make Sorted，将数组（1-n的排列）分成n块，每块sort能让整个数组sort\n",
    "def maxChunksToSorted(arr):\n",
    "    \"\"\"\n",
    "    :type arr: List[int]\n",
    "    :rtype: int\n",
    "    \"\"\"\n",
    "    if not arr:\n",
    "        return 0\n",
    "    curmin = len(arr)-1\n",
    "    flag = False\n",
    "    for i in range(len(arr)-1,-1,-1):\n",
    "        if arr[i]==len(arr)-1:\n",
    "            flag = True\n",
    "        if arr[i]<curmin:\n",
    "            curmin = arr[i]\n",
    "        if flag and curmin == i:\n",
    "            return maxChunksToSorted(arr[:i])+1\n",
    "        \n",
    "def maxChunksToSorted(arr):\n",
    "    n = len(arr)\n",
    "    res = m = 0\n",
    "    for i in range(n):\n",
    "        m = max(m, arr[i])\n",
    "        res += i == m\n",
    "    return res"
   ]
  },
  {
   "cell_type": "code",
   "execution_count": 5,
   "metadata": {},
   "outputs": [
    {
     "data": {
      "text/plain": [
       "4"
      ]
     },
     "execution_count": 5,
     "metadata": {},
     "output_type": "execute_result"
    }
   ],
   "source": [
    "# 768. Max Chunks To Make Sorted II，将数组分成n块，每块sort能让整个数组sort\n",
    "# 用一个数组存储该数字及以前的最大值，用另一个数组存储该数字之后的最小值，greedy的方法，能分割的标准是当前的最大值小于之后的最小值\n",
    "\n",
    "def maxChunksToSorted2(arr):\n",
    "    \"\"\"\n",
    "    :type arr: List[int]\n",
    "    :rtype: int\n",
    "    \"\"\"\n",
    "    curmin = [float('inf')]#这个值以后的最小值\n",
    "    curmax = [arr[0]]#这个值及以前的最大值\n",
    "    for i in arr[1:]:\n",
    "        curmax.append(max(i,curmax[-1]))\n",
    "    for i in range(len(arr)-1,0,-1):\n",
    "        curmin.append(min(arr[i],curmin[-1]))\n",
    "    curmin = curmin[::-1]\n",
    "    res = 0\n",
    "    for i in range(len(arr)):\n",
    "        res+=curmax[i]<=curmin[i]\n",
    "    return res\n",
    "\n",
    "maxChunksToSorted2([2,1,3,4,4])\n",
    "\n",
    "# 915. Partition Array into Disjoint Intervals\n",
    "def partitionDisjoint(A):\n",
    "    \"\"\"\n",
    "    :type A: List[int]\n",
    "    :rtype: int\n",
    "    \"\"\"\n",
    "    curmin,curmax = [float('inf')],[A[0]]\n",
    "    for i in range(1,len(A)):\n",
    "        curmax.append(max(A[i],curmax[-1]))\n",
    "        curmin.append(min(A[-i],curmin[-1]))\n",
    "    curmin = curmin[::-1]\n",
    "    for i in range(len(A)):\n",
    "        if curmax[i]<=curmin[i]:\n",
    "            return i+1\n",
    "        \n",
    "def partitionDisjoint(A):\n",
    "    disjoint = 0\n",
    "    v = A[disjoint]\n",
    "    max_so_far = v\n",
    "    for i in range(len(A)):\n",
    "        max_so_far = max(max_so_far, A[i])\n",
    "        if A[i] < v: #如果有值小于之前的max，更新分割点\n",
    "            disjoint = i\n",
    "            v = max_so_far\n",
    "    return disjoint + 1\n",
    "\n",
    "# 670. Maximum Swap，交换num中的两个数得到最大的值，如没有，返回原始值\n",
    "def maximumSwap(num):\n",
    "    \"\"\"\n",
    "    :type num: int\n",
    "    :rtype: int\n",
    "    \"\"\"\n",
    "    num = str(num)\n",
    "    cur = [(-float('inf'),len(num))]#largest val after this val\n",
    "    for i in range(len(num)-1,0,-1):\n",
    "        if int(num[i])>cur[-1][0]:\n",
    "            cur.append((int(num[i]),i))\n",
    "        else:\n",
    "            cur.append(cur[-1])\n",
    "    cur = cur[::-1]\n",
    "    for i in range(len(num)):\n",
    "        if int(num[i])<cur[i][0]:\n",
    "            return int(num[:i]+str(cur[i][0])+num[i+1:cur[i][1]]+num[i]+num[cur[i][1]+1:])\n",
    "    return int(num)"
   ]
  },
  {
   "cell_type": "code",
   "execution_count": 27,
   "metadata": {},
   "outputs": [
    {
     "data": {
      "text/plain": [
       "0"
      ]
     },
     "execution_count": 27,
     "metadata": {},
     "output_type": "execute_result"
    }
   ],
   "source": [
    "# 845. Longest Mountain in Array,求最长的山峰\n",
    "def longestMountain(A):\n",
    "    \"\"\"\n",
    "    :type A: List[int]\n",
    "    :rtype: int\n",
    "    \"\"\"\n",
    "    down = False\n",
    "    cur = 1\n",
    "    maximum = 1\n",
    "    for i in range(1,len(A)):\n",
    "        if A[i]>A[i-1]:#increase\n",
    "            if not down:#如果处于上升期，那么直接往前走\n",
    "                cur+=1\n",
    "            else:#如果处于下降期，那么求最大值，cur重置为2\n",
    "                maximum = max(maximum,cur)\n",
    "                down = False\n",
    "                cur = 2\n",
    "        elif A[i]==A[i-1]:#如果相等，那么如果处于下降期要求值，否则直接重置\n",
    "            if down:\n",
    "                maximum = max(maximum,cur)\n",
    "            down = False\n",
    "            cur=1\n",
    "        else:# 如果decrease，需要判断是否是下降期，如果是下降期，则往前走\n",
    "            if not down and (i>=2 and A[i-1]>A[i-2]):#过去的那个是顶点\n",
    "                down = True\n",
    "            if down:\n",
    "                cur+=1\n",
    "    if down:#最终结束的时候判断\n",
    "        maximum = max(cur,maximum)\n",
    "    return maximum if maximum!=1 else 0\n",
    "\n",
    "def longestMountain(A):\n",
    "    res = up = down = 0\n",
    "    for i in range(1, len(A)):\n",
    "        if down and A[i - 1] < A[i] or A[i - 1] == A[i]:#如果不再下降，重置，(只有在经历过下降才行)\n",
    "            up = down = 0\n",
    "        up += A[i - 1] < A[i]\n",
    "        down += A[i - 1] > A[i]\n",
    "        if up and down: #如果有过上升和下降，那么为山峰\n",
    "            res = max(res, up + down + 1)\n",
    "    return res\n",
    "longestMountain([2,1,4,7,3,2,5])"
   ]
  },
  {
   "cell_type": "code",
   "execution_count": 1,
   "metadata": {},
   "outputs": [
    {
     "data": {
      "text/plain": [
       "False"
      ]
     },
     "execution_count": 1,
     "metadata": {},
     "output_type": "execute_result"
    }
   ],
   "source": [
    "# 678. Valid Parenthesis String，判断含(*)的字符串合理\n",
    "\n",
    "def checkValidString(s):\n",
    "    \"\"\"\n",
    "    :type s: str\n",
    "    :rtype: bool\n",
    "    \"\"\"\n",
    "    left = []\n",
    "    star = []\n",
    "    for i in range(len(s)):\n",
    "        if s[i] == '(':\n",
    "            left.append(i)\n",
    "        elif s[i]=='*':\n",
    "            star.append(i)\n",
    "        else:\n",
    "            if len(left)>0:\n",
    "                left.pop()\n",
    "            elif len(star)>0:\n",
    "                star.pop()\n",
    "            else:\n",
    "                return False\n",
    "    while len(left)>0:\n",
    "        if len(star)==0 or left[-1]>star[-1]:\n",
    "            return False\n",
    "        left.pop()\n",
    "        star.pop()\n",
    "    return True\n",
    "\n",
    "def checkValidString(s):\n",
    "    cmin = cmax = 0#最少还需要，最多需要多少个)\n",
    "    for i in s:\n",
    "        if i == '(':\n",
    "            cmax += 1\n",
    "            cmin += 1\n",
    "        if i == ')':\n",
    "            cmax -= 1\n",
    "            cmin = max(cmin - 1, 0)\n",
    "        if i == '*':\n",
    "            cmax += 1\n",
    "            cmin = max(cmin - 1, 0)\n",
    "        if cmax < 0:\n",
    "            return False\n",
    "    return cmin == 0\n",
    "\n",
    "checkValidString(\"(())((())()()(*)(*()(())())())()()((()())((()))(*\")"
   ]
  },
  {
   "cell_type": "code",
   "execution_count": 1,
   "metadata": {},
   "outputs": [
    {
     "data": {
      "text/plain": [
       "True"
      ]
     },
     "execution_count": 1,
     "metadata": {},
     "output_type": "execute_result"
    }
   ],
   "source": [
    "# 548. Split Array with Equal Sum，将array分割成相等的4份\n",
    "# 如果是暴力，需要三个循环。这种情况先将中间拿出来，然后两边分别处理，可以降低一层复杂度\n",
    "def splitArray(nums):\n",
    "    \"\"\"\n",
    "    :type nums: List[int]\n",
    "    :rtype: bool\n",
    "    \"\"\"\n",
    "    if len(nums)<7:\n",
    "        return False\n",
    "    s = sum(nums)\n",
    "    for j in range(3,len(nums)-3):\n",
    "        s1 = sum(nums[:j])\n",
    "        s2 = s - s1 - nums[j]\n",
    "        curi,curk = nums[0], nums[j+1]\n",
    "        c1,c2 = set(),set()\n",
    "        for i in range(1,j-1):\n",
    "            t = 2*curi+nums[i]\n",
    "            if t==s1:#这里不能break，因为每一个j可能对应多个i\n",
    "                c1.add(curi)\n",
    "            curi+=nums[i]\n",
    "        for k in range(j+2,len(nums)-1):\n",
    "            t = 2*curk+nums[k]\n",
    "            if t==s2:\n",
    "                c2.add(curk)\n",
    "            curk+=nums[k]\n",
    "        if c1 and c2 and c1&c2:\n",
    "            return True\n",
    "    return False\n",
    "\n",
    "splitArray([1,2,-1,1,2,5,2,5,2])"
   ]
  },
  {
   "cell_type": "code",
   "execution_count": 1,
   "metadata": {},
   "outputs": [
    {
     "data": {
      "text/plain": [
       "9"
      ]
     },
     "execution_count": 1,
     "metadata": {},
     "output_type": "execute_result"
    }
   ],
   "source": [
    "# 750. Number Of Corner Rectangles，2D矩阵中corner rectangle的数量\n",
    "def countCornerRectangles(grid):\n",
    "    \"\"\"\n",
    "    :type grid: List[List[int]]\n",
    "    :rtype: int\n",
    "    \"\"\"\n",
    "    # dp[i][j],以[i,j]结尾的个数\n",
    "    if not grid or not grid[0]:\n",
    "        return 0\n",
    "    m,n=len(grid),len(grid[0])\n",
    "    res = 0\n",
    "    dic = {i:set() for i in range(m)}#先将每个row里满足的col找出来\n",
    "    for i in range(m):\n",
    "        for j in range(n):\n",
    "            if grid[i][j]:\n",
    "                dic[i].add(j)\n",
    "    for i in range(1,m):\n",
    "        for x in range(i):\n",
    "            lens = len(dic[i]&dic[x])\n",
    "            res+=lens*(lens-1)//2\n",
    "    return res\n",
    "\n",
    "countCornerRectangles([[1, 1, 1],\n",
    " [1, 1, 1],\n",
    " [1, 1, 1]])"
   ]
  },
  {
   "cell_type": "code",
   "execution_count": 2,
   "metadata": {},
   "outputs": [
    {
     "data": {
      "text/plain": [
       "5"
      ]
     },
     "execution_count": 2,
     "metadata": {},
     "output_type": "execute_result"
    }
   ],
   "source": [
    "# 781. Rabbits in Forest,每个值代表和自己颜色一样的个数，可能有的兔子没有汇报，求最小可能兔子数\n",
    "import collections\n",
    "def numRabbits(answers):\n",
    "    \"\"\"\n",
    "    :type answers: List[int]\n",
    "    :rtype: int\n",
    "    \"\"\"\n",
    "    #如果两个兔子颜色一样，那么它们会给出一样的回答，如果回答不一样，那么颜色一定不一样\n",
    "    counts = collections.Counter(answers)\n",
    "    res = 0\n",
    "    for i in counts:\n",
    "        if counts[i]%(i+1)==0:\n",
    "            res+= counts[i]\n",
    "        else:\n",
    "            res+= (counts[i]//(i+1)+1)*(i+1)\n",
    "    return res\n",
    "\n",
    "numRabbits(answers = [1, 1, 2])"
   ]
  },
  {
   "cell_type": "code",
   "execution_count": null,
   "metadata": {},
   "outputs": [],
   "source": [
    "# 走步数的问题\n",
    "\n",
    "# 991. Broken Calculator\n",
    "# 从X到Y，可以选择-1，或者乘以2；反过来，相当于Y可以选择除以2，或者+1，\n",
    "# 当Y <= X时，无法进行Y = Y / 2，只需要进行Y = Y + 1；\n",
    "# 当Y > X时，需要持续的减少Y，直到Y <= X。\n",
    "# 因为(Y + 1 + 1) / 2 = (Y / 2) + 1，而等号左边需要3步而右边仅需要2步，所以当Y为偶数时仅需要考虑Y = Y / 2\n",
    "def brokenCalc(X, Y):\n",
    "    \"\"\"\n",
    "    :type X: int\n",
    "    :type Y: int\n",
    "    :rtype: int\n",
    "    \"\"\"\n",
    "    step = 0\n",
    "    while Y>X:\n",
    "        if Y%2==1:\n",
    "            Y+=1\n",
    "        else:\n",
    "            Y = Y//2\n",
    "        step+=1\n",
    "    return X-Y+step"
   ]
  },
  {
   "cell_type": "code",
   "execution_count": 53,
   "metadata": {},
   "outputs": [
    {
     "data": {
      "text/plain": [
       "11"
      ]
     },
     "execution_count": 53,
     "metadata": {},
     "output_type": "execute_result"
    }
   ],
   "source": [
    "# 650. 2 Keys Keyboard\n",
    "def minSteps(n):\n",
    "    \"\"\"\n",
    "    :type n: int\n",
    "    :rtype: int\n",
    "    \"\"\"\n",
    "    if n==1:\n",
    "        return 0\n",
    "    dp = [[float('inf') for _ in range(n+1)] for _ in range(n+1)]\n",
    "    dp[1][1] = 1\n",
    "    for i in range(2,n+1):\n",
    "        for j in range(1,i//2+1):\n",
    "            dp[i][j] = dp[i-j][j]+1\n",
    "        dp[i][i] = min(dp[i])+1\n",
    "        \n",
    "    return min(dp[n])\n",
    "\n",
    "\n",
    "def minSteps(n):\n",
    "    \"\"\"\n",
    "    :type n: int\n",
    "    :rtype: int\n",
    "    \"\"\"\n",
    "    if n==1:\n",
    "        return 0\n",
    "    res = n\n",
    "    for i in range(n-1,1,-1):\n",
    "        if n%i==0:\n",
    "            res = min(res,minSteps(n//i)+i)#一旦能整除，处理到底，能够分成i份，每份为n//i，需要次数为1次copy+i-1次paste\n",
    "    return res\n",
    "\n",
    "def minSteps(n):\n",
    "    \"\"\"\n",
    "    :type n: int\n",
    "    :rtype: int\n",
    "    \"\"\"\n",
    "    res = 0\n",
    "    for i in range(2,n+1):\n",
    "        while n%i==0:# make i copies of n//i,\n",
    "            res+=i\n",
    "            n = n//i\n",
    "    return res\n",
    "    \n",
    "minSteps(54)\n",
    "\n",
    "# 651. 4 Keys Keyboard,可以进行A,C,V操作\n",
    "def maxA(N):\n",
    "    \"\"\"\n",
    "    :type N: int\n",
    "    :rtype: int\n",
    "    \"\"\"\n",
    "    dp = [i for i in range(N+1)]\n",
    "    for i in range(2,N+1):#对于总共i步，可以选择在第j步切割，剩下i-j步，得到i-j-2+1份\n",
    "        for j in range(2,i-1):\n",
    "            dp[i] = max(dp[i],dp[j]*(i-j-1))\n",
    "    return dp[-1]\n",
    "\n",
    "maxA(5)"
   ]
  },
  {
   "cell_type": "code",
   "execution_count": 1,
   "metadata": {},
   "outputs": [
    {
     "data": {
      "text/plain": [
       "[[0, 1], [1, 0], [3, 3]]"
      ]
     },
     "execution_count": 1,
     "metadata": {},
     "output_type": "execute_result"
    }
   ],
   "source": [
    "# 1222. Queens That Can Attack the King\n",
    "# 注意代码的整洁性\n",
    "\n",
    "def queensAttacktheKing(queens, king):\n",
    "    res = []\n",
    "    queens = {(i, j) for i, j in queens}\n",
    "    for i in [-1, 0, 1]:\n",
    "        for j in [-1, 0, 1]:\n",
    "            for k in range(1, 8):\n",
    "                x, y = king[0] + i * k, king[1] + j * k\n",
    "                if (x, y) in queens:\n",
    "                    res.append([x, y])\n",
    "                    break\n",
    "    return res\n",
    "\n",
    "queensAttacktheKing(queens = [[0,1],[1,0],[4,0],[0,4],[3,3],[2,4]], king = [0,0])"
   ]
  },
  {
   "cell_type": "code",
   "execution_count": 2,
   "metadata": {},
   "outputs": [
    {
     "data": {
      "text/plain": [
       "[1, 0, 0, 0, 0]"
      ]
     },
     "execution_count": 2,
     "metadata": {},
     "output_type": "execute_result"
    }
   ],
   "source": [
    "# -2进制，[16,-8,4,-2,1]\n",
    "# 1017. Convert to Base -2，将正数修改为-2进制\n",
    "def baseNeg2(N):\n",
    "    \"\"\"\n",
    "    :type N: int\n",
    "    :rtype: str\n",
    "    \"\"\"\n",
    "    if N==0:\n",
    "        return '0'\n",
    "    res = \"\"\n",
    "    while N!=0:\n",
    "        if N%2==1:#如果是奇数，取1，-1除以2取相反数\n",
    "            res+='1'\n",
    "            N = -(N-1)//2\n",
    "        else:#如果是偶数，直接除以2取相反数\n",
    "            res+='0'\n",
    "            N = -N//2\n",
    "#     while N!=0:\n",
    "#         res+=str(N%2)\n",
    "#         N = -(N//2)#这里的括号不能丢，-优先级高于//\n",
    "#     return res[::-1]\n",
    "    return res[::-1]\n",
    "\n",
    "# 1073. Adding Two Negabinary Numbers，两个-2为底的数相加\n",
    "# 运算法则 [16,-8,4,-2,1]\n",
    "# 0+0=0，0+1=1，1+1=110，1+1+1+1=100，12=00设置两个进位\n",
    "\n",
    "def addNegabinary(arr1, arr2):\n",
    "    \"\"\"\n",
    "    :type arr1: List[int]\n",
    "    :type arr2: List[int]\n",
    "    :rtype: List[int]\n",
    "    \"\"\"\n",
    "    arr1 = arr1[::-1]\n",
    "    arr2 = arr2[::-1]\n",
    "    l1,l2 = len(arr1),len(arr2)\n",
    "    if l1<l2:#先将两个数补齐\n",
    "        arr1 = arr1+[0 for _ in range(l2-l1)]\n",
    "    elif l1>l2:\n",
    "        arr2 = arr2+[0 for _ in range(l1-l2)]\n",
    "    c1,c2 = 0,0# the first carry and the second carry\n",
    "    arr = []\n",
    "    for i in range(len(arr1)):\n",
    "        cur = arr1[i]+arr2[i]+c1\n",
    "        if cur in [0,1]:\n",
    "            arr.append(cur)\n",
    "            c1,c2 = c2,0\n",
    "        elif cur in [2,3]:\n",
    "            arr.append(cur-2)\n",
    "            c1,c2 = c2+1,1\n",
    "        elif cur==4:\n",
    "            arr.append(0)\n",
    "            c1,c2 = c2,1\n",
    "    if [c1,c2] == [2,1]:#如果最前面的是12，则可以消除\n",
    "        pass\n",
    "    else:\n",
    "        arr+=[c1,c2]\n",
    "    while arr!=[0] and arr[-1]==0:#防止出现leading zero或者空数组\n",
    "        arr.pop()\n",
    "    return arr[::-1]\n",
    "\n",
    "addNegabinary(arr1 = [1,1,1,1,1], arr2 = [1,0,1])"
   ]
  },
  {
   "cell_type": "code",
   "execution_count": 5,
   "metadata": {},
   "outputs": [
    {
     "data": {
      "text/plain": [
       "68"
      ]
     },
     "execution_count": 5,
     "metadata": {},
     "output_type": "execute_result"
    }
   ],
   "source": [
    "# 869. Reordered Power of 2,判断数N重排以后能否是2的power，2的power没有多少个，30个以内就达到了机器上限，比较每一个即可\n",
    "import collections\n",
    "def reorderedPowerOf2(N):\n",
    "    c = collections.Counter(str(N))\n",
    "    return any(c == collections.Counter(str(1 << i)) for i in range(30))\n",
    "reorderedPowerOf2(46)\n",
    "\n",
    "# 625. Minimum Factorization\n",
    "# 将其分解，10以内的乘数尽可能除，从大到小,不需要分解成质因数然后再合并\n",
    "def smallestFactorization(a):\n",
    "    \"\"\"\n",
    "    :type a: int\n",
    "    :rtype: int\n",
    "    \"\"\"\n",
    "\n",
    "    if a<10:\n",
    "        return a\n",
    "    res = []\n",
    "    for i in range(9,1,-1):\n",
    "        while a%i==0:\n",
    "            res.append(i)\n",
    "            a = a//i\n",
    "    if a!=1:\n",
    "        return 0\n",
    "    t = int(\"\".join(list(map(str,res[::-1]))))\n",
    "    return t if t<2**31 else 0\n",
    "smallestFactorization(48)"
   ]
  },
  {
   "cell_type": "code",
   "execution_count": 1,
   "metadata": {},
   "outputs": [
    {
     "data": {
      "text/plain": [
       "True"
      ]
     },
     "execution_count": 1,
     "metadata": {},
     "output_type": "execute_result"
    }
   ],
   "source": [
    "# 775. Global and Local Inversions,判断全局翻转数量是否和局域翻转数量相等\n",
    "def isIdealPermutation(A):\n",
    "    \"\"\"\n",
    "    :type A: List[int]\n",
    "    :rtype: bool\n",
    "    \"\"\"\n",
    "    # 不存在不相邻的翻转\n",
    "    n = len(A)\n",
    "    if n<=2:\n",
    "        return True\n",
    "    curmax = A[0]\n",
    "    for i in range(2,n):\n",
    "        if curmax>A[i]:\n",
    "            return False\n",
    "        curmax = max(curmax,A[i-1])\n",
    "    return True\n",
    "isIdealPermutation([0,2,1])"
   ]
  },
  {
   "cell_type": "code",
   "execution_count": 1,
   "metadata": {},
   "outputs": [
    {
     "data": {
      "text/plain": [
       "12"
      ]
     },
     "execution_count": 1,
     "metadata": {},
     "output_type": "execute_result"
    }
   ],
   "source": [
    "# 573. Squirrel Simulation,松鼠收集松果放到树需要的最少步数\n",
    "# 只有第一次需要考虑，其他都是定值，需要找到松鼠到松果-松果到树的距离的最小值\n",
    "def minDistance(height, width, tree, squirrel, nuts):\n",
    "    \"\"\"\n",
    "    :type height: int\n",
    "    :type width: int\n",
    "    :type tree: List[int]\n",
    "    :type squirrel: List[int]\n",
    "    :type nuts: List[List[int]]\n",
    "    :rtype: int\n",
    "    \"\"\"\n",
    "    dis = 0\n",
    "    x0,y0 = tree\n",
    "    x,y = squirrel\n",
    "    minimum = float('inf')\n",
    "    for i,j in nuts:\n",
    "        dis+=abs(x0-i)+abs(y0-j)\n",
    "        minimum = min(minimum,abs(x-i)+abs(y-j)-abs(x0-i)-abs(y0-j))\n",
    "    return 2*dis+minimum\n",
    "minDistance(5,7,[2,2],squirrel=[4,4],nuts=[[3,0], [2,5]])"
   ]
  },
  {
   "cell_type": "code",
   "execution_count": 1,
   "metadata": {},
   "outputs": [
    {
     "data": {
      "text/plain": [
       "2"
      ]
     },
     "execution_count": 1,
     "metadata": {},
     "output_type": "execute_result"
    }
   ],
   "source": [
    "# 1144. Decrease Elements To Make Array Zigzag，减少值使得满足zigzag，非常容易出错，花费大量时间\n",
    "def movesToMakeZigzag(nums):\n",
    "    \"\"\"\n",
    "    :type nums: List[int]\n",
    "    :rtype: int\n",
    "    \"\"\"\n",
    "    m1,m2 = 0,0\n",
    "    l1,l2 = nums[0],nums[0]\n",
    "    for i in range(len(nums)-1):#m1 for +-+-\n",
    "        if i%2==0:#l1应该要上升,只能降低前面的\n",
    "            if l1>=nums[i+1]:\n",
    "                m1 += l1-nums[i+1]+1\n",
    "            l1 = nums[i+1]\n",
    "\n",
    "            if l2<=nums[i+1]:#l2应该要下降，降低后面的\n",
    "                m2 += nums[i+1]-l2+1\n",
    "                l2 = l2-1\n",
    "            else:\n",
    "                l2 = nums[i+1]\n",
    "        else:\n",
    "            if l1<=nums[i+1]:#应该要下降，降低后面的\n",
    "                m1 += nums[i+1]-l1+1\n",
    "                l1 = l1-1\n",
    "            else:\n",
    "                l1 = nums[i+1]\n",
    "\n",
    "            if l2>=nums[i+1]:#应该要上升，降低前面的\n",
    "                m2 += l2-nums[i+1]+1\n",
    "            l2 = nums[i+1]\n",
    "    return min(m1,m2)\n",
    "\n",
    "def movesToMakeZigzag(A):\n",
    "    A = [float('inf')] + A + [float('inf')]\n",
    "    res = [0, 0]\n",
    "    for i in range(1, len(A) - 1):\n",
    "        res[i % 2] += max(0, A[i] - min(A[i - 1], A[i + 1]) + 1)\n",
    "    return min(res)\n",
    "movesToMakeZigzag([1,2,3])"
   ]
  },
  {
   "cell_type": "code",
   "execution_count": 1,
   "metadata": {},
   "outputs": [
    {
     "data": {
      "text/plain": [
       "'ACB'"
      ]
     },
     "execution_count": 1,
     "metadata": {},
     "output_type": "execute_result"
    }
   ],
   "source": [
    "# 1366. Rank Teams by Votes，根据投票排名次，如果同样票数看下一位，别的方法不好处理\n",
    "def rankTeams(votes):\n",
    "    \"\"\"\n",
    "    :type votes: List[str]\n",
    "    :rtype: str\n",
    "    \"\"\"\n",
    "    count = {v: [0] * len(votes[0]) + [v] for v in votes[0]}\n",
    "    for vote in votes:\n",
    "        for i, v in enumerate(vote):\n",
    "            count[v][i] -= 1\n",
    "    return ''.join(sorted(votes[0], key=count.get))\n",
    "rankTeams(votes = [\"ABC\",\"ACB\",\"ABC\",\"ACB\",\"ACB\"])"
   ]
  },
  {
   "cell_type": "code",
   "execution_count": 1,
   "metadata": {},
   "outputs": [
    {
     "data": {
      "text/plain": [
       "'tcode'"
      ]
     },
     "execution_count": 1,
     "metadata": {},
     "output_type": "execute_result"
    }
   ],
   "source": [
    "# 1163. Last Substring in Lexicographical Order，字符串里字典序最大的子串，一定是suffix\n",
    "def lastSubstring(s):\n",
    "    i, j, k = 0, 1, 0#两个指针，一个从i，一个从j开始\n",
    "    n = len(s)\n",
    "    while j + k < n:\n",
    "        if s[i+k] == s[j+k]:#如果两个字符串相同，继续往前走\n",
    "            k += 1\n",
    "            continue\n",
    "        elif s[i+k] > s[j+k]:#从j到j+k都不会是答案，对于其中任何一个，都可以从i到i+k的起头中找到更大的\n",
    "            j = j + k + 1#更新j，重新比较\n",
    "        else:\n",
    "            i = i + k + 1#如果j到j+k更大，那么更新i\n",
    "        if i==j:#如果两个相等了，错位\n",
    "            j = i + 1\n",
    "        k = 0\n",
    "    return s[i:]\n",
    "lastSubstring(\"leetcode\")"
   ]
  },
  {
   "cell_type": "code",
   "execution_count": 1,
   "metadata": {},
   "outputs": [
    {
     "data": {
      "text/plain": [
       "[1, 6, 2, 5, 3, 4, 7, 8, 9, 10]"
      ]
     },
     "execution_count": 1,
     "metadata": {},
     "output_type": "execute_result"
    }
   ],
   "source": [
    "# 667. Beautiful Arrangement II，构建1-n的排列，使得相邻数的差的绝对值刚好构成k个不同的数\n",
    "# 差值从1-k，从1开始，1,k+1,2,k-1...逐渐把k个差值走完，然后把剩下的添加上\n",
    "def constructArray(n, k):\n",
    "    \"\"\"\n",
    "    :type n: int\n",
    "    :type k: int\n",
    "    :rtype: List[int]\n",
    "    \"\"\"\n",
    "    res = [1]\n",
    "    for i in range(k):\n",
    "        res.append(res[-1]+(-1)**i*(k-i))\n",
    "    return res+list(range(k+2,n+1))\n",
    "constructArray(10,5)"
   ]
  },
  {
   "cell_type": "code",
   "execution_count": 1,
   "metadata": {},
   "outputs": [
    {
     "data": {
      "text/plain": [
       "[[34, 21, 13], [1, 1, 8], [2, 3, 5]]"
      ]
     },
     "execution_count": 1,
     "metadata": {},
     "output_type": "execute_result"
    }
   ],
   "source": [
    "# 滴滴笔试，斐波那契蛇\n",
    "def FibSnake(n):\n",
    "    if n==1:\n",
    "        return [[1]]\n",
    "    arr = [1,1]\n",
    "    for i in range(n**2-2):\n",
    "        arr.append(arr[-1]+arr[-2])\n",
    "    res = [[None for _ in range(n)] for _ in range(n)]\n",
    "    i,j = 0,0\n",
    "    for d in range(n-1,0,-2):\n",
    "        for c in range(j,j+d):\n",
    "            res[i][c] = arr.pop()\n",
    "        j = j+d\n",
    "        for c in range(i,i+d):\n",
    "            res[c][j] = arr.pop()\n",
    "        i = i+d\n",
    "        for c in range(j,j-d,-1):\n",
    "            res[i][c] = arr.pop()\n",
    "        j = j-d\n",
    "        for c in range(i,i-d,-1):\n",
    "            res[c][j] = arr.pop()\n",
    "        i = i-d+1\n",
    "        j = j+1\n",
    "    if arr:\n",
    "        start = [n//2,n//2]\n",
    "        res[start[0]][start[1]] = arr[0]    \n",
    "    return res\n",
    "FibSnake(3)"
   ]
  },
  {
   "cell_type": "code",
   "execution_count": null,
   "metadata": {},
   "outputs": [],
   "source": []
  }
 ],
 "metadata": {
  "kernelspec": {
   "display_name": "Python 3",
   "language": "python",
   "name": "python3"
  },
  "language_info": {
   "codemirror_mode": {
    "name": "ipython",
    "version": 3
   },
   "file_extension": ".py",
   "mimetype": "text/x-python",
   "name": "python",
   "nbconvert_exporter": "python",
   "pygments_lexer": "ipython3",
   "version": "3.7.3"
  }
 },
 "nbformat": 4,
 "nbformat_minor": 2
}
