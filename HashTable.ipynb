{
 "cells": [
  {
   "cell_type": "markdown",
   "metadata": {},
   "source": [
    "##  prefix sum\n",
    "325. Maximum Size Subarray Sum Equals k,子数列和为K的最大长度\n",
    "523. Continuous Subarray Sum,是否存在长度不低于2的连续子数列和为K的倍数\n",
    "525. Contiguous Array，给定一个二进制矩阵，求相同数量01的最大子序列长度\n",
    "560. Subarray Sum Equals K,连续子列表和为K的种类\n",
    "974. Subarray Sums Divisible by K,连续子列表和为K的倍数种类"
   ]
  },
  {
   "cell_type": "code",
   "execution_count": 17,
   "metadata": {
    "collapsed": true
   },
   "outputs": [],
   "source": [
    "# 299. Bulls and Cows\n",
    "# 两个Counter之间可以取&\n",
    "from collections import Counter\n",
    "def getHint(secret, guess):\n",
    "    \"\"\"\n",
    "    :type secret: str\n",
    "    :type guess: str\n",
    "    :rtype: str\n",
    "    \"\"\"\n",
    "    A = 0\n",
    "    for i in range(len(secret)):\n",
    "        if secret[i]==guess[i]:\n",
    "            A = A+1\n",
    "    a = Counter(secret)\n",
    "    b = Counter(guess)\n",
    "    B = sum((a&b).values())-A\n",
    "    return str(A)+'A'+str(B)+'B'\n",
    "\n",
    "getHint(secret = \"1807\", guess = \"7810\")"
   ]
  },
  {
   "cell_type": "code",
   "execution_count": 37,
   "metadata": {},
   "outputs": [
    {
     "data": {
      "text/plain": [
       "False"
      ]
     },
     "execution_count": 37,
     "metadata": {},
     "output_type": "execute_result"
    }
   ],
   "source": [
    "# 290. Word Pattern\n",
    "# zip建立两个列表之间的tuple\n",
    "def wordPattern(pattern, str):\n",
    "    \"\"\"\n",
    "    :type pattern: str\n",
    "    :type str: str\n",
    "    :rtype: bool\n",
    "    \"\"\"\n",
    "    x = str.split(' ')\n",
    "    lsp = len(set(pattern))\n",
    "    lsx = len(set(x))\n",
    "    return len(x)==len(pattern) and lsx==lsp and lsp== len(set(zip(pattern, x)))\n",
    "wordPattern(\"abba\",\"dog dog dog dog\")"
   ]
  },
  {
   "cell_type": "code",
   "execution_count": 58,
   "metadata": {
    "collapsed": true
   },
   "outputs": [],
   "source": [
    "# 447. Number of Boomerangs\n",
    "# 避免存储，将字典值添加\n",
    "def numberOfBoomerangs(points):\n",
    "    \"\"\"\n",
    "    :type points: List[List[int]]\n",
    "    :rtype: int\n",
    "    \"\"\"\n",
    "#     length = len(points)\n",
    "#     distance = [[0 for i in range(length)] for j in range(length)]\n",
    "#     res = 0\n",
    "#     for i in range(0,len(points)):\n",
    "#         for j in range(i+1,length):\n",
    "#             distance[i][j] = (points[i][0]-points[j][0])**2+(points[i][1]-points[j][1])**2\n",
    "#         for j in range(0,i):\n",
    "#             distance[i][j]=distance[j][i]\n",
    "#     for i in range(length):\n",
    "#         counts = Counter(distance[i])\n",
    "#         res = res+sum([j*(j-1) for j in counts.values()])\n",
    "    res = 0\n",
    "    for p in points:\n",
    "        cmap = {}\n",
    "        for q in points:\n",
    "            f = p[0]-q[0]\n",
    "            s = p[1]-q[1]\n",
    "            cmap[f*f + s*s] = 1 + cmap.get(f*f + s*s, 0)\n",
    "        for k in cmap:\n",
    "            res += cmap[k] * (cmap[k] -1)\n",
    "    return res"
   ]
  },
  {
   "cell_type": "code",
   "execution_count": 60,
   "metadata": {
    "collapsed": true
   },
   "outputs": [],
   "source": [
    "def longestWord(words):\n",
    "    words.sort()\n",
    "    words_set, longest_word = set(['']), ''\n",
    "    for word in words:\n",
    "        if word[:-1] in words_set:\n",
    "            words_set.add(word)\n",
    "            if len(word) > len(longest_word):\n",
    "                longest_word = word\n",
    "    return longest_word"
   ]
  },
  {
   "cell_type": "code",
   "execution_count": 62,
   "metadata": {},
   "outputs": [
    {
     "data": {
      "text/plain": [
       "''"
      ]
     },
     "execution_count": 62,
     "metadata": {},
     "output_type": "execute_result"
    }
   ],
   "source": [
    "# 451. Sort Characters By Frequency\n",
    "# Counter().most_common()\n",
    "def frequencySort(self, s):\n",
    "    \"\"\"\n",
    "    :type s: str\n",
    "    :rtype: str\n",
    "    \"\"\"\n",
    "    return ''.join([i[0]*i[1] for i in Counter(s).most_common()])"
   ]
  },
  {
   "cell_type": "code",
   "execution_count": 64,
   "metadata": {
    "collapsed": true
   },
   "outputs": [],
   "source": [
    "# 448. Find All Numbers Disappeared in an Array\n",
    "def findDisappearedNumbers(nums):\n",
    "    \"\"\"\n",
    "    :type nums: List[int]\n",
    "    :rtype: List[int]\n",
    "    \"\"\"\n",
    "    n = len(nums)\n",
    "    for i in range(n):\n",
    "        nums[nums[i]%n-1] += n\n",
    "    return [i+1 for i in range(n) if nums[i]<=n]\n",
    "\n",
    "def findDisappearedNumbers(nums):\n",
    "    for i in range(len(nums)):\n",
    "        index = abs(nums[i]) - 1\n",
    "        nums[index] = - abs(nums[index])\n",
    "\n",
    "    return [i + 1 for i in range(len(nums)) if nums[i] > 0]"
   ]
  },
  {
   "cell_type": "code",
   "execution_count": 65,
   "metadata": {},
   "outputs": [
    {
     "data": {
      "text/plain": [
       "[5, 6, 7]"
      ]
     },
     "execution_count": 65,
     "metadata": {},
     "output_type": "execute_result"
    }
   ],
   "source": [
    "findDisappearedNumbers([4,3,2,2,8,2,3,1])"
   ]
  },
  {
   "cell_type": "code",
   "execution_count": 1,
   "metadata": {},
   "outputs": [],
   "source": [
    "# 535. Encode and Decode TinyURL,给网站编码\n",
    "class Codec:\n",
    "    def __init__(self):\n",
    "        self.index = 0\n",
    "        self.hashtable = dict()#{短码:原网站}\n",
    "        self.visited = dict()#存入编码过的网站，以防止重复编码\n",
    "\n",
    "    def encode(self, longUrl):\n",
    "        \"\"\"Encodes a URL to a shortened URL.\n",
    "        \n",
    "        :type longUrl: str\n",
    "        :rtype: str\n",
    "        \"\"\"\n",
    "        if longUrl not in self.visited:\n",
    "            self.hashtable[str(self.index)] = longUrl\n",
    "            self.visited[longUrl] = str(self.index)\n",
    "            self.index+=1\n",
    "            return \"http://tinyurl.com/\"+str(self.index-1)\n",
    "        else:\n",
    "            return self.visited[longUrl]\n",
    "\n",
    "    def decode(self, shortUrl):\n",
    "        \"\"\"Decodes a shortened URL to its original URL.\n",
    "        \n",
    "        :type shortUrl: str\n",
    "        :rtype: str\n",
    "        \"\"\"\n",
    "        ind = shortUrl.split('.com/')[1]\n",
    "        return self.hashtable[ind]"
   ]
  },
  {
   "cell_type": "code",
   "execution_count": 69,
   "metadata": {},
   "outputs": [
    {
     "data": {
      "text/plain": [
       "True"
      ]
     },
     "execution_count": 69,
     "metadata": {},
     "output_type": "execute_result"
    }
   ],
   "source": [
    "# 380. Insert Delete GetRandom O(1)\n",
    "# 核心问题是如何删除，用pos来存储出现的位置，如果要删除，则将最后一个元素赋予其所在的位置，然后pop出\n",
    "from numpy import random\n",
    "class RandomizedSet(object):\n",
    "\n",
    "    def __init__(self):\n",
    "        \"\"\"\n",
    "        Initialize your data structure here.\n",
    "        \"\"\"\n",
    "        self.pos = {}\n",
    "        self.nums = []\n",
    "\n",
    "    def insert(self, val):\n",
    "        \"\"\"\n",
    "        Inserts a value to the set. Returns true if the set did not already contain the specified element.\n",
    "        :type val: int\n",
    "        :rtype: bool\n",
    "        \"\"\"\n",
    "        if val not in self.pos:\n",
    "            self.nums.append(val)\n",
    "            self.pos[val] = len(self.pos)\n",
    "            return True\n",
    "        else:\n",
    "            return False\n",
    "        \n",
    "\n",
    "    def remove(self, val):\n",
    "        \"\"\"\n",
    "        Removes a value from the set. Returns true if the set contained the specified element.\n",
    "        :type val: int\n",
    "        :rtype: bool\n",
    "        \"\"\"\n",
    "        if val not in self.pos:\n",
    "            return False\n",
    "        else:\n",
    "            idx = self.pos[val]\n",
    "            length = len(self.pos)\n",
    "            self.nums[idx],self.nums[length-1]=self.nums[length-1],self.nums[idx]\n",
    "            self.pos[self.nums[idx]]=idx\n",
    "            self.nums.pop()\n",
    "            self.pos.pop(val,None)\n",
    "            return True\n",
    "        \n",
    "    def getRandom(self):\n",
    "        \"\"\"\n",
    "        Get a random element from the set.\n",
    "        :rtype: int\n",
    "        \"\"\"\n",
    "        return self.nums[random.randint(len(self.nums))]\n",
    "obj = RandomizedSet()\n",
    "param_1 = obj.insert(2)\n",
    "param_2 = obj.remove(3)\n",
    "obj.insert(3)"
   ]
  },
  {
   "cell_type": "code",
   "execution_count": 72,
   "metadata": {},
   "outputs": [
    {
     "name": "stdout",
     "output_type": "stream",
     "text": [
      "True [1] defaultdict(<class 'set'>, {1: {0}})\n",
      "False [1, 1] defaultdict(<class 'set'>, {1: {0, 1}})\n",
      "True [1, 1, 2] defaultdict(<class 'set'>, {1: {0, 1}, 2: {2}})\n",
      "False [1, 1, 2, 2] defaultdict(<class 'set'>, {1: {0, 1}, 2: {2, 3}})\n",
      "False [1, 1, 2, 2, 2] defaultdict(<class 'set'>, {1: {0, 1}, 2: {2, 3, 4}})\n",
      "True [2, 1, 2, 2] defaultdict(<class 'set'>, {1: {1}, 2: {0, 2, 3}})\n",
      "True [2, 2, 2] defaultdict(<class 'set'>, {2: {0, 1, 2}})\n",
      "True [2, 2] defaultdict(<class 'set'>, {2: {0, 1}})\n",
      "True [2, 2, 1] defaultdict(<class 'set'>, {2: {0, 1}, 1: {2}})\n",
      "True [2, 1] defaultdict(<class 'set'>, {2: {0}, 1: {1}})\n",
      "472 0.472\n"
     ]
    }
   ],
   "source": [
    "# 381. Insert Delete GetRandom O(1) - Duplicates allowed\n",
    "# 用collections来存储每个元素的位置，不能用列表，否则调换之后会出现存储元素位置顺序不对\n",
    "# 要考虑到最后一个元素可能就是要删除的，必须先add（重复add不会增加元素）再discard，否则会出现位置没有删除掉\n",
    "from numpy import random\n",
    "import collections\n",
    "class RandomizedCollection(object):\n",
    "\n",
    "    def __init__(self):\n",
    "        \"\"\"\n",
    "        Initialize your data structure here.\n",
    "        \"\"\"\n",
    "        self.pos = collections.defaultdict(set)\n",
    "        self.nums = []\n",
    "        \n",
    "\n",
    "    def insert(self, val):\n",
    "        \"\"\"\n",
    "        Inserts a value to the collection. Returns true if the collection did not already contain the specified element.\n",
    "        :type val: int\n",
    "        :rtype: bool\n",
    "        \"\"\"\n",
    "        self.nums.append(val)\n",
    "        self.pos[val].add(len(self.nums)-1)\n",
    "        return len(self.pos[val])==1\n",
    "        \n",
    "\n",
    "    def remove(self, val):\n",
    "        \"\"\"\n",
    "        Removes a value from the collection. Returns true if the collection contained the specified element.\n",
    "        :type val: int\n",
    "        :rtype: bool\n",
    "        \"\"\"\n",
    "        if val in self.pos:\n",
    "            idx = self.pos[val].pop()\n",
    "            self.nums[idx] = self.nums[-1]\n",
    "            if self.pos[self.nums[idx]]:\n",
    "                self.pos[self.nums[idx]].add(idx)\n",
    "                self.pos[self.nums[idx]].discard(len(self.nums)-1)\n",
    "            self.nums.pop()\n",
    "            if not self.pos[val]:\n",
    "                self.pos.pop(val,0)\n",
    "            return True\n",
    "        return False\n",
    "        \n",
    "\n",
    "    def getRandom(self):\n",
    "        \"\"\"\n",
    "        Get a random element from the collection.\n",
    "        :rtype: int\n",
    "        \"\"\"\n",
    "        return self.nums[random.randint(len(self.nums))]\n",
    "    \n",
    "obj = RandomizedCollection()\n",
    "print(obj.insert(1),obj.nums,obj.pos)\n",
    "print(obj.insert(1),obj.nums,obj.pos)\n",
    "print(obj.insert(2),obj.nums,obj.pos)\n",
    "print(obj.insert(2),obj.nums,obj.pos)\n",
    "print(obj.insert(2),obj.nums,obj.pos)\n",
    "\n",
    "print(obj.remove(1),obj.nums,obj.pos)\n",
    "print(obj.remove(1),obj.nums,obj.pos)\n",
    "print(obj.remove(2),obj.nums,obj.pos)\n",
    "print(obj.insert(1),obj.nums,obj.pos)\n",
    "print(obj.remove(2),obj.nums,obj.pos)\n",
    "count =0\n",
    "for i in range(1000):\n",
    "    if obj.getRandom()==1:\n",
    "        count+=1\n",
    "print(count,count/1000.0)"
   ]
  },
  {
   "cell_type": "code",
   "execution_count": 1,
   "metadata": {},
   "outputs": [],
   "source": [
    "# 设计哈希表\n",
    "# 706. Design HashMap\n",
    "class ListNode(object):\n",
    "    def __init__(self,key,value):\n",
    "        self.pair = [key,value]\n",
    "        self.next = None\n",
    "        \n",
    "class MyHashMap(object):\n",
    "\n",
    "    def __init__(self):\n",
    "        \"\"\"\n",
    "        Initialize your data structure here.\n",
    "        \"\"\"\n",
    "        self.m = 1000\n",
    "        self.hashtable = [None]*self.m\n",
    "        \n",
    "\n",
    "    def put(self, key, value):\n",
    "        \"\"\"\n",
    "        value will always be non-negative.\n",
    "        :type key: int\n",
    "        :type value: int\n",
    "        :rtype: None\n",
    "        \"\"\"\n",
    "        temp = key%1000\n",
    "        if self.hashtable[temp] is None:\n",
    "            self.hashtable[temp] = ListNode(key,value)\n",
    "            return\n",
    "        else:\n",
    "            node = self.hashtable[temp]\n",
    "            while node.next and node.pair[0]!=key:\n",
    "                node = node.next\n",
    "            if node.pair[0]==key:\n",
    "                node.pair[1]=value\n",
    "            else:\n",
    "                newnode = ListNode(key,value)\n",
    "                node.next = newnode\n",
    "            return\n",
    "        \n",
    "\n",
    "    def get(self, key):\n",
    "        \"\"\"\n",
    "        Returns the value to which the specified key is mapped, or -1 if this map contains no mapping for the key\n",
    "        :type key: int\n",
    "        :rtype: int\n",
    "        \"\"\"\n",
    "        temp = key%1000\n",
    "        if self.hashtable[temp] is None:\n",
    "            return -1\n",
    "        node = self.hashtable[temp]\n",
    "        while node.next and node.pair[0]!=key:\n",
    "            node = node.next\n",
    "        return node.pair[1] if node.pair[0]==key else -1\n",
    "        \n",
    "\n",
    "    def remove(self, key):\n",
    "        \"\"\"\n",
    "        Removes the mapping of the specified value key if this map contains a mapping for the key\n",
    "        :type key: int\n",
    "        :rtype: None\n",
    "        \"\"\"        \n",
    "        temp = key%1000\n",
    "        if self.hashtable[temp] is None:\n",
    "            return\n",
    "        node = self.hashtable[temp]\n",
    "        dummy = prev = ListNode(None,None)\n",
    "        dummy.next = node\n",
    "        while prev.next and prev.next.pair[0]!=key:\n",
    "            prev = prev.next\n",
    "        if not prev.next:\n",
    "            return\n",
    "        prev.next = prev.next.next\n",
    "        self.hashtable[temp]=dummy.next\n",
    "        return"
   ]
  },
  {
   "cell_type": "code",
   "execution_count": 1,
   "metadata": {},
   "outputs": [],
   "source": [
    "# 3. Longest Substring Without Repeating Characters，最长的无重复子串\n",
    "# 用hashtable存储出现的位置\n",
    "def lengthOfLongestSubstring(s):\n",
    "    \"\"\"\n",
    "    :type s: str\n",
    "    :rtype: int\n",
    "    \"\"\"\n",
    "    pos = dict()\n",
    "    start = 0\n",
    "    i=0\n",
    "    maximum = 0\n",
    "    while i<len(s):\n",
    "        if s[i] in pos and pos[s[i]]>=start:\n",
    "            maximum = max(maximum,i-start)\n",
    "            start = pos[s[i]]+1\n",
    "        pos[s[i]] = i\n",
    "        i = i+1\n",
    "    maximum = max(maximum,len(s)-start)\n",
    "    return maximum"
   ]
  },
  {
   "cell_type": "code",
   "execution_count": 1,
   "metadata": {},
   "outputs": [],
   "source": [
    "# 454. 4Sum II,四个列表从中各挑选一个数，相加等于0的种类，先把前两个列表构成和的哈希表，再把后两个构成另一个哈希表，然后配对\n",
    "def fourSumCount(A, B, C, D):\n",
    "    \"\"\"\n",
    "    :type A: List[int]\n",
    "    :type B: List[int]\n",
    "    :type C: List[int]\n",
    "    :type D: List[int]\n",
    "    :rtype: int\n",
    "    \"\"\"\n",
    "    ABs = dict()\n",
    "    for i in A:\n",
    "        for j in B:\n",
    "            ABs[i+j] = ABs.get(i+j,0)+1\n",
    "    CDs = dict()\n",
    "    for i in C:\n",
    "        for j in D:\n",
    "            CDs[i+j] = CDs.get(i+j,0)+1\n",
    "    counts=0\n",
    "    for i in ABs:\n",
    "        if -i in CDs:\n",
    "            counts+=ABs[i]*CDs[-i]\n",
    "    return counts"
   ]
  },
  {
   "cell_type": "code",
   "execution_count": 1,
   "metadata": {},
   "outputs": [
    {
     "name": "stdout",
     "output_type": "stream",
     "text": [
      "2\n"
     ]
    }
   ],
   "source": [
    "# presum，寻找子列表和为K，Si-Sj为从j到i-1的和，所以对于当前i，计算Si-K就能得到以i结尾的和为K的个数\n",
    "# 主要针对知道某子列表的和或者和与长度的关系，要考虑子列表起始点为0的情况\n",
    "\n",
    "# 560. Subarray Sum Equals K,连续子列表和为K的种类\n",
    "# 将累计和存入哈希表，如果A[0] + A[1] + ... + A[t-1] = W, 有count=j with j < t-1 and A[0] + A[1] + ... + A[j] = V.\n",
    "# Thus, there are count[V] subarrays A[j+1] + A[j+2] + ... + A[t-1] = W-V\n",
    "import collections\n",
    "def subarraySum(nums, k):\n",
    "    \"\"\"\n",
    "    :type nums: List[int]\n",
    "    :type k: int\n",
    "    :rtype: int\n",
    "    \"\"\"\n",
    "    presum = collections.Counter()\n",
    "    cur = 0\n",
    "    counts = 0\n",
    "    presum[0]=1\n",
    "    for i in nums:\n",
    "        cur +=i\n",
    "        counts += presum[cur-k]\n",
    "        presum[cur]+=1\n",
    "    return counts\n",
    "print(subarraySum([1,1,1],2))\n",
    "\n",
    "# 974. Subarray Sums Divisible by K,连续子列表和为K的倍数种类\n",
    "def subarraysDivByK(A, K):\n",
    "    \"\"\"\n",
    "    :type A: List[int]\n",
    "    :type K: int\n",
    "    :rtype: int\n",
    "    \"\"\"\n",
    "    res = 0\n",
    "    prefix = 0\n",
    "    count = [1] + [0] * K\n",
    "    for a in A:\n",
    "        prefix = (prefix + a) % K\n",
    "        res += count[prefix]\n",
    "        count[prefix] += 1\n",
    "    return res\n",
    "\n",
    "# 523. Continuous Subarray Sum,是否存在长度不低于2的连续子数列和为K的倍数\n",
    "# 和上面用presum方法一样，不要用列表存储，会很慢，存入字典比当前数要晚一步，用temp存储上一次的和\n",
    "# 有很多edge case,k=0,列表长度小于2\n",
    "def checkSubarraySum(nums, k):\n",
    "    \"\"\"\n",
    "    :type nums: List[int]\n",
    "    :type k: int\n",
    "    :rtype: bool\n",
    "    \"\"\"\n",
    "    if len(nums)<=1:\n",
    "        return False\n",
    "    k = abs(k)\n",
    "    if k==0:\n",
    "        return any(nums[i] == 0 and nums[i + 1] == 0 for i in range(len(nums) - 1))\n",
    "    presum = {0:1}\n",
    "    cur = nums[0]%k\n",
    "    for i in nums[1:]:\n",
    "        temp = cur\n",
    "        cur = (cur+i)%k\n",
    "        if cur in presum:\n",
    "            return True\n",
    "        presum[temp]=1\n",
    "    return False\n",
    "\n",
    "# 325. Maximum Size Subarray Sum Equals k,子数列和为K的最大长度，那么把当前的presum减去K，如果在之前的presum中，则说明存在\n",
    "def maxSubArrayLen(nums, k):\n",
    "    \"\"\"\n",
    "    :type nums: List[int]\n",
    "    :type k: int\n",
    "    :rtype: int\n",
    "    \"\"\"\n",
    "    presum ={0:-1}\n",
    "    cursum = 0\n",
    "    maxsize = 0\n",
    "    for i in range(len(nums)):\n",
    "        cursum+=nums[i]\n",
    "        if cursum not in presum:#如果这个和没有在之前出现过，就记录下来，如果出现过，那优先选择之前的\n",
    "            presum[cursum] = i\n",
    "        if cursum - k in presum:\n",
    "            maxsize = max(maxsize,i-presum[cursum-k])\n",
    "    return maxsize\n",
    "\n",
    "# 525. Contiguous Array，给定一个二进制矩阵，求相同数量01的最大子序列长度\n",
    "# 子序列满足S_i - S_j = 1/2(i-j)，即2*S_i - (i+1) = 2*S_j -(j+1),满足条件的子序列应该该值相等，如果找得到，则记录长度，找不到则存入\n",
    "# 也可以将所有的0换成-1\n",
    "def findMaxLength(nums):\n",
    "    \"\"\"\n",
    "    :type nums: List[int]\n",
    "    :rtype: int\n",
    "    \"\"\"\n",
    "    presum = {0:-1}\n",
    "    cursum = 0\n",
    "    maximum = 0\n",
    "    for i in range(len(nums)):\n",
    "        cursum +=nums[i]\n",
    "        temp = 2*cursum-(i+1)\n",
    "        if temp in presum:\n",
    "            maximum = max(maximum,i-presum[temp])\n",
    "        else:\n",
    "            presum[temp]=i\n",
    "    return maximum\n",
    "\n",
    "# 1124. Longest Well-Performing Interval\n",
    "def longestWPI(hours):#1和-1构成的矩阵求最长的subarray sum>0的区间长度\n",
    "    \"\"\"\n",
    "    :type hours: List[int]\n",
    "    :rtype: int\n",
    "    \"\"\"\n",
    "    hashtable = {0:-1}#S[i]-S[j]==1\n",
    "    cursum = 0\n",
    "    maximum = 0\n",
    "    for i in range(len(hours)):\n",
    "        cursum = cursum+1 if hours[i]>8 else cursum-1\n",
    "        if cursum>0:\n",
    "            maximum = i+1\n",
    "        if cursum-1 in hashtable:\n",
    "            maximum = max(maximum,i-hashtable[cursum-1])\n",
    "        if cursum not in hashtable:\n",
    "            hashtable[cursum] = i\n",
    "    return maximum\n",
    "longestWPI(hours = [9,9,6,0,6,6,9])\n",
    "\n",
    "\n",
    "# 1371. Find the Longest Substring Containing Vowels in Even Counts,最长的有偶数个辅音的字符串\n",
    "def findTheLongestSubstring(s):\n",
    "    \"\"\"\n",
    "    :type s: str\n",
    "    :rtype: int\n",
    "    \"\"\"\n",
    "    targets = {'a':0,'e':1,'i':2,'o':3,'u':4}\n",
    "    mat= [[1,1,1,1,1]]#截止目前的presum\n",
    "    for i in range(len(s)):\n",
    "        temp = mat[-1][:]\n",
    "        if s[i] in targets:\n",
    "            temp[targets[s[i]]] = 1-temp[targets[s[i]]]\n",
    "        mat.append(temp)\n",
    "\n",
    "    dic = dict()\n",
    "    maximum = 0\n",
    "    for i,val in enumerate(mat):\n",
    "        sta = tuple(val)\n",
    "        if sta in dic:\n",
    "            maximum = max(maximum,i-dic[sta])\n",
    "        else:\n",
    "            dic[sta] = i\n",
    "\n",
    "    return maximum"
   ]
  },
  {
   "cell_type": "code",
   "execution_count": 1,
   "metadata": {},
   "outputs": [
    {
     "data": {
      "text/plain": [
       "['i', 'love', 'coding']"
      ]
     },
     "execution_count": 1,
     "metadata": {},
     "output_type": "execute_result"
    }
   ],
   "source": [
    "# 692. Top K Frequent Words,给定一个words列表，求出现频率最高的K个\n",
    "import collections\n",
    "def topKFrequent(words, k):\n",
    "    \"\"\"\n",
    "    :type words: List[str]\n",
    "    :type k: int\n",
    "    :rtype: List[str]\n",
    "    \"\"\"\n",
    "    counts = collections.Counter(words)\n",
    "    frequencies = dict()\n",
    "    for item in counts:\n",
    "        if counts[item] not in frequencies:\n",
    "            frequencies[counts[item]] = []\n",
    "        frequencies[counts[item]].append(item)\n",
    "    for item in frequencies:\n",
    "        frequencies[item].sort()\n",
    "    frequencies = sorted(frequencies.items(),key=lambda x:x[0],reverse=True)\n",
    "    res = []\n",
    "    for count,items in frequencies:\n",
    "        if len(res)+len(items)<=k:\n",
    "            res+=items\n",
    "        else:\n",
    "            res+=items[:k-len(res)]\n",
    "    return res\n",
    "topKFrequent([\"i\", \"love\", \"leetcode\", \"i\", \"love\", \"coding\"], k = 3)"
   ]
  },
  {
   "cell_type": "code",
   "execution_count": 1,
   "metadata": {},
   "outputs": [
    {
     "data": {
      "text/plain": [
       "'Earth'"
      ]
     },
     "execution_count": 1,
     "metadata": {},
     "output_type": "execute_result"
    }
   ],
   "source": [
    "# 1257. Smallest Common Region, 给定一系列继承关系，问两个item的最小祖先\n",
    "# 建立一系列child-parent的对应关系，建立第一个元素的祖先列表，第二个元素的祖先第一个重合的就是答案\n",
    "def findSmallestRegion(regions, region1, region2):\n",
    "    \"\"\"\n",
    "    :type regions: List[List[str]]\n",
    "    :type region1: str\n",
    "    :type region2: str\n",
    "    :rtype: str\n",
    "    \"\"\"\n",
    "    parents = {item[i]:item[0] for item in regions for i in range(1,len(item))}\n",
    "\n",
    "    ancestry = {region1}\n",
    "    while region1 in parents:\n",
    "        region1 = parents[region1]\n",
    "        ancestry.add(region1)\n",
    "\n",
    "    while region2 in parents:\n",
    "        if region2 in ancestry:\n",
    "            return region2\n",
    "        region2 = parents[region2]\n",
    "    return region2#考虑可能祖先是root的情况\n",
    "\n",
    "findSmallestRegion([[\"Earth\", \"North America\", \"South America\"],[\"North America\", \"United States\", \"Canada\"],[\"United States\", \"New York\", \"Boston\"],[\"Canada\", \"Ontario\", \"Quebec\"],[\"South America\", \"Brazil\"]],\"Canada\",\"South America\")"
   ]
  },
  {
   "cell_type": "code",
   "execution_count": 16,
   "metadata": {},
   "outputs": [
    {
     "data": {
      "text/plain": [
       "True"
      ]
     },
     "execution_count": 16,
     "metadata": {},
     "output_type": "execute_result"
    }
   ],
   "source": [
    "# 954. Array of Doubled Pairs，按照绝对值从小到大排序扣除\n",
    "import collections\n",
    "def canReorderDoubled(A):\n",
    "    c = collections.Counter(A)\n",
    "    for x in sorted(c, key=abs):\n",
    "        if c[x] > c[2 * x]:\n",
    "            return False\n",
    "        c[2 * x] -= c[x]\n",
    "    return True\n",
    "canReorderDoubled([4,-2,2,-4])"
   ]
  },
  {
   "cell_type": "code",
   "execution_count": 18,
   "metadata": {},
   "outputs": [
    {
     "data": {
      "text/plain": [
       "2"
      ]
     },
     "execution_count": 18,
     "metadata": {},
     "output_type": "execute_result"
    }
   ],
   "source": [
    "# 554. Brick Wall，最少的穿透所有墙的次数，用hashtable统计presum\n",
    "def leastBricks(wall):\n",
    "    \"\"\"\n",
    "    :type wall: List[List[int]]\n",
    "    :rtype: int\n",
    "    \"\"\"\n",
    "    hashtable = dict()\n",
    "    for arr in wall:\n",
    "        cur = 0\n",
    "        for i in arr[:-1]:\n",
    "            cur+=i\n",
    "            if cur not in hashtable:\n",
    "                hashtable[cur]=0\n",
    "            hashtable[cur]+=1\n",
    "    if not hashtable:\n",
    "        return len(wall)\n",
    "    return len(wall)-max(hashtable.values())\n",
    "leastBricks([[1,2,2,1],\n",
    "        [3,1,2],\n",
    "        [1,3,2],\n",
    "        [2,4],\n",
    "        [3,1,2],\n",
    "        [1,3,1,1]])"
   ]
  },
  {
   "cell_type": "code",
   "execution_count": 2,
   "metadata": {},
   "outputs": [
    {
     "data": {
      "text/plain": [
       "[['abc', 'bcd', 'xyz'], ['acef'], ['az', 'ba'], ['a', 'z']]"
      ]
     },
     "execution_count": 2,
     "metadata": {},
     "output_type": "execute_result"
    }
   ],
   "source": [
    "# 249. Group Shifted Strings\n",
    "def groupStrings(strings):\n",
    "    \"\"\"\n",
    "    :type strings: List[str]\n",
    "    :rtype: List[List[str]]\n",
    "    \"\"\"\n",
    "    dic = dict()\n",
    "    def getDis(word):\n",
    "        res = [0]\n",
    "        for i in word[1:]:\n",
    "            res.append((ord(i)-ord(word[0]))%26)\n",
    "        return tuple(res)\n",
    "\n",
    "    for word in strings:\n",
    "        dis = getDis(word)\n",
    "        if dis not in dic:\n",
    "            dic[dis] = []\n",
    "        dic[dis].append(word)\n",
    "\n",
    "    res = []\n",
    "    for key in dic:\n",
    "        res.append(sorted(dic[key]))\n",
    "    return res\n",
    "groupStrings([\"abc\", \"bcd\", \"acef\", \"xyz\", \"az\", \"ba\", \"a\", \"z\"])"
   ]
  },
  {
   "cell_type": "code",
   "execution_count": 32,
   "metadata": {},
   "outputs": [
    {
     "data": {
      "text/plain": [
       "2"
      ]
     },
     "execution_count": 32,
     "metadata": {},
     "output_type": "execute_result"
    }
   ],
   "source": [
    "# 1224. Maximum Equal Frequency\n",
    "import collections\n",
    "def maxEqualFreq(nums):\n",
    "    \"\"\"\n",
    "    :type nums: List[int]\n",
    "    :rtype: int\n",
    "    \"\"\"\n",
    "    cnt,freq,maxF,res = collections.defaultdict(int), collections.defaultdict(int),0,0\n",
    "    for i,num in enumerate(nums):\n",
    "        cnt[num] += 1\n",
    "        freq[cnt[num]-1] -= 1\n",
    "        freq[cnt[num]] += 1\n",
    "        maxF = max(maxF,cnt[num])\n",
    "        if maxF*freq[maxF] == i or (maxF-1)*(freq[maxF-1]+1) == i or maxF == 1:\n",
    "            #如果最高频数*最高频次数，如果全部为最高频-1次数，如果最高频为1\n",
    "            res = i + 1\n",
    "    return res\n",
    "\n",
    "maxEqualFreq([1,1])"
   ]
  },
  {
   "cell_type": "code",
   "execution_count": 1,
   "metadata": {},
   "outputs": [
    {
     "data": {
      "text/plain": [
       "6"
      ]
     },
     "execution_count": 1,
     "metadata": {},
     "output_type": "execute_result"
    }
   ],
   "source": [
    "# 898. Bitwise ORs of Subarrays 所有subarray的OR值的个数，涉及到个数，就不用计较重复，每次更新状态\n",
    "# 时间复杂度，每一轮的数字为1-i,2-i,3-i...前面一个覆盖后面一个的所有bits，所以每一轮总共就只有不到30个元素，复杂度为O(30N)\n",
    "def subarrayBitwiseORs(A):\n",
    "    \"\"\"\n",
    "    :type A: List[int]\n",
    "    :rtype: int\n",
    "    \"\"\"\n",
    "    hashtable = {A[0]}#总共的值\n",
    "    cur = {A[0]}#每次更新的值，可以避免大量重复\n",
    "    for i in range(1,len(A)):\n",
    "        newcur = {A[i]}\n",
    "        for val in cur:\n",
    "            newcur.add(val|A[i])\n",
    "        hashtable.update(newcur)\n",
    "        cur = newcur\n",
    "    return len(hashtable)\n",
    "subarrayBitwiseORs([1,2,4])"
   ]
  },
  {
   "cell_type": "code",
   "execution_count": 2,
   "metadata": {},
   "outputs": [],
   "source": [
    "# 1178. Number of Valid Words for Each Puzzle,\n",
    "# words里的字母包含在puzzle的个数，用bits来登记单词，不能把每个单词进行扫描，而是把words可以出现的进行查找，因为words长度有限，而单词很多\n",
    "# 复杂度len(puzzles)*2**len(puzzles[0]),len(words)*len(words[0])\n",
    "def findNumOfValidWords(words, puzzles):\n",
    "    \"\"\"\n",
    "    :type words: List[str]\n",
    "    :type puzzles: List[str]\n",
    "    :rtype: List[int]\n",
    "    \"\"\"\n",
    "    # word包含puzzle的第一个字母，word里的每一个字母都在puzzle中\n",
    "    # 对于puzzles里的每一个单词，有多少个words满足\n",
    "    hashtable = dict()\n",
    "    for word in words:\n",
    "        key = 0\n",
    "        for c in set(word):#每个单词对应的代码\n",
    "            key = key|1<<(ord(c)-ord('a'))\n",
    "        hashtable[key] = hashtable.get(key,0)+1\n",
    "\n",
    "    res = []\n",
    "    for puzzle in puzzles:\n",
    "        count = 0\n",
    "        level = {1<<(ord(puzzle[0])-ord('a'))}#puzzle所拥有的所有可能性\n",
    "\n",
    "        for c in set(puzzle[1:]):\n",
    "            newlevel = set()\n",
    "            for ele in level:\n",
    "                newlevel.add(ele|1<<(ord(c)-ord('a')))\n",
    "            level.update(newlevel)\n",
    "        for ele in level:#对每个可能性进行统计\n",
    "            count += hashtable[ele] if ele in hashtable else 0\n",
    "        res.append(count)\n",
    "    return res"
   ]
  },
  {
   "cell_type": "code",
   "execution_count": 1,
   "metadata": {},
   "outputs": [
    {
     "data": {
      "text/plain": [
       "2"
      ]
     },
     "execution_count": 1,
     "metadata": {},
     "output_type": "execute_result"
    }
   ],
   "source": [
    "# 1072. Flip Columns For Maximum Number of Equal Rows，01矩阵，翻转任意列，使得最多的行为单一元素\n",
    "# 一样的行和相反的行是一样的，不一样的不管怎么翻转都是不一样的，所以找出一样/相反的行的最大数量\n",
    "def maxEqualRowsAfterFlips(matrix):\n",
    "    \"\"\"\n",
    "    :type matrix: List[List[int]]\n",
    "    :rtype: int\n",
    "    \"\"\"\n",
    "    counts = dict()\n",
    "    for i in matrix:\n",
    "        if i[0]==0:\n",
    "            counts[tuple(i)] = counts.get(tuple(i),0)+1\n",
    "        else:\n",
    "            temp = tuple(1-t for t in i)\n",
    "            counts[temp] = counts.get(temp,0)+1\n",
    "    return max(counts.values())\n",
    "maxEqualRowsAfterFlips([[0,0,0],[0,0,1],[1,1,0]])"
   ]
  },
  {
   "cell_type": "code",
   "execution_count": 1,
   "metadata": {},
   "outputs": [
    {
     "data": {
      "text/plain": [
       "5"
      ]
     },
     "execution_count": 1,
     "metadata": {},
     "output_type": "execute_result"
    }
   ],
   "source": [
    "# 1542. Find Longest Awesome Substring，找到最长子串，使得子串能重组成回文序列\n",
    "# 相当于找到最大的j-i使得presum[i]与presum[j]之间最多只相差1个数\n",
    "# 用presum来存储当前奇偶情况，可以用bit来存储\n",
    "def longestAwesome(s):\n",
    "    \"\"\"\n",
    "    :type s: str\n",
    "    :rtype: int\n",
    "    \"\"\"\n",
    "    hashtable = {0:-1}\n",
    "    cur = 0\n",
    "    maximum = 0\n",
    "    for i in range(len(s)):\n",
    "        cur ^= 1<<int(s[i])#改变当前\n",
    "        if cur in hashtable:#如果当前有出现过\n",
    "            maximum = max(maximum,i-hashtable[cur])\n",
    "        else:#否则添加进去\n",
    "            hashtable[cur] = i\n",
    "        for t in range(10):#尝试每一个改变1个数，看是否能找到对应的\n",
    "            cur^=(1<<t)\n",
    "            if cur in hashtable:\n",
    "                maximum = max(maximum,i-hashtable[cur])\n",
    "            cur^=(1<<t)\n",
    "    return maximum\n",
    "longestAwesome(s = \"3242415\")"
   ]
  },
  {
   "cell_type": "code",
   "execution_count": null,
   "metadata": {},
   "outputs": [],
   "source": []
  }
 ],
 "metadata": {
  "kernelspec": {
   "display_name": "Python 3",
   "language": "python",
   "name": "python3"
  },
  "language_info": {
   "codemirror_mode": {
    "name": "ipython",
    "version": 3
   },
   "file_extension": ".py",
   "mimetype": "text/x-python",
   "name": "python",
   "nbconvert_exporter": "python",
   "pygments_lexer": "ipython3",
   "version": "3.7.3"
  }
 },
 "nbformat": 4,
 "nbformat_minor": 2
}
