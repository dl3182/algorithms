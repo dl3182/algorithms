{
 "cells": [
  {
   "cell_type": "markdown",
   "metadata": {},
   "source": [
    "# binary search\n",
    "4. Median of Two Sorted Arrays\n",
    "\n",
    "### 一维\n",
    "33. Search in Rotated Sorted Array\n",
    "81. Search in Rotated Sorted Array II,有重复的情况，该情况暂时不能用左闭右开做\n",
    "153. Find Minimum in Rotated Sorted Array,在一个旋转了的有序列表里寻找最小值\n",
    "162. Find Peak Element,给定数组，找到一个index，其值比两边都要大\n",
    "1060. Missing Element in Sorted Array,有序数组里从第0个开始，丢失的数字，每次计算从left到mid之间丢失了delta个数字\n",
    "287. Find the Duplicate Number,长度为n+1,1-n之间有重复元素，找出重复，可以在1-n之间做binary search检查个数，难度大\n",
    "475. Heaters,对每一个house，找到最近的heater，统计每一个最小距离的最大值\n",
    "\n",
    "\n",
    "# 二维\n",
    "240. Search a 2D Matrix II\n",
    "\n",
    "### 技巧\n",
    "1. 如果是未知长度的binary Search，一次次2倍递增，来确定右端\n",
    "2. bisect不能用于递减序列，可以存入相反数"
   ]
  },
  {
   "cell_type": "code",
   "execution_count": 12,
   "metadata": {},
   "outputs": [
    {
     "name": "stdout",
     "output_type": "stream",
     "text": [
      "2 4\n"
     ]
    }
   ],
   "source": [
    "# bisect函数\n",
    "nums=[1,2,3,3,4,5,6]\n",
    "print(bisect.bisect_left(nums,3),bisect.bisect_right(nums,3))"
   ]
  },
  {
   "cell_type": "code",
   "execution_count": 2,
   "metadata": {},
   "outputs": [
    {
     "data": {
      "text/plain": [
       "5"
      ]
     },
     "execution_count": 2,
     "metadata": {},
     "output_type": "execute_result"
    }
   ],
   "source": [
    "# 704. Binary Search\n",
    "# def search(nums, target):\n",
    "#     \"\"\"\n",
    "#     :type nums: List[int]\n",
    "#     :type target: int\n",
    "#     :rtype: int\n",
    "#     \"\"\"\n",
    "#     low = 0\n",
    "#     high = len(nums)-1\n",
    "#     while low<=high:\n",
    "#         mid = (low+high)//2\n",
    "#         if nums[mid] == target:\n",
    "#             return mid\n",
    "#         elif nums[mid] < target:\n",
    "#             low = mid+1\n",
    "#         else:\n",
    "#             high = mid-1\n",
    "#     return -1\n",
    "\n",
    "def search(nums,target):\n",
    "    low = 0\n",
    "    high = len(nums)\n",
    "    while low<high:\n",
    "        mid = low + (high-low)//2\n",
    "        if nums[mid]<target:\n",
    "            low = mid + 1\n",
    "        else:\n",
    "            high = mid\n",
    "    return low if low<len(nums) and nums[low]==target else -1\n",
    "\n",
    "search([-1,0,3,5,9,12],12)"
   ]
  },
  {
   "cell_type": "code",
   "execution_count": 5,
   "metadata": {},
   "outputs": [
    {
     "data": {
      "text/plain": [
       "5"
      ]
     },
     "execution_count": 5,
     "metadata": {},
     "output_type": "execute_result"
    }
   ],
   "source": [
    "# 有序数组中有多少个和target值相同的\n",
    "def countValue(nums,target):\n",
    "    left = 0\n",
    "    right = len(nums)\n",
    "    while left<right:\n",
    "        mid = left+(right-left)//2\n",
    "        if nums[mid]<target:\n",
    "            left = mid+1\n",
    "        else:\n",
    "            right = mid\n",
    "    if nums[left]==target:\n",
    "        l,r = left,left\n",
    "        while l>=0 and nums[l]==target:\n",
    "            l-=1\n",
    "        while r<len(nums) and nums[r]==target:\n",
    "            r+=1\n",
    "        return r-l-1\n",
    "    else:\n",
    "        return 0\n",
    "countValue([1,2,2,2,2,2,3,3,4,5,6],2)"
   ]
  },
  {
   "cell_type": "code",
   "execution_count": 3,
   "metadata": {},
   "outputs": [
    {
     "name": "stdout",
     "output_type": "stream",
     "text": [
      "-1 (0, 0, 0)\n",
      "0 (1, 0, 1)\n",
      "1 (2, 2, 2)\n",
      "2 (2, 2, 2)\n",
      "3 (2, 2, 2)\n",
      "4 (4, 4, 4)\n",
      "5 (4, 4, 4)\n",
      "6 (5, 4, 5)\n",
      "7 (5, 4, 5)\n",
      "8 (6, 5, 6)\n"
     ]
    }
   ],
   "source": [
    "# 找满足x >= target或x > target条件的最小x的位置（比给定数字大/相等的最小位置）,也就是如果新插入数字，会插入的位置\n",
    "# 适用于含有相等元素，最终返回first和last是相等的\n",
    "def lower_bound(nums,target):\n",
    "    low = 0\n",
    "    high = len(nums)\n",
    "    while low<high:\n",
    "        mid = low + (high-low)//2\n",
    "        if nums[mid]<target:\n",
    "            low = mid + 1\n",
    "        else:\n",
    "            high = mid\n",
    "    return low,mid,high\n",
    "\n",
    "for i in range(-1,9):\n",
    "    print(i,lower_bound([-1,0,3,3,5,7],i))"
   ]
  },
  {
   "cell_type": "code",
   "execution_count": 1,
   "metadata": {},
   "outputs": [
    {
     "data": {
      "text/plain": [
       "5"
      ]
     },
     "execution_count": 1,
     "metadata": {},
     "output_type": "execute_result"
    }
   ],
   "source": [
    "#162. Find Peak Element,给定数组，找到一个index，其值比两边都要大\n",
    "\n",
    "def findPeakElement(nums):\n",
    "    \"\"\"\n",
    "    :type nums: List[int]\n",
    "    :rtype: int\n",
    "    \"\"\"\n",
    "    if len(nums)==1 or nums[0]>nums[1]:\n",
    "        return 0\n",
    "    if nums[-1]>nums[-2]:#如果边界满足就直接边界\n",
    "        return len(nums)-1\n",
    "    left = 0\n",
    "    right = len(nums)-1\n",
    "    while left<right:\n",
    "        mid = left+(right-left)//2\n",
    "        if nums[mid]>nums[mid-1] and nums[mid]>nums[mid+1]:\n",
    "            return mid\n",
    "        elif nums[mid-1]<nums[mid]<nums[mid+1]:\n",
    "            left = mid+1\n",
    "        else:\n",
    "            right = mid\n",
    "    return left\n",
    "findPeakElement(nums = [1,2,1,3,5,6,4])"
   ]
  },
  {
   "cell_type": "code",
   "execution_count": 43,
   "metadata": {},
   "outputs": [
    {
     "data": {
      "text/plain": [
       "161834419"
      ]
     },
     "execution_count": 43,
     "metadata": {},
     "output_type": "execute_result"
    }
   ],
   "source": [
    "# 475. Heaters\n",
    "# 对每一个house，找到最近的heater，统计每一个最小距离的最大值\n",
    "\n",
    "def findRadius(houses, heaters):\n",
    "    \"\"\"\n",
    "    :type houses: List[int]\n",
    "    :type heaters: List[int]\n",
    "    :rtype: int\n",
    "    \"\"\"\n",
    "    radius = 0\n",
    "    houses.sort()\n",
    "    heaters.sort()\n",
    "    for i in range(len(houses)):\n",
    "        left = 0\n",
    "        right = len(heaters)\n",
    "        while left<right:\n",
    "            mid = left + (right-left)//2\n",
    "            if heaters[mid]<houses[i]:\n",
    "                left = mid + 1\n",
    "            else:\n",
    "                right = mid\n",
    "        if left==0:\n",
    "            temp = heaters[left]-houses[i]\n",
    "        elif left == len(heaters):\n",
    "            temp = houses[i]-heaters[-1]\n",
    "        else:\n",
    "            temp = min(abs(heaters[left]-houses[i]),abs(heaters[left-1]-houses[i]))\n",
    "        radius = max(radius,temp)\n",
    "    return radius\n",
    "\n",
    "def findRadius(houses, heaters):\n",
    "    houses.sort()\n",
    "    heaters.sort()\n",
    "    radius = 0\n",
    "    i = 0\n",
    "    for house in houses:\n",
    "        while i < len(heaters) and heaters[i] < house:\n",
    "            i += 1\n",
    "        if i == 0:\n",
    "            radius = max(radius, heaters[i] - house)\n",
    "        elif i == len(heaters):\n",
    "            return max(radius, houses[-1] - heaters[-1])\n",
    "        else:\n",
    "            radius = max(radius, min(heaters[i]-house, house-heaters[i-1]))\n",
    "    return r\n",
    "findRadius([282475249,622650073,984943658,144108930,470211272,101027544,457850878,458777923],[823564440,115438165,784484492,74243042,114807987,137522503,441282327,16531729,823378840,143542612])"
   ]
  },
  {
   "cell_type": "code",
   "execution_count": 17,
   "metadata": {},
   "outputs": [
    {
     "data": {
      "text/plain": [
       "4.0"
      ]
     },
     "execution_count": 17,
     "metadata": {},
     "output_type": "execute_result"
    }
   ],
   "source": [
    "# 4. Median of Two Sorted Arrays\n",
    "# 思路：\n",
    "class Solution(object):\n",
    "    def findMedianSortedArrays(self, nums1, nums2):\n",
    "        \"\"\"\n",
    "        :type nums1: List[int]\n",
    "        :type nums2: List[int]\n",
    "        :rtype: float\n",
    "        \"\"\"\n",
    "        m = len(nums1)\n",
    "        n = len(nums2)\n",
    "        left = (m+n+1)//2\n",
    "        right = (m+n+2)//2\n",
    "        return (self.findKth(nums1,0,nums2,0,left)+self.findKth(nums1,0,nums2,0,right))/2.0\n",
    "\n",
    "    def findKth(self,nums1,i,nums2,j,k):\n",
    "        if i>=len(nums1):\n",
    "            return nums2[j+k-1]\n",
    "        elif j>=len(nums2):\n",
    "            return nums1[i+k-1]\n",
    "        if k==1:\n",
    "            return min(nums1[i],nums2[j])\n",
    "        midval1 = self.findvalue(nums1,i,k//2)\n",
    "        midval2 = self.findvalue(nums2,j,k//2)\n",
    "        if midval1>midval2:\n",
    "            return self.findKth(nums1,i,nums2,j+k//2,k-k//2)\n",
    "        else:\n",
    "            return self.findKth(nums1,i+k//2,nums2,j,k-k//2)\n",
    "        \n",
    "    def findvalue(self,nums,i,k):\n",
    "        if i+k-1>=len(nums):\n",
    "            return float('inf')\n",
    "        else:\n",
    "            return nums[i+k-1]\n",
    "        \n",
    "sol = Solution()\n",
    "sol.findMedianSortedArrays(nums1 = [1, 3],nums2 = [4,4,5])"
   ]
  },
  {
   "cell_type": "code",
   "execution_count": 1,
   "metadata": {
    "collapsed": true
   },
   "outputs": [],
   "source": [
    "# 240. Search a 2D Matrix II: 在一个递增的二维列表中寻找某个数\n",
    "class solution():\n",
    "    def searchMatrix(self, matrix, target):\n",
    "        \"\"\"\n",
    "        :type matrix: List[List[int]]\n",
    "        :type target: int\n",
    "        :rtype: bool\n",
    "        \"\"\"\n",
    "        if not matrix:\n",
    "            return False\n",
    "        m,n=len(matrix),len(matrix[0])\n",
    "        if m==1 and n==1:\n",
    "            return matrix[0][0]==target\n",
    "        m2 = self.binarySearch([i[-1] for i in matrix],target)\n",
    "        if m2==m:\n",
    "            return False\n",
    "        n2 = self.binarySearch(matrix[m2],target)\n",
    "        print(matrix,m2,n2)\n",
    "        if matrix[m2][n2]==target:\n",
    "            return True\n",
    "        return self.searchMatrix([matrix[i][:n2] for i in range(m2,m)],target)\n",
    "\n",
    "    def binarySearch(self,nums,target):\n",
    "        left = 0\n",
    "        right = len(nums)\n",
    "        while left<right:\n",
    "            mid = left + (right-left)//2\n",
    "            if nums[mid]==target:\n",
    "                return mid\n",
    "            if nums[mid]<target:\n",
    "                left = mid+1\n",
    "            else:\n",
    "                right = mid\n",
    "        return left\n"
   ]
  },
  {
   "cell_type": "code",
   "execution_count": 2,
   "metadata": {
    "collapsed": true
   },
   "outputs": [],
   "source": [
    "# 33. Search in Rotated Sorted Array\n",
    "def search(nums,target):\n",
    "    left,right = 0,len(nums)\n",
    "    while left<right:\n",
    "        mid = left + (right-left)//2\n",
    "        if nums[mid]==target:\n",
    "            return mid\n",
    "        if nums[mid]<nums[0]:#the left part is rotated\n",
    "            if target>nums[mid] and target<nums[0]:\n",
    "                left = mid + 1\n",
    "            else:\n",
    "                right = mid\n",
    "        else:# the right part is rotated\n",
    "            if target>=nums[0] and target<nums[mid]:\n",
    "                right = mid\n",
    "            else:\n",
    "                left = mid +1\n",
    "    if left<len(nums) and nums[left]==target:\n",
    "        return left\n",
    "    else:\n",
    "        return -1\n",
    "    \n",
    "def search(nums, target):\n",
    "    \"\"\"\n",
    "    :type nums: List[int]\n",
    "    :type target: int\n",
    "    :rtype: int\n",
    "    \"\"\"\n",
    "    left = 0\n",
    "    right = len(nums)-1\n",
    "\n",
    "    while left<=right:\n",
    "        mid = left + (right-left)//2\n",
    "        if nums[mid]==target:\n",
    "            return mid\n",
    "        if nums[mid]<nums[left]:#The left side is rotated:\n",
    "            if target>=nums[left] or target<nums[mid]:\n",
    "                right = mid-1\n",
    "            else:\n",
    "                left = mid+1\n",
    "        else:\n",
    "            if nums[left]<=target<nums[mid]:\n",
    "                right = mid-1\n",
    "            else:\n",
    "                left = mid+1\n",
    "    return -1\n",
    "search(nums = [4,5,6,7,0,1,2], target = 5)"
   ]
  },
  {
   "cell_type": "code",
   "execution_count": 43,
   "metadata": {},
   "outputs": [
    {
     "data": {
      "text/plain": [
       "True"
      ]
     },
     "execution_count": 43,
     "metadata": {},
     "output_type": "execute_result"
    }
   ],
   "source": [
    "# 81 Search in Rotated Sorted Array II,有重复的情况，该情况暂时不能用左闭右开做\n",
    "def search2(nums, target):\n",
    "    \"\"\"\n",
    "    :type nums: List[int]\n",
    "    :type target: int\n",
    "    :rtype: bool\n",
    "    \"\"\"\n",
    "    if not nums:\n",
    "        return False\n",
    "    low = 0\n",
    "    high = len(nums) - 1\n",
    "    while low <= high:\n",
    "        while low < high and nums[low] == nums[high]:#这样的目的是为了能准确判断mid位置，所以算法的最坏时间复杂度为O(n)\n",
    "            low += 1                  \n",
    "        mid = (low+high)//2\n",
    "        if target == nums[mid]:\n",
    "            return True         \n",
    "        elif nums[mid] >= nums[low]: #高区\n",
    "            if nums[low] <= target < nums[mid]:  \n",
    "                high = mid - 1\n",
    "            else:\n",
    "                low = mid + 1\n",
    "        elif nums[mid] <= nums[high]:  #低区\n",
    "            if nums[mid] < target <= nums[high]:\n",
    "                low = mid + 1\n",
    "            else:\n",
    "                high = mid - 1\n",
    "    return False\n",
    "\n",
    "def search2(nums, target):\n",
    "    left = 0\n",
    "    right = len(nums)-1\n",
    "    while left<=right:\n",
    "        while left<right and nums[left]==nums[right]:\n",
    "            left+=1\n",
    "        mid = left+(right-left)//2\n",
    "        if nums[mid]==target:\n",
    "            return True\n",
    "        if nums[mid]<nums[left]:#left part is rotated\n",
    "            if nums[mid]<target<nums[left]:\n",
    "                left = mid+1\n",
    "            else:\n",
    "                right = mid-1\n",
    "        else:# left part is increasing or the same\n",
    "            if nums[left]<=target<nums[mid]:\n",
    "                right = mid-1\n",
    "            else:\n",
    "                left = mid+1\n",
    "    return False\n",
    "search2(nums = [2,5,6,0,0,1,2], target = 5)"
   ]
  },
  {
   "cell_type": "code",
   "execution_count": 41,
   "metadata": {},
   "outputs": [
    {
     "data": {
      "text/plain": [
       "[[1, 3], [4, 15]]"
      ]
     },
     "execution_count": 41,
     "metadata": {},
     "output_type": "execute_result"
    }
   ],
   "source": [
    "# 1060. Missing Element in Sorted Array,有序数组里从第0个开始，丢失的数字\n",
    "# 每次计算从left到mid之间丢失了delta个数字，如果delta>=k，则说明在左边，如果delta<k，说明在右边，当间距只有1的时候，判断该数\n",
    "def missingElement(nums, k):\n",
    "    \"\"\"\n",
    "    :type nums: List[int]\n",
    "    :type k: int\n",
    "    :rtype: int\n",
    "    \"\"\"\n",
    "    left = 0\n",
    "    right = len(nums)-1\n",
    "    if right==left:\n",
    "        return nums[0]+k\n",
    "    while left<=right:\n",
    "        if right-left==1:\n",
    "            if nums[right]-nums[left]-1>=k:\n",
    "                return nums[left]+k\n",
    "            else:\n",
    "                return nums[left]+k+1\n",
    "        mid = left+(right-left)//2\n",
    "        delta = nums[mid]-nums[left]-(mid-left)\n",
    "        if delta<k:\n",
    "            left = mid\n",
    "            k = k-delta\n",
    "        else:\n",
    "            right = mid"
   ]
  },
  {
   "cell_type": "code",
   "execution_count": 22,
   "metadata": {},
   "outputs": [
    {
     "data": {
      "text/plain": [
       "0"
      ]
     },
     "execution_count": 22,
     "metadata": {},
     "output_type": "execute_result"
    }
   ],
   "source": [
    "# 153. Find Minimum in Rotated Sorted Array,在一个旋转了的有序列表里寻找最小值\n",
    "def findMin(nums):\n",
    "    \"\"\"\n",
    "    :type nums: List[int]\n",
    "    :rtype: int\n",
    "    \"\"\"\n",
    "    left = 0\n",
    "    right = len(nums)-1\n",
    "    while left<right:\n",
    "        mid = left+(right-left)//2\n",
    "        if nums[mid]>nums[right]:#pivot>mid and <= right,右边被旋转\n",
    "            left = mid+1\n",
    "        else:# // the mininum is in the left part#左边为旋转的\n",
    "            right = mid\n",
    "    return nums[left]\n",
    "findMin([1,2,3,0])"
   ]
  },
  {
   "cell_type": "code",
   "execution_count": 20,
   "metadata": {},
   "outputs": [
    {
     "data": {
      "text/plain": [
       "1"
      ]
     },
     "execution_count": 20,
     "metadata": {},
     "output_type": "execute_result"
    }
   ],
   "source": [
    "# 154. Find Minimum in Rotated Sorted Array II\n",
    "def findMin2(nums):\n",
    "    \"\"\"\n",
    "    :type nums: List[int]\n",
    "    :rtype: int\n",
    "    \"\"\"\n",
    "    left,right = 0,len(nums)-1\n",
    "    while left<right:\n",
    "        if right-left==1:\n",
    "            return min(nums[left],nums[right])\n",
    "        mid = left+(right-left)//2\n",
    "        if nums[mid]>nums[right]:\n",
    "            left = mid+1\n",
    "        elif nums[mid]<nums[right]:\n",
    "            right = mid\n",
    "        else:\n",
    "            return min(findMin2(nums[left:mid+1]),findMin2(nums[mid:right]))\n",
    "    return nums[left]\n",
    "\n",
    "def findMin2(nums):\n",
    "    left,right = 0,len(nums)-1\n",
    "    while left<right:\n",
    "        mid = left+(right-left)//2\n",
    "        if nums[mid]>nums[right]:\n",
    "            left = mid+1\n",
    "        elif nums[mid]<nums[right]:\n",
    "            right = mid\n",
    "        else:\n",
    "            right = right-1\n",
    "    return nums[left]\n",
    "\n",
    "findMin2([10,1,10,10,10])"
   ]
  },
  {
   "cell_type": "code",
   "execution_count": 3,
   "metadata": {},
   "outputs": [
    {
     "data": {
      "text/plain": [
       "2"
      ]
     },
     "execution_count": 3,
     "metadata": {},
     "output_type": "execute_result"
    }
   ],
   "source": [
    "# 287. Find the Duplicate Number,长度为n+1,1-n之间有重复元素，找出重复，可以在1-n之间做binary search检查个数\n",
    "def findDuplicate(nums):\n",
    "    \"\"\"\n",
    "    :type nums: List[int]\n",
    "    :rtype: int\n",
    "    \"\"\"\n",
    "    def find(nums,left,right):#有多少个在(left,right)之间的元素\n",
    "        count = 0\n",
    "        for i in nums:\n",
    "            if left<=i<=right:\n",
    "                count = count +1\n",
    "        return count\n",
    "\n",
    "    N = len(nums)-1\n",
    "    left = 1\n",
    "    right = N#数的大小在0到N之间\n",
    "    middle = (left+right)//2\n",
    "    while True:\n",
    "        counts = find(nums,left,middle)#数一下有多少个元素在left和middle之间\n",
    "        if counts<= middle-left+1:#如果这个数比middle-left+1等于或者更少，说明重复在右边\n",
    "            left = middle +1\n",
    "            middle = (middle + right)//2\n",
    "        else:\n",
    "            right = middle\n",
    "            middle = (left+right)//2\n",
    "        if left>=right:\n",
    "            break\n",
    "    return left\n",
    "\n",
    "# 假设数组中没有重复，那我们可以做到这么一点，就是将数组的下标和1到n每一个数一对一的映射起来。比如数组是213,则映射关系为0->2, 1->1, 2->3。假设这个一对一映射关系是一个函数f(n)，其中n是下标，f(n)是映射到的数。如果我们从下标为0出发，根据这个函数计算出一个值，以这个值为新的下标，再用这个函数计算，以此类推，直到下标超界。实际上可以产生一个类似链表一样的序列。比如在这个例子中有两个下标的序列，0->2->3。\n",
    "#但如果有重复的话，这中间就会产生多对一的映射，比如数组2131,则映射关系为0->2, {1，3}->1, 2->3。这样，我们推演的序列就一定会有环路了，这里下标的序列是0->2->3->1->1->1->1->...，而环的起点就是重复的数。\n",
    "def findDuplicate(nums):\n",
    "    slow = fast = finder = 0\n",
    "    while True:\n",
    "        slow = nums[slow]\n",
    "        fast = nums[nums[fast]]\n",
    "        if slow == fast:\n",
    "            while finder != slow:\n",
    "                finder = nums[finder]\n",
    "                slow = nums[slow]\n",
    "            return finder\n",
    "findDuplicate([1,3,4,2,2])"
   ]
  },
  {
   "cell_type": "code",
   "execution_count": 1,
   "metadata": {},
   "outputs": [
    {
     "data": {
      "text/plain": [
       "0"
      ]
     },
     "execution_count": 1,
     "metadata": {},
     "output_type": "execute_result"
    }
   ],
   "source": [
    "# 在有序整数数组A[0...n-1]中，有所谓的魔术索引，满足条件A[i] = i,如果没有，则返回-1。若有多个魔术索引，返回索引值最小的一个。\n",
    "# 如果是无重复，那么就是普通的binary search，如果有重复，那么扣除index后无序，只能从左往右查找\n",
    "def findMagicIndex(nums):\n",
    "    \"\"\"\n",
    "    :type nums: List[int]\n",
    "    :rtype: int\n",
    "    \"\"\"\n",
    "    def getAnswer(nums,left,right):# 返回数组nums 的下标范围[left,right] 中第一个满足条件的答案，如果没有返回 -1\n",
    "        if left>right:\n",
    "            return -1\n",
    "        mid = left+(right-left)//2\n",
    "        leftAns = getAnswer(nums,left,mid-1)#左边寻找\n",
    "        if leftAns!=-1:#如果左边有\n",
    "            return leftAns\n",
    "        elif nums[mid]==mid:#如果左边没有但是中间满足\n",
    "            return mid\n",
    "        return getAnswer(nums,mid+1,right)#否则寻找右边\n",
    "\n",
    "    return getAnswer(nums,0,len(nums)-1)\n",
    "findMagicIndex(nums = [0, 2, 3, 4, 5])"
   ]
  },
  {
   "cell_type": "code",
   "execution_count": null,
   "metadata": {},
   "outputs": [],
   "source": [
    "# 658. Find K Closest Elements. sorted A矩阵中距离x值最近的k个元素\n",
    "\n",
    "def findClosestElements(A, k, x):\n",
    "    left, right = 0, len(A) - k\n",
    "    while left < right:\n",
    "        mid = (left + right) / 2\n",
    "        if x - A[mid] > A[mid + k] - x:\n",
    "            left = mid + 1\n",
    "        else:\n",
    "            right = mid\n",
    "    return A[left:left + k]"
   ]
  },
  {
   "cell_type": "code",
   "execution_count": 2,
   "metadata": {},
   "outputs": [
    {
     "data": {
      "text/plain": [
       "3"
      ]
     },
     "execution_count": 2,
     "metadata": {},
     "output_type": "execute_result"
    }
   ],
   "source": [
    "# 792. Number of Matching Subsequences，给定字符串S和很多小串，判断小串属于S子序列的个数\n",
    "\n",
    "# 统计S中每个字母出现的index，然后对每一个word中的字符用binarySearch，看是否能找到更靠右的\n",
    "import bisect\n",
    "def numMatchingSubseq(S, words):\n",
    "    \"\"\"\n",
    "    :type S: str\n",
    "    :type words: List[str]\n",
    "    :rtype: int\n",
    "    \"\"\"\n",
    "    pos = dict()\n",
    "    for i in range(len(S)):\n",
    "        if S[i] not in pos:\n",
    "            pos[S[i]] = []\n",
    "        pos[S[i]].append(i)\n",
    "\n",
    "    res=0\n",
    "    for word in words:\n",
    "        curidx = -1\n",
    "        for i in word:\n",
    "            if i not in pos:\n",
    "                break\n",
    "            idx = bisect.bisect_left(pos[i],curidx)\n",
    "            if idx==len(pos[i]):\n",
    "                break\n",
    "            curidx = pos[i][idx]+1\n",
    "        else:\n",
    "            res+=1\n",
    "    return res\n",
    "\n",
    "numMatchingSubseq(S = \"abcde\",words = [\"a\", \"bb\", \"acd\", \"ace\"])"
   ]
  },
  {
   "cell_type": "code",
   "execution_count": 3,
   "metadata": {},
   "outputs": [
    {
     "data": {
      "text/plain": [
       "877"
      ]
     },
     "execution_count": 3,
     "metadata": {},
     "output_type": "execute_result"
    }
   ],
   "source": [
    "# 826. Most Profit Assigning Work\n",
    "\n",
    "import bisect\n",
    "def maxProfitAssignment(difficulty, profit, worker):\n",
    "    \"\"\"\n",
    "    :type difficulty: List[int]\n",
    "    :type profit: List[int]\n",
    "    :type worker: List[int]\n",
    "    :rtype: int\n",
    "    \"\"\"\n",
    "    w = sorted(zip(difficulty,profit))\n",
    "    difficulty,profit = [w[0][0]],[w[0][1]]\n",
    "    for i in range(1,len(w)):\n",
    "        if w[i][1]<=profit[-1]:#如果多花了工夫，但是获利更少\n",
    "            continue\n",
    "        if w[i][0]==difficulty[-1]:#如果本来可以获利更多，但是需要一样的工夫\n",
    "            difficulty.pop()\n",
    "            profit.pop()\n",
    "        difficulty.append(w[i][0])\n",
    "        profit.append(w[i][1])\n",
    "\n",
    "    res = 0\n",
    "    for work in worker:\n",
    "        idx = bisect.bisect_left(difficulty,work)\n",
    "        if idx<len(difficulty) and difficulty[idx]==work:\n",
    "            res+=profit[idx]\n",
    "        else:\n",
    "            idx = idx-1\n",
    "            if idx>=0:\n",
    "                res+=profit[idx]\n",
    "    return res\n",
    "\n",
    "\n",
    "def maxProfitAssignment(difficulty, profit, worker):\n",
    "    jobs = sorted(zip(difficulty, profit))\n",
    "    res = i = best = 0\n",
    "    for ability in sorted(worker):\n",
    "        while i < len(jobs) and ability >= jobs[i][0]:#对于每个worker，找到它能力以下的最大profit\n",
    "            best = max(jobs[i][1], best)#用max可以处理难度profit不一致的情况\n",
    "            i += 1\n",
    "        res += best\n",
    "    return res\n",
    "maxProfitAssignment([9,16,16,29,35,41,42,46,54,57,61,63,69,72,75,76,84,93,93,95],[4,7,18,22,25,32,34,35,38,44,51,60,61,71,74,77,89,95,96,96],[29,81,10,90,13,11,88,50,7,28,28,85,66,45,50,89,93,7,89,40])"
   ]
  },
  {
   "cell_type": "code",
   "execution_count": 1,
   "metadata": {},
   "outputs": [
    {
     "data": {
      "text/plain": [
       "[1, 0, 2]"
      ]
     },
     "execution_count": 1,
     "metadata": {},
     "output_type": "execute_result"
    }
   ],
   "source": [
    "# 牛客网，https://www.nowcoder.com/practice/d25162386a3140cbbe6dc071e1eb6ed6?tpId=137&&tqId=33885&rp=1&ru=/ta/exam-bytedance&qru=/ta/exam-bytedance/question-ranking\n",
    "# 给定一个序列arr，对每一个query，(left,right,val)，index从left到right(inclusive)，等于val的有多少\n",
    "import bisect\n",
    "def queryRange(arr,queries):\n",
    "    counts = dict()\n",
    "    for i,c in enumerate(arr):\n",
    "        counts[c] = counts.get(c,[])+[i]\n",
    "    res = []\n",
    "    for left,right,val in queries:\n",
    "        left,right = left-1,right-1\n",
    "        if val not in counts:\n",
    "            res.append(0)\n",
    "            continue\n",
    "        idx1 = bisect.bisect_left(counts[val],left)\n",
    "        idx2 = bisect.bisect_left(counts[val],right)\n",
    "        if idx2==len(counts[val]) or counts[val][idx2]!=right:\n",
    "            res.append(idx2-idx1)\n",
    "        else:\n",
    "            res.append(idx2-idx1+1)\n",
    "    return res\n",
    "arr = [1, 2, 3, 3, 5]\n",
    "queries = [[1,2,1],\n",
    "[2,4,5],\n",
    "[3,5,3]]\n",
    "queryRange(arr,queries)"
   ]
  },
  {
   "cell_type": "code",
   "execution_count": 12,
   "metadata": {},
   "outputs": [
    {
     "data": {
      "text/plain": [
       "8"
      ]
     },
     "execution_count": 12,
     "metadata": {},
     "output_type": "execute_result"
    }
   ],
   "source": [
    "# 牛客网，https://www.nowcoder.com/practice/dcc301bc11a7420b88afdbd272299809?tpId=137&&tqId=33880&rp=1&ru=/ta/exam-bytedance&qru=/ta/exam-bytedance/question-ranking\n",
    "# 有一个仅包含’a’和’b’两种字符的字符串s，长度为n，每次操作可以把一个字符做一次转换（把一个’a’设置为’b’，或者把一个’b’置成’a’)；但是操作的次数有上限m\n",
    "# 问在有限的操作数范围内，能够得到最大连续的相同字符的子串的长度是多少。\n",
    "def longestConsecutive(s,m):\n",
    "    preb = [0]\n",
    "    for index,i in enumerate(s):\n",
    "        preb.append(preb[-1]+int(i=='a'))\n",
    "    prea = [0 for _ in range(len(preb))]\n",
    "    for i in range(len(preb)):\n",
    "        prea[i] = i-preb[i]\n",
    "\n",
    "    maximum = m\n",
    "    for i in range(m,len(prea)):\n",
    "        idx = bisect.bisect_left(prea,prea[i]-m)\n",
    "        idx2 = bisect.bisect_left(preb,preb[i]-m)\n",
    "        maximum = max(maximum,i-idx,i-idx2)\n",
    "    return maximum\n",
    "\n",
    "# sliding window\n",
    "def longestConsecutive(s, m):\n",
    "    res = m                    # 初始化长度为m，因为即使是把前m个字符全改成a或b也没问题\n",
    "    num_a = s[:m].count(\"a\")   # 记录a的个数\n",
    "    num_b = m - num_a          # 记录b的个数\n",
    "    start = 0                  # 记录起始下标\n",
    "    for i in range(m, len(s)):      # 开始遍历\n",
    "        if s[i]=='a':\n",
    "            num_a += 1         # 更新a的个数\n",
    "        else:\n",
    "            num_b += 1         # 更新b的个数\n",
    "        if min(num_a, num_b) <= m:    # 这种情况说明m个替代操作内可以使字符串变成一种\n",
    "            res = max(res , i-start+1)# 以s[i]结尾的情况下的最大长度为i-start+1\n",
    "        elif s[start] == 'a':  # 当a和b的长度都超过m时，起点必须要变才能使m个操作内的替代成立\n",
    "            num_a -= 1         # 如果起点位置为a，则更新a的个数\n",
    "            start += 1         # 更新起点位置\n",
    "        else:\n",
    "            num_b -= 1         # 如果起点位置为a，则更新a的个数\n",
    "            start += 1         # 更新起点位置\n",
    "    return res\n",
    "longestConsecutive(\"aabaabaa\",2)"
   ]
  },
  {
   "cell_type": "code",
   "execution_count": null,
   "metadata": {},
   "outputs": [],
   "source": []
  },
  {
   "cell_type": "markdown",
   "metadata": {},
   "source": [
    "## binary Search的其它类型\n",
    "528. Random Pick with Weight, 给定weights arr，按照weights生成随机数\n",
    "302. Smallest Rectangle Enclosing Black Pixels,给定一个grid上连通的图案，给定图案上一个点，问图案的上下左右"
   ]
  },
  {
   "cell_type": "code",
   "execution_count": 38,
   "metadata": {},
   "outputs": [],
   "source": [
    "# 528. Random Pick with Weight, 给定weights arr，按照weights生成随机数\n",
    "\n",
    "import random\n",
    "import bisect\n",
    "class Solution(object):\n",
    "\n",
    "    def __init__(self, w):\n",
    "        \"\"\"\n",
    "        :type w: List[int]\n",
    "        \"\"\"\n",
    "        self.total = sum(w)\n",
    "        self.presum = [w[0]]\n",
    "        for i in range(1,len(w)):\n",
    "            self.presum.append(self.presum[-1]+w[i])\n",
    "            \n",
    "    def binarySearch(self,target):\n",
    "        left = 0\n",
    "        right = len(self.presum)\n",
    "        while left<right:\n",
    "            mid = left+(right-left)//2\n",
    "            if self.presum[mid]<target:\n",
    "                left = mid+1\n",
    "            else:\n",
    "                right = mid\n",
    "        return left\n",
    "        \n",
    "    def pickIndex(self):\n",
    "        \"\"\"\n",
    "        :rtype: int\n",
    "        \"\"\"\n",
    "        t = random.random()\n",
    "        return self.binarySearch(t*self.total)\n",
    "    \n",
    "# 497. Random Point in Non-overlapping Rectangles, 多个二维矩阵里随机选取一个点    \n",
    "class Solution:\n",
    "    def __init__(self, rects):\n",
    "        self.rects, self.ranges, sm = rects, [], 0\n",
    "        for x1, y1, x2, y2 in rects:\n",
    "            sm += (x2 - x1 + 1) * (y2 - y1 + 1)\n",
    "            self.ranges.append(sm)\n",
    "\n",
    "    def pick(self):\n",
    "        x1, y1, x2, y2 = self.rects[bisect.bisect_left(self.ranges, random.randint(1, self.ranges[-1]))]\n",
    "        return [random.randint(x1, x2), random.randint(y1, y2)]"
   ]
  },
  {
   "cell_type": "code",
   "execution_count": 6,
   "metadata": {},
   "outputs": [
    {
     "data": {
      "text/plain": [
       "6"
      ]
     },
     "execution_count": 6,
     "metadata": {},
     "output_type": "execute_result"
    }
   ],
   "source": [
    "# 302. Smallest Rectangle Enclosing Black Pixels,给定一个grid上连通的图案，给定图案上一个点，问图案的上下左右\n",
    "# 对于这个连通图，点一定位于投影到某条边的连通区域，通过二分法查找\n",
    "def minArea(image, x, y):\n",
    "    def search(i, j, check):\n",
    "        while i != j:\n",
    "            mid = (i + j) // 2\n",
    "            if check(mid):\n",
    "                j = mid\n",
    "            else:\n",
    "                i = mid + 1\n",
    "        return i\n",
    "    top = search(0, x, lambda mid: '1' in image[mid])\n",
    "    bottom = search(x + 1, len(image), lambda mid: '1' not in image[mid])\n",
    "    left = search(0, y, lambda mid: any(image[k][mid] == '1' for k in range(top, bottom)))\n",
    "    right = search(y + 1, len(image[0]), lambda mid: all(image[k][mid] == '0' for k in range(top, bottom)))\n",
    "    return (right - left) * (bottom - top)\n",
    "minArea([[\"0\",\"0\",\"1\",\"0\"],[\"0\",\"1\",\"1\",\"0\"],[\"0\",\"1\",\"0\",\"0\"]],0,2)"
   ]
  },
  {
   "cell_type": "code",
   "execution_count": 4,
   "metadata": {},
   "outputs": [],
   "source": [
    "# 209. Minimum Size Subarray Sum,最小的和>=s的子序列长度，对presum每一个值往前做二分查找\n",
    "def minSubArrayLen(s, nums):\n",
    "    \"\"\"\n",
    "    :type s: int\n",
    "    :type nums: List[int]\n",
    "    :rtype: int\n",
    "    \"\"\"\n",
    "    for i in range(1,len(nums)):# get prefix sum\n",
    "        nums[i] = nums[i]+nums[i-1]\n",
    "    nums = [0]+nums\n",
    "\n",
    "    def find_idx(nums,i,target):#from nums[0:i] find index of target\n",
    "        left,right=0,i\n",
    "        while left<right:\n",
    "            mid = left+(right-left)//2\n",
    "            if nums[mid]<target:\n",
    "                left = mid+1\n",
    "            else:\n",
    "                right = mid\n",
    "        return left if nums[left]==target else left-1\n",
    "\n",
    "    minimum = float('inf')\n",
    "    for i in range(1,len(nums)):\n",
    "        j = find_idx(nums,i,nums[i]-s)\n",
    "        if j>=0:\n",
    "            minimum = min(minimum,i-j)\n",
    "    return minimum if minimum!=float('inf') else 0"
   ]
  },
  {
   "cell_type": "markdown",
   "metadata": {},
   "source": [
    "### 求最值，想清楚取值范围（有限，最大最小值？求和？），对每一个值去判断是否成立\n",
    "1283. Find the Smallest Divisor Given a Threshold，找到最小的divisor，使得每个num计算出来的结果的和小于等于threshold\n",
    "875. Koko Eating Bananas,给定piles，每个数除以K向上取整，保证和小于H的情况下，求最小的K值\n",
    "410. Split Array Largest Sum,将列表分为相连的m份，求最小的最大和，用binarysearch从max到sum之间取值，然后依次划分\n",
    "644. Maximum Average Subarray II，subarray长度大于K的情况下，最大subarray平均值\n",
    "300. Longest Increasing Subsequence,最长的递增序列\n",
    "354. Russian Doll Envelopes, 大矩阵套小矩阵，最多能套多少次\n",
    "1292. Maximum Side Length of a Square with Sum Less than or Equal to Threshold，面积不超过threshold的最大边长\n",
    "1300. Sum of Mutated Array Closest to Target,找到最小的val使得arr通过val转换后的值尽可能靠近target\n",
    "1102. Path With Maximum Minimum Value，从左上到右下路径中最小值的最大值"
   ]
  },
  {
   "cell_type": "code",
   "execution_count": 1,
   "metadata": {},
   "outputs": [
    {
     "data": {
      "text/plain": [
       "3"
      ]
     },
     "execution_count": 1,
     "metadata": {},
     "output_type": "execute_result"
    }
   ],
   "source": [
    "# 1283. Find the Smallest Divisor Given a Threshold，找到最小的divisor，使得每个num计算出来的结果的和小于等于threshold\n",
    "def smallestDivisor(nums, threshold):\n",
    "    \"\"\"\n",
    "    :type nums: List[int]\n",
    "    :type threshold: int\n",
    "    :rtype: int\n",
    "    \"\"\"\n",
    "    def calculate(nums,divisor):\n",
    "        res = 0\n",
    "        for i in nums:\n",
    "            if i%divisor==0:\n",
    "                res+=i//divisor\n",
    "            else:\n",
    "                res+=i//divisor+1\n",
    "        return res\n",
    "\n",
    "    left = 1\n",
    "    right = max(nums)\n",
    "    while left<right:\n",
    "        mid = left+(right-left)//2\n",
    "        res = calculate(nums,mid)\n",
    "        if res>threshold:\n",
    "            left = mid+1\n",
    "        else:\n",
    "            right = mid\n",
    "    return left\n",
    "smallestDivisor(nums = [2,3,5,7,11], threshold = 11)"
   ]
  },
  {
   "cell_type": "code",
   "execution_count": 2,
   "metadata": {},
   "outputs": [
    {
     "data": {
      "text/plain": [
       "4"
      ]
     },
     "execution_count": 2,
     "metadata": {},
     "output_type": "execute_result"
    }
   ],
   "source": [
    "# 875. Koko Eating Bananas,给定piles，每个数除以K向上取整，保证和小于H的情况下，求最小的K值\n",
    "# K范围为1-max，binarysearch，和#1284差不多\n",
    "def minEatingSpeed(piles, H):\n",
    "    \"\"\"\n",
    "    :type piles: List[int]\n",
    "    :type H: int\n",
    "    :rtype: int\n",
    "    \"\"\"\n",
    "    if len(piles)==H:\n",
    "        return max(piles)\n",
    "    left = 1\n",
    "    right = max(piles)\n",
    "\n",
    "    while left<right:\n",
    "        mid = left+(right-left)//2\n",
    "        temp = sum((i-1)//mid+1 for i in piles)\n",
    "        if temp>H:#需要的时间太多,说明吃的太慢了\n",
    "            left = mid+1\n",
    "        else:\n",
    "            right = mid\n",
    "    return left\n",
    "minEatingSpeed(piles = [3,6,7,11], H = 8)"
   ]
  },
  {
   "cell_type": "code",
   "execution_count": 52,
   "metadata": {},
   "outputs": [
    {
     "data": {
      "text/plain": [
       "18"
      ]
     },
     "execution_count": 52,
     "metadata": {},
     "output_type": "execute_result"
    }
   ],
   "source": [
    "# 410. Split Array Largest Sum,将列表分为相连的m份，求最小的最大和，用binarysearch从max到sum之间取值，然后依次划分\n",
    "def splitArray(nums, m):\n",
    "    \"\"\"\n",
    "    :type nums: List[int]\n",
    "    :type m: int\n",
    "    :rtype: int\n",
    "    \"\"\"\n",
    "    minsum = max(nums)\n",
    "    maxsum = sum(nums)\n",
    "\n",
    "    while minsum<maxsum:\n",
    "        target = minsum+(maxsum-minsum)//2\n",
    "        cursum = 0\n",
    "        count = 0\n",
    "        for i in range(len(nums)):\n",
    "            if cursum+nums[i]>target:\n",
    "                cursum = 0\n",
    "                count+=1\n",
    "            cursum+=nums[i]\n",
    "            if count>=m and i<len(nums):#the target is too small,already m segments but the list is not completed\n",
    "                minsum = target+1\n",
    "                break\n",
    "        # After the whole segment, the number of segments is <=m\n",
    "        if count<m:\n",
    "            maxsum = target\n",
    "    return minsum\n",
    "splitArray([7,2,5,10,8],2)"
   ]
  },
  {
   "cell_type": "code",
   "execution_count": 4,
   "metadata": {},
   "outputs": [
    {
     "data": {
      "text/plain": [
       "12.749995231628418"
      ]
     },
     "execution_count": 4,
     "metadata": {},
     "output_type": "execute_result"
    }
   ],
   "source": [
    "# 644. Maximum Average Subarray II，subarray长度大于K的情况下，最大subarray平均值\n",
    "# 这个均值最小为最小值，最大为最大值，二分法判断这个均值是否能达到\n",
    "def findMaxAverage(nums, k):\n",
    "    \"\"\"\n",
    "    :type nums: List[int]\n",
    "    :type k: int\n",
    "    :rtype: float\n",
    "    \"\"\"\n",
    "    def canReach(nums,mid,k):#can we find a maximum average larger than mid with length>=k?\n",
    "        # 将每个数减去mid，那么就相当于找到长度不小于K的subarray，使得和大于0，存储i-k以前的minimum，找到cursum>=minimum即可\n",
    "        cursum = 0\n",
    "        for i in range(k):#前K个数的cursum\n",
    "            cursum = cursum+nums[i]-mid\n",
    "        if cursum>=0:\n",
    "            return True\n",
    "        prev,minimum = 0.0,0.0\n",
    "        for i in range(k,len(nums)):\n",
    "            cursum = cursum+nums[i]-mid\n",
    "            prev = prev+nums[i-k]-mid\n",
    "            minimum = min(minimum,prev)\n",
    "            if cursum>=minimum:\n",
    "                return True\n",
    "        return False\n",
    "\n",
    "    left = min(nums)\n",
    "    right = max(nums)\n",
    "    while right-left>1E-5:\n",
    "        mid = left + (right-left)/2.0\n",
    "        if canReach(nums,mid,k):\n",
    "            left = mid\n",
    "        else:\n",
    "            right = mid\n",
    "    return left\n",
    "findMaxAverage([1,12,-5,-6,50,3], k = 4)"
   ]
  },
  {
   "cell_type": "code",
   "execution_count": 1,
   "metadata": {},
   "outputs": [
    {
     "name": "stdout",
     "output_type": "stream",
     "text": [
      "[2, 3, 7, 18]\n"
     ]
    },
    {
     "data": {
      "text/plain": [
       "4"
      ]
     },
     "execution_count": 1,
     "metadata": {},
     "output_type": "execute_result"
    }
   ],
   "source": [
    "# 300. Longest Increasing Subsequence,最长的递增序列\n",
    "# 虽然得到的子序列不对，但是长度是对的\n",
    "# 和334. Increasing Triplet Subsequence类似\n",
    "def lengthOfLIS(nums):\n",
    "    \"\"\"\n",
    "    :type nums: List[int]\n",
    "    :rtype: int\n",
    "    \"\"\"\n",
    "    dp = [nums[0]]\n",
    "    def binarySearch(arr,target):\n",
    "        left = 0\n",
    "        right = len(arr)\n",
    "        while left<right:\n",
    "            mid = left+(right-left)//2\n",
    "            if arr[mid]<target:\n",
    "                left = mid+1\n",
    "            else:\n",
    "                right = mid\n",
    "        return left\n",
    "\n",
    "    for i in nums[1:]:\n",
    "        index = binarySearch(dp,i)\n",
    "        if index == len(dp):\n",
    "            dp.append(i)\n",
    "        else:\n",
    "            dp[index]=i\n",
    "\n",
    "    print(dp)\n",
    "    return len(dp)\n",
    "lengthOfLIS([10,9,2,5,3,7,101,18])\n",
    "\n",
    "# 354. Russian Doll Envelopes, 大矩阵套小矩阵，最多能套多少次\n",
    "# 按照一个方向排序，如果相等，另一个方向降序，那么问题就成了在另一个方向寻找最长递增子序列了\n",
    "def maxEnvelopes(envelopes):\n",
    "    \"\"\"\n",
    "    :type envelopes: List[List[int]]\n",
    "    :rtype: int\n",
    "    \"\"\"\n",
    "    if not envelopes:\n",
    "        return 0\n",
    "    envelopes = sorted(envelopes,key=lambda x:(x[0],-x[1]))\n",
    "    def binarySearch(arr,target):\n",
    "        left = 0\n",
    "        right = len(arr)\n",
    "        while left<right:\n",
    "            mid = left+(right-left)//2\n",
    "            if arr[mid]<target:\n",
    "                left = mid+1\n",
    "            else:\n",
    "                right = mid\n",
    "        return left\n",
    "\n",
    "    dp = [envelopes[0][1]]\n",
    "    for i,j in envelopes[1:]:\n",
    "        index = binarySearch(dp,j)\n",
    "        if index==len(dp):\n",
    "            dp.append(j)\n",
    "        else:\n",
    "            dp[index]=j\n",
    "    return len(dp)\n",
    "maxEnvelopes([[2,3],[1,2],[3,2],[4,8],[4,3],[1,5],[8,6],[6,8],[5,5],[7,4],[8,7]])"
   ]
  },
  {
   "cell_type": "code",
   "execution_count": 2,
   "metadata": {},
   "outputs": [
    {
     "data": {
      "text/plain": [
       "3"
      ]
     },
     "execution_count": 2,
     "metadata": {},
     "output_type": "execute_result"
    }
   ],
   "source": [
    "# 1292. Maximum Side Length of a Square with Sum Less than or Equal to Threshold，面积不超过threshold的最大边长\n",
    "def maxSideLength(mat, threshold):\n",
    "    \"\"\"\n",
    "    :type mat: List[List[int]]\n",
    "    :type threshold: int\n",
    "    :rtype: int\n",
    "    \"\"\"\n",
    "    def isValid(a):# has square with side length=a\n",
    "        if a==0:\n",
    "            return True\n",
    "        if mat[a-1][a-1]<=threshold:\n",
    "            return True\n",
    "        for i in range(1,m-a+1):\n",
    "            if mat[i+a-1][a-1]-mat[i-1][a-1]<=threshold:\n",
    "                return True\n",
    "        for j in range(1,n-a+1):\n",
    "            if mat[a-1][j+a-1]-mat[a-1][j-1]<=threshold:\n",
    "                return True\n",
    "        for i in range(1,m-a+1):\n",
    "            for j in range(1,n-a+1):\n",
    "                res = mat[i+a-1][j+a-1]-mat[i+a-1][j-1]-mat[i-1][j+a-1]+mat[i-1][j-1]\n",
    "                if res<=threshold:\n",
    "                    return True\n",
    "        return False\n",
    "\n",
    "    m,n = len(mat),len(mat[0])\n",
    "    for j in range(1,n):\n",
    "        mat[0][j] += mat[0][j-1]\n",
    "    for i in range(1,m):\n",
    "        mat[i][0] += mat[i-1][0]\n",
    "    for i in range(1,m):\n",
    "        for j in range(1,n):\n",
    "            mat[i][j] += mat[i-1][j]+mat[i][j-1]-mat[i-1][j-1]\n",
    "\n",
    "    left = 0\n",
    "    right = min(m,n)+1\n",
    "    while left<right:\n",
    "        mid = left+(right-left)//2\n",
    "        if isValid(mid):\n",
    "            left = mid+1\n",
    "        else:\n",
    "            right = mid\n",
    "    return left-1\n",
    "maxSideLength(mat = [[1,1,1,1],[1,0,0,0],[1,0,0,0],[1,0,0,0]], threshold = 6)"
   ]
  },
  {
   "cell_type": "code",
   "execution_count": 1,
   "metadata": {},
   "outputs": [
    {
     "data": {
      "text/plain": [
       "11361"
      ]
     },
     "execution_count": 1,
     "metadata": {},
     "output_type": "execute_result"
    }
   ],
   "source": [
    "#1300. Sum of Mutated Array Closest to Target,找到最小的val使得arr通过val转换后的值尽可能靠近target\n",
    "def findBestValue(arr, target):\n",
    "    \"\"\"\n",
    "    :type arr: List[int]\n",
    "    :type target: int\n",
    "    :rtype: int\n",
    "    \"\"\"\n",
    "    minimum,maximum,length = min(arr),max(arr),len(arr)\n",
    "    left = min(minimum,target//length-1)\n",
    "    right = maximum+1\n",
    "    def check(v):\n",
    "        return sum(v if a > v else a for a in arr)\n",
    "\n",
    "    while left<right:\n",
    "        mid = left+(right-left)//2\n",
    "        temp = check(mid)\n",
    "        if temp<target:\n",
    "            left = mid+1\n",
    "        elif temp>target:\n",
    "            right = mid\n",
    "        else:\n",
    "            return mid  \n",
    "    return left-1 if abs(check(left-1)-target)<=abs(check(left)-target) else left\n",
    "findBestValue(arr = [60864,25176,27249,21296,20204], target = 56803)"
   ]
  },
  {
   "cell_type": "code",
   "execution_count": 3,
   "metadata": {},
   "outputs": [],
   "source": [
    "# 1102. Path With Maximum Minimum Value，从左上到右下路径中最小值的最大值\n",
    "# https://leetcode.com/problems/path-with-maximum-minimum-value/discuss/416227/Python-Dijkstra-Binary-Search-%2B-DFS-Union-Find-complexity-analysis\n",
    "def maximumMinimumPath(A):\n",
    "    \"\"\"\n",
    "    :type A: List[List[int]]\n",
    "    :rtype: int\n",
    "    \"\"\"\n",
    "    m,n = len(A),len(A[0])\n",
    "    left,right = min(min(i) for i in A),max(max(i) for i in A)+1\n",
    "    def canWork(val):\n",
    "        if A[0][0]<val:\n",
    "            return False\n",
    "        visited = [[False for _ in range(n)] for _ in range(m)]\n",
    "        level = {(0,0)}\n",
    "        while level:\n",
    "            newlevel = set()\n",
    "            for i,j in level:\n",
    "                if (i,j)==(m-1,n-1):\n",
    "                    return True\n",
    "                for dx,dy in [(-1,0),(1,0),(0,-1),(0,1)]:\n",
    "                    x,y=i+dx,j+dy\n",
    "                    if 0<=x<m and 0<=y<n and not visited[x][y] and A[x][y]>=val:\n",
    "                        newlevel.add((x,y))\n",
    "                        visited[x][y]=True\n",
    "            level = newlevel\n",
    "        return False\n",
    "\n",
    "    while left<right:\n",
    "        mid = left+(right-left)//2\n",
    "        if canWork(mid):\n",
    "            left = mid+1\n",
    "        else:\n",
    "            right = mid\n",
    "    return left-1\n",
    "\n",
    "maximumMinimumPath([[0,1,0,0,0,1],[0,1,1,0,0,0],[0,0,1,1,0,1],[0,1,1,1,1,0],[1,1,1,1,1,1]])\n",
    "\n",
    "\n",
    "# 用heap\n",
    "import heapq\n",
    "def maximumMinimumPath(A):\n",
    "    dire = [(0, 1), (1, 0), (0, -1), (-1, 0)]\n",
    "    R, C = len(A), len(A[0])\n",
    "\n",
    "    maxHeap = [(-A[0][0], 0, 0)]\n",
    "    seen = [[0 for _ in range(C)] for _ in range(R)]\n",
    "    while maxHeap:\n",
    "        val, x, y = heapq.heappop(maxHeap)\n",
    "        # seen[x][y] = 1 # got TLE\n",
    "        if x == R - 1 and y == C - 1: return -val\n",
    "        for dx, dy in dire:\n",
    "            nx, ny = x + dx, y + dy\n",
    "            if 0 <= nx < R and 0 <= ny < C and not seen[nx][ny]:\n",
    "                seen[nx][ny] = 1 # passed\n",
    "                heapq.heappush(maxHeap, (max(val, -A[nx][ny]), nx, ny))\n",
    "    return -1"
   ]
  },
  {
   "cell_type": "code",
   "execution_count": 1,
   "metadata": {},
   "outputs": [
    {
     "data": {
      "text/plain": [
       "3"
      ]
     },
     "execution_count": 1,
     "metadata": {},
     "output_type": "execute_result"
    }
   ],
   "source": [
    "# 5455. Minimum Number of Days to Make m Bouquets,一个数组，最少需要多大的数，使得小于它的数能形成至少m个长度为k的subarray\n",
    "\n",
    "def minDays(bloomDay, m, k):\n",
    "    \"\"\"\n",
    "    :type bloomDay: List[int]\n",
    "    :type m: int\n",
    "    :type k: int\n",
    "    :rtype: int\n",
    "    \"\"\"\n",
    "    if m*k>len(bloomDay):\n",
    "        return -1        \n",
    "    def canWork(days):\n",
    "        curcount,cur = 0,0 # bouquets,curlen\n",
    "        for i in range(len(bloomDay)):\n",
    "            if bloomDay[i]>days:\n",
    "                cur = 0\n",
    "            else:\n",
    "                cur += 1\n",
    "                if cur==k:\n",
    "                    cur = 0\n",
    "                    curcount+=1\n",
    "                    if curcount==m:\n",
    "                        return True\n",
    "        return False\n",
    "\n",
    "    left = 0\n",
    "    right = max(bloomDay)+1\n",
    "    while left<right:\n",
    "        mid = left+(right-left)//2\n",
    "        if canWork(mid):#如果mid可以满足\n",
    "            right = mid\n",
    "        else:\n",
    "            left = mid+1\n",
    "    return left\n",
    "minDays(bloomDay = [1,10,3,10,2], m = 3, k = 1)"
   ]
  },
  {
   "cell_type": "markdown",
   "metadata": {},
   "source": [
    "# trial and error algorithm\n",
    "#### 第k个数，对某个value，对每一个m，找出对应的n\n",
    "786. K-th Smallest Prime Fraction，一组质数给出第K小的分数\n",
    "\n",
    "774. Minimize Max Distance to Gas Station，给array中插入K个值，最小的最大值\n",
    "\n",
    "719. Find K-th Smallest Pair Distance，给定数组中距离第k小的pair的值\n",
    "\n",
    "668. Kth Smallest Number in Multiplication Table，乘法表里的第k个数\n",
    "\n",
    "644. Maximum Average Subarray II\n",
    "\n",
    "378. Kth Smallest Element in a Sorted Matrix，sorted matrix里第k小的数"
   ]
  },
  {
   "cell_type": "code",
   "execution_count": 2,
   "metadata": {},
   "outputs": [
    {
     "data": {
      "text/plain": [
       "3"
      ]
     },
     "execution_count": 2,
     "metadata": {},
     "output_type": "execute_result"
    }
   ],
   "source": [
    "# 668. Kth Smallest Number in Multiplication Table，乘法表里的第k个数\n",
    "def findKthNumber(m, n, k):\n",
    "    \"\"\"\n",
    "    :type m: int\n",
    "    :type n: int\n",
    "    :type k: int\n",
    "    :rtype: int\n",
    "    \"\"\"\n",
    "    left,right = 1,m*n+1\n",
    "    while left<right:#返回某个值left，为最小的满足小于等于left的个数等于k\n",
    "        mid = left+(right-left)//2#小于等于mid的个数；小于等于mid-1的个数不是k\n",
    "        count = 0\n",
    "        for i in range(1,m+1):\n",
    "            count+= min(mid//i,n)\n",
    "        if count<k:\n",
    "            left = mid+1\n",
    "        else:\n",
    "            right = mid\n",
    "    return left"
   ]
  },
  {
   "cell_type": "code",
   "execution_count": 3,
   "metadata": {},
   "outputs": [],
   "source": [
    "# 719. Find K-th Smallest Pair Distance,给定数组中距离第k小的pair的值\n",
    "# 最小值为0，最大值为num,计算每一个值对应的pair的个数\n",
    "# 计算时，可以对每个值做binary search查找，也可以用双指针\n",
    "\n",
    "import bisect\n",
    "def smallestDistancePair(nums, k):\n",
    "    \"\"\"\n",
    "    :type nums: List[int]\n",
    "    :type k: int\n",
    "    :rtype: int\n",
    "    \"\"\"\n",
    "    nums.sort()\n",
    "\n",
    "    def calNum(dis):#距离小于dis的pair的数量\n",
    "        res = 0\n",
    "        for i,num in enumerate(nums):\n",
    "            index = bisect.bisect_left(nums,num+dis)\n",
    "            res+=index-i-1\n",
    "        return res\n",
    "\n",
    "    left = 0\n",
    "    right = nums[-1]-nums[0]+2\n",
    "    while left<right:\n",
    "        mid = left+(right-left)//2\n",
    "        if calNum(mid)<k:#小于mid的pair小于k\n",
    "            left = mid+1\n",
    "        else:\n",
    "            right = mid\n",
    "    # 最终得到的left是最小的满足距离小于left的数量为k的值\n",
    "    return left-1"
   ]
  },
  {
   "cell_type": "code",
   "execution_count": 23,
   "metadata": {},
   "outputs": [
    {
     "data": {
      "text/plain": [
       "[1, 13]"
      ]
     },
     "execution_count": 23,
     "metadata": {},
     "output_type": "execute_result"
    }
   ],
   "source": [
    "# 786. K-th Smallest Prime Fraction，一组质数给出第K小的分数，用binarySearch不断找小于mid的个数，同时记录答案，O(n*log(MAX - MIN))\n",
    "# 也可以用heap，先将A[0]/A[i]全部push，然后一个个往后移动，复杂度为(K+N)logN\n",
    "def kthSmallestPrimeFraction(A, K):\n",
    "    \"\"\"\n",
    "    :type A: List[int]\n",
    "    :type K: int\n",
    "    :rtype: List[int]\n",
    "    \"\"\"\n",
    "    left,right = A[0]*1.0/A[-1],1.0\n",
    "    p,q = 0,1\n",
    "    while True:\n",
    "        mid = (left+right)/2.0\n",
    "        count = 0\n",
    "        i = 0\n",
    "        p = 0#刚才的mid不满足，这里要重置，否则可能走过了\n",
    "        for j in range(1,len(A)):#小于等于num的个数\n",
    "            while i<j and A[i]*1.0/A[j]<=mid:\n",
    "                i+=1\n",
    "            count+=i\n",
    "            if i!=0 and p*A[j]<q*A[i-1]:#往前一格是满足的，此时的A[i-1]/A[j]为最靠近mid\n",
    "                p,q = A[i-1],A[j]\n",
    "        if count==K:\n",
    "            return [p,q]\n",
    "        if count<K:#如果数量小于K，那么增大范围\n",
    "            left = mid\n",
    "        else:\n",
    "            right=mid\n",
    "kthSmallestPrimeFraction(A = [1, 2, 3, 5,7,11,13,17,19,23,29,31,37], K =10 )"
   ]
  },
  {
   "cell_type": "code",
   "execution_count": 58,
   "metadata": {},
   "outputs": [
    {
     "data": {
      "text/plain": [
       "0.4999999867022037"
      ]
     },
     "execution_count": 58,
     "metadata": {},
     "output_type": "execute_result"
    }
   ],
   "source": [
    "# 774. Minimize Max Distance to Gas Station,给array中插入K个值，最小的最大值\n",
    "def minmaxGasDist(stations, K):\n",
    "    \"\"\"\n",
    "    :type stations: List[int]\n",
    "    :type K: int\n",
    "    :rtype: float\n",
    "    \"\"\"\n",
    "    stations.sort()\n",
    "    left = 0.0\n",
    "    right = max(stations[i+1]-stations[i] for i in range(len(stations)-1))+10**(-4)\n",
    "\n",
    "    def findStations(d):#距离为d时，需要的站点数量\n",
    "        res = 0\n",
    "        for i in range(len(stations)-1):\n",
    "            res+= int((stations[i+1]-stations[i]-10**(-10))/d)\n",
    "        return res\n",
    "\n",
    "    while (right-left)>10**(-7):\n",
    "        mid = left+(right-left)/2.0\n",
    "        count = findStations(mid)\n",
    "        if count>K:#如果需要的多于K个\n",
    "            left = mid\n",
    "        else:\n",
    "            right = mid\n",
    "    return left\n",
    "minmaxGasDist(stations = [1, 2, 3, 4, 5, 6, 7, 8, 9, 10], K = 9)"
   ]
  },
  {
   "cell_type": "code",
   "execution_count": 59,
   "metadata": {},
   "outputs": [
    {
     "data": {
      "text/plain": [
       "5"
      ]
     },
     "execution_count": 59,
     "metadata": {},
     "output_type": "execute_result"
    }
   ],
   "source": [
    "# 793. Preimage Size of Factorial Zeroes Function,阶乘拥有K个0的数的数量\n",
    "def preimageSizeFZF(K):\n",
    "    \"\"\"\n",
    "    :type K: int\n",
    "    :rtype: int\n",
    "    \"\"\"\n",
    "    def getZero(n):#zero for n!\n",
    "        res = 0\n",
    "        while n>=5:\n",
    "            n = n//5\n",
    "            res+=n\n",
    "        return res\n",
    "\n",
    "    left = 0\n",
    "    right = 10**10\n",
    "    while left<right:\n",
    "        mid = left+(right-left)//2\n",
    "        count = getZero(mid)#mid数得到的0\n",
    "        if count<K:#最小的有大于K-1个0的数字\n",
    "            left = mid+1\n",
    "        else:\n",
    "            right = mid\n",
    "    return 5 if getZero(left) == K else 0#如果是K，说明有5个，如果不是，\n",
    "\n",
    "preimageSizeFZF(10)"
   ]
  },
  {
   "cell_type": "code",
   "execution_count": 1,
   "metadata": {},
   "outputs": [],
   "source": [
    "# 1201. Ugly Number III，a,b,c的倍数中第n大的\n",
    "\n",
    "def nthUglyNumber(n, a, b, c):\n",
    "    \"\"\"\n",
    "    :type n: int\n",
    "    :type a: int\n",
    "    :type b: int\n",
    "    :type c: int\n",
    "    :rtype: int\n",
    "    \"\"\"\n",
    "    def gcd(a,b): \n",
    "        if(b==0): \n",
    "            return a \n",
    "        else: \n",
    "            return gcd(b,a%b) \n",
    "\n",
    "    ab = a*b//gcd(a,b)\n",
    "    ac = a*c//gcd(a,c)\n",
    "    bc = b*c//gcd(b,c)\n",
    "    abc = ab*c//gcd(ab,c)\n",
    "\n",
    "    def countNum(num):# the num that smaller or equal than n\n",
    "        return num//a+num//b+num//c-num//ab-num//ac-num//bc+num//abc\n",
    "\n",
    "    left,right = min([a,b,c]),min(a,b,c)*n+1\n",
    "    while left<right:\n",
    "        mid = left+(right-left)//2\n",
    "        if countNum(mid)>=n:\n",
    "            right = mid\n",
    "        else:\n",
    "            left = mid+1\n",
    "    return left\n",
    "\n",
    "nthUglyNumber(15,6,8,12)\n",
    "\n",
    "# 878. Nth Magical Number\n",
    "def nthMagicalNumber(N, A, B):\n",
    "    \"\"\"\n",
    "    :type N: int\n",
    "    :type A: int\n",
    "    :type B: int\n",
    "    :rtype: int\n",
    "    \"\"\"\n",
    "    mod = 10**9+7\n",
    "\n",
    "    def gcd(a,b):\n",
    "        if b==0:\n",
    "            return a\n",
    "        return gcd(b,a%b)\n",
    "\n",
    "    lcm = A*B//gcd(A,B)\n",
    "\n",
    "    left,right = min(A,B),min(A,B)*N+1\n",
    "    while left<right:\n",
    "        mid = left+(right-left)//2\n",
    "        cur = mid//A + mid//B -mid//lcm\n",
    "        if cur>=N:\n",
    "            right = mid\n",
    "        else:\n",
    "            left = mid+1\n",
    "    return left%mod"
   ]
  },
  {
   "cell_type": "code",
   "execution_count": 48,
   "metadata": {},
   "outputs": [
    {
     "data": {
      "text/plain": [
       "1448348"
      ]
     },
     "execution_count": 48,
     "metadata": {},
     "output_type": "execute_result"
    }
   ],
   "source": [
    "# 660. Remove 9,第n个不含9的数\n",
    "def newInteger(n):\n",
    "    \"\"\"\n",
    "    :type n: int\n",
    "    :rtype: int\n",
    "    \"\"\"\n",
    "    dic = {0:0}#k位数及其以下不含9的个数\n",
    "    dic[1] = 8\n",
    "    for i in range(2,12):\n",
    "        dic[i] = dic[i-1]*9\n",
    "    for i in range(2,12):\n",
    "        dic[i]+=dic[i-1]\n",
    "\n",
    "    digit = 1#答案将会是digit位数\n",
    "    while dic[digit]<n:\n",
    "        digit+=1\n",
    "    left,right = 10**(digit-1),int('8'*digit)+1\n",
    "    def getNumbers(num):# the number of goods smaller or equal to num\n",
    "        s = str(num)\n",
    "        res = 0\n",
    "        for i in range(len(s)):\n",
    "            if i==0:\n",
    "                res += (int(s[i])-1)*9**(len(s)-1)#最高位未满的所有情况\n",
    "                if s[i]=='9':\n",
    "                    break\n",
    "            else:\n",
    "                res += (int(s[i])*9**(len(s)-i-1))\n",
    "                if s[i]=='9':\n",
    "                    break\n",
    "        return res+('9' not in s)\n",
    "\n",
    "    while left<right:\n",
    "        mid = left+(right-left)//2\n",
    "        if getNumbers(mid)+dic[digit-1]<n:\n",
    "            left = mid+1\n",
    "        else:\n",
    "            right = mid\n",
    "    return left\n",
    "\n",
    "# The set of numbers without 9s is the same as the set of base-9 numbers\n",
    "# and they occur in the same order. The answer is therefore just the n-th base-9 number.\n",
    "def newInteger(n):\n",
    "    ans = ''\n",
    "    while n:\n",
    "        ans = str(n%9) + ans\n",
    "        n = n//9\n",
    "    return int(ans)\n",
    "\n",
    "newInteger(800000)"
   ]
  },
  {
   "cell_type": "markdown",
   "metadata": {},
   "source": [
    "# Binary Index Tree"
   ]
  },
  {
   "cell_type": "code",
   "execution_count": 1,
   "metadata": {},
   "outputs": [
    {
     "data": {
      "text/plain": [
       "[2, 1, 1, 0]"
      ]
     },
     "execution_count": 1,
     "metadata": {},
     "output_type": "execute_result"
    }
   ],
   "source": [
    "#315. Count of Smaller Numbers After Self,一个数后面比它更小的数\n",
    "import bisect\n",
    "def countSmaller(nums):\n",
    "    \"\"\"\n",
    "    :type nums: List[int]\n",
    "    :rtype: List[int]\n",
    "    \"\"\"\n",
    "    res = []\n",
    "    arr = []\n",
    "    for i in range(len(nums)-1,-1,-1):\n",
    "        index = bisect.bisect_left(arr,nums[i])\n",
    "        res.append(index)\n",
    "        bisect.insort(arr,nums[i])\n",
    "    return res[::-1]\n",
    "\n",
    "countSmaller([5,2,6,1])"
   ]
  },
  {
   "cell_type": "code",
   "execution_count": 2,
   "metadata": {},
   "outputs": [
    {
     "data": {
      "text/plain": [
       "3"
      ]
     },
     "execution_count": 2,
     "metadata": {},
     "output_type": "execute_result"
    }
   ],
   "source": [
    "#493. Reverse Pairs，一个数组中前面的数超过后面的数的两倍的个数\n",
    "# 直接对前面的有序列表进行二分查找，查找值为其两倍的位置，然后再插入\n",
    "def reversePairs(nums):\n",
    "    \"\"\"\n",
    "    :type nums: List[int]\n",
    "    :rtype: int\n",
    "    \"\"\"\n",
    "    if not nums:\n",
    "        return 0\n",
    "    arr = [nums[0]]\n",
    "    res = 0\n",
    "    for i in range(1,len(nums)):\n",
    "        index = bisect.bisect_right(arr,nums[i]*2)\n",
    "        if index<len(arr):\n",
    "            if arr[index]==nums[i]*2:\n",
    "                res+=(len(arr)-index-1)\n",
    "            else:\n",
    "                res+=(len(arr)-index)\n",
    "        bisect.insort(arr,nums[i])\n",
    "    return res\n",
    "\n",
    "reversePairs([2,4,3,5,1])"
   ]
  },
  {
   "cell_type": "code",
   "execution_count": 8,
   "metadata": {},
   "outputs": [
    {
     "data": {
      "text/plain": [
       "7"
      ]
     },
     "execution_count": 8,
     "metadata": {},
     "output_type": "execute_result"
    }
   ],
   "source": [
    "# 327. Count of Range Sum\n",
    "#子数组和位于lower-upper的个数，相当于对于prefix sum进行二分有序查找和插入\n",
    "import bisect\n",
    "def countRangeSum(nums, lower, upper):\n",
    "    \"\"\"\n",
    "    :type nums: List[int]\n",
    "    :type lower: int\n",
    "    :type upper: int\n",
    "    :rtype: int\n",
    "    \"\"\"\n",
    "    prefix = [0]\n",
    "    for i in nums:\n",
    "        prefix.append(prefix[-1]+i)\n",
    "\n",
    "    arr = [0]\n",
    "    res = 0\n",
    "    for i in range(1,len(prefix)):\n",
    "        l = prefix[i]-upper\n",
    "        r = prefix[i]-lower\n",
    "        index1 = bisect.bisect_left(arr,l)\n",
    "        index2 = bisect.bisect_left(arr,r+1)\n",
    "        res+=index2-index1\n",
    "        bisect.insort(arr,prefix[i])\n",
    "    return res\n",
    "\n",
    "def countRangeSum(nums,lower,upper):\n",
    "    cumsum = [0]\n",
    "    for n in nums:\n",
    "        cumsum.append(cumsum[-1]+n)\n",
    "\n",
    "    # inclusive\n",
    "    def mergesort(l,r):\n",
    "        if l == r:\n",
    "            return 0\n",
    "        mid = (l+r)//2\n",
    "        cnt = mergesort(l,mid) + mergesort(mid+1,r)\n",
    "\n",
    "        i = j = mid+1#两边都是有序，包含两边的范围查找\n",
    "        # O(n)\n",
    "        for left in cumsum[l:mid+1]:#对于左边的点，如果当前range sum小于lower，就右移，直到进入范围\n",
    "            while i <= r and cumsum[i] - left < lower:\n",
    "                i+=1\n",
    "            while j <= r and cumsum[j] - left <= upper:#如果当前sum小于等于upper，就右移，直到出范围\n",
    "                j+=1\n",
    "            cnt += j-i\n",
    "\n",
    "        cumsum[l:r+1] = sorted(cumsum[l:r+1])#保证两边都是有序\n",
    "        return cnt\n",
    "\n",
    "    return mergesort(0,len(cumsum)-1)\n",
    "countRangeSum(nums = [-2,5,-1,3,2,-1], lower = -2, upper = 2)"
   ]
  },
  {
   "cell_type": "code",
   "execution_count": null,
   "metadata": {},
   "outputs": [],
   "source": []
  }
 ],
 "metadata": {
  "kernelspec": {
   "display_name": "Python 3",
   "language": "python",
   "name": "python3"
  },
  "language_info": {
   "codemirror_mode": {
    "name": "ipython",
    "version": 3
   },
   "file_extension": ".py",
   "mimetype": "text/x-python",
   "name": "python",
   "nbconvert_exporter": "python",
   "pygments_lexer": "ipython3",
   "version": "3.7.3"
  }
 },
 "nbformat": 4,
 "nbformat_minor": 2
}
