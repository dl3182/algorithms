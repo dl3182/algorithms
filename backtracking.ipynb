{
 "cells": [
  {
   "cell_type": "markdown",
   "metadata": {},
   "source": [
    "https://leetcode.com/problems/palindrome-permutation-ii/discuss/69717/Backtrack-Summary%3A-General-Solution-for-10-Questions!!!!!!!!-Python-(Combination-Sum-Subsets-Permutation-Palindrome)\n",
    "77. Combinations: 利用迭代"
   ]
  },
  {
   "cell_type": "code",
   "execution_count": 1,
   "metadata": {
    "collapsed": true
   },
   "outputs": [],
   "source": [
    "class Solution(object):\n",
    "    def solveSudoku(self, board):\n",
    "        \"\"\"\n",
    "        :type board: List[List[str]]\n",
    "        :rtype: None Do not return anything, modify board in-place instead.\n",
    "        \"\"\"\n",
    "        self.board = board\n",
    "        if self.board[0][0]=='.':\n",
    "            i,j=0,0\n",
    "        else:\n",
    "            i,j=self.FindNext(0,0)\n",
    "        self.ans = []\n",
    "        self.backtrack(i,j)\n",
    "        \n",
    "        return self.ans\n",
    "        \n",
    "    def isValid(self,row,col,value):\n",
    "        for i in range(0, 9):  # Row\n",
    "            if self.board[row][i] == value:\n",
    "                return False\n",
    "        for j in range(0, 9):  # column\n",
    "            if self.board[j][col] == value:\n",
    "                return False\n",
    "        row = row // 3 * 3\n",
    "        col = col // 3 * 3\n",
    "        for i in range(row, row + 3):  # block\n",
    "            for j in range(col, col + 3):\n",
    "                if self.board[i][j] == value:\n",
    "                    return False\n",
    "        return True\n",
    "    \n",
    "#         if value in self.board[row]:\n",
    "#             return False\n",
    "#         if value in [i[col] for i in self.board]:\n",
    "#             return False\n",
    "#         if value in [i[col//3*3:(col//3+1)*3] for i in self.board[row//3*3:(row//3+1)*3]]:\n",
    "#             return False\n",
    "#         return True\n",
    "        \n",
    "    \n",
    "    def FindNext(self,row,col):\n",
    "        for j in range(col+1,9):\n",
    "            if self.board[row][j]=='.':\n",
    "                return [row,j]\n",
    "        for i in range(row+1,9):\n",
    "            for j in range(0,9):\n",
    "                if self.board[i][j]=='.':\n",
    "                    return [i,j]\n",
    "        return [-1,-1]\n",
    "    \n",
    "    def backtrack(self,i,j):\n",
    "        for num in ['1','2','3','4','5','6','7','8','9']:\n",
    "            if self.isValid(i,j,num):\n",
    "                [nexti,nextj] = self.FindNext(i,j)\n",
    "                self.board[i][j]=num\n",
    "                if (nexti==-1) and (nextj==-1):#如果目前答案是对的，则记录\n",
    "                    self.ans.append(self.clone(self.board))\n",
    "#                     return True\n",
    "                else:# 还没到底，继续往下走\n",
    "                    self.backtrack(nexti,nextj)\n",
    "#                     return True\n",
    "                self.board[i][j]='.'#重置为初始，就当这个解不存在\n",
    "#         return False\n",
    "    def clone(self,old_matrix): ###用来复制当前答案\n",
    "        new_matrix = []\n",
    "        for i in range(0, 9):\n",
    "            line = []\n",
    "            for j in range(0, 9):\n",
    "                line.append(old_matrix[i][j])\n",
    "            new_matrix.append(line)\n",
    "        return new_matrix"
   ]
  },
  {
   "cell_type": "code",
   "execution_count": 2,
   "metadata": {},
   "outputs": [
    {
     "data": {
      "text/plain": [
       "[[['3', '4', '5', '6', '7', '8', '9', '1', '2'],\n",
       "  ['6', '7', '2', '1', '9', '5', '3', '4', '8'],\n",
       "  ['1', '9', '8', '3', '4', '2', '5', '6', '7'],\n",
       "  ['8', '5', '9', '7', '6', '1', '4', '2', '3'],\n",
       "  ['4', '2', '6', '8', '5', '3', '7', '9', '1'],\n",
       "  ['7', '1', '3', '9', '2', '4', '8', '5', '6'],\n",
       "  ['9', '6', '1', '5', '3', '7', '2', '8', '4'],\n",
       "  ['2', '8', '7', '4', '1', '9', '6', '3', '5'],\n",
       "  ['5', '3', '4', '2', '8', '6', '1', '7', '9']],\n",
       " [['5', '3', '4', '6', '7', '8', '9', '1', '2'],\n",
       "  ['6', '7', '2', '1', '9', '5', '3', '4', '8'],\n",
       "  ['1', '9', '8', '3', '4', '2', '5', '6', '7'],\n",
       "  ['8', '5', '9', '7', '6', '1', '4', '2', '3'],\n",
       "  ['4', '2', '6', '8', '5', '3', '7', '9', '1'],\n",
       "  ['7', '1', '3', '9', '2', '4', '8', '5', '6'],\n",
       "  ['9', '6', '1', '5', '3', '7', '2', '8', '4'],\n",
       "  ['2', '8', '7', '4', '1', '9', '6', '3', '5'],\n",
       "  ['3', '4', '5', '2', '8', '6', '1', '7', '9']]]"
      ]
     },
     "execution_count": 2,
     "metadata": {},
     "output_type": "execute_result"
    }
   ],
   "source": [
    "sol = Solution()\n",
    "inp = [[\".\",\".\",\".\",\".\",\".\",\".\",\".\",\".\",\".\"],[\"6\",\".\",\".\",\"1\",\"9\",\"5\",\".\",\".\",\".\"],[\".\",\"9\",\"8\",\".\",\".\",\".\",\".\",\"6\",\".\"],[\"8\",\".\",\".\",\".\",\"6\",\".\",\".\",\".\",\"3\"],[\"4\",\".\",\".\",\"8\",\".\",\"3\",\".\",\".\",\"1\"],[\"7\",\".\",\".\",\".\",\"2\",\".\",\".\",\".\",\"6\"],[\".\",\"6\",\".\",\".\",\".\",\".\",\"2\",\"8\",\".\"],[\".\",\".\",\".\",\"4\",\"1\",\"9\",\".\",\".\",\"5\"],[\".\",\".\",\".\",\".\",\"8\",\".\",\".\",\"7\",\"9\"]]\n",
    "sol.solveSudoku(inp)"
   ]
  },
  {
   "cell_type": "code",
   "execution_count": 3,
   "metadata": {
    "collapsed": true
   },
   "outputs": [],
   "source": [
    "class Solution(object):\n",
    "    def solveNQueens(self, n):\n",
    "        \"\"\"\n",
    "        :type n: int\n",
    "        :rtype: List[List[str]]\n",
    "        \"\"\"\n",
    "        self.n = n\n",
    "        self.queen = [\".\" * n for _ in range(n)]\n",
    "        self.result = []\n",
    "        self.backtrack(0)\n",
    "        return self.result\n",
    "        \n",
    "    def isValid(self,row,col):\n",
    "        for i in range(row):\n",
    "            if self.queen[i][col] == 'Q':\n",
    "                return False\n",
    "            if col+row-i<self.n and self.queen[i][col+row-i]=='Q':\n",
    "                return False\n",
    "            if col-row+i>=0 and self.queen[i][col-row+i]=='Q':\n",
    "                return False\n",
    "        return True\n",
    "\n",
    "    def assign(self,i,j,val):\n",
    "        res = self.queen[i][:j]+val+self.queen[i][j+1:]\n",
    "        return self.queen[:i]+[res]+self.queen[i+1:]\n",
    "        \n",
    "    def backtrack(self,row):\n",
    "        for j in range(self.n):\n",
    "            if self.isValid(row,j):\n",
    "                self.queen=self.assign(row,j,'Q')\n",
    "                newrow = row+1\n",
    "                if newrow == self.n:\n",
    "                    self.result.append(self.queen)\n",
    "                else:\n",
    "                    self.backtrack(newrow)\n",
    "                self.queen= self.assign(row,j,'.')\n",
    "#         return False\n",
    "                    "
   ]
  },
  {
   "cell_type": "code",
   "execution_count": 4,
   "metadata": {},
   "outputs": [
    {
     "data": {
      "text/plain": [
       "[['.Q..', '...Q', 'Q...', '..Q.'], ['..Q.', 'Q...', '...Q', '.Q..']]"
      ]
     },
     "execution_count": 4,
     "metadata": {},
     "output_type": "execute_result"
    }
   ],
   "source": [
    "sol = Solution()\n",
    "sol.solveNQueens(4)"
   ]
  },
  {
   "cell_type": "code",
   "execution_count": 1,
   "metadata": {},
   "outputs": [
    {
     "data": {
      "text/plain": [
       "True"
      ]
     },
     "execution_count": 1,
     "metadata": {},
     "output_type": "execute_result"
    }
   ],
   "source": [
    "# 1307. Verbal Arithmetic Puzzle，算数字谜\n",
    "def isSolvable(words, result):\n",
    "    \"\"\"\n",
    "    :type words: List[str]\n",
    "    :type result: str\n",
    "    :rtype: bool\n",
    "    \"\"\"\n",
    "    n = max(len(i) for i in words+[result])#整个的总长度\n",
    "    first = {i[0] for i in words+[result]}#所有单词的leading\n",
    "    def calDigit(carry,digit,curhash,visited):#进位，当前位，映射关系，出现过的数\n",
    "        if digit>n:\n",
    "            return True\n",
    "        current = [word[-digit] for word in words if len(word)>=digit]#当前位\n",
    "        total = result[-digit]#当前和\n",
    "        placed = []\n",
    "        cursum = 0\n",
    "        for i in current:#当前位中已经确定的\n",
    "            if i in curhash:\n",
    "                cursum += curhash[i]\n",
    "            else:\n",
    "                placed.append(i)\n",
    "        if len(placed)==0:#如果加数都确定了\n",
    "            if total in first and (cursum+carry)%10==0:#如果和为0，但在first中\n",
    "                return False\n",
    "            if total in curhash:\n",
    "                if ((cursum+carry)%10)!=curhash[total]:#如果不满足\n",
    "                    return False\n",
    "                else:#如果满足了，就往前走\n",
    "                    if calDigit((cursum+carry)//10,digit+1,curhash,visited):\n",
    "                        return True\n",
    "            else:#如果和还没确定\n",
    "                if visited&(1<<(cursum+carry)%10):#计算出来的和已经出现过了\n",
    "                    return False\n",
    "                else:#当前确定，往前走\n",
    "                    curhash[total] = (cursum+carry)%10\n",
    "                    if calDigit((cursum+carry)//10,digit+1,curhash,visited|1<<(cursum+carry)%10):\n",
    "                        return True\n",
    "                    curhash.pop(total)#这里一定要pop\n",
    "        else:\n",
    "            for i in range(10):#给加数猜测一下，每个数字取各种可能情况\n",
    "                if i==0 and placed[0] in first:\n",
    "                    continue\n",
    "                if visited&(1<<i)==0:\n",
    "                    curhash[placed[0]] = i\n",
    "                    if calDigit(carry,digit,curhash,visited|1<<i):\n",
    "                        return True\n",
    "                    curhash.pop(placed[0])\n",
    "        return False#猜测完了还不满足\n",
    "        \n",
    "    return calDigit(0,1,dict(),0)\n",
    "isSolvable(words = [\"SIX\",\"SEVEN\",\"SEVEN\"], result = \"TWENTY\")"
   ]
  },
  {
   "cell_type": "code",
   "execution_count": 19,
   "metadata": {},
   "outputs": [
    {
     "name": "stdout",
     "output_type": "stream",
     "text": [
      "[[1, 2, 3], [1, 2, 4], [1, 3, 4], [2, 3, 4], [1, 2, 5], [1, 3, 5], [2, 3, 5], [1, 4, 5], [2, 4, 5], [3, 4, 5]]\n"
     ]
    }
   ],
   "source": [
    "# 77. Combinations\n",
    "# F(n,k)=F(n-1,k)+F(n-1,k-1)+n\n",
    "# F(n,k)=F(n-1,k-1)+[k,n]\n",
    "def combine(n, k):\n",
    "    \"\"\"\n",
    "    :type n: int\n",
    "    :type k: int\n",
    "    :rtype: List[List[int]]\n",
    "    \"\"\"\n",
    "    dp = [[[] for _ in range(k+1)] for _ in range(n+1)]\n",
    "    for i in range(1,n+1):\n",
    "        dp[i][1]=[[j] for j in range(1,i+1)]\n",
    "    for i in range(1,k+1):\n",
    "        dp[i][i]=[[j for j in range(1,i+1)]]\n",
    "    for j in range(1,k):\n",
    "        for i in range(j+1,n):\n",
    "            temp =[ele+[i+1] for ele in dp[i][j]]\n",
    "            dp[i+1][j+1] = dp[i][j+1]+temp\n",
    "    return dp[-1][-1]\n",
    "print(combine(5,3))\n",
    "\n",
    "def combine(n, k):\n",
    "    if k <=0:\n",
    "        return [[]]\n",
    "    return [pre + [i] for i in range(k, n+1) for pre in combine(i-1, k-1)]"
   ]
  },
  {
   "cell_type": "code",
   "execution_count": 1,
   "metadata": {},
   "outputs": [
    {
     "data": {
      "text/plain": [
       "[110, 1, 111]"
      ]
     },
     "execution_count": 1,
     "metadata": {},
     "output_type": "execute_result"
    }
   ],
   "source": [
    "# 842. Split Array into Fibonacci Sequence，将一个字符串分解成Fibonacci序列\n",
    "def splitIntoFibonacci(S):\n",
    "    \"\"\"\n",
    "    :type S: str\n",
    "    :rtype: List[int]\n",
    "    \"\"\"\n",
    "    stack = []\n",
    "    if S[0] =='0':#初始部分\n",
    "        stack.append([1,0])\n",
    "    else:\n",
    "        for i in range((len(S)-1)//2):\n",
    "            stack.append([i+1,int(S[:i+1])])\n",
    "    while stack:\n",
    "        cur = stack.pop()\n",
    "        if len(cur)==2:#迭代部分\n",
    "            for i in range(1,1+min((len(S)-cur[0])//2,len(S)-2*cur[0])):\n",
    "                if i==1 and S[cur[0]]=='0':\n",
    "                    cur[0]+=1\n",
    "                    cur.append(0)\n",
    "                    stack.append(cur)\n",
    "                    break\n",
    "                else:\n",
    "                    curnum=int(S[cur[0]:cur[0]+i])\n",
    "                    if curnum>2**31-1:\n",
    "                        continue\n",
    "                    temp = cur+[curnum]\n",
    "                    temp[0]+=i\n",
    "                    stack.append(temp)\n",
    "        else:#第二个值\n",
    "            if cur[0] == len(S):\n",
    "                return cur[1:]\n",
    "            num = cur[-1]+cur[-2]\n",
    "            if num>2**31-1:\n",
    "                continue\n",
    "            if num==0 and S[cur[0]]=='0':\n",
    "                cur[0]+=1\n",
    "                cur.append(0)\n",
    "                stack.append(cur)\n",
    "            else:\n",
    "                leng = len(str(num))\n",
    "                if cur[0]+leng<=len(S) and S[cur[0]:cur[0]+leng]==str(num):\n",
    "                    cur[0]+=leng\n",
    "                    cur.append(num)\n",
    "                    stack.append(cur)\n",
    "    return []\n",
    "splitIntoFibonacci(\"1101111\")"
   ]
  },
  {
   "cell_type": "code",
   "execution_count": 2,
   "metadata": {},
   "outputs": [
    {
     "data": {
      "text/plain": [
       "23"
      ]
     },
     "execution_count": 2,
     "metadata": {},
     "output_type": "execute_result"
    }
   ],
   "source": [
    "# 1255. Maximum Score Words Formed by Letters，给定每个字母的分数和频次，在可能的words中挑选，得到最大分数\n",
    "# \n",
    "import collections\n",
    "def maxScoreWords(words, letters, score):\n",
    "    \"\"\"\n",
    "    :type words: List[str]\n",
    "    :type letters: List[str]\n",
    "    :type score: List[int]\n",
    "    :rtype: int\n",
    "    \"\"\"\n",
    "    counts = collections.Counter(letters)\n",
    "    scores = dict()\n",
    "    for i in counts:\n",
    "        scores[i] = score[ord(i)-ord('a')]\n",
    "\n",
    "    def dfs(curused,curpos,curscore,res):\n",
    "\n",
    "        if curpos<len(words):\n",
    "            dfs(curused,curpos+1,curscore,res)#不要这个单词，直接往前走\n",
    "\n",
    "            temp = collections.Counter(words[curpos])#要当前的单词\n",
    "            for i in temp:#要不起\n",
    "                if curused[i]+temp[i]>counts[i]:\n",
    "                    return\n",
    "            curused = curused+temp\n",
    "            tempscore = 0\n",
    "            for i in temp:\n",
    "                tempscore+=temp[i]*scores[i]\n",
    "            curscore +=tempscore\n",
    "            if curscore>res[0]:\n",
    "                res[0] = curscore\n",
    "            dfs(curused,curpos+1,curscore,res)\n",
    "\n",
    "    res = [0]\n",
    "    dfs(collections.Counter(),0,0,res)\n",
    "    return res[0]\n",
    "maxScoreWords(words = [\"dog\",\"cat\",\"dad\",\"good\"], letters = [\"a\",\"a\",\"c\",\"d\",\"d\",\"d\",\"g\",\"o\",\"o\"], score = [1,0,9,5,0,0,3,0,0,0,0,0,0,0,2,0,0,0,0,0,0,0,0,0,0,0])"
   ]
  },
  {
   "cell_type": "code",
   "execution_count": 6,
   "metadata": {},
   "outputs": [
    {
     "data": {
      "text/plain": [
       "True"
      ]
     },
     "execution_count": 6,
     "metadata": {},
     "output_type": "execute_result"
    }
   ],
   "source": [
    "# 291. Word Pattern II，是否能建立从一个字符串到另一个字符串的一一映射\n",
    "# 两个都往前进行，尝试各种配对，然后看是否能往下走，不能走就回头\n",
    "\n",
    "# 更新字典迭代，但是不要保留字典的方法，dict(list(a.items())+list(b.items()))\n",
    "# 或者添加以后，再后面删除掉\n",
    "def wordPatternMatch(pattern, str):\n",
    "    \"\"\"\n",
    "    :type pattern: str\n",
    "    :type str: str\n",
    "    :rtype: bool\n",
    "    \"\"\"\n",
    "    def dfs(cur,p,match):\n",
    "        if cur==len(str) and p==len(pattern):#如果两个都走到了终点，那么正确\n",
    "            return True\n",
    "        if len(str)-cur<len(pattern)-p or p==len(pattern):#如果pattern剩下的长度比str要大，或者pattern走到了终点，则错误\n",
    "            return False\n",
    "        if pattern[p] in match:#如果出现了，那么往下走\n",
    "            temp = match[pattern[p]]\n",
    "            if len(temp)<=len(str)-cur and str[cur:cur+len(temp)]==temp:#对得上，则进行\n",
    "                return dfs(cur+len(temp),p+1,match)\n",
    "            else:#对不上，则错误\n",
    "                return False\n",
    "        else:\n",
    "            item = list(match.items())\n",
    "            for i in range(cur,len(str)):\n",
    "                temp = str[cur:i+1]\n",
    "                if temp in match.values():#要保持一一映射\n",
    "                    continue\n",
    "                if dfs(i+1,p+1,dict(item+[(pattern[p],temp)])):#这里更新匹配函数，但是不要保存\n",
    "                    return True\n",
    "            return False\n",
    "\n",
    "    return dfs(0,0,dict())\n",
    "wordPatternMatch(\"abab\",\"baba\")"
   ]
  },
  {
   "cell_type": "code",
   "execution_count": 21,
   "metadata": {},
   "outputs": [
    {
     "data": {
      "text/plain": [
       "['']"
      ]
     },
     "execution_count": 21,
     "metadata": {},
     "output_type": "execute_result"
    }
   ],
   "source": [
    "# 784. Letter Case Permutation\n",
    "# 给定含有字符与数字的字符串，输出大小写字符形式的所有情况\n",
    "def letterCasePermutation(S):\n",
    "    \"\"\"\n",
    "    :type S: str\n",
    "    :rtype: List[str]\n",
    "    \"\"\"\n",
    "    res = []\n",
    "    i = 0\n",
    "    cur = \"\"\n",
    "    while i<len(S) and S[i].isdigit():\n",
    "        cur+=S[i]\n",
    "        i=i+1\n",
    "    if i<len(S):\n",
    "        t = letterCasePermutation(S[i+1:])\n",
    "        for j in t:\n",
    "            res.append(cur+S[i].lower()+j)\n",
    "            res.append(cur+S[i].upper()+j)\n",
    "    else:\n",
    "        res.append(cur)\n",
    "    return res\n",
    "\n",
    "def letterCasePermutation(S):\n",
    "    res = ['']\n",
    "    for ch in S:\n",
    "        if ch.isalpha():\n",
    "            res = [i+j for i in res for j in [ch.upper(), ch.lower()]]\n",
    "        else:\n",
    "            res = [i+ch for i in res]\n",
    "    return res\n",
    "letterCasePermutation(S = \"\")"
   ]
  },
  {
   "cell_type": "code",
   "execution_count": 1,
   "metadata": {},
   "outputs": [],
   "source": [
    "#1087. Brace Expansion，和#784类似\n",
    "def expand(S):#recursive\n",
    "    \"\"\"\n",
    "    :type S: str\n",
    "    :rtype: List[str]\n",
    "    \"\"\"\n",
    "    if not S:\n",
    "        return [\"\"]\n",
    "    start = 0\n",
    "    cur = \"\"\n",
    "    while start<len(S) and S[start]!='{':\n",
    "        cur = cur+S[start]\n",
    "        start = start+1\n",
    "    brac = []\n",
    "    while start<len(S) and S[start]!=\"}\":\n",
    "        if S[start].isalpha():\n",
    "            brac.append(S[start])\n",
    "        start = start+1\n",
    "    brac.sort()\n",
    "    t = self.expand(S[start+1:])\n",
    "    res = []\n",
    "    if brac:\n",
    "        for i in brac:\n",
    "            if t:\n",
    "                for j in t:\n",
    "                    res.append(cur+i+j)\n",
    "            else:\n",
    "                res.append(cur+i)\n",
    "    else:\n",
    "        res.append(cur)\n",
    "\n",
    "    return res\n",
    "\n",
    "def expand(S):#iterative\n",
    "    bfs = [\"\"]\n",
    "    mult = False\n",
    "    chars = []\n",
    "    for s in S:\n",
    "        if s == ',': \n",
    "            continue\n",
    "        elif s == '{':\n",
    "            mult = True\n",
    "        elif s == '}':\n",
    "            bfs = [st + c for st in bfs for c in chars]\n",
    "            chars = []\n",
    "            mult = False\n",
    "        elif mult:\n",
    "            chars.append(s)\n",
    "        else:\n",
    "            bfs = [st + s for st in bfs]\n",
    "    return sorted(bfs)"
   ]
  },
  {
   "cell_type": "code",
   "execution_count": 41,
   "metadata": {},
   "outputs": [
    {
     "data": {
      "text/plain": [
       "[0, 1]"
      ]
     },
     "execution_count": 41,
     "metadata": {},
     "output_type": "execute_result"
    }
   ],
   "source": [
    "# 89. Gray Code，格雷码\n",
    "# 先生成[0]，然后对称的同时在首位上改0为1(相当于加上n)\n",
    "def grayCode(n):\n",
    "    res = [0]\n",
    "    for i in range(n):\n",
    "        res = res + [x+2**i for x in res[::-1]]\n",
    "    return res\n",
    "grayCode(1)"
   ]
  },
  {
   "cell_type": "code",
   "execution_count": 49,
   "metadata": {},
   "outputs": [],
   "source": [
    "# 980. Unique Paths III\n",
    "class Solution():\n",
    "    def uniquePathsIII(self,grid):\n",
    "        \"\"\"\n",
    "        :type grid: List[List[int]]\n",
    "        :rtype: int\n",
    "        \"\"\"\n",
    "        if not grid:\n",
    "            return 0\n",
    "        m,n=len(grid),len(grid[0])\n",
    "\n",
    "        empty = 0\n",
    "        for i in range(m):\n",
    "            for j in range(n):\n",
    "                if grid[i][j]==1:\n",
    "                    start = (i,j)\n",
    "                if grid[i][j]==2:\n",
    "                    end = (i,j)\n",
    "                if grid[i][j]==0:\n",
    "                    empty+=1\n",
    "\n",
    "        def dfs(i,j,visited):\n",
    "            if (i,j)==end:\n",
    "                if len(visited)==empty+2:\n",
    "                    self.count+=1\n",
    "                return\n",
    "            for dx,dy in [(-1,0),(1,0),(0,1),(0,-1)]:\n",
    "                x,y=i+dx,j+dy\n",
    "                if 0<=x<m and 0<=y<n and grid[x][y]!=-1 and (x,y) not in visited:\n",
    "                    visited.add((x,y))\n",
    "                    dfs(x,y,visited)\n",
    "                    visited.remove((x,y))\n",
    "            return\n",
    "\n",
    "        self.count = 0\n",
    "        dfs(start[0],start[1],{start})\n",
    "        return self.count\n",
    "    \n",
    "    def uniquePathsIII(self, A):\n",
    "        self.res = 0\n",
    "        m, n,empty = len(A), len(A[0]),1\n",
    "        for i in range(m):\n",
    "            for j in range(n):\n",
    "                if A[i][j] == 1: x,y = (i, j)\n",
    "                elif A[i][j] == 2: end = (i, j)\n",
    "                elif A[i][j] == 0: empty += 1\n",
    "        def dfs(x, y, empty):\n",
    "            if not (0 <= x < m and 0 <= y < n and A[x][y] >= 0): return\n",
    "            if (x, y) == end:\n",
    "                self.res += empty == 0\n",
    "                return\n",
    "            A[x][y] = -2\n",
    "            dfs(x + 1, y, empty - 1)\n",
    "            dfs(x - 1, y, empty - 1)\n",
    "            dfs(x, y + 1, empty - 1)\n",
    "            dfs(x, y - 1, empty - 1)\n",
    "            A[x][y] = 0\n",
    "        dfs(x,y, empty)\n",
    "        return self.res\n",
    "sol = Solution()\n",
    "sol.uniquePathsIII([[0,1],[2,0]])"
   ]
  },
  {
   "cell_type": "code",
   "execution_count": 23,
   "metadata": {},
   "outputs": [
    {
     "data": {
      "text/plain": [
       "[[2, 2, 2, 2, 2], [2, 2, 2, 4], [2, 2, 8], [2, 4, 4], [2, 16], [4, 8]]"
      ]
     },
     "execution_count": 23,
     "metadata": {},
     "output_type": "execute_result"
    }
   ],
   "source": [
    "# 254. Factor Combinations，找出一个数的所有因式分解形式\n",
    "# 从前面一个数开始一直递增，增到sqrt(n)，如果能够整除，则把剩下的丢进递归，递归出来的结果和之前的结合\n",
    "\n",
    "def getFactors(n):\n",
    "    \"\"\"\n",
    "    :type n: int\n",
    "    :rtype: List[List[int]]\n",
    "    \"\"\"\n",
    "    def getFact(n,tail=2):\n",
    "        res = []\n",
    "        for i in range(tail,int(n**0.5)+1):\n",
    "            if n%i==0:\n",
    "                temp  = getFact(n//i,i)\n",
    "                res += [[i]+item for item in temp]\n",
    "        res.append([n])\n",
    "        return res\n",
    "    return getFact(n)[:-1]\n",
    "getFactors(32)"
   ]
  },
  {
   "cell_type": "code",
   "execution_count": 38,
   "metadata": {},
   "outputs": [],
   "source": [
    "#401. Binary Watch,时针分钟从中选择\n",
    "\n",
    "def readBinaryWatch(num):\n",
    "    \"\"\"\n",
    "    :type num: int\n",
    "    :rtype: List[str]\n",
    "    \"\"\"\n",
    "    res = []\n",
    "    hourPool = [1,2,4,8]\n",
    "    minPool = [1,2,4,8,16,32]\n",
    "    def getRes(n,pool,limit,index=0):#从pool中选择n个数\n",
    "        if n==0:\n",
    "            return [0]\n",
    "        if n==1:\n",
    "            return pool[index:]\n",
    "        res = []\n",
    "        for i in range(index,len(pool)):\n",
    "            temp = getRes(n-1,pool,limit,i+1)\n",
    "            res += [pool[i]+item for item in temp if pool[i]+item<limit]\n",
    "        return res        \n",
    "\n",
    "    for i in range(num+1):\n",
    "        # i for hours, num-i for mins\n",
    "        hours = getRes(i,hourPool,12)\n",
    "        mins = getRes(num-i,minPool,60)\n",
    "        for t1 in hours:\n",
    "            for t2 in mins:\n",
    "                t3 = str(t2) if t2>=10 else '0'+str(t2)\n",
    "                res.append(str(t1)+':'+t3)\n",
    "    return res\n",
    "readBinaryWatch(1)"
   ]
  },
  {
   "cell_type": "code",
   "execution_count": 1,
   "metadata": {},
   "outputs": [
    {
     "data": {
      "text/plain": [
       "1699"
      ]
     },
     "execution_count": 1,
     "metadata": {},
     "output_type": "execute_result"
    }
   ],
   "source": [
    "# 526. Beautiful Arrangement,1-n的排列，可以让每个数要么被i整除要么能整除i\n",
    "# 从1-n一个个排，每次尝试从库中取出一个数，如果能进行则取出递进，递进后要再还回去。如果能走到最后，则统计\n",
    "def countArrangement(N):\n",
    "    \"\"\"\n",
    "    :type N: int\n",
    "    :rtype: int\n",
    "    \"\"\"\n",
    "    res = [0]\n",
    "    stock = set([i for i in range(1,N+1)])\n",
    "    def buildRange(idx,stock,res):\n",
    "        if len(stock)==0:\n",
    "            res[0]+=1\n",
    "            return \n",
    "        for i in stock:\n",
    "            if i%idx==0 or idx%i==0:\n",
    "                stock.remove(i)\n",
    "                buildRange(idx+1,stock,res)\n",
    "                stock.add(i)\n",
    "\n",
    "    buildRange(1,stock,res)\n",
    "    return res[0]\n",
    "\n",
    "def countArrangement(N):\n",
    "    \"\"\"\n",
    "    :type N: int\n",
    "    :rtype: int\n",
    "    \"\"\"\n",
    "    dp = dict()\n",
    "    def dfs(index,visited):#已经有visited的数的情况下的个数\n",
    "        if visited in dp:\n",
    "            return dp[visited]\n",
    "        if index==N+1:\n",
    "            return 1\n",
    "        res = 0\n",
    "        for i in range(1,N+1):\n",
    "            if visited&1<<(i-1)==0 and (index%i==0 or i%index==0):\n",
    "                res+=dfs(index+1,visited|1<<(i-1))\n",
    "        dp[visited] = res\n",
    "        return res\n",
    "    return dfs(1,0)\n",
    "countArrangement(10)"
   ]
  },
  {
   "cell_type": "code",
   "execution_count": null,
   "metadata": {},
   "outputs": [],
   "source": [
    "# 1219. Path with Maximum Gold,在矩阵中找一条路径使得和最大\n",
    "# 从任何一点出发，一直往可能的方向走，连同更新visited，如果不能走了就更新maximum\n",
    "# 不能通过相邻数为1来找端点，因为可能会出现一整块区域有效\n",
    "def getMaximumGold(grid):\n",
    "    \"\"\"\n",
    "    :type grid: List[List[int]]\n",
    "    :rtype: int\n",
    "    \"\"\"\n",
    "    if not grid or not grid[0]:\n",
    "        return 0\n",
    "    m,n = len(grid),len(grid[0])\n",
    "    maximum = [0]\n",
    "    directions = [(-1,0),(1,0),(0,1),(0,-1)]\n",
    "    def dfs(i,j,visited,cursum,maximum):\n",
    "        count=0\n",
    "        for dx,dy in directions:\n",
    "            x,y=i+dx,j+dy\n",
    "            if 0<=x<m and 0<=y<n and grid[x][y] and not visited[x][y]:\n",
    "                count+=1\n",
    "                visited[x][y]=True\n",
    "                dfs(x,y,visited,cursum+grid[x][y],maximum)\n",
    "                visited[x][y]=False\n",
    "        if count==0:\n",
    "            maximum[0] = max(maximum[0],cursum)\n",
    "            return \n",
    "\n",
    "    for i in range(m):\n",
    "        for j in range(n):\n",
    "            if grid[i][j]:\n",
    "                visited = [[False for _ in range(n)] for _ in range(m)]\n",
    "                visited[i][j]=True\n",
    "                dfs(i,j,visited,grid[i][j],maximum)\n",
    "    return maximum[0]"
   ]
  },
  {
   "cell_type": "code",
   "execution_count": null,
   "metadata": {},
   "outputs": [],
   "source": [
    "def pylonPath(R,C):\n",
    "    def dfs(i,j,count,path,visited):\n",
    "        if count==R*C:\n",
    "            return path\n",
    "        for x,y in can_go[(i,j)]:\n",
    "            if not visited[x][y]:\n",
    "                visited[x][y] = True\n",
    "                path.append((x,y))\n",
    "                res = dfs(x,y,count+1,path,visited)\n",
    "                if res:\n",
    "                    return res\n",
    "                visited[x][y]=False\n",
    "                path.pop()\n",
    "                    \n",
    "    def valid(i,j,x,y):\n",
    "        if i==x or j==y or i+j == x+y or i-j==x-y:\n",
    "            return False\n",
    "        return True\n",
    "    \n",
    "    can_go = {}\n",
    "    for i in range(R):\n",
    "        for j in range(C):\n",
    "            can_go[(i, j)] = {(ii, jj) for ii in range(R) for jj in range(C) if valid(i, j, ii, jj)}\n",
    "    \n",
    "    visited = [[False for _ in range(C)] for _ in range(R)]\n",
    "    i,j=0,0\n",
    "    visited[i][j]=True\n",
    "    res = dfs(i,j,1,[(i,j)],visited)\n",
    "    if res:\n",
    "        return res\n",
    "    return False\n",
    "\n",
    "def pylonPath(R,C):\n",
    "    def dfs(R, C, can_go, cur_i, cur_j, visited, path, result):\n",
    "        if len(visited) == R * C: # successfully find path\n",
    "            result[:] = path\n",
    "            return True\n",
    "        for next_i, next_j in can_go[(cur_i, cur_j)]:\n",
    "            if (next_i, next_j) not in visited and dfs(R, C, can_go, next_i, next_j, visited | {(next_i, next_j)}, path + [(next_i, next_j)], result):\n",
    "                return True\n",
    "        return False\n",
    "\n",
    "    def valid(i, j, ii, jj):\n",
    "        return (i != ii) and (j != jj) and (i - j) != (ii - jj) and (i + j) != (ii + jj)\n",
    "\n",
    "    def is_possible(R, C):\n",
    "        can_go = {}\n",
    "        for i in range(R):\n",
    "            for j in range(C):\n",
    "                can_go[(i, j)] = {(ii, jj) for ii in range(R) for jj in range(C) if valid(i, j, ii, jj)}\n",
    "\n",
    "        result = []\n",
    "        for i in range(R):\n",
    "            for j in range(C):\n",
    "                if dfs(R, C, can_go, i, j, set(), [], result):\n",
    "                    return result\n",
    "        return []\n",
    "\n",
    "\n",
    "    return is_possible(R, C)\n",
    "pylonPath(5,5)"
   ]
  },
  {
   "cell_type": "code",
   "execution_count": 7,
   "metadata": {},
   "outputs": [],
   "source": [
    "import numpy as np\n",
    "import matplotlib.pyplot as plt\n",
    "# This import registers the 3D projection, but is otherwise unused.\n",
    "from mpl_toolkits.mplot3d import Axes3D  # noqa: F401 unused import\n",
    "plt.ion()"
   ]
  },
  {
   "cell_type": "code",
   "execution_count": 8,
   "metadata": {},
   "outputs": [],
   "source": [
    "def lorenz(x, y, z, s=10, r=28, b=2.667):\n",
    "    '''\n",
    "    Given:\n",
    "       x, y, z: a point of interest in three dimensional space\n",
    "       s, r, b: parameters defining the lorenz attractor\n",
    "    Returns:\n",
    "       x_dot, y_dot, z_dot: values of the lorenz attractor's partial\n",
    "           derivatives at the point x, y, z\n",
    "    '''\n",
    "    x_dot = s*(y - x)\n",
    "    y_dot = r*x - y - x*z\n",
    "    z_dot = x*y - b*z\n",
    "    return x_dot, y_dot, z_dot"
   ]
  },
  {
   "cell_type": "code",
   "execution_count": 14,
   "metadata": {},
   "outputs": [],
   "source": [
    "dt = 0.01\n",
    "num_steps = 10000\n",
    "\n",
    "# Need one more for the initial values\n",
    "xs = np.empty(num_steps + 1)\n",
    "ys = np.empty(num_steps + 1)\n",
    "zs = np.empty(num_steps + 1)\n",
    "\n",
    "# Set initial values\n",
    "xs[0], ys[0], zs[0] = (0., 1., 1.05)\n",
    "\n",
    "# Step through \"time\", calculating the partial derivatives at the current point\n",
    "# and using them to estimate the next point\n",
    "for i in range(num_steps):\n",
    "    x_dot, y_dot, z_dot = lorenz(xs[i], ys[i], zs[i])\n",
    "    xs[i + 1] = xs[i] + (x_dot * dt)\n",
    "    ys[i + 1] = ys[i] + (y_dot * dt)\n",
    "    zs[i + 1] = zs[i] + (z_dot * dt)"
   ]
  },
  {
   "cell_type": "code",
   "execution_count": 10,
   "metadata": {},
   "outputs": [
    {
     "data": {
      "image/png": "[encoded data removed]",
      "text/plain": [
       "<Figure size 432x288 with 1 Axes>"
      ]
     },
     "metadata": {
      "needs_background": "light"
     },
     "output_type": "display_data"
    }
   ],
   "source": [
    "# Plot\n",
    "fig = plt.figure()\n",
    "ax = fig.gca(projection='3d')\n",
    "\n",
    "ax.plot(xs, ys, zs, lw=0.5)\n",
    "ax.set_xlabel(\"X Axis\")\n",
    "ax.set_ylabel(\"Y Axis\")\n",
    "ax.set_zlabel(\"Z Axis\")\n",
    "ax.set_title(\"Lorenz Attractor\")\n",
    "\n",
    "plt.show()"
   ]
  },
  {
   "cell_type": "code",
   "execution_count": 56,
   "metadata": {},
   "outputs": [
    {
     "data": {
      "text/plain": [
       "array([0.        , 0.1       , 0.189     , ..., 8.77456852, 9.23628078,\n",
       "       9.70996188])"
      ]
     },
     "execution_count": 56,
     "metadata": {},
     "output_type": "execute_result"
    }
   ],
   "source": [
    "xs"
   ]
  },
  {
   "cell_type": "code",
   "execution_count": 62,
   "metadata": {},
   "outputs": [],
   "source": [
    "import numpy.matlib"
   ]
  },
  {
   "cell_type": "code",
   "execution_count": 111,
   "metadata": {},
   "outputs": [
    {
     "name": "stdout",
     "output_type": "stream",
     "text": [
      "(3, 101) [1. 1. 1.]\n"
     ]
    }
   ],
   "source": [
    "from scipy.integrate import odeint\n",
    "\n",
    "v0 = np.array([1.508870, -1.531271, 25.46091])\n",
    "v0 = np.array([1.0, 1.0, 1.0])\n",
    "sigma = 10\n",
    "beta = 8/3\n",
    "rho = 28\n",
    "H = np.identity(3)\n",
    "\n",
    "Q = 10 # Variance of the model error\n",
    "R = 1 # Variance of the data error\n",
    "Q_init = 100 #  Variance of the initial condition\n",
    "n_cycle = 100# Number of data assimilation cycles\n",
    "meas_dim , state_dim = H.shape\n",
    "Dt = 0.1 # Frequency of measurement\n",
    "nbv = 1000# Ensemble number\n",
    "test_which = 1# 0 - EnKF / 1 - PCE / 2 - Both / 3 - Both only plot comparison and leave it open\n",
    "\n",
    "# gen_func = @(X1,X2,X3,x,y,z) [sum(sum(sum(hermite_matrix(x,y,z).*X1)));sum(sum(sum(hermite_matrix(x,y,z).*X2)));sum(sum(sum(hermite_matrix(x,y,z).*X3)))];\n",
    "\n",
    "\n",
    "def hermite(n,x):\n",
    "    if n==0:\n",
    "        return 1\n",
    "    elif n==1:\n",
    "        return x\n",
    "    elif n==2:\n",
    "        return (x**2-1)/np.sqrt(2)\n",
    "\n",
    "def hermite_matrix(x,y,z):\n",
    "    H = np.zeros([3,3])\n",
    "    for i in range(3):\n",
    "        for j in range(3):\n",
    "            for k in range(3):\n",
    "                H[i,j,k]=hermite(i,x)*hermite(i,y)*hermite(i,z)\n",
    "    return H\n",
    "            \n",
    "def gen_func(X1,X2,X3,x,y,z):\n",
    "    a = (hermite_matrix(x,y,z).multiply(X1)).sum()\n",
    "    b = (hermite_matrix(x,y,z).multiply(X2)).sum()\n",
    "    c = (hermite_matrix(x,y,z).multiply(X3)).sum()\n",
    "    return a,b,c\n",
    "\n",
    "y = np.zeros([meas_dim,n_cycle])\n",
    "y2 = np.zeros([meas_dim,n_cycle])\n",
    "\n",
    "true = np.zeros([state_dim,n_cycle+1])\n",
    "true2 = np.zeros([state_dim,n_cycle+1])\n",
    "\n",
    "ma = np.zeros([state_dim,n_cycle+1])\n",
    "ma2 = np.zeros([state_dim,n_cycle+1])\n",
    "\n",
    "C = np.zeros([state_dim,state_dim,n_cycle+1])\n",
    "C2 = np.zeros([state_dim,state_dim,n_cycle+1])\n",
    "\n",
    "true[:,0] = v0.copy()\n",
    "true2[:,0] = v0.copy()\n",
    "print(true.shape,true[:,0])\n",
    "ma[:,0] = v0.copy()\n",
    "ma2[:,0] = v0.copy()\n",
    "\n",
    "C[:,:,0] = Q_init*(np.identity(state_dim))\n",
    "C2[:,:,0] = Q_init*(np.identity(state_dim))\n",
    "\n",
    "Xprior = np.matlib.repmat(v0,nbv,1).T + np.sqrt(Q_init)*np.random.randn(state_dim,nbv)\n",
    "X = Xprior.copy()\n",
    "\n",
    "# def lorenz_63(x,t,sigma,beta,rho):\n",
    "#     return np.array([sigma*(x[1]-x[0]),x[0]*(rho-x[2])-x[1],x(1)*x(2)-beta*x(3)])\n",
    "def lorenz_63(state, t):\n",
    "    x, y, z = state # unpack the state vector return\n",
    "    return sigma*(y-x),x*(rho-z)-y,x*y-beta*z #derivatives\n",
    "\n",
    "# sigma=10,beta=8/3,rho=28\n",
    "# for i in range(n_cycle):\n",
    "#     true_temp = odeint(lorenz_63, true[:,0],np.arange(0,Dt,0.01))\n",
    "#     print(true_temp.shape,y.shape)\n",
    "#     true[:,i+1] = true_temp.dot(y[:,-1])\n",
    "#     true2[:,i+1] = true[:,i+1]\n",
    "\n",
    "true = odeint(lorenz_63, true[:,0],np.arange(0,400*Dt,Dt))\n"
   ]
  },
  {
   "cell_type": "code",
   "execution_count": 112,
   "metadata": {},
   "outputs": [
    {
     "data": {
      "text/plain": [
       "array([[0.5       , 0.66666667],\n",
       "       [0.75      , 0.8       ]])"
      ]
     },
     "execution_count": 112,
     "metadata": {},
     "output_type": "execute_result"
    }
   ],
   "source": [
    "a = np.array([[1,2],[3,4]])\n",
    "b = np.array([[2,3],[4,5]])\n",
    "a/b"
   ]
  },
  {
   "cell_type": "code",
   "execution_count": 109,
   "metadata": {},
   "outputs": [
    {
     "data": {
      "text/plain": [
       "(400, 3)"
      ]
     },
     "execution_count": 109,
     "metadata": {},
     "output_type": "execute_result"
    }
   ],
   "source": [
    "def SREnKF(Xprior,H,y,R,nbv):\n",
    "    meas_dim, state_dim = np.shape(H)\n",
    "    m = np.mean(Xprior,2)\n",
    "    C = ((Xprior-m).dot((Xprior-m).T)/(nbv-1)\n",
    "    CHT =C.dot(H.T)\n",
    "    Xpert = Xprior-np.mean(Xprior,axis=1)\n",
    "    S = H.dot(CHT) + R.dot(np.identity(meas_dim))\n",
    "    K = CHT/S;\n",
    "    Ktilde = CHT/((sqrtm(H*CHT+R*eye(meas_dim)))')/(sqrtm(H*CHT+R*eye(meas_dim))+sqrt(R)*eye(meas_dim));\n",
    "mp = m + K*(y-H*m);\n",
    "Xperta = Xpert - Ktilde*H*Xpert;\n",
    "X = mp + Xperta;"
   ]
  },
  {
   "cell_type": "code",
   "execution_count": 108,
   "metadata": {},
   "outputs": [
    {
     "data": {
      "image/png": "[encoded data removed]",
      "text/plain": [
       "<Figure size 432x288 with 1 Axes>"
      ]
     },
     "metadata": {
      "needs_background": "light"
     },
     "output_type": "display_data"
    }
   ],
   "source": [
    "fig = plt.figure()\n",
    "ax = fig.gca(projection='3d')\n",
    "ax.plot(true[:,0], true[:,1], true[:,2])\n",
    "plt.show()"
   ]
  },
  {
   "cell_type": "code",
   "execution_count": null,
   "metadata": {},
   "outputs": [],
   "source": [
    "if test_which==0 or test_which==2:\n",
    "    "
   ]
  },
  {
   "cell_type": "code",
   "execution_count": 115,
   "metadata": {},
   "outputs": [
    {
     "data": {
      "text/plain": [
       "array([2])"
      ]
     },
     "execution_count": 115,
     "metadata": {},
     "output_type": "execute_result"
    }
   ],
   "source": [
    "arr = np.array([[1,2],[3,4]])\n",
    "np.diag(arr,1)"
   ]
  },
  {
   "cell_type": "code",
   "execution_count": 162,
   "metadata": {},
   "outputs": [],
   "source": [
    "def GaussHermite(n):\n",
    "\n",
    "    # This function determines the abscisas (x) and weights (w) for the\n",
    "    # Gauss-Hermite quadrature of order n>1, on the interval [-INF, +INF].\n",
    "    # This function is valid for any degree n>=2, as the companion matrix\n",
    "    # (of the n'th degree Hermite polynomial) is constructed as a\n",
    "    # symmetrical matrix, guaranteeing that all the eigenvalues (roots)\n",
    "    # will be real.\n",
    "    # Building the companion matrix CM\n",
    "    # CM is such that det(xI-CM)=L_n(x), with L_n the Hermite polynomial\n",
    "    # under consideration. Moreover, CM will be constructed in such a way\n",
    "    # that it is symmetrical.\n",
    "    i   = np.arange(n)\n",
    "    a   = np.sqrt(i/2)\n",
    "    CM  = np.diag(a,1) + np.diag(a,-1)\n",
    "\n",
    "    # Determining the abscissas (x) and weights (w)\n",
    "    # - since det(xI-CM)=L_n(x), the abscissas are the roots of the\n",
    "    #   characteristic polynomial, i.d. the eigenvalues of CM;\n",
    "    # - the weights can be derived from the corresponding eigenvectors.\n",
    "    L,V = np.linalg.eig(CM)\n",
    "    ind = sorted(range(len(L)), key=lambda k: L[k])\n",
    "    x = L[ind]\n",
    "    idx = np.empty_like(ind)\n",
    "    idx[ind] = np.arange(len(ind))\n",
    "    V  = V[:,ind].T\n",
    "    w  = np.sqrt(np.pi) * V[:,0]**2\n",
    "    return x,w"
   ]
  },
  {
   "cell_type": "code",
   "execution_count": 163,
   "metadata": {},
   "outputs": [
    {
     "name": "stdout",
     "output_type": "stream",
     "text": [
      "[0.         0.70710678 1.        ]\n",
      "[-1.22474487e+00  1.22474487e+00 -4.24982108e-17  0.00000000e+00]\n"
     ]
    },
    {
     "data": {
      "text/plain": [
       "(array([-1.22474487e+00, -4.24982108e-17,  0.00000000e+00,  1.22474487e+00]),\n",
       " array([0.        , 0.        , 1.77245385, 0.        ]))"
      ]
     },
     "execution_count": 163,
     "metadata": {},
     "output_type": "execute_result"
    }
   ],
   "source": [
    " GaussHermite(3)"
   ]
  },
  {
   "cell_type": "code",
   "execution_count": 144,
   "metadata": {},
   "outputs": [
    {
     "data": {
      "text/plain": [
       "array([-4597049319638433792, -4601552919265804288,                    0,\n",
       "        4621819117588971520,  4626322717216342016])"
      ]
     },
     "execution_count": 144,
     "metadata": {},
     "output_type": "execute_result"
    }
   ],
   "source": [
    "idx"
   ]
  },
  {
   "cell_type": "code",
   "execution_count": null,
   "metadata": {},
   "outputs": [],
   "source": [
    "def PCE_Lorenz(X1,X2,X3,Dt,sigma,beta,rho)\n",
    "    # PCE expansion for the Stochastic Galerkin to be applied to the PCE-EnKF\n",
    "    # For the Lorenz 63' system\n",
    "    # Initializes ODE solvers\n",
    "    [loc,wei] = GaussHermite(3);\n",
    "    loc = loc*np.sqrt(2);\n",
    "    wei = wei/np.sqrt(pi);\n",
    "    #%% Creates the initial condition of the coefficients\n",
    "    X = np.array([X1,X2,X3])\n",
    "    # Creates the unintegrated rhs of the coefficient odes\n",
    "    V_vec = ode45(@(t,x) lorenz_63_coeff(t,x,beta,sigma,rho,wei,loc),[0,Dt],X);\n",
    "    coeff = V_vec.y(:,end);\n",
    "    X1 = reshape((coeff(1:27)),3,3,3);\n",
    "    X2 = reshape((coeff(28:54)),3,3,3);\n",
    "    X3 = reshape((coeff(55:81)),3,3,3);\n",
    "return X1,X2,X3"
   ]
  },
  {
   "cell_type": "code",
   "execution_count": null,
   "metadata": {},
   "outputs": [],
   "source": [
    "if (test_which == 1) or (test_which == 2)\n",
    "    Xprior = np.matlib.repmat(v0,nbv,1).T + np.sqrt(Q_init)*np.random.randn(state_dim,nbv)\n",
    "    X = Xprior.copy()\n",
    "    X1 = np.zeros([3,3,3]);\n",
    "    X2 = np.zeros([3,3,3]);\n",
    "    X3 = np.zeros([3,3,3]);\n",
    "    X1[0,0,0] = v0(1);\n",
    "    X2[0,0,0] = v0(2);\n",
    "    X3[0,0,0] = v0(3);\n",
    "    X1[0,0,0] = np.sqrt(Q_init);\n",
    "    X2[0,0,0] = np.sqrt(Q_init);\n",
    "    X3[0,0,0] = np.sqrt(Q_init);\n",
    "    for i=1:n_cycle\n",
    "        [X1f,X2f,X3f] = PCE_Lorenz(X1,X2,X3,Dt,sigma,beta,rho);\n",
    "        y2(:,i) = H*true2(:,i+1) + sqrt(R)*randn(meas_dim,1);\n",
    "        [ma2(:,i+1),C2(:,:,i+1),X1,X2,X3] = PCEEnKF(X1f,X2f,X3f,gen_func,H,y2(:,i),R,Q,nbv);\n",
    "    end"
   ]
  },
  {
   "cell_type": "code",
   "execution_count": 55,
   "metadata": {},
   "outputs": [
    {
     "data": {
      "text/plain": [
       "[(1, 2),\n",
       " (0, 0),\n",
       " (3, 2),\n",
       " (0, 1),\n",
       " (1, 3),\n",
       " (4, 1),\n",
       " (3, 3),\n",
       " (1, 4),\n",
       " (3, 0),\n",
       " (0, 2),\n",
       " (3, 1),\n",
       " (4, 4),\n",
       " (2, 1),\n",
       " (0, 4),\n",
       " (2, 0),\n",
       " (4, 3),\n",
       " (2, 2),\n",
       " (1, 0),\n",
       " (2, 4),\n",
       " (4, 0),\n",
       " (2, 3),\n",
       " (4, 2),\n",
       " (3, 4),\n",
       " (1, 1),\n",
       " (0, 3)]"
      ]
     },
     "execution_count": 55,
     "metadata": {},
     "output_type": "execute_result"
    }
   ],
   "source": [
    "v0 = [1.508870, -1.531271, 25.46091]';    % True initial condition of the Lorenz 63 model\n",
    "sigma = 10;\n",
    "beta = 8/3;\n",
    "rho = 28;\n",
    "H = eye(1,3);                             % Measurement operator\n",
    "\n",
    "%% Relevant parameters for DA\n",
    "Q = 10;                                   % Variance of the model error\n",
    "R = 1;                                   % Variance of the data error\n",
    "Q_init = 100;                               % Variance of the initial condition\n",
    "n_cycle = 100;                            % Number of data assimilation cycles\n",
    "[meas_dim , state_dim] = size(H);         % Measurement dim and state dim\n",
    "Dt = .1;                                  % Frequency of measurement\n",
    "nbv = 1000;                              % Ensemble number\n",
    "test_which = 1;                           % 0 - EnKF / 1 - PCE / 2 - Both / 3 - Both only plot comparison and leave it open\n",
    "folder = './Figures';\n",
    "%% PCE Function\n",
    "gen_func = @(X1,X2,X3,x,y,z) [sum(sum(sum(hermite_matrix(x,y,z).*X1)));sum(sum(sum(hermite_matrix(x,y,z).*X2)));sum(sum(sum(hermite_matrix(x,y,z).*X3)))];\n",
    "%% Initialize all containers\n",
    "y = zeros(meas_dim,n_cycle);\n",
    "y2 = zeros(meas_dim,n_cycle);\n",
    "true = zeros(state_dim,n_cycle+1);\n",
    "true2 = zeros(state_dim,n_cycle+1);\n",
    "ma = zeros(state_dim,n_cycle+1);\n",
    "ma2 = zeros(state_dim,n_cycle+1);\n",
    "C = zeros(state_dim,state_dim,n_cycle+1);\n",
    "C2 = zeros(state_dim,state_dim,n_cycle+1);\n",
    "true(:,1) = v0;\n",
    "true2(:,1) = v0;\n",
    "ma(:,1) = v0;\n",
    "ma2(:,1) = v0;\n",
    "C(:,:,1) = Q_init*eye(state_dim);\n",
    "C2(:,:,1) = Q_init*eye(state_dim);\n",
    "Xprior = repmat(v0,1,nbv) + sqrt(Q_init)*randn(state_dim,nbv);\n",
    "X = Xprior;\n",
    "\n",
    "for i = 1:n_cycle     \n",
    "    true_tmp = ode45(@(t,x) lorenz_63(t,x,10,8/3,28),[0,Dt],true(:,i));\n",
    "    true(:,i+1) = true_tmp.y(:,end);\n",
    "    true2(:,i+1) = true(:,i+1);\n",
    "end\n",
    "\n",
    "if (test_which == 0) || (test_which == 2)\n",
    "    %% Perform standard SREnKF\n",
    "    rng(1)\n",
    "    tic();\n",
    "    for i=1:n_cycle\n",
    "        for j=1:nbv\n",
    "            samp_tmp = ode45(@(t,x) lorenz_63(t,x,10,8/3,28),[0,Dt],X(:,j));\n",
    "            Xprior(:,j) = samp_tmp.y(:,end)+sqrt(Q_init)*randn(state_dim,1);\n",
    "        end\n",
    "        y(:,i) = H*true(:,i+1) + sqrt(R)*randn(meas_dim,1);\n",
    "        X = SREnKF(Xprior,H,y(:,i),R,nbv);\n",
    "        ma(:,i+1) = mean(X,2);\n",
    "        C(:,:,i+1) = (X-ma(:,i+1))*(X-ma(:,i+1))'/(nbv-1);\n",
    "    end\n",
    "    toc()\n",
    "end\n",
    "if (test_which == 1) || (test_which == 2)\n",
    "    %% Perform PCE-SREnKF\n",
    "    rng(1)\n",
    "    Xprior = repmat(v0,1,nbv) + sqrt(Q_init)*randn(state_dim,nbv);\n",
    "    X = Xprior;\n",
    "    tic();\n",
    "    X1 = zeros(3,3,3);\n",
    "    X2 = zeros(3,3,3);\n",
    "    X3 = zeros(3,3,3);\n",
    "    X1(1,1,1) = v0(1);\n",
    "    X2(1,1,1) = v0(2);\n",
    "    X3(1,1,1) = v0(3);\n",
    "    X1(2,1,1) = sqrt(Q_init);\n",
    "    X2(1,2,1) = sqrt(Q_init);\n",
    "    X3(1,1,2) = sqrt(Q_init);\n",
    "    for i=1:n_cycle\n",
    "        [X1f,X2f,X3f] = PCE_Lorenz(X1,X2,X3,Dt,sigma,beta,rho);\n",
    "        y2(:,i) = H*true2(:,i+1) + sqrt(R)*randn(meas_dim,1);\n",
    "        [ma2(:,i+1),C2(:,:,i+1),X1,X2,X3] = PCEEnKF(X1f,X2f,X3f,gen_func,H,y2(:,i),R,Q,nbv);\n",
    "    end\n",
    "    toc()\n",
    "end"
   ]
  },
  {
   "cell_type": "code",
   "execution_count": 80,
   "metadata": {
    "scrolled": true
   },
   "outputs": [
    {
     "data": {
      "image/png": "[encoded data removed]",
      "text/plain": [
       "<Figure size 432x288 with 1 Axes>"
      ]
     },
     "metadata": {
      "needs_background": "light"
     },
     "output_type": "display_data"
    }
   ],
   "source": [
    "import numpy as np\n",
    "import matplotlib.pyplot as plt\n",
    "from scipy.integrate import odeint\n",
    "from mpl_toolkits.mplot3d import Axes3D\n",
    "rho = 28.0\n",
    "sigma = 10.0\n",
    "beta = 8.0 / 3.0\n",
    "def f(state, t):\n",
    "    x, y, z = state # unpack the state vector return\n",
    "    return sigma*(y-x),x*(rho-z)-y,x*y-beta*z #derivatives\n",
    "    \n",
    "state0 = [1.0, 1.0, 1.0]\n",
    "t = np.arange(0.0, 40.0, 0.01)\n",
    "states = odeint(f, state0, t)\n",
    "fig = plt.figure()\n",
    "ax = fig.gca(projection='3d')\n",
    "ax.plot(states[:,0], states[:,1], states[:,2])\n",
    "plt.show()"
   ]
  },
  {
   "cell_type": "code",
   "execution_count": 88,
   "metadata": {},
   "outputs": [],
   "source": [
    "temp = odeint(lorenz_63, state0,t)"
   ]
  },
  {
   "cell_type": "code",
   "execution_count": 89,
   "metadata": {},
   "outputs": [],
   "source": [
    "temp = odeint(lorenz_63, true[:,0],np.arange(0,Dt,0.01))"
   ]
  },
  {
   "cell_type": "code",
   "execution_count": 95,
   "metadata": {},
   "outputs": [
    {
     "data": {
      "text/plain": [
       "(10, 3)"
      ]
     },
     "execution_count": 95,
     "metadata": {},
     "output_type": "execute_result"
    }
   ],
   "source": [
    "temp.shape"
   ]
  }
 ],
 "metadata": {
  "kernelspec": {
   "display_name": "Python 3",
   "language": "python",
   "name": "python3"
  },
  "language_info": {
   "codemirror_mode": {
    "name": "ipython",
    "version": 3
   },
   "file_extension": ".py",
   "mimetype": "text/x-python",
   "name": "python",
   "nbconvert_exporter": "python",
   "pygments_lexer": "ipython3",
   "version": "3.7.3"
  }
 },
 "nbformat": 4,
 "nbformat_minor": 2
}
